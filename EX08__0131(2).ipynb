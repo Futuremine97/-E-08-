{
  "cells": [
    {
      "cell_type": "markdown",
      "metadata": {
        "id": "view-in-github",
        "colab_type": "text"
      },
      "source": [
        "<a href=\"https://colab.research.google.com/github/Futuremine97/-E-08-/blob/main/EX08__0131(2).ipynb\" target=\"_parent\"><img src=\"https://colab.research.google.com/assets/colab-badge.svg\" alt=\"Open In Colab\"/></a>"
      ]
    },
    {
      "cell_type": "code",
      "execution_count": null,
      "metadata": {
        "colab": {
          "base_uri": "https://localhost:8080/"
        },
        "id": "qw9KIUBHS3I2",
        "outputId": "3a879e22-8449-4145-9fc3-4b26e2156da0"
      },
      "outputs": [
        {
          "name": "stdout",
          "output_type": "stream",
          "text": [
            "Reading package lists... Done\n",
            "Building dependency tree       \n",
            "Reading state information... Done\n",
            "python-pycurl is already the newest version (7.43.0.1-0.2).\n",
            "python-apt is already the newest version (1.6.5ubuntu0.7).\n",
            "0 upgraded, 0 newly installed, 0 to remove and 74 not upgraded.\n",
            "E: Package 'python-software-properties' has no installation candidate\n",
            "··········\n"
          ]
        }
      ],
      "source": [
        "!sudo apt --fix-broken install python-pycurl python-apt\n",
        "\n",
        "!apt-get install -y -qq software-properties-common python-software-properties module-init-tools\n",
        "\n",
        "!add-apt-repository -y ppa:alessandro-strada/ppa 2>&1 > /dev/null\n",
        "\n",
        "!apt-get update -qq 2>&1 > /dev/null\n",
        "\n",
        "!apt-get -y install -qq google-drive-ocamlfuse fuse\n",
        "\n",
        "from google.colab import auth\n",
        "\n",
        "auth.authenticate_user()\n",
        "\n",
        "from oauth2client.client import GoogleCredentials\n",
        "\n",
        "creds = GoogleCredentials.get_application_default()\n",
        "\n",
        "import getpass\n",
        "!google-drive-ocamlfuse -headless -id={creds.client_id} -secret={creds.client_secret} < /dev/null 2>&1 | grep URL\n",
        "\n",
        "vcode = getpass.getpass()\n",
        "\n",
        "!echo {vcode} | google-drive-ocamlfuse -headless -id={creds.client_id} -secret={creds.client_secret}"
      ]
    },
    {
      "cell_type": "code",
      "execution_count": null,
      "metadata": {
        "id": "1PO404_hS7G9"
      },
      "outputs": [],
      "source": [
        "!mkdir -p Gdrive"
      ]
    },
    {
      "cell_type": "code",
      "execution_count": null,
      "metadata": {
        "colab": {
          "base_uri": "https://localhost:8080/"
        },
        "id": "XyelbzwFS7SR",
        "outputId": "9e0dd9fe-4dde-48e6-c3c0-2a8a8001c5ef"
      },
      "outputs": [
        {
          "name": "stdout",
          "output_type": "stream",
          "text": [
            "fuse: mountpoint is not empty\n",
            "fuse: if you are sure this is safe, use the 'nonempty' mount option\n"
          ]
        }
      ],
      "source": [
        "!google-drive-ocamlfuse Gdrive"
      ]
    },
    {
      "cell_type": "code",
      "execution_count": null,
      "metadata": {
        "colab": {
          "base_uri": "https://localhost:8080/"
        },
        "id": "Cj3U95cqTZpN",
        "outputId": "557fd921-aff8-4673-fb79-a64e0faad7a4"
      },
      "outputs": [
        {
          "name": "stdout",
          "output_type": "stream",
          "text": [
            "adc.json  Gdrive  sample_data\n"
          ]
        }
      ],
      "source": [
        "!ls"
      ]
    },
    {
      "cell_type": "code",
      "execution_count": null,
      "metadata": {
        "colab": {
          "base_uri": "https://localhost:8080/"
        },
        "id": "mdveSmoFTa-2",
        "outputId": "11502bf0-3ec0-4b1f-9537-2fa07875808f"
      },
      "outputs": [
        {
          "name": "stdout",
          "output_type": "stream",
          "text": [
            " 잠\n",
            " 귤\n",
            " 밥\n",
            "'새 폴더'\n",
            " 산책\n",
            " 노래\n",
            " 공부\n",
            " 클럽\n",
            " 웃음\n",
            " 회로\n",
            " 먹방\n",
            "'학식 고'\n",
            " 공부방\n",
            " 지하철\n",
            " 영화관\n",
            "'포트폴리오 - 영상 - 김선현 어드밴스'\n",
            "'사랑에빠진 귤이'\n",
            "'파일_000 (08db3a9c).jpeg'\n",
            "'파일_000 (0c906857).jpeg'\n",
            "'파일_000 (0f70e3fe).png'\n",
            "'파일_000 (1f01042b).jpeg'\n",
            "'파일_000 (293804dd).png'\n",
            "'파일_000 (2dfe88a0).png'\n",
            "'파일_000 (366fd6a8).jpeg'\n",
            "'파일_000 (3c61f657).png'\n",
            "'파일_000 (429974e7).jpeg'\n",
            "'파일_000 (45c0978d).jpeg'\n",
            "'파일_000 (45cee142).jpeg'\n",
            "'파일_000 (4ab2b995).jpeg'\n",
            "'파일_000 (4cc44fc9).png'\n",
            "'파일_000 (51935fd4).png'\n",
            "'파일_000 (5621fe32).jpeg'\n",
            "'파일_000 (8d3d6851).jpeg'\n",
            "'파일_000 (96a852e5).jpeg'\n",
            "'파일_000 (9b12d82a).jpeg'\n",
            "'파일_000 (bd9a9b63).jpeg'\n",
            "'파일_000 (f4810184).jpeg'\n",
            " 파일_000.jpeg\n",
            " 파일_000.png\n",
            " 파일_007.png\n",
            " 파일_008.png\n",
            " 파일_009.png\n",
            " 0117_1.desktop\n",
            " 0.pdf\n",
            " 1\n",
            " 1_001.pdf\n",
            " 10.pdf\n",
            " 11\n",
            "'대지 1-100.jpg'\n",
            "'박성훈 주간보고서1 10:22.docx'\n",
            " 11.pdf\n",
            " 11.psd\n",
            " 12\n",
            "'기초실험(1) 강의계획서_2020.hwp'\n",
            "'12 (a458bfb5).pdf'\n",
            " 12.pdf\n",
            " 13\n",
            "'1 (33b31c4c).pdf'\n",
            " 13.pdf\n",
            "'회로(1).(4장)문제풀이.b693085.박성훈.hwp'\n",
            " 14.pdf\n",
            "'1차실험 5조.hwp'\n",
            "'1626766488398-2021 창업동아리 신청서 (2) (1) (1).docx'\n",
            "'191704_오피스텔 월세 계약서.pdf'\n",
            "'미디어1 (9b86155d).mp4'\n",
            "'19p.1.3 샌드위치 정리 문제풀이 .pdf'\n",
            "'1 (ae087a70).pdf'\n",
            "'1 (d3cb2acc).pdf'\n",
            "'산재보험 자격취득자 명부 (1) (efb5d332).pdf'\n",
            "'1 (f748b403).pdf'\n",
            " 1.jpg\n",
            "'대지 1.mp4'\n",
            " 미디어1.mp4\n",
            " 1.mp4\n",
            "'박성훈 주간보고1.pages'\n",
            "'수료증 (1).pdf'\n",
            "'산재보험 자격취득자 명부 (1).pdf'\n",
            " 공무원생물1.pdf\n",
            " 전자기학1.pdf\n",
            " 1.pdf\n",
            "'대지 1.png'\n",
            " 노래1.png\n",
            " 귤2\n",
            " 응수2\n",
            " 전전기초2\n",
            "'200002_F5司 공통기술팀에서 개발표준 업무를 담딩하는 고성능 쌔信 개발팀에 SQL 작성.pdf'\n",
            " 2_002.pdf\n",
            " 20190312_170038_276.jpg\n",
            " 20190312_170045_512.jpg\n",
            " 20190312_170049_104.jpg\n",
            " 20190318_101355.jpg\n",
            " 20190320_143654.jpg\n",
            " 20190320_143717.jpg\n",
            " 20190320_143735.jpg\n",
            "'20190403_145028_756 (e58ef972).jpg'\n",
            " 20190403_145028_756.jpg\n",
            "'노트 2019. 10. 23..pdf'\n",
            "'새 파일 2020-02-06 14.11.38.pdf'\n",
            " 20200228_162813.mp4\n",
            " 20200228_164427.mp4\n",
            " 20200228_164530.mp4\n",
            "'20200305_전기기사 펼기.pdf'\n",
            "'스크린샷, 2020-04-01 오전 5.20.41.png'\n",
            " 20200517145933.pdf\n",
            " 20201103_002908.jpg\n",
            "'20201117_160747 (b801790a).jpg'\n",
            " 20201117_160747.jpg\n",
            " 20201117_162934.mp4\n",
            " 20201117_165334.jpg\n",
            "'20201117_170420 (9ca4c308).jpg'\n",
            "'20201117_170420 (b4c6324b).jpg'\n",
            " 20201117_170420.jpg\n",
            " 20201117_170548.jpg\n",
            "'20201201_151641 (d6496cb9).jpg'\n",
            " 20201201_151641.jpg\n",
            " 20201201_152302.jpg\n",
            " 20201201_153307.jpg\n",
            " 20201201_155919.jpg\n",
            " 20201201_161408.jpg\n",
            " 20201201_165955.jpg\n",
            "'20201201_172410(0).jpg'\n",
            " 20201201_172717.jpg\n",
            " 20201201_173538.jpg\n",
            " 20201201_173733.jpg\n",
            " 20201201_175003.jpg\n",
            " 20201201_175141.jpg\n",
            " 20201204_114955.jpg\n",
            " 20201204_115045.jpg\n",
            " 20201204_115134.jpg\n",
            " 20201211_181416.mp4\n",
            " 20201211_184750.mp4\n",
            " 20201211_185122.mp4\n",
            " 20201211_185535.mp4\n",
            " 20201211_191242.mp4\n",
            " 20201211_191410.mp4\n",
            " 20201211_194759.jpg\n",
            " 20201211_195249.jpg\n",
            " 20210612232955234.pdf\n",
            " 20210625172540524.pdf\n",
            "'20211112_005732 (d42f21b6).mp4'\n",
            " 20211112_005732.mp4\n",
            "'2021 실전창업교육2기 1단계 사업계획서 박성훈 01031907972 (297ffd55).pdf'\n",
            "'2021 실전창업교육2기 1단계 사업계획서 박성훈 01031907972 (b258bbc2).pdf'\n",
            "'2021 실전창업교육2기 1단계 사업계획서 박성훈 01031907972.pdf'\n",
            "'2021. 2. 2. 오후 8_32_31.mp3'\n",
            "'20220123_SGL 최적화 기본 원리.pdf'\n",
            "'20220123_S○L        활용.pdf'\n",
            "'20220123_SoL 전문가 .pdf'\n",
            "'20220123_국가공인 SQL 전문가개발자 자격검정 안내1.pdf'\n",
            "'이름 없는 노트북 (20).pdf'\n",
            "'박성훈 주간보고서2 11:04.docx'\n",
            " 22.pdf\n",
            "'전기전자기초실험2. 5조. 결과보고서 11월17일 (99cc2499).hwp'\n",
            "'전기전자기초실험2. 5조. 결과보고서 11월17일.hwp'\n",
            "'전기전자기초실험2. 5조. 결과보고서 12월 04일. (98309db3).hwp'\n",
            "'전기전자기초실험2. 5조. 결과보고서 12월 04일.hwp'\n",
            "'전기전자기초실험2. 5조. 결과보고서 12월 04일..hwp'\n",
            "'2차실험 5조.hwp'\n",
            "'2 (76ba16f8).pdf'\n",
            " 27.jpg\n",
            "'2 (ac6ab036).pdf'\n",
            " 피맥2.ai3.ai\n",
            " 2.jpg\n",
            " 2.mp4\n",
            "'가져온 파일 (2).pdf'\n",
            " 전자기학2.pdf\n",
            " 생물2.pdf\n",
            " 유2.pdf\n",
            " 2.pdf\n",
            " 뭐해최종2.png\n",
            " 3_001.pdf\n",
            " 3_002.pdf\n",
            "'3 (086d2d26).pdf'\n",
            " 31.jpg\n",
            " 33.pdf\n",
            "'3차 실험 5조.hwp'\n",
            "'3 (722faf87).pdf'\n",
            " 3.jpg\n",
            " 실험3.mp4\n",
            " 3.mp4\n",
            " 전자기학3.pdf\n",
            " 생물3.pdf\n",
            " 유3.pdf\n",
            " 3.pdf\n",
            " 일하는중3.png\n",
            " 4_001.pdf\n",
            " 4_002.pdf\n",
            "'4 (1b8945df).pdf'\n",
            " 44_001.pdf\n",
            " 44_002.pdf\n",
            " 44_003.pdf\n",
            " 44.pdf\n",
            "'4차실험 5조.hwp'\n",
            "'4 (b4de70fd).pdf'\n",
            " 4차실험.hwp\n",
            " 전자기학4.pdf\n",
            " 생물4.pdf\n",
            " 유4.pdf\n",
            " 4.pdf\n",
            " 5_001.pdf\n",
            " 5_002.pdf\n",
            "'5 (278ac527).pdf'\n",
            "'창의적공학설계 5조 3차발표3.pptx'\n",
            "'5 (74ea06f2).pdf'\n",
            "'5 (8a2e3031).pdf'\n",
            "'가져온 파일 (5).pdf'\n",
            " 전자기학5.pdf\n",
            " 생물5.pdf\n",
            " 유5.pdf\n",
            " 5.pdf\n",
            " 6_001.pdf\n",
            " 6_002.pdf\n",
            " 62.pdf\n",
            " 63.pdf\n",
            " 64.pdf\n",
            " 65.pdf\n",
            " 66.pdf\n",
            " 67.pdf\n",
            " 68.pdf\n",
            " 69.pdf\n",
            " 전자기학6.pdf\n",
            " 생6.pdf\n",
            " 6.pdf\n",
            " 7_001.pdf\n",
            " 70.pdf\n",
            "'7 (2f026fd9).pdf'\n",
            "'가져온 파일 (7).pdf'\n",
            " 전자기학7.pdf\n",
            " 생7.pdf\n",
            " 7.pdf\n",
            " 7.psd\n",
            "'8 (f817bad0).pdf'\n",
            " 8.pdf\n",
            " 9.pdf\n",
            " 9.psd\n",
            " adjustable-gamma-correction-circuit-for-tft-lcd.pdf\n",
            " ans1.pdf\n",
            " ans2.pdf\n",
            " ans3.pdf\n",
            " ans4.pdf\n",
            "'answer of tofel.pdf'\n",
            " 동서식품.avi\n",
            "'B693085 박성훈 인턴십현장실습_장학생_실습시작_보고서 (2) (1).hwp'\n",
            "'B693085 박성훈 회로이론 6장.pdf'\n",
            "'B693085 박성훈 인턴십현장실습_장학생_실습시작_보고서.. (84fed97e).hwp'\n",
            "'b693085  박성훈 과제입니다.hwp'\n",
            "'B693085 박성훈 인턴십현장실습_장학생_실습시작_보고서...hwp'\n",
            "'박성훈 b693085 성평등.pdf'\n",
            "'b693085 박성훈 전전컴 term project (866743dc).pptx'\n",
            "'b693085 박성훈 전전컴 term project.pptx'\n",
            "'ch07-에너지 저장 소자.pdf'\n",
            "'Chapter 10 반도체공학.pdf'\n",
            " Classroom\n",
            " Comic-Inker.brush\n",
            "'cs231n_2018_lecture06 (88238c23).pdf'\n",
            " cs231n_2018_lecture06.pdf\n",
            "'제목 없는 프레젠테이션.desktop'\n",
            " ㄱㅌ.desktop\n",
            " 질문방.desktop\n",
            " dg1.jpg\n",
            " dg1.pdf\n",
            " dg2.pdf\n",
            " dg3.pdf\n",
            " dg4.pdf\n",
            " dg5.pdf\n",
            " Dsp\n",
            " EX08.ipynb\n",
            "'[창업동아리] 가지급금 정산 서식_스틸시프트. (fc2848f8).hwp'\n",
            " gen1.pdf\n",
            " gen2.pdf\n",
            " gen3.pdf\n",
            " gen4.pdf\n",
            " gen5.pdf\n",
            " gen6.pdf\n",
            " gen7.pdf\n",
            " gen8.pdf\n",
            " gen9.pdf\n",
            " generalphs.pdf\n",
            "'GOMCAM 20200401_0927590540.mp4'\n",
            "'GOMCAM 20210317_1000030074.mp4'\n",
            "'GOMCAM 20210331_0959440143 (fbd16501).zip'\n",
            "'GOMCAM 20210331_0959440143.zip'\n",
            " gp2.pdf\n",
            " gp3.pdf\n",
            " gp4.pdf\n",
            " gp5.pdf\n",
            " gp6.pdf\n",
            " GREVER홀수1.pdf\n",
            " GREVER홀수2.pdf\n",
            " GREVER홀수3.pdf\n",
            " GREVER홀수4.pdf\n",
            "'[창업동아리] 가지급금 정산 서식_스틸시프트..hwp'\n",
            " HyperParameterData1.desktop\n",
            " IMG-0351.jpg\n",
            "'IMG_0640 (79204a6c).jpg'\n",
            " IMG_0640.jpg\n",
            "'IMG_0641 (a071b958).jpg'\n",
            " IMG_0641.jpg\n",
            " IMG_1683.JPG\n",
            " j2.pdf\n",
            " j3.pdf\n",
            " j4.pdf\n",
            " j5.pdf\n",
            " j6.pdf\n",
            " j7.pdf\n",
            " j8.pdf\n",
            " j9.pdf\n",
            " ㄷ.jpg\n",
            " 엄마아빠.jpg\n",
            " KakaoTalk_Image_2021-12-29-10-39-53.jpeg\n",
            " KakaoTalk_Video_2021-11-28-20-37-54.mp4\n",
            " k.png\n",
            "'lab5 오류수정 최종 TB.PNG'\n",
            " lc1.pdf\n",
            "'lc2 (514fc492).pdf'\n",
            " lc2.pdf\n",
            "'lc3 (a2dbe136).pdf'\n",
            " lc3.pdf\n",
            "'lc4 (b58d9007).pdf'\n",
            " lc4.pdf\n",
            " lc5.pdf\n",
            " lc6.pdf\n",
            "'lecture_6 : Training Neural Networks.desktop'\n",
            "'lidarsensor (010853c5).mp4'\n",
            " lidarsensor.mp4\n",
            " 제목_없는_아트워크.mp4\n",
            "'New hwp.hwp'\n",
            " Notability\n",
            "'Notability (840b2f73)'\n",
            "'Notability (dc675e59)'\n",
            "'page_ (d5a3a661).pdf'\n",
            " page_.pdf\n",
            " 수료증.pdf\n",
            " 이기적유.pdf\n",
            "'해지신청서 예시포함.pdf'\n",
            " 프레젠테이션.pdf\n",
            "'가져온 파일.pdf'\n",
            " 대학물리.pdf\n",
            " 빈출단어.pdf\n",
            " 피맥.png\n",
            " 지하철.png\n",
            " 톰크루즈.png\n",
            " 컴퓨터일과.png\n",
            " 노래방최종.png\n",
            "'라이다 임베디드 프로젝트.pptx'\n",
            "'박성훈 창업경진대회.pptx'\n",
            " q1.pdf\n",
            " q2.pdf\n",
            " q3.pdf\n",
            " q4.pdf\n",
            " q5.pdf\n",
            " 박성훈resume.01026837972.docx\n",
            " 박성훈resume.01026837972.docx\n",
            " s1.pdf\n",
            " s2.pdf\n",
            " s3.pdf\n",
            " s4.pdf\n",
            " s5.pdf\n",
            " s6.pdf\n",
            " s7.pdf\n",
            " s8.pdf\n",
            " ScanSnap\n",
            " sk2.pdf\n",
            " sk3.pdf\n",
            " sk4.pdf\n",
            " s노래.png\n",
            " sw1.pdf\n",
            " sw2.pdf\n",
            " sw3.pdf\n",
            " sw4.pdf\n",
            " sw5.pdf\n",
            " sw6.pdf\n",
            " sw7.pdf\n",
            " sw8.pdf\n",
            " t0.pdf\n",
            " t1.pdf\n",
            " t2.pdf\n",
            " tffault.pdf\n",
            "'TFLC1 (df660d90).pdf'\n",
            " tflc1.pdf\n",
            " TFLC1.pdf\n",
            "'TFLC2 (b8826155).pdf'\n",
            " TFLC2.pdf\n",
            "'TFLC3 (b538374e).pdf'\n",
            " TFLC3.pdf\n",
            "'TFLC4 (6b144248).pdf'\n",
            " TFLC4.pdf\n",
            "'TFLC5 (35c95b33).pdf'\n",
            " TFLC5.pdf\n",
            "'TFLC6 (68599b2b).pdf'\n",
            " TFLC6.pdf\n",
            " tfmr1.pdf\n",
            " tfmr2.pdf\n",
            " tfmr3.pdf\n",
            " tfmr4.pdf\n",
            " tfmr5.pdf\n",
            " tfsk1.pdf\n",
            "'Thinking forum.pdf'\n",
            " toaz.info-microelectronic-circuits-by-sedra-smith-7th-editionpdf-pr_25e4a85f6ef2079300ee4d8656758c1c.pdf\n",
            " Track_100.mp3\n",
            " Track_101.mp3\n",
            " Track_102.mp3\n",
            " Track_103.mp3\n",
            " Track_104.mp3\n",
            " Track_105.mp3\n",
            " Track_106.mp3\n",
            " Track_107.mp3\n",
            " Track_108.mp3\n",
            " Track_109.mp3\n",
            " Track_10.mp3\n",
            " Track_110.mp3\n",
            " Track_111.mp3\n",
            " Track_112.mp3\n",
            " Track_113.mp3\n",
            " Track_114.mp3\n",
            " Track_115.mp3\n",
            " Track_116.mp3\n",
            " Track_117.mp3\n",
            " Track_118.mp3\n",
            " Track_119.mp3\n",
            " Track_11.mp3\n",
            " Track_120.mp3\n",
            " Track_121.mp3\n",
            " Track_122.mp3\n",
            " Track_123.mp3\n",
            " Track_124.mp3\n",
            " Track_125.mp3\n",
            " Track_126.mp3\n",
            " Track_127.mp3\n",
            " Track_128.mp3\n",
            " Track_129.mp3\n",
            " Track_12.mp3\n",
            " Track_130.mp3\n",
            " Track_131.mp3\n",
            " Track_132.mp3\n",
            " Track_133.mp3\n",
            " Track_134.mp3\n",
            " Track_135.mp3\n",
            " Track_136.mp3\n",
            " Track_137.mp3\n",
            " Track_138.mp3\n",
            " Track_139.mp3\n",
            " Track_13.mp3\n",
            " Track_140.mp3\n",
            " Track_141.mp3\n",
            " Track_142.mp3\n",
            " Track_143.mp3\n",
            " Track_144.mp3\n",
            " Track_145.mp3\n",
            " Track_146.mp3\n",
            " Track_147.mp3\n",
            " Track_148.mp3\n",
            " Track_149.mp3\n",
            " Track_14.mp3\n",
            " Track_150.mp3\n",
            " Track_151.mp3\n",
            " Track_152.mp3\n",
            " Track_153.mp3\n",
            " Track_154.mp3\n",
            " Track_155.mp3\n",
            " Track_156.mp3\n",
            " Track_157.mp3\n",
            " Track_158.mp3\n",
            " Track_159.mp3\n",
            " Track_15.mp3\n",
            " Track_160.mp3\n",
            " Track_161.mp3\n",
            " Track_162.mp3\n",
            " Track_163.mp3\n",
            " Track_164.mp3\n",
            " Track_165.mp3\n",
            " Track_166.mp3\n",
            " Track_167.mp3\n",
            " Track_168.mp3\n",
            " Track_16.mp3\n",
            " Track_17.mp3\n",
            " Track_18.mp3\n",
            " Track_19.mp3\n",
            " Track_1.mp3\n",
            " Track_20.mp3\n",
            " Track_21.mp3\n",
            " Track_22.mp3\n",
            " Track_23.mp3\n",
            " Track_24.mp3\n",
            " Track_25.mp3\n",
            " Track_26.mp3\n",
            " Track_27.mp3\n",
            " Track_28.mp3\n",
            " Track_29.mp3\n",
            " Track_2.mp3\n",
            " Track_30.mp3\n",
            " Track_31.mp3\n",
            " Track_32.mp3\n",
            " Track_33.mp3\n",
            " Track_34.mp3\n",
            " Track_35.mp3\n",
            " Track_36.mp3\n",
            " Track_37.mp3\n",
            " Track_38.mp3\n",
            " Track_39.mp3\n",
            " Track_3.mp3\n",
            " Track_40.mp3\n",
            " Track_41.mp3\n",
            " Track_42.mp3\n",
            " Track_43.mp3\n",
            " Track_44.mp3\n",
            " Track_45.mp3\n",
            " Track_46.mp3\n",
            " Track_47.mp3\n",
            " Track_48.mp3\n",
            " Track_49.mp3\n",
            " Track_4.mp3\n",
            " Track_50.mp3\n",
            " Track_51.mp3\n",
            " Track_52.mp3\n",
            " Track_53.mp3\n",
            " Track_54.mp3\n",
            " Track_55.mp3\n",
            " Track_56.mp3\n",
            " Track_57.mp3\n",
            " Track_58.mp3\n",
            " Track_59.mp3\n",
            " Track_5.mp3\n",
            " Track_60.mp3\n",
            " Track_61.mp3\n",
            " Track_62.mp3\n",
            " Track_63.mp3\n",
            " Track_64.mp3\n",
            " Track_65.mp3\n",
            " Track_66.mp3\n",
            " Track_67.mp3\n",
            " Track_68.mp3\n",
            " Track_69.mp3\n",
            " Track_6.mp3\n",
            " Track_70.mp3\n",
            " Track_71.mp3\n",
            " Track_72.mp3\n",
            " Track_73.mp3\n",
            " Track_74.mp3\n",
            " Track_75.mp3\n",
            " Track_76.mp3\n",
            " Track_77.mp3\n",
            " Track_78.mp3\n",
            " Track_79.mp3\n",
            " Track_7.mp3\n",
            " Track_80.mp3\n",
            " Track_81.mp3\n",
            " Track_82.mp3\n",
            " Track_83.mp3\n",
            " Track_84.mp3\n",
            " Track_85.mp3\n",
            " Track_86.mp3\n",
            " Track_87.mp3\n",
            " Track_88.mp3\n",
            " Track_89.mp3\n",
            " Track_8.mp3\n",
            " Track_90.mp3\n",
            " Track_91.mp3\n",
            " Track_92.mp3\n",
            " Track_93.mp3\n",
            " Track_94.mp3\n",
            " Track_95.mp3\n",
            " Track_96.mp3\n",
            " Track_97.mp3\n",
            " Track_98.mp3\n",
            " Track_99.mp3\n",
            " Track_9.mp3\n",
            " Untitled0.ipynb\n",
            "'물방울 컴퍼니 UXUI 디자인.ai'\n",
            " v1.pdf\n",
            " v2.pdf\n",
            " v3.pdf\n",
            " v4.pdf\n",
            " VID_45730809_164818_540.mp4\n",
            " VID_45730810_192015_886.mp4\n",
            " wr중급실전2.pdf\n",
            " WR중급실전3.pdf\n",
            " wr중급실전.pdf\n",
            " wt1.pdf\n",
            " wt2.pdf\n",
            " wt3.pdf\n",
            " wt4.pdf\n",
            " wt5.pdf\n",
            " wt6.pdf\n",
            " wt7.pdf\n",
            " wt8.pdf\n",
            " wt9.pdf\n",
            " wtdap1.pdf\n",
            " wtdap2.pdf\n",
            " wtdap3.pdf\n",
            " Y\n"
          ]
        }
      ],
      "source": [
        "!ls Gdrive"
      ]
    },
    {
      "cell_type": "code",
      "execution_count": null,
      "metadata": {
        "colab": {
          "base_uri": "https://localhost:8080/"
        },
        "id": "YfFY2tceTdpW",
        "outputId": "c136ee71-1c2d-4eb2-b136-3a36a4a729bc"
      },
      "outputs": [
        {
          "name": "stdout",
          "output_type": "stream",
          "text": [
            "=3\n"
          ]
        }
      ],
      "source": [
        "# !pip uninstall nltk\n",
        "# %tensorflow_version 2.x\n",
        "# !pip3 install nltk\n",
        "# !py -3 -m pip install nltk\n",
        "# !pip3 install tensorflow\n",
        "# import nltk\n",
        "# nltk.download('stopwords')\n",
        "#import tensorflow as tf\n",
        "import numpy as np\n",
        "import pandas as pd\n",
        "import os\n",
        "import re\n",
        "import matplotlib.pyplot as plt\n",
        "from nltk.corpus import stopwords\n",
        "from bs4 import BeautifulSoup \n",
        "from tensorflow.keras.preprocessing.text import Tokenizer \n",
        "from tensorflow.keras.preprocessing.sequence import pad_sequences\n",
        "import urllib.request\n",
        "import warnings\n",
        "warnings.filterwarnings(\"ignore\", category=UserWarning, module='bs4')\n",
        "\n",
        "# resolver=tf.distribute.cluster_resolver.TPUClusterResolver('grpc://10.119.43.66:8470')\n",
        "# tf.config.experimental_connect_to_cluster(resolver)\n",
        "# tf.tpu.experimental.initialize_tpu_system(resolver)\n",
        "# strategy = tf.distribute.TPUStrategy(resolver)\n",
        "print('=3')"
      ]
    },
    {
      "cell_type": "code",
      "execution_count": null,
      "metadata": {
        "colab": {
          "base_uri": "https://localhost:8080/"
        },
        "id": "aRu2y3TjA4CH",
        "outputId": "41b5a1fc-3695-41c1-bfaa-5052b4a1a673"
      },
      "outputs": [
        {
          "name": "stdout",
          "output_type": "stream",
          "text": [
            "INFO:tensorflow:Deallocate tpu buffers before initializing tpu system.\n"
          ]
        },
        {
          "name": "stderr",
          "output_type": "stream",
          "text": [
            "INFO:tensorflow:Deallocate tpu buffers before initializing tpu system.\n"
          ]
        },
        {
          "name": "stdout",
          "output_type": "stream",
          "text": [
            "INFO:tensorflow:Initializing the TPU system: grpc://10.29.50.154:8470\n"
          ]
        },
        {
          "name": "stderr",
          "output_type": "stream",
          "text": [
            "INFO:tensorflow:Initializing the TPU system: grpc://10.29.50.154:8470\n"
          ]
        },
        {
          "name": "stdout",
          "output_type": "stream",
          "text": [
            "INFO:tensorflow:Finished initializing TPU system.\n"
          ]
        },
        {
          "name": "stderr",
          "output_type": "stream",
          "text": [
            "INFO:tensorflow:Finished initializing TPU system.\n"
          ]
        },
        {
          "name": "stdout",
          "output_type": "stream",
          "text": [
            "INFO:tensorflow:Found TPU system:\n"
          ]
        },
        {
          "name": "stderr",
          "output_type": "stream",
          "text": [
            "INFO:tensorflow:Found TPU system:\n"
          ]
        },
        {
          "name": "stdout",
          "output_type": "stream",
          "text": [
            "INFO:tensorflow:*** Num TPU Cores: 8\n"
          ]
        },
        {
          "name": "stderr",
          "output_type": "stream",
          "text": [
            "INFO:tensorflow:*** Num TPU Cores: 8\n"
          ]
        },
        {
          "name": "stdout",
          "output_type": "stream",
          "text": [
            "INFO:tensorflow:*** Num TPU Workers: 1\n"
          ]
        },
        {
          "name": "stderr",
          "output_type": "stream",
          "text": [
            "INFO:tensorflow:*** Num TPU Workers: 1\n"
          ]
        },
        {
          "name": "stdout",
          "output_type": "stream",
          "text": [
            "INFO:tensorflow:*** Num TPU Cores Per Worker: 8\n"
          ]
        },
        {
          "name": "stderr",
          "output_type": "stream",
          "text": [
            "INFO:tensorflow:*** Num TPU Cores Per Worker: 8\n"
          ]
        },
        {
          "name": "stdout",
          "output_type": "stream",
          "text": [
            "INFO:tensorflow:*** Available Device: _DeviceAttributes(/job:localhost/replica:0/task:0/device:CPU:0, CPU, 0, 0)\n"
          ]
        },
        {
          "name": "stderr",
          "output_type": "stream",
          "text": [
            "INFO:tensorflow:*** Available Device: _DeviceAttributes(/job:localhost/replica:0/task:0/device:CPU:0, CPU, 0, 0)\n"
          ]
        },
        {
          "name": "stdout",
          "output_type": "stream",
          "text": [
            "INFO:tensorflow:*** Available Device: _DeviceAttributes(/job:worker/replica:0/task:0/device:CPU:0, CPU, 0, 0)\n"
          ]
        },
        {
          "name": "stderr",
          "output_type": "stream",
          "text": [
            "INFO:tensorflow:*** Available Device: _DeviceAttributes(/job:worker/replica:0/task:0/device:CPU:0, CPU, 0, 0)\n"
          ]
        },
        {
          "name": "stdout",
          "output_type": "stream",
          "text": [
            "INFO:tensorflow:*** Available Device: _DeviceAttributes(/job:worker/replica:0/task:0/device:TPU:0, TPU, 0, 0)\n"
          ]
        },
        {
          "name": "stderr",
          "output_type": "stream",
          "text": [
            "INFO:tensorflow:*** Available Device: _DeviceAttributes(/job:worker/replica:0/task:0/device:TPU:0, TPU, 0, 0)\n"
          ]
        },
        {
          "name": "stdout",
          "output_type": "stream",
          "text": [
            "INFO:tensorflow:*** Available Device: _DeviceAttributes(/job:worker/replica:0/task:0/device:TPU:1, TPU, 0, 0)\n"
          ]
        },
        {
          "name": "stderr",
          "output_type": "stream",
          "text": [
            "INFO:tensorflow:*** Available Device: _DeviceAttributes(/job:worker/replica:0/task:0/device:TPU:1, TPU, 0, 0)\n"
          ]
        },
        {
          "name": "stdout",
          "output_type": "stream",
          "text": [
            "INFO:tensorflow:*** Available Device: _DeviceAttributes(/job:worker/replica:0/task:0/device:TPU:2, TPU, 0, 0)\n"
          ]
        },
        {
          "name": "stderr",
          "output_type": "stream",
          "text": [
            "INFO:tensorflow:*** Available Device: _DeviceAttributes(/job:worker/replica:0/task:0/device:TPU:2, TPU, 0, 0)\n"
          ]
        },
        {
          "name": "stdout",
          "output_type": "stream",
          "text": [
            "INFO:tensorflow:*** Available Device: _DeviceAttributes(/job:worker/replica:0/task:0/device:TPU:3, TPU, 0, 0)\n"
          ]
        },
        {
          "name": "stderr",
          "output_type": "stream",
          "text": [
            "INFO:tensorflow:*** Available Device: _DeviceAttributes(/job:worker/replica:0/task:0/device:TPU:3, TPU, 0, 0)\n"
          ]
        },
        {
          "name": "stdout",
          "output_type": "stream",
          "text": [
            "INFO:tensorflow:*** Available Device: _DeviceAttributes(/job:worker/replica:0/task:0/device:TPU:4, TPU, 0, 0)\n"
          ]
        },
        {
          "name": "stderr",
          "output_type": "stream",
          "text": [
            "INFO:tensorflow:*** Available Device: _DeviceAttributes(/job:worker/replica:0/task:0/device:TPU:4, TPU, 0, 0)\n"
          ]
        },
        {
          "name": "stdout",
          "output_type": "stream",
          "text": [
            "INFO:tensorflow:*** Available Device: _DeviceAttributes(/job:worker/replica:0/task:0/device:TPU:5, TPU, 0, 0)\n"
          ]
        },
        {
          "name": "stderr",
          "output_type": "stream",
          "text": [
            "INFO:tensorflow:*** Available Device: _DeviceAttributes(/job:worker/replica:0/task:0/device:TPU:5, TPU, 0, 0)\n"
          ]
        },
        {
          "name": "stdout",
          "output_type": "stream",
          "text": [
            "INFO:tensorflow:*** Available Device: _DeviceAttributes(/job:worker/replica:0/task:0/device:TPU:6, TPU, 0, 0)\n"
          ]
        },
        {
          "name": "stderr",
          "output_type": "stream",
          "text": [
            "INFO:tensorflow:*** Available Device: _DeviceAttributes(/job:worker/replica:0/task:0/device:TPU:6, TPU, 0, 0)\n"
          ]
        },
        {
          "name": "stdout",
          "output_type": "stream",
          "text": [
            "INFO:tensorflow:*** Available Device: _DeviceAttributes(/job:worker/replica:0/task:0/device:TPU:7, TPU, 0, 0)\n"
          ]
        },
        {
          "name": "stderr",
          "output_type": "stream",
          "text": [
            "INFO:tensorflow:*** Available Device: _DeviceAttributes(/job:worker/replica:0/task:0/device:TPU:7, TPU, 0, 0)\n"
          ]
        },
        {
          "name": "stdout",
          "output_type": "stream",
          "text": [
            "INFO:tensorflow:*** Available Device: _DeviceAttributes(/job:worker/replica:0/task:0/device:TPU_SYSTEM:0, TPU_SYSTEM, 0, 0)\n"
          ]
        },
        {
          "name": "stderr",
          "output_type": "stream",
          "text": [
            "INFO:tensorflow:*** Available Device: _DeviceAttributes(/job:worker/replica:0/task:0/device:TPU_SYSTEM:0, TPU_SYSTEM, 0, 0)\n"
          ]
        },
        {
          "name": "stdout",
          "output_type": "stream",
          "text": [
            "INFO:tensorflow:*** Available Device: _DeviceAttributes(/job:worker/replica:0/task:0/device:XLA_CPU:0, XLA_CPU, 0, 0)\n"
          ]
        },
        {
          "name": "stderr",
          "output_type": "stream",
          "text": [
            "INFO:tensorflow:*** Available Device: _DeviceAttributes(/job:worker/replica:0/task:0/device:XLA_CPU:0, XLA_CPU, 0, 0)\n"
          ]
        },
        {
          "name": "stdout",
          "output_type": "stream",
          "text": [
            "=3\n"
          ]
        }
      ],
      "source": [
        "resolver=tf.distribute.cluster_resolver.TPUClusterResolver('grpc://10.29.50.154:8470')\n",
        "tf.config.experimental_connect_to_cluster(resolver)\n",
        "tf.tpu.experimental.initialize_tpu_system(resolver)\n",
        "strategy = tf.distribute.TPUStrategy(resolver)\n",
        "print('=3')"
      ]
    },
    {
      "cell_type": "code",
      "execution_count": null,
      "metadata": {
        "colab": {
          "base_uri": "https://localhost:8080/"
        },
        "id": "zSiHtpPFTd3U",
        "outputId": "a02276f7-8074-4a9f-d77c-72e570b30cad"
      },
      "outputs": [
        {
          "name": "stdout",
          "output_type": "stream",
          "text": [
            "Found TPU at: grpc://10.29.50.154:8470\n"
          ]
        }
      ],
      "source": [
        "import tensorflow as tf\n",
        "import numpy as np\n",
        "import os\n",
        "\n",
        "try:\n",
        "  device_name = os.environ['COLAB_TPU_ADDR']\n",
        "  TPU_ADDRESS = 'grpc://' + device_name\n",
        "  print('Found TPU at: {}'.format(TPU_ADDRESS))\n",
        "\n",
        "except KeyError:\n",
        "  print('TPU not found')"
      ]
    },
    {
      "cell_type": "markdown",
      "metadata": {
        "id": "m_u6oikZEnvI"
      },
      "source": [
        "이 위의 주소로 위위코드를 돌릴 것!!\n",
        "매일 바뀌므로, 돌릴때마다 주의해서 다시 돌릴 것 "
      ]
    },
    {
      "cell_type": "code",
      "execution_count": null,
      "metadata": {
        "id": "c3G1wti9Td73"
      },
      "outputs": [],
      "source": [
        "import urllib.request\n",
        "urllib.request.urlretrieve(\"https://raw.githubusercontent.com/sunnysai12345/News_Summary/master/news_summary_more.csv\", filename=\"news_summary_more.csv\")\n",
        "data = pd.read_csv('news_summary_more.csv', encoding='iso-8859-1')"
      ]
    },
    {
      "cell_type": "code",
      "execution_count": null,
      "metadata": {
        "colab": {
          "base_uri": "https://localhost:8080/",
          "height": 206
        },
        "id": "wJUa6sPsTd-M",
        "outputId": "c0532302-c758-45d0-dfc4-67c2b2125a41"
      },
      "outputs": [
        {
          "data": {
            "text/html": [
              "\n",
              "  <div id=\"df-094eac6e-87b9-4443-8e0a-fb5a28ace840\">\n",
              "    <div class=\"colab-df-container\">\n",
              "      <div>\n",
              "<style scoped>\n",
              "    .dataframe tbody tr th:only-of-type {\n",
              "        vertical-align: middle;\n",
              "    }\n",
              "\n",
              "    .dataframe tbody tr th {\n",
              "        vertical-align: top;\n",
              "    }\n",
              "\n",
              "    .dataframe thead th {\n",
              "        text-align: right;\n",
              "    }\n",
              "</style>\n",
              "<table border=\"1\" class=\"dataframe\">\n",
              "  <thead>\n",
              "    <tr style=\"text-align: right;\">\n",
              "      <th></th>\n",
              "      <th>headlines</th>\n",
              "      <th>text</th>\n",
              "    </tr>\n",
              "  </thead>\n",
              "  <tbody>\n",
              "    <tr>\n",
              "      <th>0</th>\n",
              "      <td>upGrad learner switches to career in ML &amp; Al w...</td>\n",
              "      <td>Saurav Kant, an alumnus of upGrad and IIIT-B's...</td>\n",
              "    </tr>\n",
              "    <tr>\n",
              "      <th>1</th>\n",
              "      <td>Delhi techie wins free food from Swiggy for on...</td>\n",
              "      <td>Kunal Shah's credit card bill payment platform...</td>\n",
              "    </tr>\n",
              "    <tr>\n",
              "      <th>2</th>\n",
              "      <td>New Zealand end Rohit Sharma-led India's 12-ma...</td>\n",
              "      <td>New Zealand defeated India by 8 wickets in the...</td>\n",
              "    </tr>\n",
              "    <tr>\n",
              "      <th>3</th>\n",
              "      <td>Aegon life iTerm insurance plan helps customer...</td>\n",
              "      <td>With Aegon Life iTerm Insurance plan, customer...</td>\n",
              "    </tr>\n",
              "    <tr>\n",
              "      <th>4</th>\n",
              "      <td>Have known Hirani for yrs, what if MeToo claim...</td>\n",
              "      <td>Speaking about the sexual harassment allegatio...</td>\n",
              "    </tr>\n",
              "  </tbody>\n",
              "</table>\n",
              "</div>\n",
              "      <button class=\"colab-df-convert\" onclick=\"convertToInteractive('df-094eac6e-87b9-4443-8e0a-fb5a28ace840')\"\n",
              "              title=\"Convert this dataframe to an interactive table.\"\n",
              "              style=\"display:none;\">\n",
              "        \n",
              "  <svg xmlns=\"http://www.w3.org/2000/svg\" height=\"24px\"viewBox=\"0 0 24 24\"\n",
              "       width=\"24px\">\n",
              "    <path d=\"M0 0h24v24H0V0z\" fill=\"none\"/>\n",
              "    <path d=\"M18.56 5.44l.94 2.06.94-2.06 2.06-.94-2.06-.94-.94-2.06-.94 2.06-2.06.94zm-11 1L8.5 8.5l.94-2.06 2.06-.94-2.06-.94L8.5 2.5l-.94 2.06-2.06.94zm10 10l.94 2.06.94-2.06 2.06-.94-2.06-.94-.94-2.06-.94 2.06-2.06.94z\"/><path d=\"M17.41 7.96l-1.37-1.37c-.4-.4-.92-.59-1.43-.59-.52 0-1.04.2-1.43.59L10.3 9.45l-7.72 7.72c-.78.78-.78 2.05 0 2.83L4 21.41c.39.39.9.59 1.41.59.51 0 1.02-.2 1.41-.59l7.78-7.78 2.81-2.81c.8-.78.8-2.07 0-2.86zM5.41 20L4 18.59l7.72-7.72 1.47 1.35L5.41 20z\"/>\n",
              "  </svg>\n",
              "      </button>\n",
              "      \n",
              "  <style>\n",
              "    .colab-df-container {\n",
              "      display:flex;\n",
              "      flex-wrap:wrap;\n",
              "      gap: 12px;\n",
              "    }\n",
              "\n",
              "    .colab-df-convert {\n",
              "      background-color: #E8F0FE;\n",
              "      border: none;\n",
              "      border-radius: 50%;\n",
              "      cursor: pointer;\n",
              "      display: none;\n",
              "      fill: #1967D2;\n",
              "      height: 32px;\n",
              "      padding: 0 0 0 0;\n",
              "      width: 32px;\n",
              "    }\n",
              "\n",
              "    .colab-df-convert:hover {\n",
              "      background-color: #E2EBFA;\n",
              "      box-shadow: 0px 1px 2px rgba(60, 64, 67, 0.3), 0px 1px 3px 1px rgba(60, 64, 67, 0.15);\n",
              "      fill: #174EA6;\n",
              "    }\n",
              "\n",
              "    [theme=dark] .colab-df-convert {\n",
              "      background-color: #3B4455;\n",
              "      fill: #D2E3FC;\n",
              "    }\n",
              "\n",
              "    [theme=dark] .colab-df-convert:hover {\n",
              "      background-color: #434B5C;\n",
              "      box-shadow: 0px 1px 3px 1px rgba(0, 0, 0, 0.15);\n",
              "      filter: drop-shadow(0px 1px 2px rgba(0, 0, 0, 0.3));\n",
              "      fill: #FFFFFF;\n",
              "    }\n",
              "  </style>\n",
              "\n",
              "      <script>\n",
              "        const buttonEl =\n",
              "          document.querySelector('#df-094eac6e-87b9-4443-8e0a-fb5a28ace840 button.colab-df-convert');\n",
              "        buttonEl.style.display =\n",
              "          google.colab.kernel.accessAllowed ? 'block' : 'none';\n",
              "\n",
              "        async function convertToInteractive(key) {\n",
              "          const element = document.querySelector('#df-094eac6e-87b9-4443-8e0a-fb5a28ace840');\n",
              "          const dataTable =\n",
              "            await google.colab.kernel.invokeFunction('convertToInteractive',\n",
              "                                                     [key], {});\n",
              "          if (!dataTable) return;\n",
              "\n",
              "          const docLinkHtml = 'Like what you see? Visit the ' +\n",
              "            '<a target=\"_blank\" href=https://colab.research.google.com/notebooks/data_table.ipynb>data table notebook</a>'\n",
              "            + ' to learn more about interactive tables.';\n",
              "          element.innerHTML = '';\n",
              "          dataTable['output_type'] = 'display_data';\n",
              "          await google.colab.output.renderOutput(dataTable, element);\n",
              "          const docLink = document.createElement('div');\n",
              "          docLink.innerHTML = docLinkHtml;\n",
              "          element.appendChild(docLink);\n",
              "        }\n",
              "      </script>\n",
              "    </div>\n",
              "  </div>\n",
              "  "
            ],
            "text/plain": [
              "                                           headlines                                               text\n",
              "0  upGrad learner switches to career in ML & Al w...  Saurav Kant, an alumnus of upGrad and IIIT-B's...\n",
              "1  Delhi techie wins free food from Swiggy for on...  Kunal Shah's credit card bill payment platform...\n",
              "2  New Zealand end Rohit Sharma-led India's 12-ma...  New Zealand defeated India by 8 wickets in the...\n",
              "3  Aegon life iTerm insurance plan helps customer...  With Aegon Life iTerm Insurance plan, customer...\n",
              "4  Have known Hirani for yrs, what if MeToo claim...  Speaking about the sexual harassment allegatio..."
            ]
          },
          "execution_count": 9,
          "metadata": {},
          "output_type": "execute_result"
        }
      ],
      "source": [
        "data.head()"
      ]
    },
    {
      "cell_type": "code",
      "execution_count": null,
      "metadata": {
        "colab": {
          "base_uri": "https://localhost:8080/",
          "height": 520
        },
        "id": "FT0a4kLGTeAg",
        "outputId": "e6094e8a-3e89-4b67-b043-1cd79591033e"
      },
      "outputs": [
        {
          "data": {
            "text/html": [
              "\n",
              "  <div id=\"df-b6109f52-e936-4813-9504-1ad3a5d3c4f7\">\n",
              "    <div class=\"colab-df-container\">\n",
              "      <div>\n",
              "<style scoped>\n",
              "    .dataframe tbody tr th:only-of-type {\n",
              "        vertical-align: middle;\n",
              "    }\n",
              "\n",
              "    .dataframe tbody tr th {\n",
              "        vertical-align: top;\n",
              "    }\n",
              "\n",
              "    .dataframe thead th {\n",
              "        text-align: right;\n",
              "    }\n",
              "</style>\n",
              "<table border=\"1\" class=\"dataframe\">\n",
              "  <thead>\n",
              "    <tr style=\"text-align: right;\">\n",
              "      <th></th>\n",
              "      <th>text</th>\n",
              "      <th>headlines</th>\n",
              "    </tr>\n",
              "  </thead>\n",
              "  <tbody>\n",
              "    <tr>\n",
              "      <th>69122</th>\n",
              "      <td>US-based electric vehicles manufacturer Proter...</td>\n",
              "      <td>Electric bus sets record with 1,771 km-trip on...</td>\n",
              "    </tr>\n",
              "    <tr>\n",
              "      <th>50029</th>\n",
              "      <td>Hyderabad Police has arrested 12 people for po...</td>\n",
              "      <td>12 held for possessing weapons after they post...</td>\n",
              "    </tr>\n",
              "    <tr>\n",
              "      <th>48373</th>\n",
              "      <td>Playing in his 100th ODI today, opener Shikhar...</td>\n",
              "      <td>No Indian has scored more runs than Dhawan aft...</td>\n",
              "    </tr>\n",
              "    <tr>\n",
              "      <th>11333</th>\n",
              "      <td>After Google employees staged mass walkouts to...</td>\n",
              "      <td>We don't run Google by referendum: CEO Pichai ...</td>\n",
              "    </tr>\n",
              "    <tr>\n",
              "      <th>97526</th>\n",
              "      <td>India has a total of 63 million people living ...</td>\n",
              "      <td>63 million in India don't have access to clean...</td>\n",
              "    </tr>\n",
              "    <tr>\n",
              "      <th>56223</th>\n",
              "      <td>Kangana Ranaut has been invited to Harvard Bus...</td>\n",
              "      <td>Kangana invited to Harvard Business School for...</td>\n",
              "    </tr>\n",
              "    <tr>\n",
              "      <th>81282</th>\n",
              "      <td>US President Donald Trump on Monday defended h...</td>\n",
              "      <td>Trump defends daughter Ivanka for replacing hi...</td>\n",
              "    </tr>\n",
              "    <tr>\n",
              "      <th>63363</th>\n",
              "      <td>The door of a Telangana State Aviation Academy...</td>\n",
              "      <td>Door falls off aircraft mid-air, lands on home...</td>\n",
              "    </tr>\n",
              "    <tr>\n",
              "      <th>7183</th>\n",
              "      <td>The government has appointed Krishnamurthy Sub...</td>\n",
              "      <td>ISB prof Krishnamurthy Subramanian named Chief...</td>\n",
              "    </tr>\n",
              "    <tr>\n",
              "      <th>64927</th>\n",
              "      <td>Technology major Microsoft hit back at Google ...</td>\n",
              "      <td>Microsoft hits back at Google over Chrome secu...</td>\n",
              "    </tr>\n",
              "    <tr>\n",
              "      <th>68490</th>\n",
              "      <td>Indian spinner Harbhajan Singh said in a tweet...</td>\n",
              "      <td>Clarke should come out of retirement to help A...</td>\n",
              "    </tr>\n",
              "    <tr>\n",
              "      <th>33005</th>\n",
              "      <td>The Income Tax department has unveiled a schem...</td>\n",
              "      <td>Reward for informers of illegal foreign assets...</td>\n",
              "    </tr>\n",
              "    <tr>\n",
              "      <th>95151</th>\n",
              "      <td>Social media platform Reddit has revealed that...</td>\n",
              "      <td>Reddit shares digital canvas painted by 1 mill...</td>\n",
              "    </tr>\n",
              "    <tr>\n",
              "      <th>60209</th>\n",
              "      <td>Addressing the meeting of the Congress Working...</td>\n",
              "      <td>Modi govt sabotaging Winter session of Parliam...</td>\n",
              "    </tr>\n",
              "    <tr>\n",
              "      <th>68517</th>\n",
              "      <td>Arjun N Kapoor, the producer of Sara Ali Khan'...</td>\n",
              "      <td>Kedarnath producer denies rumour of Sara \"thro...</td>\n",
              "    </tr>\n",
              "  </tbody>\n",
              "</table>\n",
              "</div>\n",
              "      <button class=\"colab-df-convert\" onclick=\"convertToInteractive('df-b6109f52-e936-4813-9504-1ad3a5d3c4f7')\"\n",
              "              title=\"Convert this dataframe to an interactive table.\"\n",
              "              style=\"display:none;\">\n",
              "        \n",
              "  <svg xmlns=\"http://www.w3.org/2000/svg\" height=\"24px\"viewBox=\"0 0 24 24\"\n",
              "       width=\"24px\">\n",
              "    <path d=\"M0 0h24v24H0V0z\" fill=\"none\"/>\n",
              "    <path d=\"M18.56 5.44l.94 2.06.94-2.06 2.06-.94-2.06-.94-.94-2.06-.94 2.06-2.06.94zm-11 1L8.5 8.5l.94-2.06 2.06-.94-2.06-.94L8.5 2.5l-.94 2.06-2.06.94zm10 10l.94 2.06.94-2.06 2.06-.94-2.06-.94-.94-2.06-.94 2.06-2.06.94z\"/><path d=\"M17.41 7.96l-1.37-1.37c-.4-.4-.92-.59-1.43-.59-.52 0-1.04.2-1.43.59L10.3 9.45l-7.72 7.72c-.78.78-.78 2.05 0 2.83L4 21.41c.39.39.9.59 1.41.59.51 0 1.02-.2 1.41-.59l7.78-7.78 2.81-2.81c.8-.78.8-2.07 0-2.86zM5.41 20L4 18.59l7.72-7.72 1.47 1.35L5.41 20z\"/>\n",
              "  </svg>\n",
              "      </button>\n",
              "      \n",
              "  <style>\n",
              "    .colab-df-container {\n",
              "      display:flex;\n",
              "      flex-wrap:wrap;\n",
              "      gap: 12px;\n",
              "    }\n",
              "\n",
              "    .colab-df-convert {\n",
              "      background-color: #E8F0FE;\n",
              "      border: none;\n",
              "      border-radius: 50%;\n",
              "      cursor: pointer;\n",
              "      display: none;\n",
              "      fill: #1967D2;\n",
              "      height: 32px;\n",
              "      padding: 0 0 0 0;\n",
              "      width: 32px;\n",
              "    }\n",
              "\n",
              "    .colab-df-convert:hover {\n",
              "      background-color: #E2EBFA;\n",
              "      box-shadow: 0px 1px 2px rgba(60, 64, 67, 0.3), 0px 1px 3px 1px rgba(60, 64, 67, 0.15);\n",
              "      fill: #174EA6;\n",
              "    }\n",
              "\n",
              "    [theme=dark] .colab-df-convert {\n",
              "      background-color: #3B4455;\n",
              "      fill: #D2E3FC;\n",
              "    }\n",
              "\n",
              "    [theme=dark] .colab-df-convert:hover {\n",
              "      background-color: #434B5C;\n",
              "      box-shadow: 0px 1px 3px 1px rgba(0, 0, 0, 0.15);\n",
              "      filter: drop-shadow(0px 1px 2px rgba(0, 0, 0, 0.3));\n",
              "      fill: #FFFFFF;\n",
              "    }\n",
              "  </style>\n",
              "\n",
              "      <script>\n",
              "        const buttonEl =\n",
              "          document.querySelector('#df-b6109f52-e936-4813-9504-1ad3a5d3c4f7 button.colab-df-convert');\n",
              "        buttonEl.style.display =\n",
              "          google.colab.kernel.accessAllowed ? 'block' : 'none';\n",
              "\n",
              "        async function convertToInteractive(key) {\n",
              "          const element = document.querySelector('#df-b6109f52-e936-4813-9504-1ad3a5d3c4f7');\n",
              "          const dataTable =\n",
              "            await google.colab.kernel.invokeFunction('convertToInteractive',\n",
              "                                                     [key], {});\n",
              "          if (!dataTable) return;\n",
              "\n",
              "          const docLinkHtml = 'Like what you see? Visit the ' +\n",
              "            '<a target=\"_blank\" href=https://colab.research.google.com/notebooks/data_table.ipynb>data table notebook</a>'\n",
              "            + ' to learn more about interactive tables.';\n",
              "          element.innerHTML = '';\n",
              "          dataTable['output_type'] = 'display_data';\n",
              "          await google.colab.output.renderOutput(dataTable, element);\n",
              "          const docLink = document.createElement('div');\n",
              "          docLink.innerHTML = docLinkHtml;\n",
              "          element.appendChild(docLink);\n",
              "        }\n",
              "      </script>\n",
              "    </div>\n",
              "  </div>\n",
              "  "
            ],
            "text/plain": [
              "                                                    text                                          headlines\n",
              "69122  US-based electric vehicles manufacturer Proter...  Electric bus sets record with 1,771 km-trip on...\n",
              "50029  Hyderabad Police has arrested 12 people for po...  12 held for possessing weapons after they post...\n",
              "48373  Playing in his 100th ODI today, opener Shikhar...  No Indian has scored more runs than Dhawan aft...\n",
              "11333  After Google employees staged mass walkouts to...  We don't run Google by referendum: CEO Pichai ...\n",
              "97526  India has a total of 63 million people living ...  63 million in India don't have access to clean...\n",
              "56223  Kangana Ranaut has been invited to Harvard Bus...  Kangana invited to Harvard Business School for...\n",
              "81282  US President Donald Trump on Monday defended h...  Trump defends daughter Ivanka for replacing hi...\n",
              "63363  The door of a Telangana State Aviation Academy...  Door falls off aircraft mid-air, lands on home...\n",
              "7183   The government has appointed Krishnamurthy Sub...  ISB prof Krishnamurthy Subramanian named Chief...\n",
              "64927  Technology major Microsoft hit back at Google ...  Microsoft hits back at Google over Chrome secu...\n",
              "68490  Indian spinner Harbhajan Singh said in a tweet...  Clarke should come out of retirement to help A...\n",
              "33005  The Income Tax department has unveiled a schem...  Reward for informers of illegal foreign assets...\n",
              "95151  Social media platform Reddit has revealed that...  Reddit shares digital canvas painted by 1 mill...\n",
              "60209  Addressing the meeting of the Congress Working...  Modi govt sabotaging Winter session of Parliam...\n",
              "68517  Arjun N Kapoor, the producer of Sara Ali Khan'...  Kedarnath producer denies rumour of Sara \"thro..."
            ]
          },
          "execution_count": 10,
          "metadata": {},
          "output_type": "execute_result"
        }
      ],
      "source": [
        "data = data[['text','headlines']]\n",
        "data.head()\n",
        "\n",
        "#랜덤한 15개 샘플 출력\n",
        "data.sample(15)"
      ]
    },
    {
      "cell_type": "code",
      "execution_count": null,
      "metadata": {
        "colab": {
          "base_uri": "https://localhost:8080/"
        },
        "id": "GZOGBZ0NXpaI",
        "outputId": "c45b44e1-b174-4c87-8ecd-e90162639a91"
      },
      "outputs": [
        {
          "name": "stdout",
          "output_type": "stream",
          "text": [
            "Text 열에서 중복을 배제한 유일한 샘플의 수 : 98360\n",
            "Summary 열에서 중복을 배제한 유일한 샘플의 수 : 98280\n"
          ]
        }
      ],
      "source": [
        "print('Text 열에서 중복을 배제한 유일한 샘플의 수 :', data['text'].nunique())\n",
        "print('Summary 열에서 중복을 배제한 유일한 샘플의 수 :', data['headlines'].nunique())"
      ]
    },
    {
      "cell_type": "code",
      "execution_count": null,
      "metadata": {
        "colab": {
          "base_uri": "https://localhost:8080/"
        },
        "id": "aQC4DhQeXsPQ",
        "outputId": "d70e55ef-2d84-497e-dc51-0ebf9bc005dc"
      },
      "outputs": [
        {
          "name": "stdout",
          "output_type": "stream",
          "text": [
            "전체 샘플수 : 98360\n"
          ]
        }
      ],
      "source": [
        "# inplace=True 를 설정하면 DataFrame 타입 값을 return 하지 않고 data 내부를 직접적으로 바꿉니다\n",
        "data.drop_duplicates(subset = ['text'], inplace=True)\n",
        "print('전체 샘플수 :', (len(data)))"
      ]
    },
    {
      "cell_type": "code",
      "execution_count": null,
      "metadata": {
        "colab": {
          "base_uri": "https://localhost:8080/"
        },
        "id": "cPqz9-fXXufe",
        "outputId": "99d9222e-163f-4320-943f-d6b96dda3875"
      },
      "outputs": [
        {
          "name": "stdout",
          "output_type": "stream",
          "text": [
            "text         0\n",
            "headlines    0\n",
            "dtype: int64\n"
          ]
        }
      ],
      "source": [
        "print(data.isnull().sum())"
      ]
    },
    {
      "cell_type": "code",
      "execution_count": null,
      "metadata": {
        "colab": {
          "base_uri": "https://localhost:8080/"
        },
        "id": "ZcvHi2xPXwvb",
        "outputId": "1c3280c6-c386-4068-cc3a-b82d37cd57b8"
      },
      "outputs": [
        {
          "name": "stdout",
          "output_type": "stream",
          "text": [
            "전체 샘플수 : 98360\n"
          ]
        }
      ],
      "source": [
        "data.dropna(axis=0, inplace=True)\n",
        "print('전체 샘플수 :', (len(data)))"
      ]
    },
    {
      "cell_type": "code",
      "execution_count": null,
      "metadata": {
        "colab": {
          "base_uri": "https://localhost:8080/"
        },
        "id": "VfvKTW3VX0Im",
        "outputId": "d9b747e4-f646-471b-bd28-37e7783f3f9b"
      },
      "outputs": [
        {
          "name": "stdout",
          "output_type": "stream",
          "text": [
            "정규화 사전의 수:  120\n"
          ]
        }
      ],
      "source": [
        "contractions = {\"ain't\": \"is not\", \"aren't\": \"are not\",\"can't\": \"cannot\", \"'cause\": \"because\", \"could've\": \"could have\", \"couldn't\": \"could not\",\n",
        "                           \"didn't\": \"did not\",  \"doesn't\": \"does not\", \"don't\": \"do not\", \"hadn't\": \"had not\", \"hasn't\": \"has not\", \"haven't\": \"have not\",\n",
        "                           \"he'd\": \"he would\",\"he'll\": \"he will\", \"he's\": \"he is\", \"how'd\": \"how did\", \"how'd'y\": \"how do you\", \"how'll\": \"how will\", \"how's\": \"how is\",\n",
        "                           \"I'd\": \"I would\", \"I'd've\": \"I would have\", \"I'll\": \"I will\", \"I'll've\": \"I will have\",\"I'm\": \"I am\", \"I've\": \"I have\", \"i'd\": \"i would\",\n",
        "                           \"i'd've\": \"i would have\", \"i'll\": \"i will\",  \"i'll've\": \"i will have\",\"i'm\": \"i am\", \"i've\": \"i have\", \"isn't\": \"is not\", \"it'd\": \"it would\",\n",
        "                           \"it'd've\": \"it would have\", \"it'll\": \"it will\", \"it'll've\": \"it will have\",\"it's\": \"it is\", \"let's\": \"let us\", \"ma'am\": \"madam\",\n",
        "                           \"mayn't\": \"may not\", \"might've\": \"might have\",\"mightn't\": \"might not\",\"mightn't've\": \"might not have\", \"must've\": \"must have\",\n",
        "                           \"mustn't\": \"must not\", \"mustn't've\": \"must not have\", \"needn't\": \"need not\", \"needn't've\": \"need not have\",\"o'clock\": \"of the clock\",\n",
        "                           \"oughtn't\": \"ought not\", \"oughtn't've\": \"ought not have\", \"shan't\": \"shall not\", \"sha'n't\": \"shall not\", \"shan't've\": \"shall not have\",\n",
        "                           \"she'd\": \"she would\", \"she'd've\": \"she would have\", \"she'll\": \"she will\", \"she'll've\": \"she will have\", \"she's\": \"she is\",\n",
        "                           \"should've\": \"should have\", \"shouldn't\": \"should not\", \"shouldn't've\": \"should not have\", \"so've\": \"so have\",\"so's\": \"so as\",\n",
        "                           \"this's\": \"this is\",\"that'd\": \"that would\", \"that'd've\": \"that would have\", \"that's\": \"that is\", \"there'd\": \"there would\",\n",
        "                           \"there'd've\": \"there would have\", \"there's\": \"there is\", \"here's\": \"here is\",\"they'd\": \"they would\", \"they'd've\": \"they would have\",\n",
        "                           \"they'll\": \"they will\", \"they'll've\": \"they will have\", \"they're\": \"they are\", \"they've\": \"they have\", \"to've\": \"to have\",\n",
        "                           \"wasn't\": \"was not\", \"we'd\": \"we would\", \"we'd've\": \"we would have\", \"we'll\": \"we will\", \"we'll've\": \"we will have\", \"we're\": \"we are\",\n",
        "                           \"we've\": \"we have\", \"weren't\": \"were not\", \"what'll\": \"what will\", \"what'll've\": \"what will have\", \"what're\": \"what are\",\n",
        "                           \"what's\": \"what is\", \"what've\": \"what have\", \"when's\": \"when is\", \"when've\": \"when have\", \"where'd\": \"where did\", \"where's\": \"where is\",\n",
        "                           \"where've\": \"where have\", \"who'll\": \"who will\", \"who'll've\": \"who will have\", \"who's\": \"who is\", \"who've\": \"who have\",\n",
        "                           \"why's\": \"why is\", \"why've\": \"why have\", \"will've\": \"will have\", \"won't\": \"will not\", \"won't've\": \"will not have\",\n",
        "                           \"would've\": \"would have\", \"wouldn't\": \"would not\", \"wouldn't've\": \"would not have\", \"y'all\": \"you all\",\n",
        "                           \"y'all'd\": \"you all would\",\"y'all'd've\": \"you all would have\",\"y'all're\": \"you all are\",\"y'all've\": \"you all have\",\n",
        "                           \"you'd\": \"you would\", \"you'd've\": \"you would have\", \"you'll\": \"you will\", \"you'll've\": \"you will have\",\n",
        "                           \"you're\": \"you are\", \"you've\": \"you have\"}\n",
        "\n",
        "print(\"정규화 사전의 수: \", len(contractions))"
      ]
    },
    {
      "cell_type": "code",
      "execution_count": null,
      "metadata": {
        "colab": {
          "base_uri": "https://localhost:8080/"
        },
        "id": "NDnljpPbX0Ks",
        "outputId": "a1c919b6-04a9-4d4e-daa4-c8179d6eced4"
      },
      "outputs": [
        {
          "name": "stdout",
          "output_type": "stream",
          "text": [
            "불용어 개수 : 179\n",
            "['i', 'me', 'my', 'myself', 'we', 'our', 'ours', 'ourselves', 'you', \"you're\", \"you've\", \"you'll\", \"you'd\", 'your', 'yours', 'yourself', 'yourselves', 'he', 'him', 'his', 'himself', 'she', \"she's\", 'her', 'hers', 'herself', 'it', \"it's\", 'its', 'itself', 'they', 'them', 'their', 'theirs', 'themselves', 'what', 'which', 'who', 'whom', 'this', 'that', \"that'll\", 'these', 'those', 'am', 'is', 'are', 'was', 'were', 'be', 'been', 'being', 'have', 'has', 'had', 'having', 'do', 'does', 'did', 'doing', 'a', 'an', 'the', 'and', 'but', 'if', 'or', 'because', 'as', 'until', 'while', 'of', 'at', 'by', 'for', 'with', 'about', 'against', 'between', 'into', 'through', 'during', 'before', 'after', 'above', 'below', 'to', 'from', 'up', 'down', 'in', 'out', 'on', 'off', 'over', 'under', 'again', 'further', 'then', 'once', 'here', 'there', 'when', 'where', 'why', 'how', 'all', 'any', 'both', 'each', 'few', 'more', 'most', 'other', 'some', 'such', 'no', 'nor', 'not', 'only', 'own', 'same', 'so', 'than', 'too', 'very', 's', 't', 'can', 'will', 'just', 'don', \"don't\", 'should', \"should've\", 'now', 'd', 'll', 'm', 'o', 're', 've', 'y', 'ain', 'aren', \"aren't\", 'couldn', \"couldn't\", 'didn', \"didn't\", 'doesn', \"doesn't\", 'hadn', \"hadn't\", 'hasn', \"hasn't\", 'haven', \"haven't\", 'isn', \"isn't\", 'ma', 'mightn', \"mightn't\", 'mustn', \"mustn't\", 'needn', \"needn't\", 'shan', \"shan't\", 'shouldn', \"shouldn't\", 'wasn', \"wasn't\", 'weren', \"weren't\", 'won', \"won't\", 'wouldn', \"wouldn't\"]\n"
          ]
        }
      ],
      "source": [
        "print('불용어 개수 :', len(stopwords.words('english') ))\n",
        "print(stopwords.words('english'))"
      ]
    },
    {
      "cell_type": "code",
      "execution_count": null,
      "metadata": {
        "colab": {
          "base_uri": "https://localhost:8080/"
        },
        "id": "8caxe_wKX0My",
        "outputId": "73696968-ee53-403d-a79c-fdc2e4b8d729"
      },
      "outputs": [
        {
          "name": "stdout",
          "output_type": "stream",
          "text": [
            "=3\n"
          ]
        }
      ],
      "source": [
        "# 데이터 전처리 함수\n",
        "def preprocess_sentence(sentence, remove_stopwords=True):\n",
        "    sentence = sentence.lower() # 텍스트 소문자화\n",
        "    sentence = BeautifulSoup(sentence, \"lxml\").text # <br />, <a href = ...> 등의 html 태그 제거\n",
        "    sentence = re.sub(r'\\([^)]*\\)', '', sentence) # 괄호로 닫힌 문자열 (...) 제거 Ex) my husband (and myself!) for => my husband for\n",
        "    sentence = re.sub('\"','', sentence) # 쌍따옴표 \" 제거\n",
        "    sentence = ' '.join([contractions[t] if t in contractions else t for t in sentence.split(\" \")]) # 약어 정규화\n",
        "    sentence = re.sub(r\"'s\\b\",\"\", sentence) # 소유격 제거. Ex) roland's -> roland\n",
        "    sentence = re.sub(\"[^a-zA-Z]\", \" \", sentence) # 영어 외 문자(숫자, 특수문자 등) 공백으로 변환\n",
        "    sentence = re.sub('[m]{2,}', 'mm', sentence) # m이 3개 이상이면 2개로 변경. Ex) ummmmmmm yeah -> umm yeah\n",
        "    \n",
        "    # 불용어 제거 (Text)\n",
        "    if remove_stopwords:\n",
        "        tokens = ' '.join(word for word in sentence.split() if not word in stopwords.words('english') if len(word) > 1)\n",
        "    # 불용어 미제거 (Summary)\n",
        "    else:\n",
        "        tokens = ' '.join(word for word in sentence.split() if len(word) > 1)\n",
        "    return tokens\n",
        "print('=3')"
      ]
    },
    {
      "cell_type": "code",
      "execution_count": null,
      "metadata": {
        "colab": {
          "base_uri": "https://localhost:8080/"
        },
        "id": "baE7Cm1FX0O2",
        "outputId": "208aacaa-ad92-4a2e-b762-06cfaeef0b4d"
      },
      "outputs": [
        {
          "name": "stdout",
          "output_type": "stream",
          "text": [
            "text:  everything bought great infact ordered twice third ordered wasfor mother father\n",
            "summary: great way to start the day\n"
          ]
        }
      ],
      "source": [
        "temp_text = 'Everything I bought was great, infact I ordered twice and the third ordered was<br />for my mother and father.'\n",
        "temp_summary = 'Great way to start (or finish) the day!!!'\n",
        "\n",
        "print(\"text: \", preprocess_sentence(temp_text))\n",
        "print(\"summary:\", preprocess_sentence(temp_summary, False))  # 불용어를 제거하지 않습니다."
      ]
    },
    {
      "cell_type": "code",
      "execution_count": null,
      "metadata": {
        "colab": {
          "background_save": true
        },
        "id": "tfHaYKNLX0Q9",
        "outputId": "43e2f624-7d6a-4b6c-a3d5-05d7c8161c02"
      },
      "outputs": [
        {
          "name": "stdout",
          "output_type": "stream",
          "text": [
            "Text 전처리 후 결과:  ['saurav kant alumnus upgrad iiit pg program machine learning artificial intelligence sr systems engineer infosys almost years work experience program upgrad degree career support helped transition data scientist tech mahindra salary hike upgrad online power learning powered lakh careers', 'kunal shah credit card bill payment platform cred gave users chance win free food swiggy one year pranav kaushik delhi techie bagged reward spending cred coins users get one cred coin per rupee bill paid used avail rewards brands like ixigo bookmyshow ubereats cult fit', 'new zealand defeated india wickets fourth odi hamilton thursday win first match five match odi series india lost international match rohit sharma captaincy consecutive victories dating back march match witnessed india getting seventh lowest total odi cricket history', 'aegon life iterm insurance plan customers enjoy tax benefits premiums paid save taxes plan provides life cover age years also customers options insure critical illnesses disability accidental death benefit rider life cover age years', 'speaking sexual harassment allegations rajkumar hirani sonam kapoor said known hirani many years true metoo movement get derailed metoo movement always believe woman case need reserve judgment added hirani accused assistant worked sanju']\n"
          ]
        }
      ],
      "source": [
        "clean_text = []\n",
        "# 전체 Text 데이터에 대한 전처리 : 10분 이상 시간이 걸릴 수 있습니다. \n",
        "for s in data['text']:\n",
        "    clean_text.append(preprocess_sentence(s))\n",
        "\n",
        "# 전처리 후 출력\n",
        "print(\"Text 전처리 후 결과: \", clean_text[:5])"
      ]
    },
    {
      "cell_type": "code",
      "execution_count": 20,
      "metadata": {
        "id": "XwMoXmSaX0TE",
        "colab": {
          "base_uri": "https://localhost:8080/"
        },
        "outputId": "494f61e0-a7f8-4a92-abc0-582e1b42590e"
      },
      "outputs": [
        {
          "output_type": "stream",
          "name": "stdout",
          "text": [
            "Summary 전처리 후 결과:  ['upgrad learner switches to career in ml al with salary hike', 'delhi techie wins free food from swiggy for one year on cred', 'new zealand end rohit sharma led india match winning streak', 'aegon life iterm insurance plan helps customers save tax', 'have known hirani for yrs what if metoo claims are not true sonam']\n"
          ]
        }
      ],
      "source": [
        "clean_summary = []\n",
        "# 전체 Summary 데이터에 대한 전처리 : 5분 이상 시간이 걸릴 수 있습니다. \n",
        "for s in data['headlines']:\n",
        "    clean_summary.append(preprocess_sentence(s, False))\n",
        "\n",
        "print(\"Summary 전처리 후 결과: \", clean_summary[:5])"
      ]
    },
    {
      "cell_type": "code",
      "execution_count": 21,
      "metadata": {
        "id": "g72TWhGlX_3v",
        "colab": {
          "base_uri": "https://localhost:8080/"
        },
        "outputId": "fb9f3166-bd00-41d5-b494-6a6ec67af567"
      },
      "outputs": [
        {
          "output_type": "stream",
          "name": "stdout",
          "text": [
            "=3\n"
          ]
        }
      ],
      "source": [
        "data['text'] = clean_text\n",
        "data['headlines'] = clean_summary\n",
        "\n",
        "# 빈 값을 Null 값으로 변환\n",
        "data.replace('', np.nan, inplace=True)\n",
        "print('=3')"
      ]
    },
    {
      "cell_type": "code",
      "execution_count": 22,
      "metadata": {
        "id": "N3tw-pwmX_6V",
        "colab": {
          "base_uri": "https://localhost:8080/"
        },
        "outputId": "293979dd-1fd6-4660-8641-7b7aed85bf32"
      },
      "outputs": [
        {
          "output_type": "execute_result",
          "data": {
            "text/plain": [
              "text         0\n",
              "headlines    0\n",
              "dtype: int64"
            ]
          },
          "metadata": {},
          "execution_count": 22
        }
      ],
      "source": [
        "data.isnull().sum()"
      ]
    },
    {
      "cell_type": "code",
      "execution_count": 23,
      "metadata": {
        "id": "0kqN_rhlX_8d",
        "colab": {
          "base_uri": "https://localhost:8080/"
        },
        "outputId": "e09657ae-d689-4223-b4f4-553719c20990"
      },
      "outputs": [
        {
          "output_type": "stream",
          "name": "stdout",
          "text": [
            "전체 샘플수 : 98360\n"
          ]
        }
      ],
      "source": [
        "data.dropna(axis=0, inplace=True)\n",
        "print('전체 샘플수 :', (len(data)))"
      ]
    },
    {
      "cell_type": "code",
      "execution_count": 24,
      "metadata": {
        "id": "CpFBRLMaX_-0",
        "colab": {
          "base_uri": "https://localhost:8080/",
          "height": 963
        },
        "outputId": "35f546af-1512-44db-89d1-ef98235436c4"
      },
      "outputs": [
        {
          "output_type": "stream",
          "name": "stdout",
          "text": [
            "텍스트의 최소 길이 : 1\n",
            "텍스트의 최대 길이 : 60\n",
            "텍스트의 평균 길이 : 35.09968483123221\n",
            "요약의 최소 길이 : 1\n",
            "요약의 최대 길이 : 16\n",
            "요약의 평균 길이 : 9.299532330215534\n"
          ]
        },
        {
          "output_type": "display_data",
          "data": {
            "image/png": "[encoded data removed]",
            "text/plain": [
              "<Figure size 432x288 with 2 Axes>"
            ]
          },
          "metadata": {
            "needs_background": "light"
          }
        },
        {
          "output_type": "display_data",
          "data": {
            "image/png": "[encoded data removed]",
            "text/plain": [
              "<Figure size 432x288 with 1 Axes>"
            ]
          },
          "metadata": {
            "needs_background": "light"
          }
        },
        {
          "output_type": "display_data",
          "data": {
            "image/png": "[encoded data removed]",
            "text/plain": [
              "<Figure size 432x288 with 1 Axes>"
            ]
          },
          "metadata": {
            "needs_background": "light"
          }
        }
      ],
      "source": [
        "# 길이 분포 출력\n",
        "import matplotlib.pyplot as plt\n",
        "\n",
        "text_len = [len(s.split()) for s in data['text']]\n",
        "headlines_len = [len(s.split()) for s in data['headlines']]\n",
        "\n",
        "print('텍스트의 최소 길이 : {}'.format(np.min(text_len)))\n",
        "print('텍스트의 최대 길이 : {}'.format(np.max(text_len)))\n",
        "print('텍스트의 평균 길이 : {}'.format(np.mean(text_len)))\n",
        "print('요약의 최소 길이 : {}'.format(np.min(headlines_len)))\n",
        "print('요약의 최대 길이 : {}'.format(np.max(headlines_len)))\n",
        "print('요약의 평균 길이 : {}'.format(np.mean(headlines_len)))\n",
        "\n",
        "plt.subplot(1,2,1)\n",
        "plt.boxplot(text_len)\n",
        "plt.title('Text')\n",
        "plt.subplot(1,2,2)\n",
        "plt.boxplot(headlines_len)\n",
        "plt.title('Summary')\n",
        "plt.tight_layout()\n",
        "plt.show()\n",
        "\n",
        "plt.title('Text')\n",
        "plt.hist(text_len, bins = 40)\n",
        "plt.xlabel('length of samples')\n",
        "plt.ylabel('number of samples')\n",
        "plt.show()\n",
        "\n",
        "plt.title('Summary')\n",
        "plt.hist(headlines_len, bins = 40)\n",
        "plt.xlabel('length of samples')\n",
        "plt.ylabel('number of samples')\n",
        "plt.show()"
      ]
    },
    {
      "cell_type": "code",
      "execution_count": 25,
      "metadata": {
        "id": "mWXN-2WvYABa",
        "colab": {
          "base_uri": "https://localhost:8080/"
        },
        "outputId": "1e8a2435-06c3-49a4-d2ff-3d38478cc0b4"
      },
      "outputs": [
        {
          "output_type": "stream",
          "name": "stdout",
          "text": [
            "=3\n"
          ]
        }
      ],
      "source": [
        "text_max_len = 50\n",
        "summary_max_len = 8\n",
        "print('=3')"
      ]
    },
    {
      "cell_type": "code",
      "execution_count": 26,
      "metadata": {
        "id": "egmX8XpNYAD5",
        "colab": {
          "base_uri": "https://localhost:8080/"
        },
        "outputId": "183379c6-0cc6-4f58-af1f-0e59586ce83e"
      },
      "outputs": [
        {
          "output_type": "stream",
          "name": "stdout",
          "text": [
            "=3\n"
          ]
        }
      ],
      "source": [
        "def below_threshold_len(max_len, nested_list):\n",
        "  cnt = 0\n",
        "  for s in nested_list:\n",
        "    if(len(s.split()) <= max_len):\n",
        "        cnt = cnt + 1\n",
        "  print('전체 샘플 중 길이가 %s 이하인 샘플의 비율: %s'%(max_len, (cnt / len(nested_list))))\n",
        "print('=3')"
      ]
    },
    {
      "cell_type": "code",
      "execution_count": 27,
      "metadata": {
        "id": "Db8g-EjBYAGc",
        "colab": {
          "base_uri": "https://localhost:8080/"
        },
        "outputId": "ebd56f6c-5003-4268-c37a-87d3aa7e3d91"
      },
      "outputs": [
        {
          "output_type": "stream",
          "name": "stdout",
          "text": [
            "전체 샘플 중 길이가 50 이하인 샘플의 비율: 0.9998576657177715\n",
            "전체 샘플 중 길이가 8 이하인 샘플의 비율: 0.2755693371289142\n"
          ]
        }
      ],
      "source": [
        "below_threshold_len(text_max_len, data['text'])\n",
        "below_threshold_len(summary_max_len,  data['headlines'])"
      ]
    },
    {
      "cell_type": "code",
      "execution_count": 75,
      "metadata": {
        "id": "016lwX-AYAJA",
        "colab": {
          "base_uri": "https://localhost:8080/"
        },
        "outputId": "d538f2b1-6a7a-48cf-a073-8212f60754bd"
      },
      "outputs": [
        {
          "output_type": "stream",
          "name": "stdout",
          "text": [
            "전체 샘플수 : 27105\n"
          ]
        }
      ],
      "source": [
        "data = data[data['text'].apply(lambda x: len(x.split()) <= text_max_len)]\n",
        "data = data[data['headlines'].apply(lambda x: len(x.split()) <= summary_max_len)]\n",
        "print('전체 샘플수 :', (len(data)))"
      ]
    },
    {
      "cell_type": "code",
      "execution_count": 76,
      "metadata": {
        "id": "Zv8Bj0SNYALT",
        "colab": {
          "base_uri": "https://localhost:8080/",
          "height": 337
        },
        "outputId": "d0d3bee1-ee55-4fa9-bb0d-78474e141cf2"
      },
      "outputs": [
        {
          "output_type": "execute_result",
          "data": {
            "text/html": [
              "\n",
              "  <div id=\"df-4e73c035-dcd3-4457-a0df-cef77f611ad2\">\n",
              "    <div class=\"colab-df-container\">\n",
              "      <div>\n",
              "<style scoped>\n",
              "    .dataframe tbody tr th:only-of-type {\n",
              "        vertical-align: middle;\n",
              "    }\n",
              "\n",
              "    .dataframe tbody tr th {\n",
              "        vertical-align: top;\n",
              "    }\n",
              "\n",
              "    .dataframe thead th {\n",
              "        text-align: right;\n",
              "    }\n",
              "</style>\n",
              "<table border=\"1\" class=\"dataframe\">\n",
              "  <thead>\n",
              "    <tr style=\"text-align: right;\">\n",
              "      <th></th>\n",
              "      <th>text</th>\n",
              "      <th>headlines</th>\n",
              "      <th>decoder_input</th>\n",
              "      <th>decoder_target</th>\n",
              "    </tr>\n",
              "  </thead>\n",
              "  <tbody>\n",
              "    <tr>\n",
              "      <th>19</th>\n",
              "      <td>union minister dharmendra pradhan wednesday cl...</td>\n",
              "      <td>odisha cm patnaik controls mining mafia union ...</td>\n",
              "      <td>sostoken odisha cm patnaik controls mining maf...</td>\n",
              "      <td>odisha cm patnaik controls mining mafia union ...</td>\n",
              "    </tr>\n",
              "    <tr>\n",
              "      <th>21</th>\n",
              "      <td>indian space research organisation wednesday u...</td>\n",
              "      <td>isro unveils bengaluru centre for manned space...</td>\n",
              "      <td>sostoken isro unveils bengaluru centre for man...</td>\n",
              "      <td>isro unveils bengaluru centre for manned space...</td>\n",
              "    </tr>\n",
              "    <tr>\n",
              "      <th>22</th>\n",
              "      <td>least people killed others injured saudi arabi...</td>\n",
              "      <td>killed injured in saudi arabia floods</td>\n",
              "      <td>sostoken killed injured in saudi arabia floods</td>\n",
              "      <td>killed injured in saudi arabia floods eostoken</td>\n",
              "    </tr>\n",
              "    <tr>\n",
              "      <th>29</th>\n",
              "      <td>investigators searching lost plane carrying ar...</td>\n",
              "      <td>seat cushions from missing plane carrying foot...</td>\n",
              "      <td>sostoken seat cushions from missing plane carr...</td>\n",
              "      <td>seat cushions from missing plane carrying foot...</td>\n",
              "    </tr>\n",
              "    <tr>\n",
              "      <th>36</th>\n",
              "      <td>agustawestland chopper scam co accused rajiv s...</td>\n",
              "      <td>agustawestland scam accused rajiv saxena extra...</td>\n",
              "      <td>sostoken agustawestland scam accused rajiv sax...</td>\n",
              "      <td>agustawestland scam accused rajiv saxena extra...</td>\n",
              "    </tr>\n",
              "  </tbody>\n",
              "</table>\n",
              "</div>\n",
              "      <button class=\"colab-df-convert\" onclick=\"convertToInteractive('df-4e73c035-dcd3-4457-a0df-cef77f611ad2')\"\n",
              "              title=\"Convert this dataframe to an interactive table.\"\n",
              "              style=\"display:none;\">\n",
              "        \n",
              "  <svg xmlns=\"http://www.w3.org/2000/svg\" height=\"24px\"viewBox=\"0 0 24 24\"\n",
              "       width=\"24px\">\n",
              "    <path d=\"M0 0h24v24H0V0z\" fill=\"none\"/>\n",
              "    <path d=\"M18.56 5.44l.94 2.06.94-2.06 2.06-.94-2.06-.94-.94-2.06-.94 2.06-2.06.94zm-11 1L8.5 8.5l.94-2.06 2.06-.94-2.06-.94L8.5 2.5l-.94 2.06-2.06.94zm10 10l.94 2.06.94-2.06 2.06-.94-2.06-.94-.94-2.06-.94 2.06-2.06.94z\"/><path d=\"M17.41 7.96l-1.37-1.37c-.4-.4-.92-.59-1.43-.59-.52 0-1.04.2-1.43.59L10.3 9.45l-7.72 7.72c-.78.78-.78 2.05 0 2.83L4 21.41c.39.39.9.59 1.41.59.51 0 1.02-.2 1.41-.59l7.78-7.78 2.81-2.81c.8-.78.8-2.07 0-2.86zM5.41 20L4 18.59l7.72-7.72 1.47 1.35L5.41 20z\"/>\n",
              "  </svg>\n",
              "      </button>\n",
              "      \n",
              "  <style>\n",
              "    .colab-df-container {\n",
              "      display:flex;\n",
              "      flex-wrap:wrap;\n",
              "      gap: 12px;\n",
              "    }\n",
              "\n",
              "    .colab-df-convert {\n",
              "      background-color: #E8F0FE;\n",
              "      border: none;\n",
              "      border-radius: 50%;\n",
              "      cursor: pointer;\n",
              "      display: none;\n",
              "      fill: #1967D2;\n",
              "      height: 32px;\n",
              "      padding: 0 0 0 0;\n",
              "      width: 32px;\n",
              "    }\n",
              "\n",
              "    .colab-df-convert:hover {\n",
              "      background-color: #E2EBFA;\n",
              "      box-shadow: 0px 1px 2px rgba(60, 64, 67, 0.3), 0px 1px 3px 1px rgba(60, 64, 67, 0.15);\n",
              "      fill: #174EA6;\n",
              "    }\n",
              "\n",
              "    [theme=dark] .colab-df-convert {\n",
              "      background-color: #3B4455;\n",
              "      fill: #D2E3FC;\n",
              "    }\n",
              "\n",
              "    [theme=dark] .colab-df-convert:hover {\n",
              "      background-color: #434B5C;\n",
              "      box-shadow: 0px 1px 3px 1px rgba(0, 0, 0, 0.15);\n",
              "      filter: drop-shadow(0px 1px 2px rgba(0, 0, 0, 0.3));\n",
              "      fill: #FFFFFF;\n",
              "    }\n",
              "  </style>\n",
              "\n",
              "      <script>\n",
              "        const buttonEl =\n",
              "          document.querySelector('#df-4e73c035-dcd3-4457-a0df-cef77f611ad2 button.colab-df-convert');\n",
              "        buttonEl.style.display =\n",
              "          google.colab.kernel.accessAllowed ? 'block' : 'none';\n",
              "\n",
              "        async function convertToInteractive(key) {\n",
              "          const element = document.querySelector('#df-4e73c035-dcd3-4457-a0df-cef77f611ad2');\n",
              "          const dataTable =\n",
              "            await google.colab.kernel.invokeFunction('convertToInteractive',\n",
              "                                                     [key], {});\n",
              "          if (!dataTable) return;\n",
              "\n",
              "          const docLinkHtml = 'Like what you see? Visit the ' +\n",
              "            '<a target=\"_blank\" href=https://colab.research.google.com/notebooks/data_table.ipynb>data table notebook</a>'\n",
              "            + ' to learn more about interactive tables.';\n",
              "          element.innerHTML = '';\n",
              "          dataTable['output_type'] = 'display_data';\n",
              "          await google.colab.output.renderOutput(dataTable, element);\n",
              "          const docLink = document.createElement('div');\n",
              "          docLink.innerHTML = docLinkHtml;\n",
              "          element.appendChild(docLink);\n",
              "        }\n",
              "      </script>\n",
              "    </div>\n",
              "  </div>\n",
              "  "
            ],
            "text/plain": [
              "                                                 text  ...                                     decoder_target\n",
              "19  union minister dharmendra pradhan wednesday cl...  ...  odisha cm patnaik controls mining mafia union ...\n",
              "21  indian space research organisation wednesday u...  ...  isro unveils bengaluru centre for manned space...\n",
              "22  least people killed others injured saudi arabi...  ...     killed injured in saudi arabia floods eostoken\n",
              "29  investigators searching lost plane carrying ar...  ...  seat cushions from missing plane carrying foot...\n",
              "36  agustawestland chopper scam co accused rajiv s...  ...  agustawestland scam accused rajiv saxena extra...\n",
              "\n",
              "[5 rows x 4 columns]"
            ]
          },
          "metadata": {},
          "execution_count": 76
        }
      ],
      "source": [
        "# 요약 데이터에는 시작 토큰과 종료 토큰을 추가한다.\n",
        "data['decoder_input'] = data['headlines'].apply(lambda x : 'sostoken '+ x)\n",
        "data['decoder_target'] = data['headlines'].apply(lambda x : x + ' eostoken')\n",
        "data.head()"
      ]
    },
    {
      "cell_type": "code",
      "execution_count": 77,
      "metadata": {
        "id": "6wXYiC8rYANq",
        "colab": {
          "base_uri": "https://localhost:8080/"
        },
        "outputId": "0ae0ee05-8494-4207-9f86-875ab740c791"
      },
      "outputs": [
        {
          "output_type": "stream",
          "name": "stdout",
          "text": [
            "=3\n"
          ]
        }
      ],
      "source": [
        "encoder_input = np.array(data['text']) # 인코더의 입력\n",
        "decoder_input = np.array(data['decoder_input']) # 디코더의 입력\n",
        "decoder_target = np.array(data['decoder_target']) # 디코더의 레이블\n",
        "print('=3')"
      ]
    },
    {
      "cell_type": "code",
      "execution_count": 78,
      "metadata": {
        "id": "gm8naTWBYAQD",
        "colab": {
          "base_uri": "https://localhost:8080/"
        },
        "outputId": "2c871f80-27f4-4118-9382-88aa31520a56"
      },
      "outputs": [
        {
          "output_type": "stream",
          "name": "stdout",
          "text": [
            "[19577  3424 23149 ... 17211   515 26832]\n"
          ]
        }
      ],
      "source": [
        "indices = np.arange(encoder_input.shape[0])\n",
        "np.random.shuffle(indices)\n",
        "print(indices)"
      ]
    },
    {
      "cell_type": "code",
      "execution_count": 79,
      "metadata": {
        "id": "w4OGhHLWYASJ",
        "colab": {
          "base_uri": "https://localhost:8080/"
        },
        "outputId": "476c66c9-87d4-4c7c-d17c-3d8a707fade8"
      },
      "outputs": [
        {
          "output_type": "stream",
          "name": "stdout",
          "text": [
            "=3\n"
          ]
        }
      ],
      "source": [
        "encoder_input = encoder_input[indices]\n",
        "decoder_input = decoder_input[indices]\n",
        "decoder_target = decoder_target[indices]\n",
        "print('=3')"
      ]
    },
    {
      "cell_type": "code",
      "execution_count": 80,
      "metadata": {
        "id": "ejcKFaQhYAUd",
        "colab": {
          "base_uri": "https://localhost:8080/"
        },
        "outputId": "d8548b24-d8db-407d-9435-a0b6ed77063f"
      },
      "outputs": [
        {
          "output_type": "stream",
          "name": "stdout",
          "text": [
            "테스트 데이터의 수 : 5421\n"
          ]
        }
      ],
      "source": [
        "n_of_val = int(len(encoder_input)*0.2)\n",
        "print('테스트 데이터의 수 :', n_of_val)"
      ]
    },
    {
      "cell_type": "code",
      "execution_count": 81,
      "metadata": {
        "id": "oWRJtVnhYAW1",
        "colab": {
          "base_uri": "https://localhost:8080/"
        },
        "outputId": "51f6b6c3-98da-47c4-c128-122a5dd65912"
      },
      "outputs": [
        {
          "output_type": "stream",
          "name": "stdout",
          "text": [
            "훈련 데이터의 개수 : 21684\n",
            "훈련 레이블의 개수 : 21684\n",
            "테스트 데이터의 개수 : 5421\n",
            "테스트 레이블의 개수 : 5421\n"
          ]
        }
      ],
      "source": [
        "encoder_input_train = encoder_input[:-n_of_val]\n",
        "decoder_input_train = decoder_input[:-n_of_val]\n",
        "decoder_target_train = decoder_target[:-n_of_val]\n",
        "\n",
        "encoder_input_test = encoder_input[-n_of_val:]\n",
        "decoder_input_test = decoder_input[-n_of_val:]\n",
        "decoder_target_test = decoder_target[-n_of_val:]\n",
        "\n",
        "print('훈련 데이터의 개수 :', len(encoder_input_train))\n",
        "print('훈련 레이블의 개수 :', len(decoder_input_train))\n",
        "print('테스트 데이터의 개수 :', len(encoder_input_test))\n",
        "print('테스트 레이블의 개수 :', len(decoder_input_test))"
      ]
    },
    {
      "cell_type": "code",
      "execution_count": 82,
      "metadata": {
        "id": "G40SfS_fYAZX",
        "colab": {
          "base_uri": "https://localhost:8080/"
        },
        "outputId": "b1915b41-541f-496b-9fdf-9b858da058fb"
      },
      "outputs": [
        {
          "output_type": "stream",
          "name": "stdout",
          "text": [
            "=3\n"
          ]
        }
      ],
      "source": [
        "src_tokenizer = Tokenizer() # 토크나이저 정의\n",
        "src_tokenizer.fit_on_texts(encoder_input_train) # 입력된 데이터로부터 단어 집합 생성\n",
        "print('=3')"
      ]
    },
    {
      "cell_type": "code",
      "execution_count": 83,
      "metadata": {
        "id": "MITv52MpYAbi",
        "colab": {
          "base_uri": "https://localhost:8080/"
        },
        "outputId": "8114ca9d-3cc9-4b96-b801-985933f25444"
      },
      "outputs": [
        {
          "output_type": "stream",
          "name": "stdout",
          "text": [
            "단어 집합(vocabulary)의 크기 : 42479\n",
            "등장 빈도가 6번 이하인 희귀 단어의 수: 30746\n",
            "단어 집합에서 희귀 단어를 제외시킬 경우의 단어 집합의 크기 11733\n",
            "단어 집합에서 희귀 단어의 비율: 72.37929329786482\n",
            "전체 등장 빈도에서 희귀 단어 등장 빈도 비율: 8.309680099599943\n"
          ]
        }
      ],
      "source": [
        "threshold = 7\n",
        "total_cnt = len(src_tokenizer.word_index) # 단어의 수\n",
        "rare_cnt = 0 # 등장 빈도수가 threshold보다 작은 단어의 개수를 카운트\n",
        "total_freq = 0 # 훈련 데이터의 전체 단어 빈도수 총 합\n",
        "rare_freq = 0 # 등장 빈도수가 threshold보다 작은 단어의 등장 빈도수의 총 합\n",
        "\n",
        "# 단어와 빈도수의 쌍(pair)을 key와 value로 받는다.\n",
        "for key, value in src_tokenizer.word_counts.items():\n",
        "    total_freq = total_freq + value\n",
        "\n",
        "    # 단어의 등장 빈도수가 threshold보다 작으면\n",
        "    if(value < threshold):\n",
        "        rare_cnt = rare_cnt + 1\n",
        "        rare_freq = rare_freq + value\n",
        "\n",
        "print('단어 집합(vocabulary)의 크기 :', total_cnt)\n",
        "print('등장 빈도가 %s번 이하인 희귀 단어의 수: %s'%(threshold - 1, rare_cnt))\n",
        "print('단어 집합에서 희귀 단어를 제외시킬 경우의 단어 집합의 크기 %s'%(total_cnt - rare_cnt))\n",
        "print(\"단어 집합에서 희귀 단어의 비율:\", (rare_cnt / total_cnt)*100)\n",
        "print(\"전체 등장 빈도에서 희귀 단어 등장 빈도 비율:\", (rare_freq / total_freq)*100)"
      ]
    },
    {
      "cell_type": "code",
      "execution_count": 84,
      "metadata": {
        "id": "6O5QifajbxEx",
        "colab": {
          "base_uri": "https://localhost:8080/"
        },
        "outputId": "f289e3b9-233c-46cd-a217-f573f7ebc093"
      },
      "outputs": [
        {
          "output_type": "stream",
          "name": "stdout",
          "text": [
            "=3\n"
          ]
        }
      ],
      "source": [
        "src_vocab = 8000\n",
        "src_tokenizer = Tokenizer(num_words=src_vocab) # 단어 집합의 크기를 8,000으로 제한\n",
        "src_tokenizer.fit_on_texts(encoder_input_train) # 단어 집합 재생성\n",
        "print('=3')"
      ]
    },
    {
      "cell_type": "code",
      "execution_count": 85,
      "metadata": {
        "id": "JfZPhi1XbxHA",
        "colab": {
          "base_uri": "https://localhost:8080/"
        },
        "outputId": "c62bed14-eb29-4912-b51c-650c6f8a7d7e"
      },
      "outputs": [
        {
          "output_type": "stream",
          "name": "stdout",
          "text": [
            "[[353, 2137, 164, 1309, 1410, 7, 476, 2050, 644, 152, 2975, 11, 976, 1398, 976, 5399, 2778, 1012, 231, 1093, 2779, 803, 1674, 644, 1223, 708, 7797], [29, 7, 86, 73, 2976, 7798, 816, 6228, 154, 10, 282, 179, 550, 337, 236, 629, 60, 3934, 673, 82, 1411, 9, 4, 86, 368, 3449, 1320, 713, 43], [7404, 759, 638, 617, 4620, 1278, 2879, 2977, 3194, 1610, 2504, 22, 1995, 24, 2, 1507, 1995, 1610, 2504, 133, 3194, 71, 2977, 72, 211, 37, 2, 8, 1910, 638, 617]]\n"
          ]
        }
      ],
      "source": [
        "# 텍스트 시퀀스를 정수 시퀀스로 변환\n",
        "encoder_input_train = src_tokenizer.texts_to_sequences(encoder_input_train) \n",
        "encoder_input_test = src_tokenizer.texts_to_sequences(encoder_input_test)\n",
        "\n",
        "# 잘 진행되었는지 샘플 출력\n",
        "print(encoder_input_train[:3])"
      ]
    },
    {
      "cell_type": "code",
      "execution_count": 86,
      "metadata": {
        "id": "IS-CIH6tbxJM",
        "colab": {
          "base_uri": "https://localhost:8080/"
        },
        "outputId": "d6380322-a68b-4fbd-8057-5a66549c0e73"
      },
      "outputs": [
        {
          "output_type": "stream",
          "name": "stdout",
          "text": [
            "=3\n"
          ]
        }
      ],
      "source": [
        "tar_tokenizer = Tokenizer()\n",
        "tar_tokenizer.fit_on_texts(decoder_input_train)\n",
        "print('=3')"
      ]
    },
    {
      "cell_type": "code",
      "execution_count": 87,
      "metadata": {
        "id": "YqNa92EobxLL",
        "colab": {
          "base_uri": "https://localhost:8080/"
        },
        "outputId": "b158e3b2-9d76-4423-def8-8942a65577c9"
      },
      "outputs": [
        {
          "output_type": "stream",
          "name": "stdout",
          "text": [
            "단어 집합(vocabulary)의 크기 : 18817\n",
            "등장 빈도가 5번 이하인 희귀 단어의 수: 14217\n",
            "단어 집합에서 희귀 단어를 제외시킬 경우의 단어 집합의 크기 4600\n",
            "단어 집합에서 희귀 단어의 비율: 75.55402030079183\n",
            "전체 등장 빈도에서 희귀 단어 등장 빈도 비율: 14.214668533629471\n"
          ]
        }
      ],
      "source": [
        "threshold = 6\n",
        "total_cnt = len(tar_tokenizer.word_index) # 단어의 수\n",
        "rare_cnt = 0 # 등장 빈도수가 threshold보다 작은 단어의 개수를 카운트\n",
        "total_freq = 0 # 훈련 데이터의 전체 단어 빈도수 총 합\n",
        "rare_freq = 0 # 등장 빈도수가 threshold보다 작은 단어의 등장 빈도수의 총 합\n",
        "\n",
        "# 단어와 빈도수의 쌍(pair)을 key와 value로 받는다.\n",
        "for key, value in tar_tokenizer.word_counts.items():\n",
        "    total_freq = total_freq + value\n",
        "\n",
        "    # 단어의 등장 빈도수가 threshold보다 작으면\n",
        "    if(value < threshold):\n",
        "        rare_cnt = rare_cnt + 1\n",
        "        rare_freq = rare_freq + value\n",
        "\n",
        "print('단어 집합(vocabulary)의 크기 :', total_cnt)\n",
        "print('등장 빈도가 %s번 이하인 희귀 단어의 수: %s'%(threshold - 1, rare_cnt))\n",
        "print('단어 집합에서 희귀 단어를 제외시킬 경우의 단어 집합의 크기 %s'%(total_cnt - rare_cnt))\n",
        "print(\"단어 집합에서 희귀 단어의 비율:\", (rare_cnt / total_cnt)*100)\n",
        "print(\"전체 등장 빈도에서 희귀 단어 등장 빈도 비율:\", (rare_freq / total_freq)*100)"
      ]
    },
    {
      "cell_type": "code",
      "execution_count": 88,
      "metadata": {
        "id": "FFiNsGGobxNd",
        "colab": {
          "base_uri": "https://localhost:8080/"
        },
        "outputId": "ca2564c8-037c-4e55-b5e7-39b8ca219125"
      },
      "outputs": [
        {
          "output_type": "stream",
          "name": "stdout",
          "text": [
            "input\n",
            "input  [[1, 630, 890, 78, 891], [1, 79, 13, 402, 3, 650, 36], [1, 630, 207, 498, 4, 1396, 1326], [1, 162, 538, 117, 758, 759, 6, 1928, 155], [1, 1213, 7, 5, 17, 29, 192]]\n",
            "target\n",
            "decoder  [[630, 890, 78, 891, 2], [79, 13, 402, 3, 650, 36, 2], [630, 207, 498, 4, 1396, 1326, 2], [162, 538, 117, 758, 759, 6, 1928, 155, 2], [1213, 7, 5, 17, 29, 192, 2]]\n"
          ]
        }
      ],
      "source": [
        "tar_vocab = 2000\n",
        "tar_tokenizer = Tokenizer(num_words=tar_vocab) \n",
        "tar_tokenizer.fit_on_texts(decoder_input_train)\n",
        "tar_tokenizer.fit_on_texts(decoder_target_train)\n",
        "\n",
        "# 텍스트 시퀀스를 정수 시퀀스로 변환\n",
        "decoder_input_train = tar_tokenizer.texts_to_sequences(decoder_input_train) \n",
        "decoder_target_train = tar_tokenizer.texts_to_sequences(decoder_target_train)\n",
        "decoder_input_test = tar_tokenizer.texts_to_sequences(decoder_input_test)\n",
        "decoder_target_test = tar_tokenizer.texts_to_sequences(decoder_target_test)\n",
        "\n",
        "# 잘 변환되었는지 확인\n",
        "print('input')\n",
        "print('input ',decoder_input_train[:5])\n",
        "print('target')\n",
        "print('decoder ',decoder_target_train[:5])"
      ]
    },
    {
      "cell_type": "code",
      "execution_count": 89,
      "metadata": {
        "id": "oTDL1kDdbxPq",
        "colab": {
          "base_uri": "https://localhost:8080/"
        },
        "outputId": "9dd6c06d-359a-4c4d-eda8-935a1f58e350"
      },
      "outputs": [
        {
          "output_type": "stream",
          "name": "stdout",
          "text": [
            "삭제할 훈련 데이터의 개수 : 11\n",
            "삭제할 테스트 데이터의 개수 : 0\n",
            "훈련 데이터의 개수 : 21673\n",
            "훈련 레이블의 개수 : 21673\n",
            "테스트 데이터의 개수 : 5421\n",
            "테스트 레이블의 개수 : 5421\n"
          ]
        }
      ],
      "source": [
        "drop_train = [index for index, sentence in enumerate(decoder_input_train) if len(sentence) == 1]\n",
        "drop_test = [index for index, sentence in enumerate(decoder_input_test) if len(sentence) == 1]\n",
        "\n",
        "print('삭제할 훈련 데이터의 개수 :', len(drop_train))\n",
        "print('삭제할 테스트 데이터의 개수 :', len(drop_test))\n",
        "\n",
        "encoder_input_train = [sentence for index, sentence in enumerate(encoder_input_train) if index not in drop_train]\n",
        "decoder_input_train = [sentence for index, sentence in enumerate(decoder_input_train) if index not in drop_train]\n",
        "decoder_target_train = [sentence for index, sentence in enumerate(decoder_target_train) if index not in drop_train]\n",
        "\n",
        "encoder_input_test = [sentence for index, sentence in enumerate(encoder_input_test) if index not in drop_test]\n",
        "decoder_input_test = [sentence for index, sentence in enumerate(decoder_input_test) if index not in drop_test]\n",
        "decoder_target_test = [sentence for index, sentence in enumerate(decoder_target_test) if index not in drop_test]\n",
        "\n",
        "print('훈련 데이터의 개수 :', len(encoder_input_train))\n",
        "print('훈련 레이블의 개수 :', len(decoder_input_train))\n",
        "print('테스트 데이터의 개수 :', len(encoder_input_test))\n",
        "print('테스트 레이블의 개수 :', len(decoder_input_test))"
      ]
    },
    {
      "cell_type": "code",
      "execution_count": 90,
      "metadata": {
        "id": "h5EsJrIIYAdp",
        "colab": {
          "base_uri": "https://localhost:8080/"
        },
        "outputId": "a8398339-2658-4674-e588-7d6c86678273"
      },
      "outputs": [
        {
          "output_type": "stream",
          "name": "stdout",
          "text": [
            "=3\n"
          ]
        }
      ],
      "source": [
        "encoder_input_train = pad_sequences(encoder_input_train, maxlen=text_max_len, padding='post')\n",
        "encoder_input_test = pad_sequences(encoder_input_test, maxlen=text_max_len, padding='post')\n",
        "decoder_input_train = pad_sequences(decoder_input_train, maxlen=summary_max_len, padding='post')\n",
        "decoder_target_train = pad_sequences(decoder_target_train, maxlen=summary_max_len, padding='post')\n",
        "decoder_input_test = pad_sequences(decoder_input_test, maxlen=summary_max_len, padding='post')\n",
        "decoder_target_test = pad_sequences(decoder_target_test, maxlen=summary_max_len, padding='post')\n",
        "print('=3')"
      ]
    },
    {
      "cell_type": "code",
      "execution_count": 91,
      "metadata": {
        "id": "WQi-LE6PYAf_"
      },
      "outputs": [],
      "source": [
        "from keras.layers import GaussianNoise\n",
        "from tensorflow.keras.layers import Input, LSTM, Embedding, Dense, Concatenate, TimeDistributed, LeakyReLU\n",
        "from tensorflow.keras.models import Model\n",
        "from tensorflow.keras.callbacks import EarlyStopping, ModelCheckpoint\n",
        "from keras.layers import Activation, Dense\n",
        "from tensorflow.keras import layers\n",
        "from tensorflow.keras import activations\n",
        "from tensorflow.keras.layers import AdditiveAttention\n",
        "# 인코더 설계 시작\n",
        "embedding_dim = 128\n",
        "hidden_size = 256\n"
      ]
    },
    {
      "cell_type": "code",
      "execution_count": 95,
      "metadata": {
        "id": "iqzoqEhXfkvD",
        "colab": {
          "base_uri": "https://localhost:8080/"
        },
        "outputId": "387421b5-5ee2-48e3-ef29-ff201d8fe410"
      },
      "outputs": [
        {
          "output_type": "stream",
          "name": "stdout",
          "text": [
            "Epoch 1/50\n",
            "85/85 [==============================] - 51s 261ms/step - loss: 4.9378 - val_loss: 4.5334\n",
            "Epoch 2/50\n",
            "85/85 [==============================] - 6s 70ms/step - loss: 4.5533 - val_loss: 4.3285\n",
            "Epoch 3/50\n",
            "85/85 [==============================] - 6s 70ms/step - loss: 4.3655 - val_loss: 4.1906\n",
            "Epoch 4/50\n",
            "85/85 [==============================] - 6s 70ms/step - loss: 4.2015 - val_loss: 4.0589\n",
            "Epoch 5/50\n",
            "85/85 [==============================] - 6s 70ms/step - loss: 4.0437 - val_loss: 3.9233\n",
            "Epoch 6/50\n",
            "85/85 [==============================] - 6s 70ms/step - loss: 3.8953 - val_loss: 3.8397\n",
            "Epoch 7/50\n",
            "85/85 [==============================] - 6s 70ms/step - loss: 3.7696 - val_loss: 3.7518\n",
            "Epoch 8/50\n",
            "85/85 [==============================] - 6s 70ms/step - loss: 3.6565 - val_loss: 3.6880\n",
            "Epoch 9/50\n",
            "85/85 [==============================] - 6s 70ms/step - loss: 3.5499 - val_loss: 3.6059\n",
            "Epoch 10/50\n",
            "85/85 [==============================] - 6s 70ms/step - loss: 3.4547 - val_loss: 3.5501\n",
            "Epoch 11/50\n",
            "85/85 [==============================] - 6s 70ms/step - loss: 3.3678 - val_loss: 3.5119\n",
            "Epoch 12/50\n",
            "85/85 [==============================] - 6s 70ms/step - loss: 3.2888 - val_loss: 3.4757\n",
            "Epoch 13/50\n",
            "85/85 [==============================] - 6s 72ms/step - loss: 3.2111 - val_loss: 3.4446\n",
            "Epoch 14/50\n",
            "85/85 [==============================] - 6s 69ms/step - loss: 3.1428 - val_loss: 3.4347\n",
            "Epoch 15/50\n",
            "85/85 [==============================] - 6s 70ms/step - loss: 3.0761 - val_loss: 3.4100\n",
            "Epoch 16/50\n",
            "85/85 [==============================] - 7s 81ms/step - loss: 3.0127 - val_loss: 3.3900\n",
            "Epoch 17/50\n",
            "85/85 [==============================] - 6s 69ms/step - loss: 2.9512 - val_loss: 3.3524\n",
            "Epoch 18/50\n",
            "85/85 [==============================] - 6s 70ms/step - loss: 2.8938 - val_loss: 3.3692\n",
            "Epoch 19/50\n",
            "85/85 [==============================] - 6s 69ms/step - loss: 2.8404 - val_loss: 3.3547\n",
            "Epoch 00019: early stopping\n",
            "Model: \"model_15\"\n",
            "__________________________________________________________________________________________________\n",
            " Layer (type)                   Output Shape         Param #     Connected to                     \n",
            "==================================================================================================\n",
            " input_34 (InputLayer)          [(None, 50)]         0           []                               \n",
            "                                                                                                  \n",
            " embedding_26 (Embedding)       (None, 50, 128)      1024000     ['input_34[0][0]']               \n",
            "                                                                                                  \n",
            " lstm_57 (LSTM)                 [(None, 50, 256),    394240      ['embedding_26[0][0]']           \n",
            "                                 (None, 256),                                                     \n",
            "                                 (None, 256)]                                                     \n",
            "                                                                                                  \n",
            " input_35 (InputLayer)          [(None, None)]       0           []                               \n",
            "                                                                                                  \n",
            " lstm_58 (LSTM)                 [(None, 50, 256),    525312      ['lstm_57[0][0]']                \n",
            "                                 (None, 256),                                                     \n",
            "                                 (None, 256)]                                                     \n",
            "                                                                                                  \n",
            " embedding_27 (Embedding)       (None, None, 128)    256000      ['input_35[0][0]']               \n",
            "                                                                                                  \n",
            " lstm_59 (LSTM)                 [(None, 50, 256),    525312      ['lstm_58[0][0]']                \n",
            "                                 (None, 256),                                                     \n",
            "                                 (None, 256)]                                                     \n",
            "                                                                                                  \n",
            " lstm_60 (LSTM)                 [(None, None, 256),  394240      ['embedding_27[0][0]',           \n",
            "                                 (None, 256),                     'lstm_59[0][1]',                \n",
            "                                 (None, 256)]                     'lstm_59[0][2]']                \n",
            "                                                                                                  \n",
            " attention_layer (AdditiveAtten  (None, None, 256)   256         ['lstm_60[0][0]',                \n",
            " tion)                                                            'lstm_59[0][0]']                \n",
            "                                                                                                  \n",
            " concat_layer (Concatenate)     (None, None, 512)    0           ['lstm_60[0][0]',                \n",
            "                                                                  'attention_layer[0][0]']        \n",
            "                                                                                                  \n",
            " gaussian_noise_12 (GaussianNoi  (None, None, 512)   0           ['concat_layer[0][0]']           \n",
            " se)                                                                                              \n",
            "                                                                                                  \n",
            " dense_11 (Dense)               (None, None, 2000)   1026000     ['gaussian_noise_12[0][0]']      \n",
            "                                                                                                  \n",
            "==================================================================================================\n",
            "Total params: 4,145,360\n",
            "Trainable params: 4,145,360\n",
            "Non-trainable params: 0\n",
            "__________________________________________________________________________________________________\n"
          ]
        }
      ],
      "source": [
        "with strategy.scope():# 인코더\n",
        "    encoder_inputs = Input(shape=(text_max_len,))\n",
        "    #encoder_inputs = GaussianNoise(stddev=0.08)(encoder_inputs)\n",
        "    # 인코더의 임베딩 층\n",
        "    enc_emb2 = Embedding(src_vocab, embedding_dim)(encoder_inputs)\n",
        "    #enc_emb2 = GaussianNoise(stddev=0.1)(enc_emb)\n",
        "    # 인코더의 LSTM 1\n",
        "    encoder_lstm1 = LSTM(hidden_size, activation= 'tanh' ,return_sequences=True, return_state=True ,dropout = 0.38, recurrent_dropout = 0.7)\n",
        "    encoder_output1, state_h1, state_c1 = encoder_lstm1(enc_emb2)\n",
        "    #state_c1 = GaussianNoise(stddev=0.01)(state_c1)\n",
        "    # 인코더의 LSTM 2\n",
        "    encoder_lstm2 = LSTM(hidden_size, activation= 'tanh', return_sequences=True, return_state=True, dropout=0.38, recurrent_dropout=0.747)\n",
        "    encoder_output2, state_h2, state_c2 = encoder_lstm2(encoder_output1)\n",
        "    #state_c2 = GaussianNoise(stddev=0.01)(state_c2)\n",
        "    encoder_lstm3 = LSTM(hidden_size, activation= 'tanh', return_sequences=True, return_state=True, dropout=0.38, recurrent_dropout=0.7)\n",
        "    encoder_outputs, state_h, state_c = encoder_lstm3(encoder_output2)#이부분 오타 주의\n",
        "    # 인코더의 LSTM 3\n",
        "    # encoder_lstm4 = LSTM(hidden_size, activation= 'tanh', return_state=True, return_sequences=True, dropout=0.38, recurrent_dropout=0.47)\n",
        "    # encoder_outputs, state_h, state_c= encoder_lstm4(encoder_output3) # 실행불가 4층은 안되는듯...\n",
        "\n",
        "    decoder_inputs = Input(shape=(None,))\n",
        "\n",
        "    # 디코더의 임베딩 층\n",
        "    dec_emb_layer = Embedding(tar_vocab, embedding_dim)\n",
        "\n",
        "    dec_emb = dec_emb_layer(decoder_inputs)\n",
        "    #dec_emb2 = GaussianNoise(stddev=0.09)(dec_emb)\n",
        "    # 디코더의 LSTM\n",
        "    #state_h2 = GaussianNoise(stddev=0.09)(state_h)#시도해본 코드 \n",
        "    decoder_lstm = LSTM(hidden_size, return_sequences=True, return_state=True, dropout=0.4, recurrent_dropout=0.2)\n",
        "    decoder_outputs, _, _ = decoder_lstm(dec_emb, initial_state=[state_h, state_c])\n",
        "    \n",
        "    # decoder_softmax_layer = Dense(tar_vocab, activation='softmax')\n",
        "    # decoder_softmax_outputs = decoder_softmax_layer(decoder_concat_input) #위에서 나온 디코더 아웃풋,즉 배치의 샘플수를 softmax layer에 입력으로 넣는다.\n",
        "    # 어텐션 층(어텐션 함수)\n",
        "    attn_layer = AdditiveAttention(name='attention_layer')\n",
        "\n",
        "    # 인코더와 디코더의 모든 time step의 hidden state를 어텐션 층에 전달하고 결과를 리턴\n",
        "    attn_out = attn_layer([decoder_outputs, encoder_outputs])\n",
        "\n",
        "\n",
        "    # 어텐션의 결과와 디코더의 hidden state들을 연결!! \n",
        "    decoder_concat_input = Concatenate(axis=-1, name='concat_layer')([decoder_outputs, attn_out])\n",
        "    decoder_concat_input2 = GaussianNoise(stddev=0.09)(decoder_concat_input)#시도해본 코드 //돌려보니 다른 단어가 나오는 원인이 된다.\n",
        "    # 디코더의 출력층\n",
        "\n",
        "    decoder_softmax_layer = Dense(tar_vocab, activation='softmax')\n",
        "\n",
        "    #decoder_softmax_outputs = Activation('tanh')(decoder_concat_input) #여기 도전해본 코드가 있습니다. tanh 레이어를 추가시켰습니다.\n",
        "    decoder_softmax_outputs = decoder_softmax_layer(decoder_concat_input2) # 중요 !!! decoder_concat_input 이거 중요 \n",
        "    \n",
        "    # 모델 정의\n",
        "    model = Model([encoder_inputs, decoder_inputs], decoder_softmax_outputs)\n",
        "    model.compile(optimizer='rmsprop', loss='sparse_categorical_crossentropy')# 꼭 rmsprop 을 써야 함 \n",
        "    es = EarlyStopping(monitor='val_loss', patience=2, verbose=1)\n",
        "    history = model.fit(x=[encoder_input_train, decoder_input_train], y=decoder_target_train, \\\n",
        "                validation_data=([encoder_input_test, decoder_input_test], decoder_target_test), \\\n",
        "                batch_size=256, callbacks=[es], epochs=50)\n",
        "model.summary()"
      ]
    },
    {
      "cell_type": "markdown",
      "source": [
        "recurrent dropout은 dropout을 레이어가 아닌 time step마다 해주는 방식이에요. 즉 time step의 입력을 랜덤으로 생략해 주는 거죠. recurrent dropout은 일반적인 dropout와 같이 regularization을 해주는 효과가 있고, 과적합을 방지할 수 있다고 해요.참고로 dropout과 recurrent dropout을 모두 사용한 것을 Variational Dropout이라고도 해요."
      ],
      "metadata": {
        "id": "j07a-zmRNkJw"
      }
    },
    {
      "cell_type": "code",
      "execution_count": 96,
      "metadata": {
        "id": "ddJTsaOhYAsL",
        "colab": {
          "base_uri": "https://localhost:8080/",
          "height": 265
        },
        "outputId": "485bbd01-2392-4409-f42c-63516330674c"
      },
      "outputs": [
        {
          "output_type": "display_data",
          "data": {
            "image/png": "[encoded data removed]",
            "text/plain": [
              "<Figure size 432x288 with 1 Axes>"
            ]
          },
          "metadata": {
            "needs_background": "light"
          }
        }
      ],
      "source": [
        "plt.plot(history.history['loss'], label='train')\n",
        "plt.plot(history.history['val_loss'], label='test')\n",
        "plt.legend()\n",
        "plt.show()"
      ]
    },
    {
      "cell_type": "code",
      "execution_count": 97,
      "metadata": {
        "id": "LFb5cjg_YAug",
        "colab": {
          "base_uri": "https://localhost:8080/"
        },
        "outputId": "b3f26e30-968a-46a5-fc90-c7dea15fa98f"
      },
      "outputs": [
        {
          "output_type": "stream",
          "name": "stdout",
          "text": [
            "=3\n"
          ]
        }
      ],
      "source": [
        "src_index_to_word = src_tokenizer.index_word # 원문 단어 집합에서 정수 -> 단어를 얻음\n",
        "tar_word_to_index = tar_tokenizer.word_index # 요약 단어 집합에서 단어 -> 정수를 얻음\n",
        "tar_index_to_word = tar_tokenizer.index_word # 요약 단어 집합에서 정수 -> 단어를 얻음\n",
        "\n",
        "print('=3')"
      ]
    },
    {
      "cell_type": "markdown",
      "metadata": {
        "id": "YSDtJPrb81MR"
      },
      "source": [
        "seq2seq는 훈련할 때와 실제 동작할 때(인퍼런스 단계)의 방식이 다르므로 그에 맞게 모델 설계를 별개로 진행해야 한다"
      ]
    },
    {
      "cell_type": "code",
      "execution_count": 98,
      "metadata": {
        "id": "98gZiQAy1kFE",
        "colab": {
          "base_uri": "https://localhost:8080/"
        },
        "outputId": "e9e92ad1-d700-43a9-b578-71a84634763a"
      },
      "outputs": [
        {
          "output_type": "stream",
          "name": "stdout",
          "text": [
            "=3\n"
          ]
        }
      ],
      "source": [
        "# 인코더 설계\n",
        "encoder_model = Model(inputs=encoder_inputs, outputs=[encoder_outputs, state_h, state_c])\n",
        "\n",
        "# 이전 시점의 상태들을 저장하는 텐서\n",
        "decoder_state_input_h = Input(shape=(hidden_size,))\n",
        "decoder_state_input_c = Input(shape=(hidden_size,))\n",
        "\n",
        "dec_emb2 = dec_emb_layer(decoder_inputs)\n",
        "\n",
        "# 문장의 다음 단어를 예측하기 위해서 초기 상태(initial_state)를 이전 시점의 상태로 사용. 이는 뒤의 함수 decode_sequence()에 구현\n",
        "# 훈련 과정에서와 달리 LSTM의 리턴하는 은닉 상태와 셀 상태인 state_h와 state_c를 버리지 않음.\n",
        "decoder_outputs2, state_h2, state_c2 = decoder_lstm(dec_emb2, initial_state=[decoder_state_input_h, decoder_state_input_c])\n",
        "\n",
        "print('=3')"
      ]
    },
    {
      "cell_type": "code",
      "execution_count": 99,
      "metadata": {
        "id": "q4VdVklG1lRr",
        "colab": {
          "base_uri": "https://localhost:8080/"
        },
        "outputId": "ee8870ad-449b-406d-82bc-dca3431bd8a2"
      },
      "outputs": [
        {
          "output_type": "stream",
          "name": "stdout",
          "text": [
            "=3\n"
          ]
        }
      ],
      "source": [
        "# 어텐션 함수\n",
        "decoder_hidden_state_input = Input(shape=(text_max_len, hidden_size))\n",
        "attn_out_inf = attn_layer([decoder_outputs2, decoder_hidden_state_input])\n",
        "decoder_inf_concat = Concatenate(axis=-1, name='concat')([decoder_outputs2, attn_out_inf])\n",
        "\n",
        "# 디코더의 출력층\n",
        "decoder_inf_concat2 = GaussianNoise(stddev=0.09)(decoder_inf_concat)#시도해본 코드 \n",
        "decoder_outputs2 = decoder_softmax_layer(decoder_inf_concat2) \n",
        "\n",
        "# 최종 디코더 모델\n",
        "decoder_model = Model(\n",
        "    [decoder_inputs] + [decoder_hidden_state_input,decoder_state_input_h, decoder_state_input_c],\n",
        "    [decoder_outputs2] + [state_h2, state_c2])\n",
        "\n",
        "print('=3')"
      ]
    },
    {
      "cell_type": "code",
      "execution_count": 100,
      "metadata": {
        "id": "h6D9IMXydxEj",
        "colab": {
          "base_uri": "https://localhost:8080/"
        },
        "outputId": "3bb64d57-5dd7-40f1-99d8-46a62812f03b"
      },
      "outputs": [
        {
          "output_type": "stream",
          "name": "stdout",
          "text": [
            "=3\n"
          ]
        }
      ],
      "source": [
        "def decode_sequence(input_seq):\n",
        "    # 입력으로부터 인코더의 상태를 얻음\n",
        "    e_out, e_h, e_c = encoder_model.predict(input_seq)\n",
        "\n",
        "     # <SOS>에 해당하는 토큰 생성\n",
        "    target_seq = np.zeros((1,1))\n",
        "    target_seq[0, 0] = tar_word_to_index['sostoken']\n",
        "\n",
        "    stop_condition = False\n",
        "    decoded_sentence = ''\n",
        "    while not stop_condition: # stop_condition이 True가 될 때까지 루프 반복\n",
        "\n",
        "        output_tokens, h, c = decoder_model.predict([target_seq] + [e_out, e_h, e_c])\n",
        "        sampled_token_index = np.argmax(output_tokens[0, -1, :])\n",
        "        sampled_token = tar_index_to_word[sampled_token_index]\n",
        "\n",
        "        if (sampled_token!='eostoken'):\n",
        "            decoded_sentence += ' '+sampled_token\n",
        "\n",
        "        #  <eos>에 도달하거나 최대 길이를 넘으면 중단.\n",
        "        if (sampled_token == 'eostoken'  or len(decoded_sentence.split()) >= (summary_max_len-1)):\n",
        "            stop_condition = True\n",
        "\n",
        "        # 길이가 1인 타겟 시퀀스를 업데이트\n",
        "        target_seq = np.zeros((1,1))\n",
        "        target_seq[0, 0] = sampled_token_index\n",
        "\n",
        "        # 상태를 업데이트 합니다.\n",
        "        e_h, e_c = h, c\n",
        "\n",
        "    return decoded_sentence\n",
        "print('=3')"
      ]
    },
    {
      "cell_type": "code",
      "execution_count": 101,
      "metadata": {
        "id": "QmaF6dQhdxGu",
        "colab": {
          "base_uri": "https://localhost:8080/"
        },
        "outputId": "17444dae-a26c-455e-b3d9-ed696c4c50b1"
      },
      "outputs": [
        {
          "output_type": "stream",
          "name": "stdout",
          "text": [
            "훈련 데이터의 개수 : 21673\n",
            "훈련 레이블의 개수 : 21673\n",
            "테스트 데이터의 개수 : 5421\n",
            "테스트 레이블의 개수 : 5421\n",
            "=3\n"
          ]
        }
      ],
      "source": [
        "\n",
        "print('훈련 데이터의 개수 :', len(encoder_input_train))\n",
        "print('훈련 레이블의 개수 :', len(decoder_input_train))\n",
        "print('테스트 데이터의 개수 :', len(encoder_input_test))\n",
        "print('테스트 레이블의 개수 :', len(decoder_input_test))\n",
        "\n",
        "# 원문의 정수 시퀀스를 텍스트 시퀀스로 변환\n",
        "def seq2text(input_seq):\n",
        "    temp=''\n",
        "    for i in input_seq:\n",
        "        if (i!=0):\n",
        "            temp = temp + src_index_to_word[i]+' '\n",
        "    return temp\n",
        "\n",
        "# 요약문의 정수 시퀀스를 텍스트 시퀀스로 변환\n",
        "def seq2summary(input_seq):\n",
        "    temp=''\n",
        "    for i in input_seq:\n",
        "        if ((i!=0 and i!=tar_word_to_index['sostoken']) and i!=tar_word_to_index['eostoken']):\n",
        "            temp = temp + tar_index_to_word[i] + ' '\n",
        "    return temp\n",
        "\n",
        "print('=3')\n",
        "\n",
        "\n",
        "#encoder_input_test =encoder_input_test[:2000]\n",
        "# #encoder_input_test2 =encoder_input_test2[:2000]\n",
        "# print(type(encoder_input_test2))\n",
        "# eit = np.array(encoder_input_test2)\n",
        "# eit2 = eit.reshape(-1,2000)\n",
        "# print(type(eit2))\n",
        "# print(eit2)\n",
        "# print(eit)\n",
        "# print(encoder_input_test2)\n",
        "# print(encoder_input_test1)"
      ]
    },
    {
      "cell_type": "code",
      "execution_count": 102,
      "metadata": {
        "id": "h6nHP5ETdxJE",
        "colab": {
          "base_uri": "https://localhost:8080/"
        },
        "outputId": "81c4ca9d-60fd-4691-82da-5fc1c32775fa"
      },
      "outputs": [
        {
          "output_type": "stream",
          "name": "stdout",
          "text": [
            "원문 : saudi arabia handed list demands qatar diplomatic trade ties qatar called attack country sovereignty foreign policy list demands qatar said beginning illegal nothing terrorism qatar added \n",
            "실제 요약 : qatar calls saudi arabia attack on \n",
            "예측 요약 :  iran to buy foreign deal\n",
            "\n",
            "\n",
            "원문 : according theory say cheese taking photos saying word causes person smile victorian era people photographs saying children working class people usually however launched camera made accessible paired smile ad campaigns \n",
            "실제 요약 : why do we before taking photos \n",
            "예측 요약 :  world billionaire dies aged\n",
            "\n",
            "\n",
            "원문 : france make school education compulsory age three instead six president emmanuel macron announced tuesday move part government reform make education accessible everyone financial status per government records nearly french children school age three \n",
            "실제 요약 : france to make school education from \n",
            "예측 요약 :  supreme court bans in\n",
            "\n",
            "\n",
            "원문 : claiming bribery way get work done vice chancellor kannada university said unless take full cash none problems solved government government reportedly issue show cause notice asking given money \n",
            "실제 요약 : university accuses taka govt of corruption \n",
            "예측 요약 :  former woman resigns after\n",
            "\n",
            "\n",
            "원문 : senior bcci official shukla said board considering launching mini edition ipl dubai seen huge ipl overseas earlier used stage champions league abroad still vacant thinking mini edition said shukla \n",
            "실제 요약 : bcci considering of ipl in dubai \n",
            "예측 요약 :  vodafone vodafone to introduce vodafone vodafone chairman\n",
            "\n",
            "\n",
            "원문 : competition commission india wednesday said approved us retail giant walmart proposed acquisition flipkart announced may year walmart announced acquiring stake bengaluru based flipkart billion deal deal values year old commerce firm nearly billion \n",
            "실제 요약 : walmart acquisition of flipkart gets \n",
            "예측 요약 :  flipkart to buy flipkart for crore\n",
            "\n",
            "\n",
            "원문 : bcci reportedly denied recommended name india coach rahul dravid award comes chief vinod rai said dravid board nominee award year bcci nominated sunil gavaskar name chand lifetime achievement award despite \n",
            "실제 요약 : bcci denies dravid for award reports \n",
            "예측 요약 :  kumble is bcci kumble\n",
            "\n",
            "\n",
            "원문 : competition commission india rejected airtel complaint alleging anti competitive practices reliance industries reliance jio saying case could made mukesh ambani led firms said jio conduct found provisions act unfair pricing airtel moved jio february \n",
            "실제 요약 : airtel complaint against jio over rejected \n",
            "예측 요약 :  rcom to buy insolvency reports\n",
            "\n",
            "\n",
            "원문 : known producing films like partner attacks summoned thane police connection ipl betting case comes actor producer khan confessed betting ipl days arrest dawood ibrahim linked sonu admitted \n",
            "실제 요약 : after partner producer for ipl \n",
            "예측 요약 :  cbfc to get\n",
            "\n",
            "\n",
            "원문 : board control cricket india allowed former indian captain mohammad azharuddin contest elections position hyderabad cricket association president board also stated year old longer banned holding position icc bcci affiliated bodies \n",
            "실제 요약 : bcci allows to contest elections \n",
            "예측 요약 :  appointed as bcci\n",
            "\n",
            "\n",
            "원문 : isis claimed responsibility knife attack took place french city sunday terrorist group allegedly said message attack staged retaliation countries us led coalition fighting syria iraq incident claimed lives two women \n",
            "실제 요약 : isis claims responsibility for attack in france \n",
            "예측 요약 :  isis attack in syria\n",
            "\n",
            "\n",
            "원문 : afghan wicketkeeper batsman mohammad charged anti doping rule violation icc anti doping code year old tested positive competition test banned substance suspended playing cricket featured matches odis making international debut \n",
            "실제 요약 : afghanistan tests for banned \n",
            "예측 요약 :  pakistan pm pm pm\n",
            "\n",
            "\n",
            "원문 : researchers swiss federal institute technology switzerland developed looking soft robotic powered vacuum basic module comprises three air gas expand collapse change direction units together like share power source control system \n",
            "실제 요약 : robots which together like made \n",
            "예측 요약 :  scientists make that can\n",
            "\n",
            "\n",
            "원문 : renowned tv journalist arnab goswami interview said really wanted lawyer said new media venture republic tv channel movement goswami noted nothing wrong taking sides comes issues like corruption terrorism communal problems \n",
            "실제 요약 : wanted to be lawyer says \n",
            "예측 요약 :  ram rahim to take in\n",
            "\n",
            "\n",
            "원문 : patidar leader hardik patel friday shared version movie song se allegedly taking dig bjp friday referring recent sex controversy hardik wrote na se ki \n",
            "실제 요약 : hardik patel slams bjp using film song \n",
            "예측 요약 :  yuvraj singh calls yuvraj singh\n",
            "\n",
            "\n",
            "원문 : model took instagram share picture husband john legend traditional outfits couple along month old daughter vacation island bali indonesia shared another picture vacation seen outfit daughter \n",
            "실제 요약 : john in \n",
            "예측 요약 :  shares pic of girlfriend\n",
            "\n",
            "\n",
            "원문 : odisha tourism department invest crore construct food park along develop official said food court cum public centre expected help strengthen tribal economy offering employment opportunities visitors meanwhile watch tower developed \n",
            "실제 요약 : odisha to food park develop \n",
            "예측 요약 :  crore in kerala to crore\n",
            "\n",
            "\n",
            "원문 : us bombers japanese jets tuesday conducted air drills close korean peninsula amid increasing us north korean tensions north korea said examining plans attack us territory guam us president donald trump warned north korea met fire like world never seen \n",
            "실제 요약 : us conduct air near north korea \n",
            "예측 요약 :  korea to korea korea\n",
            "\n",
            "\n",
            "원문 : health ministry clarified mandatory beneficiaries submit aadhaar details seeking lakh health insurance bharat scheme dubbed use aadhaar authentication purposes added comes media reports claimed applicants submit aadhaar details undergo aadhaar authentication \n",
            "실제 요약 : aadhaar not mandatory for lakh insurance under \n",
            "예측 요약 :  aadhaar mandatory for aadhaar\n",
            "\n",
            "\n",
            "원문 : punjab minister singh sidhu revealed weighed kg used play cricket weighs kg joining politics adding exercise keeps sitting long hours said plans lose kg months comes punjab cm captain amarinder singh launched punjab mission \n",
            "실제 요약 : kg as cricketer kg as politician \n",
            "예측 요약 :  govt to launch up cm\n",
            "\n",
            "\n",
            "원문 : uttar pradesh cabinet decided use paper bring government offices office system august office software developed national centre help faster clearance files ensure paper less office decision taken cabinet meeting chaired cm yogi adityanath \n",
            "실제 요약 : uttar pradesh to make government \n",
            "예측 요약 :  karnataka govt approves for\n",
            "\n",
            "\n",
            "원문 : tamil nadu forest department conducted cleaning drive gulf much kg waste including plastic water bottles sea notably past several years department warning people area \n",
            "실제 요약 : tamil nadu forest department of \n",
            "예측 요약 :  kerala village to get\n",
            "\n",
            "\n",
            "원문 : trial court ordered probe online jobs portal com allegedly selling user data third party com defence said entered contract selling data com added terms conditions websites ask users consent use transfer personal information \n",
            "실제 요약 : accused of selling user data \n",
            "예측 요약 :  cbi fined against over\n",
            "\n",
            "\n",
            "원문 : attacker van group outside london park mosque saved imam attacked angry mob imam mohammed mahmoud reportedly angry mob trying attacker said wanted kill muslims arrested attempted murder \n",
            "실제 요약 : london mosque from \n",
            "예측 요약 :  uber driver quits after\n",
            "\n",
            "\n",
            "원문 : least soldiers killed others injured monday islamic state attack military academy kabul afghanistan five militants armed rocket propelled grenades automatic rifles attacked army near academy defence ministry said comes two days taliban attack kabul killed people \n",
            "실제 요약 : killed injured in isis attack in \n",
            "예측 요약 :  killed in syria attack in afghanistan\n",
            "\n",
            "\n",
            "원문 : least people killed around others injured blaze oil well indonesia province wednesday fire broke well residents gathered collect oil police officials said fire might started someone smoking cigarette \n",
            "실제 요약 : indonesia oil fire kills injures \n",
            "예측 요약 :  killed injured in explosion in\n",
            "\n",
            "\n",
            "원문 : shiv sena said bharatiya janata party respect allies bjp editorial added party andhra pradesh cm chandrababu naidu way shiv sena maharashtra comes chandrababu naidu party announced may quit bjp led nda \n",
            "실제 요약 : is bjp shiv sena \n",
            "예측 요약 :  bjp leader joins bjp\n",
            "\n",
            "\n",
            "원문 : bhattacharya former chairperson india largest lender sbi joined homegrown private equity firm adviser founded manages assets around billion across seven funds besides bhattacharya former technologies ceo also adviser private equity firm \n",
            "실제 요약 : ex sbi chief joins as \n",
            "예측 요약 :  infosys to invest crore in\n",
            "\n",
            "\n",
            "원문 : astronomers using chile based observatory detected complex organic molecules around developing star discovery suggests life building blocks produced available incorporated planets form could help understand life originated earth researchers said \n",
            "실제 요약 : life found around star \n",
            "예측 요약 :  scientists discover of\n",
            "\n",
            "\n",
            "원문 : ransomware people clicking infected pop advertisement visiting infected website malicious file malware files user computer till hackers demands met friday wannacry ransomware attackers exploited microsoft windows leaked last month reportedly part us spy agency hacking tools \n",
            "실제 요약 : how do ransomware attacks take place \n",
            "예측 요약 :  us police arrests over\n",
            "\n",
            "\n",
            "원문 : barcelona forward lionel messi donated food drinks marriage charity based hometown argentina messi wife got married june also requested guests donate south american non profit organisation instead buying gifts guests attended messi wedding \n",
            "실제 요약 : messi donates wedding food to charity \n",
            "예측 요약 :  ronaldo shares pic of\n",
            "\n",
            "\n",
            "원문 : president john two men convicted raping primary school girls release came amid calls government officials arrest pregnant saying move would force girls activists accused leaders promoting culture human rights violations \n",
            "실제 요약 : calls for arrest of victims \n",
            "예측 요약 :  lankesh lankesh lankesh philippine prez\n",
            "\n",
            "\n",
            "원문 : india trade deficit billion november billion previous month government data showed friday however trade deficit annual basis compared billion year ago period goods imports increased billion gain year ago \n",
            "실제 요약 : india trade to billion in \n",
            "예측 요약 :  india billion in india\n",
            "\n",
            "\n",
            "원문 : least egyptian soldiers killed two roadside bomb blasts raid islamic state militants peninsula according reports military reportedly killed militants arrested seven others raid said targeted highly dangerous terrorists soldiers also destroyed explosive seized two vehicles containing hand grenades \n",
            "실제 요약 : kill soldiers \n",
            "예측 요약 :  philippine state killed in attack in syria\n",
            "\n",
            "\n",
            "원문 : bihar health minister pandey friday informed state assembly one doctor every people bihar national average doctor every people currently doctors working state minister added world health organisation standard one doctor every people \n",
            "실제 요약 : bihar has doctor per people state health minister \n",
            "예측 요약 :  karnataka govt to get\n",
            "\n",
            "\n",
            "원문 : china launched world first fully electric cargo ship travel kilometre tonne cargo two hour charge tonne vessel manufactured international company powered tonne battery metre long ship cruise top speed kmph \n",
            "실제 요약 : china launches world first electric ship \n",
            "예측 요약 :  china launches world largest aircraft\n",
            "\n",
            "\n",
            "원문 : us stocks monday cut world richest people billion bloomberg reported berkshire hathaway ceo world third richest person warren buffett lost billion worst hit facebook ceo mark zuckerberg saw second biggest decline billion followed world richest person jeff bezos lost billion \n",
            "실제 요약 : world richest people lose billion in one day \n",
            "예측 요약 :  buffett buffett billion in billion\n",
            "\n",
            "\n",
            "원문 : chairman us house intelligence committee stepped inquiry russian interference us presidential elections amid inquiry committee probing claims disclosed classified information called charges entirely false politically motivated said would continue responsibilities chairman \n",
            "실제 요약 : down from russian probe \n",
            "예측 요약 :  wikileaks trump assange\n",
            "\n",
            "\n",
            "원문 : yoga guru baba ramdev promoted patanjali reporting earnings last fiscal said patanjali cow saw turnover crore become market leader products world patanjali reported patanjali valued crore crore brand \n",
            "실제 요약 : patanjali cow of crore \n",
            "예측 요약 :  patanjali patanjali to patanjali in\n",
            "\n",
            "\n",
            "원문 : australian batsmen faced spin bowling without front pads preparation first test bangladesh dhaka starting sunday rounder glenn maxwell revealed former batsman justin promoted method australia batting coach five years ago practice widely used former indian captain rahul dravid well \n",
            "실제 요약 : australian without \n",
            "예측 요약 :  australian football team to\n",
            "\n",
            "\n",
            "원문 : us president donald trump saturday said country starting develop much better relationship pakistan comes pakistan secured release american canadian family nearly five years taken hostage terrorist outfit network trump termed family release positive moment us pakistan relationship \n",
            "실제 요약 : to develop better relationship with pakistan trump \n",
            "예측 요약 :  trump calls us president\n",
            "\n",
            "\n",
            "원문 : malaysian government private us exploration company resume search missing malaysia airlines flight company entered find fee malaysian government october flight disappeared people board flying kuala lumpur beijing \n",
            "실제 요약 : search for missing malaysia airlines plane \n",
            "예측 요약 :  jet airways suffers fire in\n",
            "\n",
            "\n",
            "원문 : elon musk led spacex sunday successfully launched falcon rocket four scheduled cancelled due weather technical issues us air force global system iii space vehicle carried aboard rocket foot tall rocket carrying nearly million satellite launched florida cape \n",
            "실제 요약 : spacex launches after delays over \n",
            "예측 요약 :  spacex successfully launches rocket rocket in rocket\n",
            "\n",
            "\n",
            "원문 : actor nawazuddin siddiqui said relationship actor irrfan khan added mere acting ka hai hai nawazuddin irrfan featured together film reportedly shared apartment trying get bollywood \n",
            "실제 요약 : have no relationship with irrfan nawazuddin \n",
            "예측 요약 :  aamir khan to play aamir\n",
            "\n",
            "\n",
            "원문 : talking cyber forensic capabilities conference gujarat home minister rajnath singh said new technologies like artificial intelligence blockchain technology cloud computing robotics posing new security challenges also revealed government plans establish reporting portal lab stop crimes women children \n",
            "실제 요약 : like ai security challenges home minister \n",
            "예측 요약 :  congress launches india in india\n",
            "\n",
            "\n",
            "원문 : haryana police thursday arrested two eight men booked allegedly raping pregnant july village district state accused truck drivers early alleged history villagers beaten three eight accused owner caught act \n",
            "실제 요약 : of men accused of raping pregnant arrested \n",
            "예측 요약 :  arrested for raping minor in haryana\n",
            "\n",
            "\n",
            "원문 : iit kharagpur bagged pre offers top companies first time institute spokesperson said companies like goldman sachs samsung systems wipro given pre offers also received offers pre final year students summer spokesperson added \n",
            "실제 요약 : iit gets over offers \n",
            "예측 요약 :  iit to launch its first news\n",
            "\n",
            "\n",
            "원문 : philippine president rodrigo duterte warned islamist militants wednesday add salt eat front comes bodies two vietnamese found southern island deceased among six crew members abducted isis linked abu group last year \n",
            "실제 요약 : will philippine president warns militants \n",
            "예측 요약 :  philippine prez duterte duterte to\n",
            "\n",
            "\n",
            "원문 : new york based company clouds unveiled plan skyscraper hanging asteroid orbiting earth called tower skyscraper suspended high strength cables attached asteroid building would travel hour cycle returning exactly position sky day \n",
            "실제 요약 : plan for from an asteroid unveiled \n",
            "예측 요약 :  nasa finds in\n",
            "\n",
            "\n",
            "원문 : addressing businessmen karnataka congress president rahul gandhi claimed decisions demonetisation taken rss power influence central government policies claiming demonetisation proposed rss finance minister arun jaitley gandhi said rss idea prime minister mind pm idea \n",
            "실제 요약 : demonetisation of rss govt rahul \n",
            "예측 요약 :  congress to take rahul gandhi\n",
            "\n",
            "\n"
          ]
        }
      ],
      "source": [
        "# print(encoder_input_test.dtype)\n",
        "\n",
        "encoder_input_test = [sentence for index, sentence in enumerate(encoder_input_test) if index not in drop_test]\n",
        "# print(type(encoder_input_test))\n",
        "# encoder_input_test1 = encoder_input_test.reshape(-1,)\n",
        "# encoder_input_test2 = np.array(encoder_input_test1, dtype=np.int32) \n",
        "# print(encoder_input_test2.shape)\n",
        "# encoder_input_test.reshape(None,)\n",
        "\n",
        "for i in range(50, 100):\n",
        "    print(\"원문 :\", seq2text(encoder_input_test[i]))\n",
        "    print(\"실제 요약 :\", seq2summary(decoder_input_test[i]))\n",
        "    print(\"예측 요약 :\", decode_sequence(encoder_input_test[i].reshape(1, text_max_len)))\n",
        "    print(\"\\n\")"
      ]
    },
    {
      "cell_type": "code",
      "execution_count": 103,
      "metadata": {
        "id": "-e3jYSuHdxLa",
        "colab": {
          "base_uri": "https://localhost:8080/"
        },
        "outputId": "0c21f781-c454-4cf6-a14c-ce273cbe5b42"
      },
      "outputs": [
        {
          "output_type": "stream",
          "name": "stdout",
          "text": [
            "Requirement already satisfied: requests in /usr/local/lib/python3.7/dist-packages (2.23.0)\n",
            "Requirement already satisfied: chardet<4,>=3.0.2 in /usr/local/lib/python3.7/dist-packages (from requests) (3.0.4)\n",
            "Requirement already satisfied: urllib3!=1.25.0,!=1.25.1,<1.26,>=1.21.1 in /usr/local/lib/python3.7/dist-packages (from requests) (1.24.3)\n",
            "Requirement already satisfied: certifi>=2017.4.17 in /usr/local/lib/python3.7/dist-packages (from requests) (2021.10.8)\n",
            "Requirement already satisfied: idna<3,>=2.5 in /usr/local/lib/python3.7/dist-packages (from requests) (2.10)\n",
            "Collecting summa\n",
            "  Downloading summa-1.2.0.tar.gz (54 kB)\n",
            "\u001b[K     |████████████████████████████████| 54 kB 1.9 MB/s \n",
            "\u001b[?25hRequirement already satisfied: scipy>=0.19 in /usr/local/lib/python3.7/dist-packages (from summa) (1.4.1)\n",
            "Requirement already satisfied: numpy>=1.13.3 in /usr/local/lib/python3.7/dist-packages (from scipy>=0.19->summa) (1.19.5)\n",
            "Building wheels for collected packages: summa\n",
            "  Building wheel for summa (setup.py) ... \u001b[?25l\u001b[?25hdone\n",
            "  Created wheel for summa: filename=summa-1.2.0-py3-none-any.whl size=54412 sha256=c7227e34c0d1152928d8490052bb4a37324688f3aaa0ccbec6159be92d421fc8\n",
            "  Stored in directory: /root/.cache/pip/wheels/29/64/ac/7b443477588d365ef37ada30d456bdf5f07dc5be9f6324cb6e\n",
            "Successfully built summa\n",
            "Installing collected packages: summa\n",
            "Successfully installed summa-1.2.0\n"
          ]
        }
      ],
      "source": [
        "!pip install requests\n",
        "!pip install summa\n",
        "import requests\n",
        "from summa.summarizer import summarize"
      ]
    },
    {
      "cell_type": "code",
      "execution_count": 104,
      "metadata": {
        "id": "z4zWKUwadxNb"
      },
      "outputs": [],
      "source": [
        "text = requests.get('http://rare-technologies.com/the_matrix_synopsis.txt').text"
      ]
    },
    {
      "cell_type": "code",
      "execution_count": 105,
      "metadata": {
        "id": "RjWyNbzwdxPh",
        "colab": {
          "base_uri": "https://localhost:8080/"
        },
        "outputId": "55df5745-38b9-4f94-b2fd-8f40ad0a81e5"
      },
      "outputs": [
        {
          "output_type": "stream",
          "name": "stdout",
          "text": [
            "The screen is filled with green, cascading code which gives way to the title, The Matrix.\r\n",
            "\r\n",
            "A phone rings and text appears on the screen: \"Call trans opt: received. 2-19-98 13:24:18 REC: Log>\" As a conversation takes place between Trinity (Carrie-Anne Moss) and Cypher (Joe Pantoliano), two free humans, a table of random green numbers are being scanned and individual numbers selected, creating a series of digits not unlike an ordinary phone number, as if a code is being deciphered or a call is being traced.\r\n",
            "\r\n",
            "Trinity discusses some unknown person. Cypher taunts Trinity, suggesting she enjoys watching him. Trinity counters that \"Morpheus (Laurence Fishburne) says he may be 'the One',\" just as the sound of a number being selected alerts Trinity that someone may be tracing their call. She ends the call.\r\n",
            "\r\n",
            "Armed policemen move down a darkened, decrepit hallway in the Heart O' the City Hotel, their flashlight beam bouncing just ahead of them. They come to room 303, kick down the door and find a woman dressed in black, facing away from them. It's Trinity. She brings her hands up from the laptop she's working on at their command.\r\n",
            "\r\n",
            "Outside the hotel a car drives up and three agents appear in neatly pressed black suits. They are Agent Smith (Hugo Weaving), Agent Brown (Paul Goddard), and Agent Jones (Robert Taylor). Agent Smith and the presiding police lieutenant argue. Agent Smith admonishes the policeman that they were given specific orders to contact the agents first, for their\n"
          ]
        }
      ],
      "source": [
        "print(text[:1500])"
      ]
    },
    {
      "cell_type": "code",
      "execution_count": 106,
      "metadata": {
        "id": "VQkJAu8XdxRw",
        "colab": {
          "base_uri": "https://localhost:8080/"
        },
        "outputId": "c68fd49c-1625-47ae-b4d3-542570d58843"
      },
      "outputs": [
        {
          "output_type": "stream",
          "name": "stdout",
          "text": [
            "Summary:\n",
            "Morpheus, Trinity, Neo, Apoc, Switch, Mouse and Cypher are jacked into the Matrix.\n",
            "Trinity brings the helicopter down to the floor that Morpheus is on and Neo opens fire on the three Agents.\n"
          ]
        }
      ],
      "source": [
        "print('Summary:')\n",
        "print(summarize(text, ratio=0.005))"
      ]
    },
    {
      "cell_type": "code",
      "execution_count": 107,
      "metadata": {
        "id": "gfXPEVkydxUH",
        "colab": {
          "base_uri": "https://localhost:8080/"
        },
        "outputId": "3378d107-1e75-46a4-af9c-68244ee35609"
      },
      "outputs": [
        {
          "output_type": "stream",
          "name": "stdout",
          "text": [
            "Summary:\n",
            "['Morpheus, Trinity, Neo, Apoc, Switch, Mouse and Cypher are jacked into the Matrix.', 'Trinity brings the helicopter down to the floor that Morpheus is on and Neo opens fire on the three Agents.']\n"
          ]
        }
      ],
      "source": [
        "print('Summary:')\n",
        "print(summarize(text, ratio=0.005, split=True))"
      ]
    },
    {
      "cell_type": "code",
      "execution_count": 108,
      "metadata": {
        "id": "JMAebtWhdxWV",
        "colab": {
          "base_uri": "https://localhost:8080/"
        },
        "outputId": "7d827b3d-0249-445a-fff2-a1ad4b3c5709"
      },
      "outputs": [
        {
          "output_type": "stream",
          "name": "stdout",
          "text": [
            "Summary:\n",
            "Trinity takes Neo to Morpheus.\n",
            "Morpheus, Trinity, Neo, Apoc, Switch, Mouse and Cypher are jacked into the Matrix.\n",
            "Trinity brings the helicopter down to the floor that Morpheus is on and Neo opens fire on the three Agents.\n"
          ]
        }
      ],
      "source": [
        "print('Summary:')\n",
        "print(summarize(text, words=50))"
      ]
    },
    {
      "cell_type": "code",
      "execution_count": null,
      "metadata": {
        "id": "aHICJrGOdxYz"
      },
      "outputs": [],
      "source": [
        ""
      ]
    },
    {
      "cell_type": "code",
      "execution_count": null,
      "metadata": {
        "id": "Y5L3UA1Zdxaz"
      },
      "outputs": [],
      "source": [
        ""
      ]
    },
    {
      "cell_type": "code",
      "execution_count": null,
      "metadata": {
        "id": "Z8aJv0wudxdH"
      },
      "outputs": [],
      "source": [
        ""
      ]
    }
  ],
  "metadata": {
    "accelerator": "TPU",
    "colab": {
      "collapsed_sections": [],
      "name": "EX08.ipynb",
      "provenance": [],
      "authorship_tag": "ABX9TyNDlLRqoHVBbZp4+jyahe1C",
      "include_colab_link": true
    },
    "kernelspec": {
      "display_name": "Python 3",
      "name": "python3"
    },
    "language_info": {
      "name": "python"
    }
  },
  "nbformat": 4,
  "nbformat_minor": 0
}