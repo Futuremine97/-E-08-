{
 "cells": [
  {
   "cell_type": "code",
   "execution_count": 2,
   "id": "0abb2f2c",
   "metadata": {},
   "outputs": [
    {
     "name": "stderr",
     "output_type": "stream",
     "text": [
      "[nltk_data] Downloading package stopwords to /aiffel/nltk_data...\n",
      "[nltk_data]   Package stopwords is already up-to-date!\n"
     ]
    },
    {
     "name": "stdout",
     "output_type": "stream",
     "text": [
      "=3\n"
     ]
    }
   ],
   "source": [
    "import nltk\n",
    "nltk.download('stopwords')\n",
    "\n",
    "import numpy as np\n",
    "import pandas as pd\n",
    "import os\n",
    "import re\n",
    "import matplotlib.pyplot as plt\n",
    "from nltk.corpus import stopwords\n",
    "from bs4 import BeautifulSoup \n",
    "from tensorflow.keras.preprocessing.text import Tokenizer \n",
    "from tensorflow.keras.preprocessing.sequence import pad_sequences\n",
    "import urllib.request\n",
    "import warnings\n",
    "warnings.filterwarnings(\"ignore\", category=UserWarning, module='bs4')\n",
    "\n",
    "print('=3')"
   ]
  },
  {
   "cell_type": "code",
   "execution_count": 3,
   "id": "2ec4bf7c",
   "metadata": {},
   "outputs": [],
   "source": [
    "import urllib.request\n",
    "urllib.request.urlretrieve(\"https://raw.githubusercontent.com/sunnysai12345/News_Summary/master/news_summary_more.csv\", filename=\"news_summary_more.csv\")\n",
    "data = pd.read_csv('news_summary_more.csv', encoding='iso-8859-1')"
   ]
  },
  {
   "cell_type": "code",
   "execution_count": 6,
   "id": "accec998",
   "metadata": {},
   "outputs": [
    {
     "data": {
      "text/html": [
       "<div>\n",
       "<style scoped>\n",
       "    .dataframe tbody tr th:only-of-type {\n",
       "        vertical-align: middle;\n",
       "    }\n",
       "\n",
       "    .dataframe tbody tr th {\n",
       "        vertical-align: top;\n",
       "    }\n",
       "\n",
       "    .dataframe thead th {\n",
       "        text-align: right;\n",
       "    }\n",
       "</style>\n",
       "<table border=\"1\" class=\"dataframe\">\n",
       "  <thead>\n",
       "    <tr style=\"text-align: right;\">\n",
       "      <th></th>\n",
       "      <th>headlines</th>\n",
       "      <th>text</th>\n",
       "    </tr>\n",
       "  </thead>\n",
       "  <tbody>\n",
       "    <tr>\n",
       "      <th>0</th>\n",
       "      <td>upGrad learner switches to career in ML &amp; Al w...</td>\n",
       "      <td>Saurav Kant, an alumnus of upGrad and IIIT-B's...</td>\n",
       "    </tr>\n",
       "    <tr>\n",
       "      <th>1</th>\n",
       "      <td>Delhi techie wins free food from Swiggy for on...</td>\n",
       "      <td>Kunal Shah's credit card bill payment platform...</td>\n",
       "    </tr>\n",
       "    <tr>\n",
       "      <th>2</th>\n",
       "      <td>New Zealand end Rohit Sharma-led India's 12-ma...</td>\n",
       "      <td>New Zealand defeated India by 8 wickets in the...</td>\n",
       "    </tr>\n",
       "    <tr>\n",
       "      <th>3</th>\n",
       "      <td>Aegon life iTerm insurance plan helps customer...</td>\n",
       "      <td>With Aegon Life iTerm Insurance plan, customer...</td>\n",
       "    </tr>\n",
       "    <tr>\n",
       "      <th>4</th>\n",
       "      <td>Have known Hirani for yrs, what if MeToo claim...</td>\n",
       "      <td>Speaking about the sexual harassment allegatio...</td>\n",
       "    </tr>\n",
       "  </tbody>\n",
       "</table>\n",
       "</div>"
      ],
      "text/plain": [
       "                                           headlines  \\\n",
       "0  upGrad learner switches to career in ML & Al w...   \n",
       "1  Delhi techie wins free food from Swiggy for on...   \n",
       "2  New Zealand end Rohit Sharma-led India's 12-ma...   \n",
       "3  Aegon life iTerm insurance plan helps customer...   \n",
       "4  Have known Hirani for yrs, what if MeToo claim...   \n",
       "\n",
       "                                                text  \n",
       "0  Saurav Kant, an alumnus of upGrad and IIIT-B's...  \n",
       "1  Kunal Shah's credit card bill payment platform...  \n",
       "2  New Zealand defeated India by 8 wickets in the...  \n",
       "3  With Aegon Life iTerm Insurance plan, customer...  \n",
       "4  Speaking about the sexual harassment allegatio...  "
      ]
     },
     "execution_count": 6,
     "metadata": {},
     "output_type": "execute_result"
    }
   ],
   "source": [
    "data.head()"
   ]
  },
  {
   "cell_type": "code",
   "execution_count": 8,
   "id": "2ed7aa09",
   "metadata": {},
   "outputs": [
    {
     "data": {
      "text/html": [
       "<div>\n",
       "<style scoped>\n",
       "    .dataframe tbody tr th:only-of-type {\n",
       "        vertical-align: middle;\n",
       "    }\n",
       "\n",
       "    .dataframe tbody tr th {\n",
       "        vertical-align: top;\n",
       "    }\n",
       "\n",
       "    .dataframe thead th {\n",
       "        text-align: right;\n",
       "    }\n",
       "</style>\n",
       "<table border=\"1\" class=\"dataframe\">\n",
       "  <thead>\n",
       "    <tr style=\"text-align: right;\">\n",
       "      <th></th>\n",
       "      <th>text</th>\n",
       "      <th>headlines</th>\n",
       "    </tr>\n",
       "  </thead>\n",
       "  <tbody>\n",
       "    <tr>\n",
       "      <th>13825</th>\n",
       "      <td>The new release date of Kangana Ranaut and Raj...</td>\n",
       "      <td>New release date of Kangana's 'Mental Hai Kya'...</td>\n",
       "    </tr>\n",
       "    <tr>\n",
       "      <th>55982</th>\n",
       "      <td>Uttar Pradesh Chief Minister Yogi Adityanath o...</td>\n",
       "      <td>Already said Cong leadership change would bene...</td>\n",
       "    </tr>\n",
       "    <tr>\n",
       "      <th>20378</th>\n",
       "      <td>A tackle during the semi-final match between I...</td>\n",
       "      <td>India Kabaddi captain out of Asiad semis with ...</td>\n",
       "    </tr>\n",
       "    <tr>\n",
       "      <th>46674</th>\n",
       "      <td>Former Indian all-rounder Roger Binny has said...</td>\n",
       "      <td>Hardik Pandya lucky to be called an all-rounde...</td>\n",
       "    </tr>\n",
       "    <tr>\n",
       "      <th>50742</th>\n",
       "      <td>Two bike-borne men allegedly stopped a school ...</td>\n",
       "      <td>Class 1 student kidnapped from school bus in D...</td>\n",
       "    </tr>\n",
       "    <tr>\n",
       "      <th>35835</th>\n",
       "      <td>Officials have seized unaccounted cash worth a...</td>\n",
       "      <td>Ã¢ÂÂ¹10 crore unaccounted cash recovered from...</td>\n",
       "    </tr>\n",
       "    <tr>\n",
       "      <th>26096</th>\n",
       "      <td>A woman labourer unearthed a pot filled with 5...</td>\n",
       "      <td>Labourer finds 900-yr-old gold coins buried in...</td>\n",
       "    </tr>\n",
       "    <tr>\n",
       "      <th>2123</th>\n",
       "      <td>A court in Delhi on Monday allowed Christian M...</td>\n",
       "      <td>Delhi court allows AgustaWestland middleman to...</td>\n",
       "    </tr>\n",
       "    <tr>\n",
       "      <th>97314</th>\n",
       "      <td>Footage of Jewish passengers praying together ...</td>\n",
       "      <td>Jewish fliers pray while flight makes emergenc...</td>\n",
       "    </tr>\n",
       "    <tr>\n",
       "      <th>89388</th>\n",
       "      <td>The government's biotech regulator on Thursday...</td>\n",
       "      <td>Genetically modified mustard cleared for comme...</td>\n",
       "    </tr>\n",
       "    <tr>\n",
       "      <th>59723</th>\n",
       "      <td>The national capital belongs to all citizens o...</td>\n",
       "      <td>Delhi belongs to the entire nation, Centre tel...</td>\n",
       "    </tr>\n",
       "    <tr>\n",
       "      <th>20819</th>\n",
       "      <td>A video showing Karnataka Public Works Departm...</td>\n",
       "      <td>Video: Karnataka minister throws biscuit packe...</td>\n",
       "    </tr>\n",
       "    <tr>\n",
       "      <th>30723</th>\n",
       "      <td>US President Donald Trump's lawyer Rudy Giulia...</td>\n",
       "      <td>Special Counsel told he cannot indict US Prez:...</td>\n",
       "    </tr>\n",
       "    <tr>\n",
       "      <th>96571</th>\n",
       "      <td>Iran has imposed sanctions on 15 US companies ...</td>\n",
       "      <td>Iran sanctions 15 US firms over human rights v...</td>\n",
       "    </tr>\n",
       "    <tr>\n",
       "      <th>84786</th>\n",
       "      <td>The teaser of the Shraddha Kapoor starrer Hase...</td>\n",
       "      <td>Teaser of film on Dawood's sister 'Haseena Par...</td>\n",
       "    </tr>\n",
       "  </tbody>\n",
       "</table>\n",
       "</div>"
      ],
      "text/plain": [
       "                                                    text  \\\n",
       "13825  The new release date of Kangana Ranaut and Raj...   \n",
       "55982  Uttar Pradesh Chief Minister Yogi Adityanath o...   \n",
       "20378  A tackle during the semi-final match between I...   \n",
       "46674  Former Indian all-rounder Roger Binny has said...   \n",
       "50742  Two bike-borne men allegedly stopped a school ...   \n",
       "35835  Officials have seized unaccounted cash worth a...   \n",
       "26096  A woman labourer unearthed a pot filled with 5...   \n",
       "2123   A court in Delhi on Monday allowed Christian M...   \n",
       "97314  Footage of Jewish passengers praying together ...   \n",
       "89388  The government's biotech regulator on Thursday...   \n",
       "59723  The national capital belongs to all citizens o...   \n",
       "20819  A video showing Karnataka Public Works Departm...   \n",
       "30723  US President Donald Trump's lawyer Rudy Giulia...   \n",
       "96571  Iran has imposed sanctions on 15 US companies ...   \n",
       "84786  The teaser of the Shraddha Kapoor starrer Hase...   \n",
       "\n",
       "                                               headlines  \n",
       "13825  New release date of Kangana's 'Mental Hai Kya'...  \n",
       "55982  Already said Cong leadership change would bene...  \n",
       "20378  India Kabaddi captain out of Asiad semis with ...  \n",
       "46674  Hardik Pandya lucky to be called an all-rounde...  \n",
       "50742  Class 1 student kidnapped from school bus in D...  \n",
       "35835  Ã¢ÂÂ¹10 crore unaccounted cash recovered from...  \n",
       "26096  Labourer finds 900-yr-old gold coins buried in...  \n",
       "2123   Delhi court allows AgustaWestland middleman to...  \n",
       "97314  Jewish fliers pray while flight makes emergenc...  \n",
       "89388  Genetically modified mustard cleared for comme...  \n",
       "59723  Delhi belongs to the entire nation, Centre tel...  \n",
       "20819  Video: Karnataka minister throws biscuit packe...  \n",
       "30723  Special Counsel told he cannot indict US Prez:...  \n",
       "96571  Iran sanctions 15 US firms over human rights v...  \n",
       "84786  Teaser of film on Dawood's sister 'Haseena Par...  "
      ]
     },
     "execution_count": 8,
     "metadata": {},
     "output_type": "execute_result"
    }
   ],
   "source": [
    "data = data[['text','headlines']]\n",
    "data.head()\n",
    "\n",
    "#랜덤한 15개 샘플 출력\n",
    "data.sample(15)"
   ]
  },
  {
   "cell_type": "code",
   "execution_count": 9,
   "id": "26535e6e",
   "metadata": {},
   "outputs": [
    {
     "name": "stdout",
     "output_type": "stream",
     "text": [
      "Text 열에서 중복을 배제한 유일한 샘플의 수 : 98360\n",
      "Summary 열에서 중복을 배제한 유일한 샘플의 수 : 98280\n"
     ]
    }
   ],
   "source": [
    "print('Text 열에서 중복을 배제한 유일한 샘플의 수 :', data['text'].nunique())\n",
    "print('Summary 열에서 중복을 배제한 유일한 샘플의 수 :', data['headlines'].nunique())"
   ]
  },
  {
   "cell_type": "code",
   "execution_count": 11,
   "id": "f646c75e",
   "metadata": {},
   "outputs": [
    {
     "name": "stdout",
     "output_type": "stream",
     "text": [
      "전체 샘플수 : 98360\n"
     ]
    },
    {
     "name": "stderr",
     "output_type": "stream",
     "text": [
      "/opt/conda/lib/python3.9/site-packages/pandas/util/_decorators.py:311: SettingWithCopyWarning: \n",
      "A value is trying to be set on a copy of a slice from a DataFrame\n",
      "\n",
      "See the caveats in the documentation: https://pandas.pydata.org/pandas-docs/stable/user_guide/indexing.html#returning-a-view-versus-a-copy\n",
      "  return func(*args, **kwargs)\n"
     ]
    }
   ],
   "source": [
    "# inplace=True 를 설정하면 DataFrame 타입 값을 return 하지 않고 data 내부를 직접적으로 바꿉니다\n",
    "data.drop_duplicates(subset = ['text'], inplace=True)\n",
    "print('전체 샘플수 :', (len(data)))"
   ]
  },
  {
   "cell_type": "code",
   "execution_count": 12,
   "id": "6eff0389",
   "metadata": {},
   "outputs": [
    {
     "name": "stdout",
     "output_type": "stream",
     "text": [
      "text         0\n",
      "headlines    0\n",
      "dtype: int64\n"
     ]
    }
   ],
   "source": [
    "print(data.isnull().sum())"
   ]
  },
  {
   "cell_type": "code",
   "execution_count": 13,
   "id": "057d2492",
   "metadata": {},
   "outputs": [
    {
     "name": "stdout",
     "output_type": "stream",
     "text": [
      "전체 샘플수 : 98360\n"
     ]
    }
   ],
   "source": [
    "data.dropna(axis=0, inplace=True)\n",
    "print('전체 샘플수 :', (len(data)))"
   ]
  },
  {
   "cell_type": "markdown",
   "id": "3bb378d5",
   "metadata": {},
   "source": [
    "# 행 단위로 null 값을 대치함"
   ]
  },
  {
   "cell_type": "code",
   "execution_count": 14,
   "id": "ebacf1b1",
   "metadata": {},
   "outputs": [
    {
     "name": "stdout",
     "output_type": "stream",
     "text": [
      "정규화 사전의 수:  120\n"
     ]
    }
   ],
   "source": [
    "contractions = {\"ain't\": \"is not\", \"aren't\": \"are not\",\"can't\": \"cannot\", \"'cause\": \"because\", \"could've\": \"could have\", \"couldn't\": \"could not\",\n",
    "                           \"didn't\": \"did not\",  \"doesn't\": \"does not\", \"don't\": \"do not\", \"hadn't\": \"had not\", \"hasn't\": \"has not\", \"haven't\": \"have not\",\n",
    "                           \"he'd\": \"he would\",\"he'll\": \"he will\", \"he's\": \"he is\", \"how'd\": \"how did\", \"how'd'y\": \"how do you\", \"how'll\": \"how will\", \"how's\": \"how is\",\n",
    "                           \"I'd\": \"I would\", \"I'd've\": \"I would have\", \"I'll\": \"I will\", \"I'll've\": \"I will have\",\"I'm\": \"I am\", \"I've\": \"I have\", \"i'd\": \"i would\",\n",
    "                           \"i'd've\": \"i would have\", \"i'll\": \"i will\",  \"i'll've\": \"i will have\",\"i'm\": \"i am\", \"i've\": \"i have\", \"isn't\": \"is not\", \"it'd\": \"it would\",\n",
    "                           \"it'd've\": \"it would have\", \"it'll\": \"it will\", \"it'll've\": \"it will have\",\"it's\": \"it is\", \"let's\": \"let us\", \"ma'am\": \"madam\",\n",
    "                           \"mayn't\": \"may not\", \"might've\": \"might have\",\"mightn't\": \"might not\",\"mightn't've\": \"might not have\", \"must've\": \"must have\",\n",
    "                           \"mustn't\": \"must not\", \"mustn't've\": \"must not have\", \"needn't\": \"need not\", \"needn't've\": \"need not have\",\"o'clock\": \"of the clock\",\n",
    "                           \"oughtn't\": \"ought not\", \"oughtn't've\": \"ought not have\", \"shan't\": \"shall not\", \"sha'n't\": \"shall not\", \"shan't've\": \"shall not have\",\n",
    "                           \"she'd\": \"she would\", \"she'd've\": \"she would have\", \"she'll\": \"she will\", \"she'll've\": \"she will have\", \"she's\": \"she is\",\n",
    "                           \"should've\": \"should have\", \"shouldn't\": \"should not\", \"shouldn't've\": \"should not have\", \"so've\": \"so have\",\"so's\": \"so as\",\n",
    "                           \"this's\": \"this is\",\"that'd\": \"that would\", \"that'd've\": \"that would have\", \"that's\": \"that is\", \"there'd\": \"there would\",\n",
    "                           \"there'd've\": \"there would have\", \"there's\": \"there is\", \"here's\": \"here is\",\"they'd\": \"they would\", \"they'd've\": \"they would have\",\n",
    "                           \"they'll\": \"they will\", \"they'll've\": \"they will have\", \"they're\": \"they are\", \"they've\": \"they have\", \"to've\": \"to have\",\n",
    "                           \"wasn't\": \"was not\", \"we'd\": \"we would\", \"we'd've\": \"we would have\", \"we'll\": \"we will\", \"we'll've\": \"we will have\", \"we're\": \"we are\",\n",
    "                           \"we've\": \"we have\", \"weren't\": \"were not\", \"what'll\": \"what will\", \"what'll've\": \"what will have\", \"what're\": \"what are\",\n",
    "                           \"what's\": \"what is\", \"what've\": \"what have\", \"when's\": \"when is\", \"when've\": \"when have\", \"where'd\": \"where did\", \"where's\": \"where is\",\n",
    "                           \"where've\": \"where have\", \"who'll\": \"who will\", \"who'll've\": \"who will have\", \"who's\": \"who is\", \"who've\": \"who have\",\n",
    "                           \"why's\": \"why is\", \"why've\": \"why have\", \"will've\": \"will have\", \"won't\": \"will not\", \"won't've\": \"will not have\",\n",
    "                           \"would've\": \"would have\", \"wouldn't\": \"would not\", \"wouldn't've\": \"would not have\", \"y'all\": \"you all\",\n",
    "                           \"y'all'd\": \"you all would\",\"y'all'd've\": \"you all would have\",\"y'all're\": \"you all are\",\"y'all've\": \"you all have\",\n",
    "                           \"you'd\": \"you would\", \"you'd've\": \"you would have\", \"you'll\": \"you will\", \"you'll've\": \"you will have\",\n",
    "                           \"you're\": \"you are\", \"you've\": \"you have\"}\n",
    "\n",
    "print(\"정규화 사전의 수: \", len(contractions))"
   ]
  },
  {
   "cell_type": "code",
   "execution_count": 15,
   "id": "aa7caaaa",
   "metadata": {},
   "outputs": [
    {
     "name": "stdout",
     "output_type": "stream",
     "text": [
      "불용어 개수 : 179\n",
      "['i', 'me', 'my', 'myself', 'we', 'our', 'ours', 'ourselves', 'you', \"you're\", \"you've\", \"you'll\", \"you'd\", 'your', 'yours', 'yourself', 'yourselves', 'he', 'him', 'his', 'himself', 'she', \"she's\", 'her', 'hers', 'herself', 'it', \"it's\", 'its', 'itself', 'they', 'them', 'their', 'theirs', 'themselves', 'what', 'which', 'who', 'whom', 'this', 'that', \"that'll\", 'these', 'those', 'am', 'is', 'are', 'was', 'were', 'be', 'been', 'being', 'have', 'has', 'had', 'having', 'do', 'does', 'did', 'doing', 'a', 'an', 'the', 'and', 'but', 'if', 'or', 'because', 'as', 'until', 'while', 'of', 'at', 'by', 'for', 'with', 'about', 'against', 'between', 'into', 'through', 'during', 'before', 'after', 'above', 'below', 'to', 'from', 'up', 'down', 'in', 'out', 'on', 'off', 'over', 'under', 'again', 'further', 'then', 'once', 'here', 'there', 'when', 'where', 'why', 'how', 'all', 'any', 'both', 'each', 'few', 'more', 'most', 'other', 'some', 'such', 'no', 'nor', 'not', 'only', 'own', 'same', 'so', 'than', 'too', 'very', 's', 't', 'can', 'will', 'just', 'don', \"don't\", 'should', \"should've\", 'now', 'd', 'll', 'm', 'o', 're', 've', 'y', 'ain', 'aren', \"aren't\", 'couldn', \"couldn't\", 'didn', \"didn't\", 'doesn', \"doesn't\", 'hadn', \"hadn't\", 'hasn', \"hasn't\", 'haven', \"haven't\", 'isn', \"isn't\", 'ma', 'mightn', \"mightn't\", 'mustn', \"mustn't\", 'needn', \"needn't\", 'shan', \"shan't\", 'shouldn', \"shouldn't\", 'wasn', \"wasn't\", 'weren', \"weren't\", 'won', \"won't\", 'wouldn', \"wouldn't\"]\n"
     ]
    }
   ],
   "source": [
    "print('불용어 개수 :', len(stopwords.words('english') ))\n",
    "print(stopwords.words('english'))"
   ]
  },
  {
   "cell_type": "code",
   "execution_count": 16,
   "id": "8b9fe91e",
   "metadata": {},
   "outputs": [
    {
     "name": "stdout",
     "output_type": "stream",
     "text": [
      "=3\n"
     ]
    }
   ],
   "source": [
    "# 데이터 전처리 함수\n",
    "def preprocess_sentence(sentence, remove_stopwords=True):\n",
    "    sentence = sentence.lower() # 텍스트 소문자화\n",
    "    sentence = BeautifulSoup(sentence, \"lxml\").text # <br />, <a href = ...> 등의 html 태그 제거\n",
    "    sentence = re.sub(r'\\([^)]*\\)', '', sentence) # 괄호로 닫힌 문자열 (...) 제거 Ex) my husband (and myself!) for => my husband for\n",
    "    sentence = re.sub('\"','', sentence) # 쌍따옴표 \" 제거\n",
    "    sentence = ' '.join([contractions[t] if t in contractions else t for t in sentence.split(\" \")]) # 약어 정규화\n",
    "    sentence = re.sub(r\"'s\\b\",\"\", sentence) # 소유격 제거. Ex) roland's -> roland\n",
    "    sentence = re.sub(\"[^a-zA-Z]\", \" \", sentence) # 영어 외 문자(숫자, 특수문자 등) 공백으로 변환\n",
    "    sentence = re.sub('[m]{2,}', 'mm', sentence) # m이 3개 이상이면 2개로 변경. Ex) ummmmmmm yeah -> umm yeah\n",
    "    \n",
    "    # 불용어 제거 (Text)\n",
    "    if remove_stopwords:\n",
    "        tokens = ' '.join(word for word in sentence.split() if not word in stopwords.words('english') if len(word) > 1)\n",
    "    # 불용어 미제거 (Summary)\n",
    "    else:\n",
    "        tokens = ' '.join(word for word in sentence.split() if len(word) > 1)\n",
    "    return tokens\n",
    "print('=3')"
   ]
  },
  {
   "cell_type": "code",
   "execution_count": 17,
   "id": "306bc6a8",
   "metadata": {},
   "outputs": [
    {
     "name": "stdout",
     "output_type": "stream",
     "text": [
      "text:  everything bought great infact ordered twice third ordered wasfor mother father\n",
      "summary: great way to start the day\n"
     ]
    }
   ],
   "source": [
    "temp_text = 'Everything I bought was great, infact I ordered twice and the third ordered was<br />for my mother and father.'\n",
    "temp_summary = 'Great way to start (or finish) the day!!!'\n",
    "\n",
    "print(\"text: \", preprocess_sentence(temp_text))\n",
    "print(\"summary:\", preprocess_sentence(temp_summary, False))  # 불용어를 제거하지 않습니다."
   ]
  },
  {
   "cell_type": "code",
   "execution_count": 19,
   "id": "bbc25e58",
   "metadata": {},
   "outputs": [
    {
     "name": "stdout",
     "output_type": "stream",
     "text": [
      "Text 전처리 후 결과:  ['saurav kant alumnus upgrad iiit pg program machine learning artificial intelligence sr systems engineer infosys almost years work experience program upgrad degree career support helped transition data scientist tech mahindra salary hike upgrad online power learning powered lakh careers', 'kunal shah credit card bill payment platform cred gave users chance win free food swiggy one year pranav kaushik delhi techie bagged reward spending cred coins users get one cred coin per rupee bill paid used avail rewards brands like ixigo bookmyshow ubereats cult fit', 'new zealand defeated india wickets fourth odi hamilton thursday win first match five match odi series india lost international match rohit sharma captaincy consecutive victories dating back march match witnessed india getting seventh lowest total odi cricket history', 'aegon life iterm insurance plan customers enjoy tax benefits premiums paid save taxes plan provides life cover age years also customers options insure critical illnesses disability accidental death benefit rider life cover age years', 'speaking sexual harassment allegations rajkumar hirani sonam kapoor said known hirani many years true metoo movement get derailed metoo movement always believe woman case need reserve judgment added hirani accused assistant worked sanju']\n"
     ]
    }
   ],
   "source": [
    "clean_text = []\n",
    "# 전체 Text 데이터에 대한 전처리 : 10분 이상 시간이 걸릴 수 있습니다. \n",
    "for s in data['text']:\n",
    "    clean_text.append(preprocess_sentence(s))\n",
    "\n",
    "# 전처리 후 출력\n",
    "print(\"Text 전처리 후 결과: \", clean_text[:5])"
   ]
  },
  {
   "cell_type": "code",
   "execution_count": 21,
   "id": "8f96d079",
   "metadata": {},
   "outputs": [
    {
     "name": "stdout",
     "output_type": "stream",
     "text": [
      "Summary 전처리 후 결과:  ['upgrad learner switches to career in ml al with salary hike', 'delhi techie wins free food from swiggy for one year on cred', 'new zealand end rohit sharma led india match winning streak', 'aegon life iterm insurance plan helps customers save tax', 'have known hirani for yrs what if metoo claims are not true sonam']\n"
     ]
    }
   ],
   "source": [
    "clean_summary = []\n",
    "# 전체 Summary 데이터에 대한 전처리 : 5분 이상 시간이 걸릴 수 있습니다. \n",
    "for s in data['headlines']:\n",
    "    clean_summary.append(preprocess_sentence(s, False))\n",
    "\n",
    "print(\"Summary 전처리 후 결과: \", clean_summary[:5])"
   ]
  },
  {
   "cell_type": "code",
   "execution_count": 22,
   "id": "262cf004",
   "metadata": {},
   "outputs": [
    {
     "name": "stdout",
     "output_type": "stream",
     "text": [
      "=3\n"
     ]
    }
   ],
   "source": [
    "data['text'] = clean_text\n",
    "data['headlines'] = clean_summary\n",
    "\n",
    "# 빈 값을 Null 값으로 변환\n",
    "data.replace('', np.nan, inplace=True)\n",
    "print('=3')"
   ]
  },
  {
   "cell_type": "code",
   "execution_count": 23,
   "id": "5e601eab",
   "metadata": {},
   "outputs": [
    {
     "data": {
      "text/plain": [
       "text         0\n",
       "headlines    0\n",
       "dtype: int64"
      ]
     },
     "execution_count": 23,
     "metadata": {},
     "output_type": "execute_result"
    }
   ],
   "source": [
    "data.isnull().sum()"
   ]
  },
  {
   "cell_type": "code",
   "execution_count": 24,
   "id": "6427d253",
   "metadata": {},
   "outputs": [
    {
     "name": "stdout",
     "output_type": "stream",
     "text": [
      "전체 샘플수 : 98360\n"
     ]
    }
   ],
   "source": [
    "data.dropna(axis=0, inplace=True)\n",
    "print('전체 샘플수 :', (len(data)))"
   ]
  },
  {
   "cell_type": "code",
   "execution_count": 28,
   "id": "e9470713",
   "metadata": {},
   "outputs": [
    {
     "name": "stdout",
     "output_type": "stream",
     "text": [
      "텍스트의 최소 길이 : 1\n",
      "텍스트의 최대 길이 : 60\n",
      "텍스트의 평균 길이 : 35.09968483123221\n",
      "요약의 최소 길이 : 1\n",
      "요약의 최대 길이 : 16\n",
      "요약의 평균 길이 : 9.299532330215534\n"
     ]
    },
    {
     "data": {
      "image/png": "[encoded data removed]",
      "text/plain": [
       "<Figure size 432x288 with 2 Axes>"
      ]
     },
     "metadata": {
      "needs_background": "light"
     },
     "output_type": "display_data"
    },
    {
     "data": {
      "image/png": "[encoded data removed]",
      "text/plain": [
       "<Figure size 432x288 with 1 Axes>"
      ]
     },
     "metadata": {
      "needs_background": "light"
     },
     "output_type": "display_data"
    },
    {
     "data": {
      "image/png": "[encoded data removed]",
      "text/plain": [
       "<Figure size 432x288 with 1 Axes>"
      ]
     },
     "metadata": {
      "needs_background": "light"
     },
     "output_type": "display_data"
    }
   ],
   "source": [
    "# 길이 분포 출력\n",
    "import matplotlib.pyplot as plt\n",
    "\n",
    "text_len = [len(s.split()) for s in data['text']]\n",
    "headlines_len = [len(s.split()) for s in data['headlines']]\n",
    "\n",
    "print('텍스트의 최소 길이 : {}'.format(np.min(text_len)))\n",
    "print('텍스트의 최대 길이 : {}'.format(np.max(text_len)))\n",
    "print('텍스트의 평균 길이 : {}'.format(np.mean(text_len)))\n",
    "print('요약의 최소 길이 : {}'.format(np.min(headlines_len)))\n",
    "print('요약의 최대 길이 : {}'.format(np.max(headlines_len)))\n",
    "print('요약의 평균 길이 : {}'.format(np.mean(headlines_len)))\n",
    "\n",
    "plt.subplot(1,2,1)\n",
    "plt.boxplot(text_len)\n",
    "plt.title('Text')\n",
    "plt.subplot(1,2,2)\n",
    "plt.boxplot(headlines_len)\n",
    "plt.title('Summary')\n",
    "plt.tight_layout()\n",
    "plt.show()\n",
    "\n",
    "plt.title('Text')\n",
    "plt.hist(text_len, bins = 40)\n",
    "plt.xlabel('length of samples')\n",
    "plt.ylabel('number of samples')\n",
    "plt.show()\n",
    "\n",
    "plt.title('Summary')\n",
    "plt.hist(headlines_len, bins = 40)\n",
    "plt.xlabel('length of samples')\n",
    "plt.ylabel('number of samples')\n",
    "plt.show()"
   ]
  },
  {
   "cell_type": "markdown",
   "id": "d5a3a7c6",
   "metadata": {},
   "source": [
    "# summary 의 경우 text 의 평균 38 보다 9 정도로 줄어든 것을 확인 가능합니다 "
   ]
  },
  {
   "cell_type": "code",
   "execution_count": 29,
   "id": "e3de5ea4",
   "metadata": {},
   "outputs": [
    {
     "name": "stdout",
     "output_type": "stream",
     "text": [
      "=3\n"
     ]
    }
   ],
   "source": [
    "text_max_len = 50\n",
    "summary_max_len = 8\n",
    "print('=3')"
   ]
  },
  {
   "cell_type": "code",
   "execution_count": 30,
   "id": "2938e222",
   "metadata": {},
   "outputs": [
    {
     "name": "stdout",
     "output_type": "stream",
     "text": [
      "=3\n"
     ]
    }
   ],
   "source": [
    "def below_threshold_len(max_len, nested_list):\n",
    "  cnt = 0\n",
    "  for s in nested_list:\n",
    "    if(len(s.split()) <= max_len):\n",
    "        cnt = cnt + 1\n",
    "  print('전체 샘플 중 길이가 %s 이하인 샘플의 비율: %s'%(max_len, (cnt / len(nested_list))))\n",
    "print('=3')"
   ]
  },
  {
   "cell_type": "code",
   "execution_count": 32,
   "id": "56f72a80",
   "metadata": {},
   "outputs": [
    {
     "name": "stdout",
     "output_type": "stream",
     "text": [
      "전체 샘플 중 길이가 50 이하인 샘플의 비율: 0.9998576657177715\n",
      "전체 샘플 중 길이가 8 이하인 샘플의 비율: 0.2755693371289142\n"
     ]
    }
   ],
   "source": [
    "below_threshold_len(text_max_len, data['text'])\n",
    "below_threshold_len(summary_max_len,  data['headlines'])"
   ]
  },
  {
   "cell_type": "code",
   "execution_count": 34,
   "id": "3756647b",
   "metadata": {},
   "outputs": [
    {
     "name": "stdout",
     "output_type": "stream",
     "text": [
      "전체 샘플수 : 27105\n"
     ]
    }
   ],
   "source": [
    "data = data[data['text'].apply(lambda x: len(x.split()) <= text_max_len)]\n",
    "data = data[data['headlines'].apply(lambda x: len(x.split()) <= summary_max_len)]\n",
    "print('전체 샘플수 :', (len(data)))"
   ]
  },
  {
   "cell_type": "markdown",
   "id": "b46b04cc",
   "metadata": {},
   "source": [
    "# 정해진 길이보다 길면 제외 "
   ]
  },
  {
   "cell_type": "code",
   "execution_count": 36,
   "id": "18a2a8af",
   "metadata": {},
   "outputs": [
    {
     "data": {
      "text/html": [
       "<div>\n",
       "<style scoped>\n",
       "    .dataframe tbody tr th:only-of-type {\n",
       "        vertical-align: middle;\n",
       "    }\n",
       "\n",
       "    .dataframe tbody tr th {\n",
       "        vertical-align: top;\n",
       "    }\n",
       "\n",
       "    .dataframe thead th {\n",
       "        text-align: right;\n",
       "    }\n",
       "</style>\n",
       "<table border=\"1\" class=\"dataframe\">\n",
       "  <thead>\n",
       "    <tr style=\"text-align: right;\">\n",
       "      <th></th>\n",
       "      <th>text</th>\n",
       "      <th>headlines</th>\n",
       "      <th>decoder_input</th>\n",
       "      <th>decoder_target</th>\n",
       "    </tr>\n",
       "  </thead>\n",
       "  <tbody>\n",
       "    <tr>\n",
       "      <th>19</th>\n",
       "      <td>union minister dharmendra pradhan wednesday cl...</td>\n",
       "      <td>odisha cm patnaik controls mining mafia union ...</td>\n",
       "      <td>sostoken odisha cm patnaik controls mining maf...</td>\n",
       "      <td>odisha cm patnaik controls mining mafia union ...</td>\n",
       "    </tr>\n",
       "    <tr>\n",
       "      <th>21</th>\n",
       "      <td>indian space research organisation wednesday u...</td>\n",
       "      <td>isro unveils bengaluru centre for manned space...</td>\n",
       "      <td>sostoken isro unveils bengaluru centre for man...</td>\n",
       "      <td>isro unveils bengaluru centre for manned space...</td>\n",
       "    </tr>\n",
       "    <tr>\n",
       "      <th>22</th>\n",
       "      <td>least people killed others injured saudi arabi...</td>\n",
       "      <td>killed injured in saudi arabia floods</td>\n",
       "      <td>sostoken killed injured in saudi arabia floods</td>\n",
       "      <td>killed injured in saudi arabia floods eostoken</td>\n",
       "    </tr>\n",
       "    <tr>\n",
       "      <th>29</th>\n",
       "      <td>investigators searching lost plane carrying ar...</td>\n",
       "      <td>seat cushions from missing plane carrying foot...</td>\n",
       "      <td>sostoken seat cushions from missing plane carr...</td>\n",
       "      <td>seat cushions from missing plane carrying foot...</td>\n",
       "    </tr>\n",
       "    <tr>\n",
       "      <th>36</th>\n",
       "      <td>agustawestland chopper scam co accused rajiv s...</td>\n",
       "      <td>agustawestland scam accused rajiv saxena extra...</td>\n",
       "      <td>sostoken agustawestland scam accused rajiv sax...</td>\n",
       "      <td>agustawestland scam accused rajiv saxena extra...</td>\n",
       "    </tr>\n",
       "  </tbody>\n",
       "</table>\n",
       "</div>"
      ],
      "text/plain": [
       "                                                 text  \\\n",
       "19  union minister dharmendra pradhan wednesday cl...   \n",
       "21  indian space research organisation wednesday u...   \n",
       "22  least people killed others injured saudi arabi...   \n",
       "29  investigators searching lost plane carrying ar...   \n",
       "36  agustawestland chopper scam co accused rajiv s...   \n",
       "\n",
       "                                            headlines  \\\n",
       "19  odisha cm patnaik controls mining mafia union ...   \n",
       "21  isro unveils bengaluru centre for manned space...   \n",
       "22              killed injured in saudi arabia floods   \n",
       "29  seat cushions from missing plane carrying foot...   \n",
       "36  agustawestland scam accused rajiv saxena extra...   \n",
       "\n",
       "                                        decoder_input  \\\n",
       "19  sostoken odisha cm patnaik controls mining maf...   \n",
       "21  sostoken isro unveils bengaluru centre for man...   \n",
       "22     sostoken killed injured in saudi arabia floods   \n",
       "29  sostoken seat cushions from missing plane carr...   \n",
       "36  sostoken agustawestland scam accused rajiv sax...   \n",
       "\n",
       "                                       decoder_target  \n",
       "19  odisha cm patnaik controls mining mafia union ...  \n",
       "21  isro unveils bengaluru centre for manned space...  \n",
       "22     killed injured in saudi arabia floods eostoken  \n",
       "29  seat cushions from missing plane carrying foot...  \n",
       "36  agustawestland scam accused rajiv saxena extra...  "
      ]
     },
     "execution_count": 36,
     "metadata": {},
     "output_type": "execute_result"
    }
   ],
   "source": [
    "# 요약 데이터에는 시작 토큰과 종료 토큰을 추가한다.\n",
    "data['decoder_input'] = data['headlines'].apply(lambda x : 'sostoken '+ x)\n",
    "data['decoder_target'] = data['headlines'].apply(lambda x : x + ' eostoken')\n",
    "data.head()"
   ]
  },
  {
   "cell_type": "code",
   "execution_count": 38,
   "id": "c3522248",
   "metadata": {},
   "outputs": [
    {
     "name": "stdout",
     "output_type": "stream",
     "text": [
      "=3\n"
     ]
    }
   ],
   "source": [
    "encoder_input = np.array(data['text']) # 인코더의 입력\n",
    "decoder_input = np.array(data['decoder_input']) # 디코더의 입력\n",
    "decoder_target = np.array(data['decoder_target']) # 디코더의 레이블\n",
    "print('=3')"
   ]
  },
  {
   "cell_type": "code",
   "execution_count": 39,
   "id": "fa32941f",
   "metadata": {},
   "outputs": [
    {
     "name": "stdout",
     "output_type": "stream",
     "text": [
      "[ 9769 23617 23451 ... 23791 12313 10361]\n"
     ]
    }
   ],
   "source": [
    "indices = np.arange(encoder_input.shape[0])\n",
    "np.random.shuffle(indices)\n",
    "print(indices)"
   ]
  },
  {
   "cell_type": "code",
   "execution_count": 40,
   "id": "4b24add0",
   "metadata": {},
   "outputs": [
    {
     "name": "stdout",
     "output_type": "stream",
     "text": [
      "=3\n"
     ]
    }
   ],
   "source": [
    "encoder_input = encoder_input[indices]\n",
    "decoder_input = decoder_input[indices]\n",
    "decoder_target = decoder_target[indices]\n",
    "print('=3')"
   ]
  },
  {
   "cell_type": "code",
   "execution_count": 41,
   "id": "23cf8b22",
   "metadata": {},
   "outputs": [
    {
     "name": "stdout",
     "output_type": "stream",
     "text": [
      "테스트 데이터의 수 : 5421\n"
     ]
    }
   ],
   "source": [
    "n_of_val = int(len(encoder_input)*0.2)\n",
    "print('테스트 데이터의 수 :', n_of_val)"
   ]
  },
  {
   "cell_type": "code",
   "execution_count": 42,
   "id": "9dbc4df1",
   "metadata": {},
   "outputs": [
    {
     "name": "stdout",
     "output_type": "stream",
     "text": [
      "훈련 데이터의 개수 : 21684\n",
      "훈련 레이블의 개수 : 21684\n",
      "테스트 데이터의 개수 : 5421\n",
      "테스트 레이블의 개수 : 5421\n"
     ]
    }
   ],
   "source": [
    "encoder_input_train = encoder_input[:-n_of_val]\n",
    "decoder_input_train = decoder_input[:-n_of_val]\n",
    "decoder_target_train = decoder_target[:-n_of_val]\n",
    "\n",
    "encoder_input_test = encoder_input[-n_of_val:]\n",
    "decoder_input_test = decoder_input[-n_of_val:]\n",
    "decoder_target_test = decoder_target[-n_of_val:]\n",
    "\n",
    "print('훈련 데이터의 개수 :', len(encoder_input_train))\n",
    "print('훈련 레이블의 개수 :', len(decoder_input_train))\n",
    "print('테스트 데이터의 개수 :', len(encoder_input_test))\n",
    "print('테스트 레이블의 개수 :', len(decoder_input_test))"
   ]
  },
  {
   "cell_type": "code",
   "execution_count": 43,
   "id": "1a1abc1a",
   "metadata": {},
   "outputs": [
    {
     "name": "stdout",
     "output_type": "stream",
     "text": [
      "=3\n"
     ]
    }
   ],
   "source": [
    "src_tokenizer = Tokenizer() # 토크나이저 정의\n",
    "src_tokenizer.fit_on_texts(encoder_input_train) # 입력된 데이터로부터 단어 집합 생성\n",
    "print('=3')"
   ]
  },
  {
   "cell_type": "code",
   "execution_count": 44,
   "id": "e827e21a",
   "metadata": {},
   "outputs": [
    {
     "name": "stdout",
     "output_type": "stream",
     "text": [
      "단어 집합(vocabulary)의 크기 : 42319\n",
      "등장 빈도가 6번 이하인 희귀 단어의 수: 30561\n",
      "단어 집합에서 희귀 단어를 제외시킬 경우의 단어 집합의 크기 11758\n",
      "단어 집합에서 희귀 단어의 비율: 72.21578959805288\n",
      "전체 등장 빈도에서 희귀 단어 등장 빈도 비율: 8.227286529459782\n"
     ]
    }
   ],
   "source": [
    "threshold = 7\n",
    "total_cnt = len(src_tokenizer.word_index) # 단어의 수\n",
    "rare_cnt = 0 # 등장 빈도수가 threshold보다 작은 단어의 개수를 카운트\n",
    "total_freq = 0 # 훈련 데이터의 전체 단어 빈도수 총 합\n",
    "rare_freq = 0 # 등장 빈도수가 threshold보다 작은 단어의 등장 빈도수의 총 합\n",
    "\n",
    "# 단어와 빈도수의 쌍(pair)을 key와 value로 받는다.\n",
    "for key, value in src_tokenizer.word_counts.items():\n",
    "    total_freq = total_freq + value\n",
    "\n",
    "    # 단어의 등장 빈도수가 threshold보다 작으면\n",
    "    if(value < threshold):\n",
    "        rare_cnt = rare_cnt + 1\n",
    "        rare_freq = rare_freq + value\n",
    "\n",
    "print('단어 집합(vocabulary)의 크기 :', total_cnt)\n",
    "print('등장 빈도가 %s번 이하인 희귀 단어의 수: %s'%(threshold - 1, rare_cnt))\n",
    "print('단어 집합에서 희귀 단어를 제외시킬 경우의 단어 집합의 크기 %s'%(total_cnt - rare_cnt))\n",
    "print(\"단어 집합에서 희귀 단어의 비율:\", (rare_cnt / total_cnt)*100)\n",
    "print(\"전체 등장 빈도에서 희귀 단어 등장 빈도 비율:\", (rare_freq / total_freq)*100)"
   ]
  },
  {
   "cell_type": "code",
   "execution_count": 45,
   "id": "1e6404d8",
   "metadata": {},
   "outputs": [
    {
     "name": "stdout",
     "output_type": "stream",
     "text": [
      "=3\n"
     ]
    }
   ],
   "source": [
    "src_vocab = 8000\n",
    "src_tokenizer = Tokenizer(num_words=src_vocab) # 단어 집합의 크기를 8,000으로 제한\n",
    "src_tokenizer.fit_on_texts(encoder_input_train) # 단어 집합 재생성\n",
    "print('=3')"
   ]
  },
  {
   "cell_type": "code",
   "execution_count": 46,
   "id": "4512243a",
   "metadata": {},
   "outputs": [
    {
     "name": "stdout",
     "output_type": "stream",
     "text": [
      "[[582, 105, 1653, 293, 242, 74, 550, 18, 5783, 227, 2166, 7817, 3684, 52, 60, 257, 6752, 5400, 232, 1268, 6753, 525, 116, 598, 1851, 916, 6754, 880, 367, 24, 1653], [476, 1238, 63, 12, 342, 806, 1928, 404, 714, 126, 40, 233, 21, 169, 127, 404, 2669, 1238, 404, 300, 481, 465, 1000, 158, 404, 228, 2357, 556, 5401, 404, 3977, 213, 40, 126, 407, 806, 303, 139, 177], [2969, 29, 37, 1278, 2132, 1527, 2544, 2626, 744, 151, 148, 3530, 3275, 216, 2626, 221, 993, 23, 164, 7818, 1852, 4, 2715, 151, 2626, 1852, 1995, 5402, 164, 2358, 23, 1006, 323, 368, 3153, 151]]\n"
     ]
    }
   ],
   "source": [
    "# 텍스트 시퀀스를 정수 시퀀스로 변환\n",
    "encoder_input_train = src_tokenizer.texts_to_sequences(encoder_input_train) \n",
    "encoder_input_test = src_tokenizer.texts_to_sequences(encoder_input_test)\n",
    "\n",
    "# 잘 진행되었는지 샘플 출력\n",
    "print(encoder_input_train[:3])"
   ]
  },
  {
   "cell_type": "code",
   "execution_count": 47,
   "id": "68dbb196",
   "metadata": {},
   "outputs": [
    {
     "name": "stdout",
     "output_type": "stream",
     "text": [
      "=3\n"
     ]
    }
   ],
   "source": [
    "tar_tokenizer = Tokenizer()\n",
    "tar_tokenizer.fit_on_texts(decoder_input_train)\n",
    "print('=3')"
   ]
  },
  {
   "cell_type": "code",
   "execution_count": 48,
   "id": "1d21734d",
   "metadata": {},
   "outputs": [
    {
     "name": "stdout",
     "output_type": "stream",
     "text": [
      "단어 집합(vocabulary)의 크기 : 18930\n",
      "등장 빈도가 5번 이하인 희귀 단어의 수: 14277\n",
      "단어 집합에서 희귀 단어를 제외시킬 경우의 단어 집합의 크기 4653\n",
      "단어 집합에서 희귀 단어의 비율: 75.41996830427891\n",
      "전체 등장 빈도에서 희귀 단어 등장 빈도 비율: 14.184831020530817\n"
     ]
    }
   ],
   "source": [
    "threshold = 6\n",
    "total_cnt = len(tar_tokenizer.word_index) # 단어의 수\n",
    "rare_cnt = 0 # 등장 빈도수가 threshold보다 작은 단어의 개수를 카운트\n",
    "total_freq = 0 # 훈련 데이터의 전체 단어 빈도수 총 합\n",
    "rare_freq = 0 # 등장 빈도수가 threshold보다 작은 단어의 등장 빈도수의 총 합\n",
    "\n",
    "# 단어와 빈도수의 쌍(pair)을 key와 value로 받는다.\n",
    "for key, value in tar_tokenizer.word_counts.items():\n",
    "    total_freq = total_freq + value\n",
    "\n",
    "    # 단어의 등장 빈도수가 threshold보다 작으면\n",
    "    if(value < threshold):\n",
    "        rare_cnt = rare_cnt + 1\n",
    "        rare_freq = rare_freq + value\n",
    "\n",
    "print('단어 집합(vocabulary)의 크기 :', total_cnt)\n",
    "print('등장 빈도가 %s번 이하인 희귀 단어의 수: %s'%(threshold - 1, rare_cnt))\n",
    "print('단어 집합에서 희귀 단어를 제외시킬 경우의 단어 집합의 크기 %s'%(total_cnt - rare_cnt))\n",
    "print(\"단어 집합에서 희귀 단어의 비율:\", (rare_cnt / total_cnt)*100)\n",
    "print(\"전체 등장 빈도에서 희귀 단어 등장 빈도 비율:\", (rare_freq / total_freq)*100)"
   ]
  },
  {
   "cell_type": "code",
   "execution_count": 49,
   "id": "e640c67e",
   "metadata": {},
   "outputs": [
    {
     "name": "stdout",
     "output_type": "stream",
     "text": [
      "input\n",
      "input  [[1, 664, 11, 180, 54], [1, 567, 160, 476, 568, 17, 129, 11, 919], [1, 1217, 1927, 428, 18, 317, 6], [1, 37, 1104, 5, 3, 15], [1, 1218, 89, 12, 36, 6]]\n",
      "target\n",
      "decoder  [[664, 11, 180, 54, 2], [567, 160, 476, 568, 17, 129, 11, 919, 2], [1217, 1927, 428, 18, 317, 6, 2], [37, 1104, 5, 3, 15, 2], [1218, 89, 12, 36, 6, 2]]\n"
     ]
    }
   ],
   "source": [
    "tar_vocab = 2000\n",
    "tar_tokenizer = Tokenizer(num_words=tar_vocab) \n",
    "tar_tokenizer.fit_on_texts(decoder_input_train)\n",
    "tar_tokenizer.fit_on_texts(decoder_target_train)\n",
    "\n",
    "# 텍스트 시퀀스를 정수 시퀀스로 변환\n",
    "decoder_input_train = tar_tokenizer.texts_to_sequences(decoder_input_train) \n",
    "decoder_target_train = tar_tokenizer.texts_to_sequences(decoder_target_train)\n",
    "decoder_input_test = tar_tokenizer.texts_to_sequences(decoder_input_test)\n",
    "decoder_target_test = tar_tokenizer.texts_to_sequences(decoder_target_test)\n",
    "\n",
    "# 잘 변환되었는지 확인\n",
    "print('input')\n",
    "print('input ',decoder_input_train[:5])\n",
    "print('target')\n",
    "print('decoder ',decoder_target_train[:5])"
   ]
  },
  {
   "cell_type": "code",
   "execution_count": 50,
   "id": "92d3125c",
   "metadata": {},
   "outputs": [
    {
     "name": "stdout",
     "output_type": "stream",
     "text": [
      "삭제할 훈련 데이터의 개수 : 10\n",
      "삭제할 테스트 데이터의 개수 : 1\n",
      "훈련 데이터의 개수 : 21674\n",
      "훈련 레이블의 개수 : 21674\n",
      "테스트 데이터의 개수 : 5420\n",
      "테스트 레이블의 개수 : 5420\n"
     ]
    }
   ],
   "source": [
    "drop_train = [index for index, sentence in enumerate(decoder_input_train) if len(sentence) == 1]\n",
    "drop_test = [index for index, sentence in enumerate(decoder_input_test) if len(sentence) == 1]\n",
    "\n",
    "print('삭제할 훈련 데이터의 개수 :', len(drop_train))\n",
    "print('삭제할 테스트 데이터의 개수 :', len(drop_test))\n",
    "\n",
    "encoder_input_train = [sentence for index, sentence in enumerate(encoder_input_train) if index not in drop_train]\n",
    "decoder_input_train = [sentence for index, sentence in enumerate(decoder_input_train) if index not in drop_train]\n",
    "decoder_target_train = [sentence for index, sentence in enumerate(decoder_target_train) if index not in drop_train]\n",
    "\n",
    "encoder_input_test = [sentence for index, sentence in enumerate(encoder_input_test) if index not in drop_test]\n",
    "decoder_input_test = [sentence for index, sentence in enumerate(decoder_input_test) if index not in drop_test]\n",
    "decoder_target_test = [sentence for index, sentence in enumerate(decoder_target_test) if index not in drop_test]\n",
    "\n",
    "print('훈련 데이터의 개수 :', len(encoder_input_train))\n",
    "print('훈련 레이블의 개수 :', len(decoder_input_train))\n",
    "print('테스트 데이터의 개수 :', len(encoder_input_test))\n",
    "print('테스트 레이블의 개수 :', len(decoder_input_test))"
   ]
  },
  {
   "cell_type": "code",
   "execution_count": 51,
   "id": "5592f819",
   "metadata": {},
   "outputs": [
    {
     "name": "stdout",
     "output_type": "stream",
     "text": [
      "=3\n"
     ]
    }
   ],
   "source": [
    "encoder_input_train = pad_sequences(encoder_input_train, maxlen=text_max_len, padding='post')\n",
    "encoder_input_test = pad_sequences(encoder_input_test, maxlen=text_max_len, padding='post')\n",
    "decoder_input_train = pad_sequences(decoder_input_train, maxlen=summary_max_len, padding='post')\n",
    "decoder_target_train = pad_sequences(decoder_target_train, maxlen=summary_max_len, padding='post')\n",
    "decoder_input_test = pad_sequences(decoder_input_test, maxlen=summary_max_len, padding='post')\n",
    "decoder_target_test = pad_sequences(decoder_target_test, maxlen=summary_max_len, padding='post')\n",
    "print('=3')"
   ]
  },
  {
   "cell_type": "code",
   "execution_count": 170,
   "id": "d917d34d",
   "metadata": {},
   "outputs": [
    {
     "name": "stdout",
     "output_type": "stream",
     "text": [
      "WARNING:tensorflow:Layer lstm_59 will not use cuDNN kernels since it doesn't meet the criteria. It will use a generic GPU kernel as fallback when running on GPU.\n",
      "WARNING:tensorflow:Layer lstm_60 will not use cuDNN kernels since it doesn't meet the criteria. It will use a generic GPU kernel as fallback when running on GPU.\n",
      "WARNING:tensorflow:Layer lstm_61 will not use cuDNN kernels since it doesn't meet the criteria. It will use a generic GPU kernel as fallback when running on GPU.\n"
     ]
    }
   ],
   "source": [
    "from keras.layers import GaussianNoise\n",
    "from tensorflow.keras.layers import Input, LSTM, Embedding, Dense, Concatenate, TimeDistributed, LeakyReLU\n",
    "from tensorflow.keras.models import Model\n",
    "from tensorflow.keras.callbacks import EarlyStopping, ModelCheckpoint\n",
    "from keras.layers import Activation, Dense\n",
    "from tensorflow.keras import layers\n",
    "from tensorflow.keras import activations\n",
    "\n",
    "# 인코더 설계 시작\n",
    "embedding_dim = 128\n",
    "hidden_size = 256\n",
    "\n",
    "# 인코더\n",
    "encoder_inputs = Input(shape=(text_max_len,))\n",
    "\n",
    "# 인코더의 임베딩 층\n",
    "enc_emb = Embedding(src_vocab, embedding_dim)(encoder_inputs)\n",
    "enc_emb2 = GaussianNoise(stddev=0.2)(enc_emb)\n",
    "# 인코더의 LSTM 1\n",
    "encoder_lstm1 = LSTM(hidden_size, activation= 'tanh' ,return_sequences=True, return_state=True ,dropout = 0.4, recurrent_dropout = 0.4)\n",
    "encoder_output1, state_h1, state_c1 = encoder_lstm1(enc_emb)\n",
    "\n",
    "# 인코더의 LSTM 2\n",
    "encoder_lstm2 = LSTM(hidden_size, activation= 'tanh', return_sequences=True, return_state=True, dropout=0.4, recurrent_dropout=0.4)\n",
    "encoder_output2, state_h2, state_c2 = encoder_lstm2(encoder_output1)\n",
    "\n",
    "# 인코더의 LSTM 3\n",
    "encoder_lstm3 = LSTM(hidden_size, activation= 'tanh', return_state=True, return_sequences=True, dropout=0.4, recurrent_dropout=0.4)\n",
    "encoder_outputs, state_h, state_c= encoder_lstm3(encoder_output2)"
   ]
  },
  {
   "cell_type": "markdown",
   "id": "9a6256b2",
   "metadata": {},
   "source": [
    "## recurrent_dropout = 0 조건 충족못하면 cuDNN 사용 불가능 오류가 뜬다\n"
   ]
  },
  {
   "cell_type": "markdown",
   "id": "b5e3a02e",
   "metadata": {},
   "source": [
    "###### 임베딩 벡터의 차원은 128로 정의하고, hidden state의 크기를 256으로 정의했어요. hidden state는 LSTM에서 얼만큼의 수용력(capacity)를 가질지를 정하는 파라미터에요. 이 파라미터는 LSTM의 용량의 크기나, LSTM에서의 뉴런의 개수라고 이해하면 돼요. 다른 신경망과 마찬가지로, 무조건 용량을 많이 준다고 해서 성능이 반드시 올라가는 것은 아니에요.인코더의 LSTM은 총 3개의 층으로 구성해서 모델의 복잡도를 높였어요. hidden state의 크기를 늘리는 것이 LSTM 층 1개의 용량을 늘린다면, 3개의 층을 사용하는 것은 모델의 용량을 늘린다고 볼 수 있죠. 3개의 층을 지나서 인코더로부터 나온 출력 벡터는 디코더로 보내줘야겠죠?\n",
    "#### 또한 LSTM은 dropout 뿐 아니라 recurrent dropout까지 사용해요. 일반적인 dropout은 레이어의 weight를 랜덤으로 생략하여 모델의 과적합(overfitting)을 해결해주는 방법이에요.반면 recurrent dropout은 dropout을 레이어가 아닌 time step마다 해주는 방식이에요. 즉 time step의 입력을 랜덤으로 생략해 주는 거죠. recurrent dropout은 일반적인 dropout와 같이 regularization을 해주는 효과가 있고, 과적합을 방지할 수 있다고 해요.아래 그림은 일반적인 dropout과, dropout과 recurrent dropout을 동시에 사용한 것을 시각적으로 표현한 것입니다. 색이 있는 화살표는 dropout을 나타낸 것이에요. (색이 다른 것은 다른 dropout mask를 사용했다는 표시인데, 지금은 그냥 넘어가셔도 됩니다.) 우리가 현재 사용한 LSTM은 dropout과 recurrent dropout을 모두 사용했으니 오른쪽 그림과 같은 형태겠군요. 참고로 dropout과 recurrent dropout을 모두 사용한 것을 Variational Dropout이라고도 해요."
   ]
  },
  {
   "cell_type": "code",
   "execution_count": 171,
   "id": "ff3688fc",
   "metadata": {},
   "outputs": [
    {
     "name": "stdout",
     "output_type": "stream",
     "text": [
      "WARNING:tensorflow:Layer lstm_62 will not use cuDNN kernels since it doesn't meet the criteria. It will use a generic GPU kernel as fallback when running on GPU.\n"
     ]
    }
   ],
   "source": [
    "\n",
    "# import noise layer\n",
    "from keras.layers import GaussianNoise\n",
    "# 디코더 설계\n",
    "\n",
    "decoder_inputs = Input(shape=(None,))\n",
    "decoder_inputs2 = GaussianNoise(stddev=0.2)(decoder_inputs)\n",
    "# 디코더의 임베딩 층\n",
    "dec_emb_layer = Embedding(tar_vocab, embedding_dim)\n",
    "dec_emb = dec_emb_layer(decoder_inputs2)\n",
    "\n",
    "# 디코더의 LSTM\n",
    "\n",
    "decoder_lstm = LSTM(hidden_size, return_sequences=True, return_state=True, dropout=0.4, recurrent_dropout=0.2)\n",
    "decoder_outputs, _, _ = decoder_lstm(dec_emb, initial_state=[state_h, state_c])"
   ]
  },
  {
   "cell_type": "markdown",
   "id": "d9070c9c",
   "metadata": {},
   "source": [
    "### 우리는  return_sequences=True, return_state=True 조건을 명시했으므로 모든 Hidden state 들이 표시되고 마지막 Hidden state, 마지막 Cell state 들이 반환된다. \n",
    "\n"
   ]
  },
  {
   "cell_type": "markdown",
   "id": "a23bc483",
   "metadata": {},
   "source": [
    "### return_sequences parameter is True일 경우, decoder_outputs 은 batch 의 샘플수를 의미한다.\n",
    "### 첫 번째 차원 은 LSTM 레이어에 제공된 batch의 샘플 \"수\" 를 나타냅니다.\n",
    "### 두 번째 차원 은 입력 시퀀스 의 시간 단계 수입니다. \n",
    "### 두 번째 차원을 인덱싱 하여 주어진 시간 단계 에서 단위의 모든 hidden state 에 액세스 할 수 있습니다.\n",
    "### 세 번째 차원 은 Keras LSTM 구현에서 units 매개변수에 의해 정의된 \"출력 공간\" 의 차원입니다 .\n"
   ]
  },
  {
   "cell_type": "code",
   "execution_count": 172,
   "id": "466a767a",
   "metadata": {},
   "outputs": [
    {
     "name": "stdout",
     "output_type": "stream",
     "text": [
      "Model: \"model_21\"\n",
      "__________________________________________________________________________________________________\n",
      "Layer (type)                    Output Shape         Param #     Connected to                     \n",
      "==================================================================================================\n",
      "input_49 (InputLayer)           [(None, 50)]         0                                            \n",
      "__________________________________________________________________________________________________\n",
      "embedding_32 (Embedding)        (None, 50, 128)      1024000     input_49[0][0]                   \n",
      "__________________________________________________________________________________________________\n",
      "input_50 (InputLayer)           [(None, None)]       0                                            \n",
      "__________________________________________________________________________________________________\n",
      "lstm_59 (LSTM)                  [(None, 50, 256), (N 394240      embedding_32[0][0]               \n",
      "__________________________________________________________________________________________________\n",
      "gaussian_noise_5 (GaussianNoise (None, None)         0           input_50[0][0]                   \n",
      "__________________________________________________________________________________________________\n",
      "lstm_60 (LSTM)                  [(None, 50, 256), (N 525312      lstm_59[0][0]                    \n",
      "__________________________________________________________________________________________________\n",
      "embedding_33 (Embedding)        (None, None, 128)    256000      gaussian_noise_5[0][0]           \n",
      "__________________________________________________________________________________________________\n",
      "lstm_61 (LSTM)                  [(None, 50, 256), (N 525312      lstm_60[0][0]                    \n",
      "__________________________________________________________________________________________________\n",
      "lstm_62 (LSTM)                  [(None, None, 256),  394240      embedding_33[0][0]               \n",
      "                                                                 lstm_61[0][1]                    \n",
      "                                                                 lstm_61[0][2]                    \n",
      "__________________________________________________________________________________________________\n",
      "dense_11 (Dense)                (None, None, 2000)   514000      lstm_62[0][0]                    \n",
      "==================================================================================================\n",
      "Total params: 3,633,104\n",
      "Trainable params: 3,633,104\n",
      "Non-trainable params: 0\n",
      "__________________________________________________________________________________________________\n"
     ]
    }
   ],
   "source": [
    "# 디코더의 출력층\n",
    "decoder_softmax_layer = Dense(tar_vocab, activation='softmax')\n",
    "decoder_softmax_outputs = decoder_softmax_layer(decoder_outputs) #위에서 나온 디코더 아웃풋,즉 배치의 샘플수를 softmax layer에 입력으로 넣는다.\n",
    "\n",
    "\n",
    "# 모델 정의\n",
    "model = Model([encoder_inputs, decoder_inputs], decoder_softmax_outputs)\n",
    "model.summary()"
   ]
  },
  {
   "cell_type": "markdown",
   "id": "b2dfc0e9",
   "metadata": {},
   "source": [
    "## Since we have 4 time steps and unit (dimensionality of the output space) is set to 16, the output shape will be (None, 4, 16). None은 모든 배치 사이즈를 뜻하는 자리표시자다.\n",
    "\n"
   ]
  },
  {
   "cell_type": "markdown",
   "id": "a8ff5fd3",
   "metadata": {},
   "source": [
    "### Concatenate(axis=-1)일 경우 가장낮은 차원에서 더해준다. 글자들이므로, 2*1*3을 axis= -1의 연산을 해준다면 2*1*6의 텐서가 될 것이다\n",
    "### 아이스크림 2개가 있다고 쳐보자. 아이스크림(3차원)의 크림부분(2차원)을 분해해서 바닐라(1차원)가 있다면 다른 한개에서 구슬아이스크림을 뺀다음 두개를 합쳐주는 것과 같다.\n"
   ]
  },
  {
   "cell_type": "code",
   "execution_count": 173,
   "id": "bc9308df",
   "metadata": {},
   "outputs": [
    {
     "name": "stdout",
     "output_type": "stream",
     "text": [
      "Model: \"model_22\"\n",
      "__________________________________________________________________________________________________\n",
      "Layer (type)                    Output Shape         Param #     Connected to                     \n",
      "==================================================================================================\n",
      "input_49 (InputLayer)           [(None, 50)]         0                                            \n",
      "__________________________________________________________________________________________________\n",
      "embedding_32 (Embedding)        (None, 50, 128)      1024000     input_49[0][0]                   \n",
      "__________________________________________________________________________________________________\n",
      "input_50 (InputLayer)           [(None, None)]       0                                            \n",
      "__________________________________________________________________________________________________\n",
      "lstm_59 (LSTM)                  [(None, 50, 256), (N 394240      embedding_32[0][0]               \n",
      "__________________________________________________________________________________________________\n",
      "gaussian_noise_5 (GaussianNoise (None, None)         0           input_50[0][0]                   \n",
      "__________________________________________________________________________________________________\n",
      "lstm_60 (LSTM)                  [(None, 50, 256), (N 525312      lstm_59[0][0]                    \n",
      "__________________________________________________________________________________________________\n",
      "embedding_33 (Embedding)        (None, None, 128)    256000      gaussian_noise_5[0][0]           \n",
      "__________________________________________________________________________________________________\n",
      "lstm_61 (LSTM)                  [(None, 50, 256), (N 525312      lstm_60[0][0]                    \n",
      "__________________________________________________________________________________________________\n",
      "lstm_62 (LSTM)                  [(None, None, 256),  394240      embedding_33[0][0]               \n",
      "                                                                 lstm_61[0][1]                    \n",
      "                                                                 lstm_61[0][2]                    \n",
      "__________________________________________________________________________________________________\n",
      "attention_layer (AdditiveAttent (None, None, 256)    256         lstm_62[0][0]                    \n",
      "                                                                 lstm_61[0][0]                    \n",
      "__________________________________________________________________________________________________\n",
      "concat_layer (Concatenate)      (None, None, 512)    0           lstm_62[0][0]                    \n",
      "                                                                 attention_layer[0][0]            \n",
      "__________________________________________________________________________________________________\n",
      "dense_12 (Dense)                (None, None, 2000)   1026000     concat_layer[0][0]               \n",
      "==================================================================================================\n",
      "Total params: 4,145,360\n",
      "Trainable params: 4,145,360\n",
      "Non-trainable params: 0\n",
      "__________________________________________________________________________________________________\n"
     ]
    }
   ],
   "source": [
    "from tensorflow.keras.layers import AdditiveAttention\n",
    "\n",
    "# 어텐션 층(어텐션 함수)\n",
    "attn_layer = AdditiveAttention(name='attention_layer')\n",
    "\n",
    "# 인코더와 디코더의 모든 time step의 hidden state를 어텐션 층에 전달하고 결과를 리턴\n",
    "attn_out = attn_layer([decoder_outputs, encoder_outputs])\n",
    "\n",
    "\n",
    "# 어텐션의 결과와 디코더의 hidden state들을 연결\n",
    "decoder_concat_input = Concatenate(axis=-1, name='concat_layer')([decoder_outputs, attn_out])\n",
    "\n",
    "# 디코더의 출력층\n",
    "decoder_softmax_layer = Dense(tar_vocab, activation='softmax')\n",
    "decoder_softmax_outputs = decoder_softmax_layer(decoder_concat_input)\n",
    "\n",
    "# 모델 정의\n",
    "model = Model([encoder_inputs, decoder_inputs], decoder_softmax_outputs)\n",
    "model.summary()"
   ]
  },
  {
   "cell_type": "markdown",
   "id": "dd32f3d1",
   "metadata": {},
   "source": [
    "## sparse_categorical_crossentropy 는 각 샘플이 오직 하나의 class 에 속할 때 사용하고 Categorical_Crossentropy 는 각 샘플이 여러개의 class 에 속할수 있을때 사용합니다.\n"
   ]
  },
  {
   "cell_type": "code",
   "execution_count": 174,
   "id": "e2fcc47d",
   "metadata": {},
   "outputs": [
    {
     "name": "stdout",
     "output_type": "stream",
     "text": [
      "Epoch 1/50\n",
      "85/85 [==============================] - 67s 689ms/step - loss: 4.9362 - val_loss: 4.5945\n",
      "Epoch 2/50\n",
      "85/85 [==============================] - 57s 673ms/step - loss: 4.5369 - val_loss: 4.3975\n",
      "Epoch 3/50\n",
      "85/85 [==============================] - 57s 668ms/step - loss: 4.3809 - val_loss: 4.2869\n",
      "Epoch 4/50\n",
      "85/85 [==============================] - 57s 673ms/step - loss: 4.2312 - val_loss: 4.1250\n",
      "Epoch 5/50\n",
      "85/85 [==============================] - 57s 670ms/step - loss: 4.0935 - val_loss: 4.0310\n",
      "Epoch 6/50\n",
      "85/85 [==============================] - 57s 665ms/step - loss: 3.9687 - val_loss: 3.9362\n",
      "Epoch 7/50\n",
      "85/85 [==============================] - 56s 664ms/step - loss: 3.8468 - val_loss: 3.8589\n",
      "Epoch 8/50\n",
      "85/85 [==============================] - 57s 666ms/step - loss: 3.7360 - val_loss: 3.8078\n",
      "Epoch 9/50\n",
      "85/85 [==============================] - 57s 668ms/step - loss: 3.6382 - val_loss: 3.7432\n",
      "Epoch 10/50\n",
      "85/85 [==============================] - 57s 665ms/step - loss: 3.5445 - val_loss: 3.6915\n",
      "Epoch 11/50\n",
      "85/85 [==============================] - 56s 662ms/step - loss: 3.4577 - val_loss: 3.6518\n",
      "Epoch 12/50\n",
      "85/85 [==============================] - 56s 661ms/step - loss: 3.3783 - val_loss: 3.6099\n",
      "Epoch 13/50\n",
      "85/85 [==============================] - 56s 661ms/step - loss: 3.3037 - val_loss: 3.5861\n",
      "Epoch 14/50\n",
      "85/85 [==============================] - 56s 659ms/step - loss: 3.2348 - val_loss: 3.5562\n",
      "Epoch 15/50\n",
      "85/85 [==============================] - 57s 666ms/step - loss: 3.1720 - val_loss: 3.5429\n",
      "Epoch 16/50\n",
      "85/85 [==============================] - 56s 663ms/step - loss: 3.1074 - val_loss: 3.5225\n",
      "Epoch 17/50\n",
      "85/85 [==============================] - 56s 662ms/step - loss: 3.0469 - val_loss: 3.5141\n",
      "Epoch 18/50\n",
      "85/85 [==============================] - 56s 661ms/step - loss: 2.9911 - val_loss: 3.4948\n",
      "Epoch 19/50\n",
      "85/85 [==============================] - 56s 661ms/step - loss: 2.9348 - val_loss: 3.4852\n",
      "Epoch 20/50\n",
      "85/85 [==============================] - 56s 660ms/step - loss: 2.8792 - val_loss: 3.4748\n",
      "Epoch 21/50\n",
      "85/85 [==============================] - 56s 660ms/step - loss: 2.8298 - val_loss: 3.4675\n",
      "Epoch 22/50\n",
      "85/85 [==============================] - 56s 658ms/step - loss: 2.7776 - val_loss: 3.4720\n",
      "Epoch 23/50\n",
      "85/85 [==============================] - 56s 661ms/step - loss: 2.7273 - val_loss: 3.4660\n",
      "Epoch 24/50\n",
      "85/85 [==============================] - 56s 660ms/step - loss: 2.6799 - val_loss: 3.4639\n",
      "Epoch 25/50\n",
      "85/85 [==============================] - 56s 659ms/step - loss: 2.6336 - val_loss: 3.4659\n",
      "Epoch 26/50\n",
      "85/85 [==============================] - 56s 663ms/step - loss: 2.5881 - val_loss: 3.4639\n",
      "Epoch 00026: early stopping\n"
     ]
    }
   ],
   "source": [
    "model.compile(optimizer='rmsprop', loss='sparse_categorical_crossentropy')\n",
    "es = EarlyStopping(monitor='val_loss', patience=2, verbose=1)\n",
    "history = model.fit(x=[encoder_input_train, decoder_input_train], y=decoder_target_train, \\\n",
    "          validation_data=([encoder_input_test, decoder_input_test], decoder_target_test), \\\n",
    "          batch_size=256, callbacks=[es], epochs=50)"
   ]
  },
  {
   "cell_type": "code",
   "execution_count": 175,
   "id": "325e7146",
   "metadata": {},
   "outputs": [
    {
     "data": {
      "image/png": "[encoded data removed]",
      "text/plain": [
       "<Figure size 432x288 with 1 Axes>"
      ]
     },
     "metadata": {
      "needs_background": "light"
     },
     "output_type": "display_data"
    }
   ],
   "source": [
    "plt.plot(history.history['loss'], label='train')\n",
    "plt.plot(history.history['val_loss'], label='test')\n",
    "plt.legend()\n",
    "plt.show()"
   ]
  },
  {
   "cell_type": "code",
   "execution_count": 176,
   "id": "417d6a96",
   "metadata": {},
   "outputs": [
    {
     "name": "stdout",
     "output_type": "stream",
     "text": [
      "=3\n"
     ]
    }
   ],
   "source": [
    "src_index_to_word = src_tokenizer.index_word # 원문 단어 집합에서 정수 -> 단어를 얻음\n",
    "tar_word_to_index = tar_tokenizer.word_index # 요약 단어 집합에서 단어 -> 정수를 얻음\n",
    "tar_index_to_word = tar_tokenizer.index_word # 요약 단어 집합에서 정수 -> 단어를 얻음\n",
    "\n",
    "print('=3')"
   ]
  },
  {
   "cell_type": "code",
   "execution_count": 177,
   "id": "3347541c",
   "metadata": {},
   "outputs": [
    {
     "name": "stdout",
     "output_type": "stream",
     "text": [
      "=3\n"
     ]
    }
   ],
   "source": [
    "# 인코더 설계\n",
    "encoder_model = Model(inputs=encoder_inputs, outputs=[encoder_outputs, state_h, state_c])\n",
    "\n",
    "# 이전 시점의 상태들을 저장하는 텐서\n",
    "decoder_state_input_h = Input(shape=(hidden_size,))\n",
    "decoder_state_input_c = Input(shape=(hidden_size,))\n",
    "\n",
    "dec_emb2 = dec_emb_layer(decoder_inputs)\n",
    "\n",
    "# 문장의 다음 단어를 예측하기 위해서 초기 상태(initial_state)를 이전 시점의 상태로 사용. 이는 뒤의 함수 decode_sequence()에 구현\n",
    "# 훈련 과정에서와 달리 LSTM의 리턴하는 은닉 상태와 셀 상태인 state_h와 state_c를 버리지 않음.\n",
    "decoder_outputs2, state_h2, state_c2 = decoder_lstm(dec_emb2, initial_state=[decoder_state_input_h, decoder_state_input_c])\n",
    "\n",
    "print('=3')"
   ]
  },
  {
   "cell_type": "code",
   "execution_count": 178,
   "id": "1760edfd",
   "metadata": {},
   "outputs": [
    {
     "name": "stdout",
     "output_type": "stream",
     "text": [
      "=3\n"
     ]
    }
   ],
   "source": [
    "# 어텐션 함수\n",
    "decoder_hidden_state_input = Input(shape=(text_max_len, hidden_size))\n",
    "attn_out_inf = attn_layer([decoder_outputs2, decoder_hidden_state_input])\n",
    "decoder_inf_concat = Concatenate(axis=-1, name='concat')([decoder_outputs2, attn_out_inf])\n",
    "\n",
    "# 디코더의 출력층\n",
    "decoder_outputs2 = decoder_softmax_layer(decoder_inf_concat) \n",
    "\n",
    "# 최종 디코더 모델\n",
    "decoder_model = Model(\n",
    "    [decoder_inputs] + [decoder_hidden_state_input,decoder_state_input_h, decoder_state_input_c],\n",
    "    [decoder_outputs2] + [state_h2, state_c2])\n",
    "\n",
    "print('=3')"
   ]
  },
  {
   "cell_type": "code",
   "execution_count": 179,
   "id": "07967029",
   "metadata": {},
   "outputs": [
    {
     "name": "stdout",
     "output_type": "stream",
     "text": [
      "=3\n"
     ]
    }
   ],
   "source": [
    "def decode_sequence(input_seq):\n",
    "    # 입력으로부터 인코더의 상태를 얻음\n",
    "    e_out, e_h, e_c = encoder_model.predict(input_seq)\n",
    "\n",
    "     # <SOS>에 해당하는 토큰 생성\n",
    "    target_seq = np.zeros((1,1))\n",
    "    target_seq[0, 0] = tar_word_to_index['sostoken']\n",
    "\n",
    "    stop_condition = False\n",
    "    decoded_sentence = ''\n",
    "    while not stop_condition: # stop_condition이 True가 될 때까지 루프 반복\n",
    "\n",
    "        output_tokens, h, c = decoder_model.predict([target_seq] + [e_out, e_h, e_c])\n",
    "        sampled_token_index = np.argmax(output_tokens[0, -1, :])\n",
    "        sampled_token = tar_index_to_word[sampled_token_index]\n",
    "\n",
    "        if (sampled_token!='eostoken'):\n",
    "            decoded_sentence += ' '+sampled_token\n",
    "\n",
    "        #  <eos>에 도달하거나 최대 길이를 넘으면 중단.\n",
    "        if (sampled_token == 'eostoken'  or len(decoded_sentence.split()) >= (summary_max_len-1)):\n",
    "            stop_condition = True\n",
    "\n",
    "        # 길이가 1인 타겟 시퀀스를 업데이트\n",
    "        target_seq = np.zeros((1,1))\n",
    "        target_seq[0, 0] = sampled_token_index\n",
    "\n",
    "        # 상태를 업데이트 합니다.\n",
    "        e_h, e_c = h, c\n",
    "\n",
    "    return decoded_sentence\n",
    "print('=3')"
   ]
  },
  {
   "cell_type": "code",
   "execution_count": 180,
   "id": "a939c0ac",
   "metadata": {},
   "outputs": [
    {
     "name": "stdout",
     "output_type": "stream",
     "text": [
      "=3\n"
     ]
    }
   ],
   "source": [
    "# 원문의 정수 시퀀스를 텍스트 시퀀스로 변환\n",
    "def seq2text(input_seq):\n",
    "    temp=''\n",
    "    for i in input_seq:\n",
    "        if (i!=0):\n",
    "            temp = temp + src_index_to_word[i]+' '\n",
    "    return temp\n",
    "\n",
    "# 요약문의 정수 시퀀스를 텍스트 시퀀스로 변환\n",
    "def seq2summary(input_seq):\n",
    "    temp=''\n",
    "    for i in input_seq:\n",
    "        if ((i!=0 and i!=tar_word_to_index['sostoken']) and i!=tar_word_to_index['eostoken']):\n",
    "            temp = temp + tar_index_to_word[i] + ' '\n",
    "    return temp\n",
    "\n",
    "print('=3')"
   ]
  },
  {
   "cell_type": "code",
   "execution_count": 181,
   "id": "3d4fd796",
   "metadata": {},
   "outputs": [
    {
     "name": "stdout",
     "output_type": "stream",
     "text": [
      "원문 : video surfaced online showing three storey building collapsing flat ground within seconds andhra pradesh saturday incident happened work carried underground system building casualties reported far residents evacuated days ago per reports \n",
      "실제 요약 : video building collapses within seconds in andhra \n",
      "예측 요약 :  woman in fire at\n",
      "\n",
      "\n",
      "원문 : year old man russia andrew women photo contest girlfriend participate contest however judges discovered man withdrew promised prize professional \n",
      "실제 요약 : man wins women photo contest \n",
      "예측 요약 :  us man to\n",
      "\n",
      "\n",
      "원문 : calling number seats bjp polls aap leader manish sisodia wednesday said aap analyse reason behind defeat bjp done nothing spread corruption dengue pollution added sisodia claimed without tampering way bjp could many seats \n",
      "실제 요약 : number of seats won by bjp \n",
      "예측 요약 :  rahul gandhi to contest\n",
      "\n",
      "\n",
      "원문 : aamir khan revealed offered rajinikanth role upcoming film rajinikanth feeling well time talking rejected film aamir added used think film think scene sir used come head could \n",
      "실제 요약 : was offered rajinikanth in says aamir khan \n",
      "예측 요약 :  aamir to play in\n",
      "\n",
      "\n",
      "원문 : friend booked naked three tribal employees beating bat suspicion stole litres diesel victims initially willing take action fear fir registered video incident went viral \n",
      "실제 요약 : on of stealing diesel \n",
      "예측 요약 :  man who man who\n",
      "\n",
      "\n",
      "원문 : delhi police accused congress leader shashi tharoor suicide wife death case said investigated case defend case court proper follow court proceedings police added chargesheet alleged tharoor nature forced commit suicide \n",
      "실제 요약 : we case delhi police \n",
      "예측 요약 :  tharoor booked for rape tharoor\n",
      "\n",
      "\n",
      "원문 : chennai family acquired certification home thereby becoming first family country grandfather family household head father children permanent customers guests temporary customers visiting house served form give feedback hospitality food \n",
      "실제 요약 : india only house is in chennai \n",
      "예측 요약 :  world oldest found in\n",
      "\n",
      "\n",
      "원문 : russia partially ukrainian sea amid ongoing standoff two countries ukraine infrastructure minister said russia lifted restrictions movement vessels stopped russian side still traffic restored added \n",
      "실제 요약 : russia ukraine amid \n",
      "예측 요약 :  russia warns us russia\n",
      "\n",
      "\n",
      "원문 : prime minister narendra modi saturday praised artist karan acharya half half black image lord hanuman popular across country achievement power achievement talent imagination said pm modi also slammed congress party trying create controversy around portrait \n",
      "실제 요약 : pm modi praises for \n",
      "예측 요약 :  pm modi launches his pm\n",
      "\n",
      "\n",
      "원문 : university washington researchers developed device times less power stream videos claimed energy consuming work another device using wireless device attached glasses able broadcast signal per second customised camera researchers added \n",
      "실제 요약 : device videos using times less power \n",
      "예측 요약 :  scientists develop to\n",
      "\n",
      "\n",
      "원문 : rejecting us president donald trump iran state country saturday blamed trump policies global security threats notably tensions iran united states since election trump often referred iran key militant groups \n",
      "실제 요약 : iran blames trump for global security threats \n",
      "예측 요약 :  trump calls sanctions against\n",
      "\n",
      "\n",
      "원문 : cricketers pujara harmanpreet kaur varun among conferred arjuna award year tennis player wrestler ratna awardee sakshi malik husband also among recommendations award given august \n",
      "실제 요약 : for award \n",
      "예측 요약 :  award for award\n",
      "\n",
      "\n",
      "원문 : cricketer gautam gambhir wore event held support transgenders delhi tuesday pictures event showed member community making gambhir wear accepted earlier cricketer posted pictures twitter showing getting rakhi tied transgenders rakshabandhan \n",
      "실제 요약 : gambhir to support transgenders \n",
      "예측 요약 :  gambhir harbhajan trolls on training\n",
      "\n",
      "\n",
      "원문 : punjab chief minister captain amarinder singh monday said pakistan spreading terror country pakistan condemn killing pakistan added warning pakistan army chief said allowed enter atmosphere \n",
      "실제 요약 : pakistan terror in the country singh \n",
      "예측 요약 :  pakistan minister to ceasefire in pakistan\n",
      "\n",
      "\n",
      "원문 : first trailer third season american television series starring actress priyanka chopra released priyanka character show new season premiere april unlike first two \n",
      "실제 요약 : trailer of priyanka chopra starrer season out \n",
      "예측 요약 :  new trailer of the film released\n",
      "\n",
      "\n",
      "원문 : least two soldiers injured terrorists opened fire army convoy srinagar passing road saturday troops retaliated fire attackers managed escape area search operation launched security forces \n",
      "실제 요약 : terrorists attack army in two soldiers injured \n",
      "예측 요약 :  killed injured in encounter in\n",
      "\n",
      "\n",
      "원문 : goa government plans bring around existing hectares next year report prepared study goa said amounts goa total area land goa equal area used food crops report said \n",
      "실제 요약 : goa plans to land under \n",
      "예측 요약 :  karnataka to get in\n",
      "\n",
      "\n",
      "원문 : information broadcasting ministry friday increased rates offers advertisements private tv channels lead increase rates channels official statement ministry read earlier month increased rates government advertisements print media \n",
      "실제 요약 : ministry increases ad for private tv \n",
      "예측 요약 :  govt to provide to\n",
      "\n",
      "\n",
      "원문 : nigerian actor played one lead actors malayalam film nigeria accused film producers racial discrimination alleged treated differently due skin colour paid less indian co stars cannot sit back allow happen another young black actor wrote \n",
      "실제 요약 : actor accuses film of \n",
      "예측 요약 :  sridevi actress to sridevi\n",
      "\n",
      "\n",
      "원문 : officials general conference measures announced four base measuring units including kilogram new base unit provided using balance constant currently kilogram officially defined mass cylinder made france \n",
      "실제 요약 : including to be \n",
      "예측 요약 :  to get\n",
      "\n",
      "\n",
      "원문 : islamic state affiliated news agency claimed terrorist group carried attack srinagar making first attack kashmir police sub inspector killed another policeman injured shootout friday indian security forces killed one militants captured another attack \n",
      "실제 요약 : isis claims its first attack in kashmir \n",
      "예측 요약 :  isis claims responsibility attack in afghanistan\n",
      "\n",
      "\n",
      "원문 : chelsea defeated west friday secure fifth premier league title chelsea points games lead second placed still three games play chelsea currently managed italian antonio last title finished th last season \n",
      "실제 요약 : chelsea their league title \n",
      "예측 요약 :  chelsea chelsea beat to\n",
      "\n",
      "\n",
      "원문 : elon musk led electric carmaker tesla manufacturing high ratio vehicle parts require employees reportedly claimed engineer claimed parts made tesla factory require delay production however tesla said unique something manufacturers well \n",
      "실제 요약 : employees claim tesla is report \n",
      "예측 요약 :  tesla recalls cars over\n",
      "\n",
      "\n",
      "원문 : composed music animated years fired awards show said received call producer richard telling company seeking different kind music dismissal related cost cutting measures show makers \n",
      "실제 요약 : the fired after years \n",
      "예측 요약 :  to star in\n",
      "\n",
      "\n",
      "원문 : twitter suspended singer bhattacharya account used inappropriate insulting language offensive tweets directed female twitter users including jnu student activist rashid previously tweeted took money two hours client big racket referring \n",
      "실제 요약 : twitter suspends account over tweets \n",
      "예측 요약 :  twitter account for twitter account\n",
      "\n",
      "\n",
      "원문 : union minister arun jaitley facebook blog titled threatening human rights asked offered response terrorist surrender ceasefire offer anybody taking law hand rule law added jaitley \n",
      "실제 요약 : should be offered in jaitley \n",
      "예측 요약 :  jet airways launches for\n",
      "\n",
      "\n",
      "원문 : facebook appealed fine around imposed uk data watchdog company role cambridge analytica scandal company argued uk regulators failed prove british users directly affected scandal initially reported details million uk based users exposed \n",
      "실제 요약 : facebook fine by uk \n",
      "예측 요약 :  facebook faces fake scandal scandal\n",
      "\n",
      "\n",
      "원문 : presenting budget finance minister arun jaitley announced crore poor women would provided free lpg connections also announced women contribution reduced first three years loans women self help groups increased crore growing previous year \n",
      "실제 요약 : what is in the budget for women \n",
      "예측 요약 :  govt crore for crore\n",
      "\n",
      "\n",
      "원문 : whatsapp co founders brian jan clashes facebook bathroom designs sizes office according wall street journal even gave facebook stock worth million million respectively quit company would eligible stock stayed facebook november \n",
      "실제 요약 : whatsapp founders with facebook over \n",
      "예측 요약 :  facebook ceo million in india\n",
      "\n",
      "\n",
      "원문 : chief justice india saturday slammed developed nations offer financial technological help tackle environmental pollution blamed developing nations largest risk continue accept added world conference environment \n",
      "실제 요약 : blames developed nations for pollution \n",
      "예측 요약 :  india to launch electric\n",
      "\n",
      "\n",
      "원문 : four policemen martyred terrorist attack kashmir shopian district wednesday nthe incident happened hours security forces killed two hizbul mujahideen terrorists anantnag reportedly getting vehicle terrorists opened fire \n",
      "실제 요약 : cops martyred in terrorist attack in jammu kashmir \n",
      "예측 요약 :  militants killed in encounter in encounter\n",
      "\n",
      "\n",
      "원문 : year old man florida us killed pen exploded sending skull man also suffered burns body fire caused cigarette first us caused pen explosion according federal emergency management agency \n",
      "실제 요약 : explosion kills man in us \n",
      "예측 요약 :  man old shot dead in us\n",
      "\n",
      "\n",
      "원문 : saudi arabia king salman bin monday kingdom top military ministerial posts younger officials key economic security areas woman named deputy labour minister conservative kingdom one new posts given previously detained billionaire prince al bin brother \n",
      "실제 요약 : saudi top posts adds woman deputy minister \n",
      "예측 요약 :  saudi arabia bans of saudi arabia\n",
      "\n",
      "\n",
      "원문 : cbi summoned airasia india director july connection alleged corruption airline securing international flying according reports earlier tata sons expressed confidence alleged government officials agency also questioned airasia india cfo deepak mahendra case \n",
      "실제 요약 : cbi india director on july \n",
      "예측 요약 :  cbi raids probe\n",
      "\n",
      "\n",
      "원문 : actress priyanka chopra speaking relationships revealed dated someone america added nothing went otherwise people would know priyanka said dated co stars american television series married \n",
      "실제 요약 : have in priyanka chopra \n",
      "예측 요약 :  priyanka chopra to priyanka\n",
      "\n",
      "\n",
      "원문 : lal ahuja year old man organising daily since poor patients outside government medical college chandigarh started service son eighth birthday organising ever since ahuja sold seven properties raise funds carry service \n",
      "실제 요약 : man sold his properties running for years \n",
      "예측 요약 :  kerala cm attacked in\n",
      "\n",
      "\n",
      "원문 : singapore parliament wednesday passed law block electronic communications scene terror attack law allows authorities stop people scene taking photos videos incident police operations text audio messages government said live coverage helps attackers predict moves \n",
      "실제 요약 : singapore bars communications from terror attack \n",
      "예측 요약 :  uk court chief\n",
      "\n",
      "\n",
      "원문 : korean air employees wore hide faces protest company founding family airline chairman slammed bad behaviour daughters ho elder daughter reportedly lost way served younger daughter accused throwing drink people meeting \n",
      "실제 요약 : airline employees to protest against founders \n",
      "예측 요약 :  chinese workers during live\n",
      "\n",
      "\n",
      "원문 : sleeping giant painted metre high france created duo forms part series wherein sleeping giants painted different sites took two weeks paint \n",
      "실제 요약 : of on french \n",
      "예측 요약 :  opens opens in the\n",
      "\n",
      "\n",
      "원문 : hyderabad based reddy arrested killing sister mentally challenged twins reddy killed want sister suffer looking children reportedly told police crime brought children hyderabad hometown pretext swimming classes \n",
      "실제 요약 : man kills sister in hyderabad \n",
      "예측 요약 :  man old raped suicide in suicide\n",
      "\n",
      "\n",
      "원문 : father vietnam helped young son remove boy tied attached pulled trigger meanwhile father said thought method son become developing \n",
      "실제 요약 : father helps son remove with \n",
      "예측 요약 :  actress passes away at\n",
      "\n",
      "\n",
      "원문 : russian spokesperson dmitry said president vladimir putin believes us strikes syria carried violation international law also invented pretext said organisation chemical weapons special un unit observed confirmed syrian army chemical weapons \n",
      "실제 요약 : us attack on syria international law russia \n",
      "예측 요약 :  russia urges us war\n",
      "\n",
      "\n",
      "원문 : cab hailing startup ola reportedly talks raise million existing investors earlier year ola raised million led largest investor softbank followed million funding round may falcon edge ratan tata recent ola valuation billion \n",
      "실제 요약 : ola to raise over crore from investors \n",
      "예측 요약 :  flipkart startup raises million in funding\n",
      "\n",
      "\n",
      "원문 : passengers travelled express first trip mumbai goa stole headphones damaged screens train railway officials said officials planning appeal passengers damage train however passenger travelling second day claimed toilets \n",
      "실제 요약 : missing after st \n",
      "예측 요약 :  coaches of express in mumbai\n",
      "\n",
      "\n",
      "원문 : cold juice startup raw raised crore mumbai based venture debt firm capital debt equity funding recent funding round extension made raw may year founded counts sequoia capital consumer partners capital existing investors \n",
      "실제 요약 : startup raises crore \n",
      "예측 요약 :  bengaluru based startup raises crore\n",
      "\n",
      "\n",
      "원문 : former agent us intelligence agency cia charged spy chinese government department justice said lee accused classified documents revealing details cia assets china year old worked cia \n",
      "실제 요약 : former charged with for china \n",
      "예측 요약 :  us woman\n",
      "\n",
      "\n",
      "원문 : egyptian court monday sentenced people death attack police station claimed lives policemen attack came military ouster mohamed country first elected president court decision sent grand mufti opinion \n",
      "실제 요약 : egypt to death for police \n",
      "예측 요약 :  sri origin attack in parliament attack\n",
      "\n",
      "\n",
      "원문 : reacting images spanish woman resembling us president donald trump twitter user wrote feel sorry trump users tweeted lady work value day trump entire life sure trump meet putin \n",
      "실제 요약 : twitter reacts to trump spanish \n",
      "예측 요약 :  trump tweets trump donald trump\n",
      "\n",
      "\n",
      "원문 : pakistan cricket board demanded apology afghanistan latter response post kabul bomb blast may killed injured people post blast afghanistan cricket board tweeted cancel existing ties blamed pakistan act calling country safe terrorists \n",
      "실제 요약 : pakistan demands from afghanistan cricket board \n",
      "예측 요약 :  pak origin of pak soldiers\n",
      "\n",
      "\n",
      "원문 : france fifa world cup winning captain plays charged drink driving stopped police london year old goalkeeper expected appear court september charged following routine patrol stop london place \n",
      "실제 요약 : france wc winning captain charged with driving \n",
      "예측 요약 :  fifa world cup\n",
      "\n",
      "\n"
     ]
    }
   ],
   "source": [
    "for i in range(50, 100):\n",
    "    print(\"원문 :\", seq2text(encoder_input_test[i]))\n",
    "    print(\"실제 요약 :\", seq2summary(decoder_input_test[i]))\n",
    "    print(\"예측 요약 :\", decode_sequence(encoder_input_test[i].reshape(1, text_max_len)))\n",
    "    print(\"\\n\")"
   ]
  },
  {
   "cell_type": "code",
   "execution_count": 143,
   "id": "2fc47b04",
   "metadata": {},
   "outputs": [],
   "source": [
    "import requests\n",
    "from summa.summarizer import summarize"
   ]
  },
  {
   "cell_type": "code",
   "execution_count": 144,
   "id": "3f6a81ba",
   "metadata": {},
   "outputs": [],
   "source": [
    "text = requests.get('http://rare-technologies.com/the_matrix_synopsis.txt').text"
   ]
  },
  {
   "cell_type": "code",
   "execution_count": 145,
   "id": "98526d1b",
   "metadata": {},
   "outputs": [
    {
     "name": "stdout",
     "output_type": "stream",
     "text": [
      "The screen is filled with green, cascading code which gives way to the title, The Matrix.\r\n",
      "\r\n",
      "A phone rings and text appears on the screen: \"Call trans opt: received. 2-19-98 13:24:18 REC: Log>\" As a conversation takes place between Trinity (Carrie-Anne Moss) and Cypher (Joe Pantoliano), two free humans, a table of random green numbers are being scanned and individual numbers selected, creating a series of digits not unlike an ordinary phone number, as if a code is being deciphered or a call is being traced.\r\n",
      "\r\n",
      "Trinity discusses some unknown person. Cypher taunts Trinity, suggesting she enjoys watching him. Trinity counters that \"Morpheus (Laurence Fishburne) says he may be 'the One',\" just as the sound of a number being selected alerts Trinity that someone may be tracing their call. She ends the call.\r\n",
      "\r\n",
      "Armed policemen move down a darkened, decrepit hallway in the Heart O' the City Hotel, their flashlight beam bouncing just ahead of them. They come to room 303, kick down the door and find a woman dressed in black, facing away from them. It's Trinity. She brings her hands up from the laptop she's working on at their command.\r\n",
      "\r\n",
      "Outside the hotel a car drives up and three agents appear in neatly pressed black suits. They are Agent Smith (Hugo Weaving), Agent Brown (Paul Goddard), and Agent Jones (Robert Taylor). Agent Smith and the presiding police lieutenant argue. Agent Smith admonishes the policeman that they were given specific orders to contact the agents first, for their\n"
     ]
    }
   ],
   "source": [
    "print(text[:1500])"
   ]
  },
  {
   "cell_type": "code",
   "execution_count": 146,
   "id": "cb6e5cfb",
   "metadata": {},
   "outputs": [
    {
     "name": "stdout",
     "output_type": "stream",
     "text": [
      "Summary:\n",
      "Morpheus, Trinity, Neo, Apoc, Switch, Mouse and Cypher are jacked into the Matrix.\n",
      "Trinity brings the helicopter down to the floor that Morpheus is on and Neo opens fire on the three Agents.\n"
     ]
    }
   ],
   "source": [
    "print('Summary:')\n",
    "print(summarize(text, ratio=0.005))"
   ]
  },
  {
   "cell_type": "code",
   "execution_count": 147,
   "id": "0b94de05",
   "metadata": {},
   "outputs": [
    {
     "name": "stdout",
     "output_type": "stream",
     "text": [
      "Summary:\n",
      "['Morpheus, Trinity, Neo, Apoc, Switch, Mouse and Cypher are jacked into the Matrix.', 'Trinity brings the helicopter down to the floor that Morpheus is on and Neo opens fire on the three Agents.']\n"
     ]
    }
   ],
   "source": [
    "print('Summary:')\n",
    "print(summarize(text, ratio=0.005, split=True))"
   ]
  },
  {
   "cell_type": "code",
   "execution_count": 148,
   "id": "9079e5be",
   "metadata": {},
   "outputs": [
    {
     "name": "stdout",
     "output_type": "stream",
     "text": [
      "Summary:\n",
      "Trinity takes Neo to Morpheus.\n",
      "Morpheus, Trinity, Neo, Apoc, Switch, Mouse and Cypher are jacked into the Matrix.\n",
      "Trinity brings the helicopter down to the floor that Morpheus is on and Neo opens fire on the three Agents.\n"
     ]
    }
   ],
   "source": [
    "print('Summary:')\n",
    "print(summarize(text, words=50))"
   ]
  },
  {
   "cell_type": "markdown",
   "id": "96f36825",
   "metadata": {},
   "source": [
    "# 회고\n",
    "\n",
    "## ### return_sequences parameter is True일 경우, decoder_outputs 은 배치의 샘플수를 의미한다.\n",
    "### 첫 번째 차원 은 LSTM 레이어에 제공된 배치의 샘플 수를 나타냅니다.두 번째 차원 은 입력 시퀀스 의 시간 단계 수입니다. 두 번째 차원을 인덱싱 하여 주어진 시간 단계 에서 단위의 모든 숨겨진 상태에 액세스 할 수 있습니다.세 번째 차원 은 Keras LSTM 구현에서 units 매개변수에 의해 정의된 출력 공간의 차원입니다 .\n",
    "### 배열의 내용은 LSTM 계층 의 각 시간 단계의 모든 숨겨진 상태입니다 \n",
    "\n",
    "## 라는 점을 새롭게 알게 되었고, LSTM 을 이용하여 어텐션 함수를 이용하는 것이, 정말 좋은 아키텍트라고 느껴졌다.\n"
   ]
  },
  {
   "cell_type": "code",
   "execution_count": null,
   "id": "951d565b",
   "metadata": {},
   "outputs": [],
   "source": []
  },
  {
   "cell_type": "code",
   "execution_count": null,
   "id": "aba26999",
   "metadata": {},
   "outputs": [],
   "source": []
  },
  {
   "cell_type": "code",
   "execution_count": null,
   "id": "1bcdfcc4",
   "metadata": {},
   "outputs": [],
   "source": []
  },
  {
   "cell_type": "code",
   "execution_count": null,
   "id": "d6f2dc7a",
   "metadata": {},
   "outputs": [],
   "source": []
  },
  {
   "cell_type": "code",
   "execution_count": null,
   "id": "67996385",
   "metadata": {},
   "outputs": [],
   "source": []
  }
 ],
 "metadata": {
  "kernelspec": {
   "display_name": "Python 3 (ipykernel)",
   "language": "python",
   "name": "python3"
  },
  "language_info": {
   "codemirror_mode": {
    "name": "ipython",
    "version": 3
   },
   "file_extension": ".py",
   "mimetype": "text/x-python",
   "name": "python",
   "nbconvert_exporter": "python",
   "pygments_lexer": "ipython3",
   "version": "3.9.7"
  }
 },
 "nbformat": 4,
 "nbformat_minor": 5
}
