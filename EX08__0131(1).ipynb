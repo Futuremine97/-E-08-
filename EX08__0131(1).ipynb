{
  "cells": [
    {
      "cell_type": "markdown",
      "metadata": {
        "id": "view-in-github",
        "colab_type": "text"
      },
      "source": [
        "<a href=\"https://colab.research.google.com/github/Futuremine97/-E-08-/blob/main/EX08__0131(1).ipynb\" target=\"_parent\"><img src=\"https://colab.research.google.com/assets/colab-badge.svg\" alt=\"Open In Colab\"/></a>"
      ]
    },
    {
      "cell_type": "code",
      "execution_count": null,
      "metadata": {
        "colab": {
          "base_uri": "https://localhost:8080/"
        },
        "id": "qw9KIUBHS3I2",
        "outputId": "3a879e22-8449-4145-9fc3-4b26e2156da0"
      },
      "outputs": [
        {
          "name": "stdout",
          "output_type": "stream",
          "text": [
            "Reading package lists... Done\n",
            "Building dependency tree       \n",
            "Reading state information... Done\n",
            "python-pycurl is already the newest version (7.43.0.1-0.2).\n",
            "python-apt is already the newest version (1.6.5ubuntu0.7).\n",
            "0 upgraded, 0 newly installed, 0 to remove and 74 not upgraded.\n",
            "E: Package 'python-software-properties' has no installation candidate\n",
            "··········\n"
          ]
        }
      ],
      "source": [
        "!sudo apt --fix-broken install python-pycurl python-apt\n",
        "\n",
        "!apt-get install -y -qq software-properties-common python-software-properties module-init-tools\n",
        "\n",
        "!add-apt-repository -y ppa:alessandro-strada/ppa 2>&1 > /dev/null\n",
        "\n",
        "!apt-get update -qq 2>&1 > /dev/null\n",
        "\n",
        "!apt-get -y install -qq google-drive-ocamlfuse fuse\n",
        "\n",
        "from google.colab import auth\n",
        "\n",
        "auth.authenticate_user()\n",
        "\n",
        "from oauth2client.client import GoogleCredentials\n",
        "\n",
        "creds = GoogleCredentials.get_application_default()\n",
        "\n",
        "import getpass\n",
        "!google-drive-ocamlfuse -headless -id={creds.client_id} -secret={creds.client_secret} < /dev/null 2>&1 | grep URL\n",
        "\n",
        "vcode = getpass.getpass()\n",
        "\n",
        "!echo {vcode} | google-drive-ocamlfuse -headless -id={creds.client_id} -secret={creds.client_secret}"
      ]
    },
    {
      "cell_type": "code",
      "execution_count": null,
      "metadata": {
        "id": "1PO404_hS7G9"
      },
      "outputs": [],
      "source": [
        "!mkdir -p Gdrive"
      ]
    },
    {
      "cell_type": "code",
      "execution_count": null,
      "metadata": {
        "colab": {
          "base_uri": "https://localhost:8080/"
        },
        "id": "XyelbzwFS7SR",
        "outputId": "9e0dd9fe-4dde-48e6-c3c0-2a8a8001c5ef"
      },
      "outputs": [
        {
          "name": "stdout",
          "output_type": "stream",
          "text": [
            "fuse: mountpoint is not empty\n",
            "fuse: if you are sure this is safe, use the 'nonempty' mount option\n"
          ]
        }
      ],
      "source": [
        "!google-drive-ocamlfuse Gdrive"
      ]
    },
    {
      "cell_type": "code",
      "execution_count": null,
      "metadata": {
        "colab": {
          "base_uri": "https://localhost:8080/"
        },
        "id": "Cj3U95cqTZpN",
        "outputId": "557fd921-aff8-4673-fb79-a64e0faad7a4"
      },
      "outputs": [
        {
          "name": "stdout",
          "output_type": "stream",
          "text": [
            "adc.json  Gdrive  sample_data\n"
          ]
        }
      ],
      "source": [
        "!ls"
      ]
    },
    {
      "cell_type": "code",
      "execution_count": null,
      "metadata": {
        "colab": {
          "base_uri": "https://localhost:8080/"
        },
        "id": "mdveSmoFTa-2",
        "outputId": "11502bf0-3ec0-4b1f-9537-2fa07875808f"
      },
      "outputs": [
        {
          "name": "stdout",
          "output_type": "stream",
          "text": [
            " 잠\n",
            " 귤\n",
            " 밥\n",
            "'새 폴더'\n",
            " 산책\n",
            " 노래\n",
            " 공부\n",
            " 클럽\n",
            " 웃음\n",
            " 회로\n",
            " 먹방\n",
            "'학식 고'\n",
            " 공부방\n",
            " 지하철\n",
            " 영화관\n",
            "'포트폴리오 - 영상 - 김선현 어드밴스'\n",
            "'사랑에빠진 귤이'\n",
            "'파일_000 (08db3a9c).jpeg'\n",
            "'파일_000 (0c906857).jpeg'\n",
            "'파일_000 (0f70e3fe).png'\n",
            "'파일_000 (1f01042b).jpeg'\n",
            "'파일_000 (293804dd).png'\n",
            "'파일_000 (2dfe88a0).png'\n",
            "'파일_000 (366fd6a8).jpeg'\n",
            "'파일_000 (3c61f657).png'\n",
            "'파일_000 (429974e7).jpeg'\n",
            "'파일_000 (45c0978d).jpeg'\n",
            "'파일_000 (45cee142).jpeg'\n",
            "'파일_000 (4ab2b995).jpeg'\n",
            "'파일_000 (4cc44fc9).png'\n",
            "'파일_000 (51935fd4).png'\n",
            "'파일_000 (5621fe32).jpeg'\n",
            "'파일_000 (8d3d6851).jpeg'\n",
            "'파일_000 (96a852e5).jpeg'\n",
            "'파일_000 (9b12d82a).jpeg'\n",
            "'파일_000 (bd9a9b63).jpeg'\n",
            "'파일_000 (f4810184).jpeg'\n",
            " 파일_000.jpeg\n",
            " 파일_000.png\n",
            " 파일_007.png\n",
            " 파일_008.png\n",
            " 파일_009.png\n",
            " 0117_1.desktop\n",
            " 0.pdf\n",
            " 1\n",
            " 1_001.pdf\n",
            " 10.pdf\n",
            " 11\n",
            "'대지 1-100.jpg'\n",
            "'박성훈 주간보고서1 10:22.docx'\n",
            " 11.pdf\n",
            " 11.psd\n",
            " 12\n",
            "'기초실험(1) 강의계획서_2020.hwp'\n",
            "'12 (a458bfb5).pdf'\n",
            " 12.pdf\n",
            " 13\n",
            "'1 (33b31c4c).pdf'\n",
            " 13.pdf\n",
            "'회로(1).(4장)문제풀이.b693085.박성훈.hwp'\n",
            " 14.pdf\n",
            "'1차실험 5조.hwp'\n",
            "'1626766488398-2021 창업동아리 신청서 (2) (1) (1).docx'\n",
            "'191704_오피스텔 월세 계약서.pdf'\n",
            "'미디어1 (9b86155d).mp4'\n",
            "'19p.1.3 샌드위치 정리 문제풀이 .pdf'\n",
            "'1 (ae087a70).pdf'\n",
            "'1 (d3cb2acc).pdf'\n",
            "'산재보험 자격취득자 명부 (1) (efb5d332).pdf'\n",
            "'1 (f748b403).pdf'\n",
            " 1.jpg\n",
            "'대지 1.mp4'\n",
            " 미디어1.mp4\n",
            " 1.mp4\n",
            "'박성훈 주간보고1.pages'\n",
            "'수료증 (1).pdf'\n",
            "'산재보험 자격취득자 명부 (1).pdf'\n",
            " 공무원생물1.pdf\n",
            " 전자기학1.pdf\n",
            " 1.pdf\n",
            "'대지 1.png'\n",
            " 노래1.png\n",
            " 귤2\n",
            " 응수2\n",
            " 전전기초2\n",
            "'200002_F5司 공통기술팀에서 개발표준 업무를 담딩하는 고성능 쌔信 개발팀에 SQL 작성.pdf'\n",
            " 2_002.pdf\n",
            " 20190312_170038_276.jpg\n",
            " 20190312_170045_512.jpg\n",
            " 20190312_170049_104.jpg\n",
            " 20190318_101355.jpg\n",
            " 20190320_143654.jpg\n",
            " 20190320_143717.jpg\n",
            " 20190320_143735.jpg\n",
            "'20190403_145028_756 (e58ef972).jpg'\n",
            " 20190403_145028_756.jpg\n",
            "'노트 2019. 10. 23..pdf'\n",
            "'새 파일 2020-02-06 14.11.38.pdf'\n",
            " 20200228_162813.mp4\n",
            " 20200228_164427.mp4\n",
            " 20200228_164530.mp4\n",
            "'20200305_전기기사 펼기.pdf'\n",
            "'스크린샷, 2020-04-01 오전 5.20.41.png'\n",
            " 20200517145933.pdf\n",
            " 20201103_002908.jpg\n",
            "'20201117_160747 (b801790a).jpg'\n",
            " 20201117_160747.jpg\n",
            " 20201117_162934.mp4\n",
            " 20201117_165334.jpg\n",
            "'20201117_170420 (9ca4c308).jpg'\n",
            "'20201117_170420 (b4c6324b).jpg'\n",
            " 20201117_170420.jpg\n",
            " 20201117_170548.jpg\n",
            "'20201201_151641 (d6496cb9).jpg'\n",
            " 20201201_151641.jpg\n",
            " 20201201_152302.jpg\n",
            " 20201201_153307.jpg\n",
            " 20201201_155919.jpg\n",
            " 20201201_161408.jpg\n",
            " 20201201_165955.jpg\n",
            "'20201201_172410(0).jpg'\n",
            " 20201201_172717.jpg\n",
            " 20201201_173538.jpg\n",
            " 20201201_173733.jpg\n",
            " 20201201_175003.jpg\n",
            " 20201201_175141.jpg\n",
            " 20201204_114955.jpg\n",
            " 20201204_115045.jpg\n",
            " 20201204_115134.jpg\n",
            " 20201211_181416.mp4\n",
            " 20201211_184750.mp4\n",
            " 20201211_185122.mp4\n",
            " 20201211_185535.mp4\n",
            " 20201211_191242.mp4\n",
            " 20201211_191410.mp4\n",
            " 20201211_194759.jpg\n",
            " 20201211_195249.jpg\n",
            " 20210612232955234.pdf\n",
            " 20210625172540524.pdf\n",
            "'20211112_005732 (d42f21b6).mp4'\n",
            " 20211112_005732.mp4\n",
            "'2021 실전창업교육2기 1단계 사업계획서 박성훈 01031907972 (297ffd55).pdf'\n",
            "'2021 실전창업교육2기 1단계 사업계획서 박성훈 01031907972 (b258bbc2).pdf'\n",
            "'2021 실전창업교육2기 1단계 사업계획서 박성훈 01031907972.pdf'\n",
            "'2021. 2. 2. 오후 8_32_31.mp3'\n",
            "'20220123_SGL 최적화 기본 원리.pdf'\n",
            "'20220123_S○L        활용.pdf'\n",
            "'20220123_SoL 전문가 .pdf'\n",
            "'20220123_국가공인 SQL 전문가개발자 자격검정 안내1.pdf'\n",
            "'이름 없는 노트북 (20).pdf'\n",
            "'박성훈 주간보고서2 11:04.docx'\n",
            " 22.pdf\n",
            "'전기전자기초실험2. 5조. 결과보고서 11월17일 (99cc2499).hwp'\n",
            "'전기전자기초실험2. 5조. 결과보고서 11월17일.hwp'\n",
            "'전기전자기초실험2. 5조. 결과보고서 12월 04일. (98309db3).hwp'\n",
            "'전기전자기초실험2. 5조. 결과보고서 12월 04일.hwp'\n",
            "'전기전자기초실험2. 5조. 결과보고서 12월 04일..hwp'\n",
            "'2차실험 5조.hwp'\n",
            "'2 (76ba16f8).pdf'\n",
            " 27.jpg\n",
            "'2 (ac6ab036).pdf'\n",
            " 피맥2.ai3.ai\n",
            " 2.jpg\n",
            " 2.mp4\n",
            "'가져온 파일 (2).pdf'\n",
            " 전자기학2.pdf\n",
            " 생물2.pdf\n",
            " 유2.pdf\n",
            " 2.pdf\n",
            " 뭐해최종2.png\n",
            " 3_001.pdf\n",
            " 3_002.pdf\n",
            "'3 (086d2d26).pdf'\n",
            " 31.jpg\n",
            " 33.pdf\n",
            "'3차 실험 5조.hwp'\n",
            "'3 (722faf87).pdf'\n",
            " 3.jpg\n",
            " 실험3.mp4\n",
            " 3.mp4\n",
            " 전자기학3.pdf\n",
            " 생물3.pdf\n",
            " 유3.pdf\n",
            " 3.pdf\n",
            " 일하는중3.png\n",
            " 4_001.pdf\n",
            " 4_002.pdf\n",
            "'4 (1b8945df).pdf'\n",
            " 44_001.pdf\n",
            " 44_002.pdf\n",
            " 44_003.pdf\n",
            " 44.pdf\n",
            "'4차실험 5조.hwp'\n",
            "'4 (b4de70fd).pdf'\n",
            " 4차실험.hwp\n",
            " 전자기학4.pdf\n",
            " 생물4.pdf\n",
            " 유4.pdf\n",
            " 4.pdf\n",
            " 5_001.pdf\n",
            " 5_002.pdf\n",
            "'5 (278ac527).pdf'\n",
            "'창의적공학설계 5조 3차발표3.pptx'\n",
            "'5 (74ea06f2).pdf'\n",
            "'5 (8a2e3031).pdf'\n",
            "'가져온 파일 (5).pdf'\n",
            " 전자기학5.pdf\n",
            " 생물5.pdf\n",
            " 유5.pdf\n",
            " 5.pdf\n",
            " 6_001.pdf\n",
            " 6_002.pdf\n",
            " 62.pdf\n",
            " 63.pdf\n",
            " 64.pdf\n",
            " 65.pdf\n",
            " 66.pdf\n",
            " 67.pdf\n",
            " 68.pdf\n",
            " 69.pdf\n",
            " 전자기학6.pdf\n",
            " 생6.pdf\n",
            " 6.pdf\n",
            " 7_001.pdf\n",
            " 70.pdf\n",
            "'7 (2f026fd9).pdf'\n",
            "'가져온 파일 (7).pdf'\n",
            " 전자기학7.pdf\n",
            " 생7.pdf\n",
            " 7.pdf\n",
            " 7.psd\n",
            "'8 (f817bad0).pdf'\n",
            " 8.pdf\n",
            " 9.pdf\n",
            " 9.psd\n",
            " adjustable-gamma-correction-circuit-for-tft-lcd.pdf\n",
            " ans1.pdf\n",
            " ans2.pdf\n",
            " ans3.pdf\n",
            " ans4.pdf\n",
            "'answer of tofel.pdf'\n",
            " 동서식품.avi\n",
            "'B693085 박성훈 인턴십현장실습_장학생_실습시작_보고서 (2) (1).hwp'\n",
            "'B693085 박성훈 회로이론 6장.pdf'\n",
            "'B693085 박성훈 인턴십현장실습_장학생_실습시작_보고서.. (84fed97e).hwp'\n",
            "'b693085  박성훈 과제입니다.hwp'\n",
            "'B693085 박성훈 인턴십현장실습_장학생_실습시작_보고서...hwp'\n",
            "'박성훈 b693085 성평등.pdf'\n",
            "'b693085 박성훈 전전컴 term project (866743dc).pptx'\n",
            "'b693085 박성훈 전전컴 term project.pptx'\n",
            "'ch07-에너지 저장 소자.pdf'\n",
            "'Chapter 10 반도체공학.pdf'\n",
            " Classroom\n",
            " Comic-Inker.brush\n",
            "'cs231n_2018_lecture06 (88238c23).pdf'\n",
            " cs231n_2018_lecture06.pdf\n",
            "'제목 없는 프레젠테이션.desktop'\n",
            " ㄱㅌ.desktop\n",
            " 질문방.desktop\n",
            " dg1.jpg\n",
            " dg1.pdf\n",
            " dg2.pdf\n",
            " dg3.pdf\n",
            " dg4.pdf\n",
            " dg5.pdf\n",
            " Dsp\n",
            " EX08.ipynb\n",
            "'[창업동아리] 가지급금 정산 서식_스틸시프트. (fc2848f8).hwp'\n",
            " gen1.pdf\n",
            " gen2.pdf\n",
            " gen3.pdf\n",
            " gen4.pdf\n",
            " gen5.pdf\n",
            " gen6.pdf\n",
            " gen7.pdf\n",
            " gen8.pdf\n",
            " gen9.pdf\n",
            " generalphs.pdf\n",
            "'GOMCAM 20200401_0927590540.mp4'\n",
            "'GOMCAM 20210317_1000030074.mp4'\n",
            "'GOMCAM 20210331_0959440143 (fbd16501).zip'\n",
            "'GOMCAM 20210331_0959440143.zip'\n",
            " gp2.pdf\n",
            " gp3.pdf\n",
            " gp4.pdf\n",
            " gp5.pdf\n",
            " gp6.pdf\n",
            " GREVER홀수1.pdf\n",
            " GREVER홀수2.pdf\n",
            " GREVER홀수3.pdf\n",
            " GREVER홀수4.pdf\n",
            "'[창업동아리] 가지급금 정산 서식_스틸시프트..hwp'\n",
            " HyperParameterData1.desktop\n",
            " IMG-0351.jpg\n",
            "'IMG_0640 (79204a6c).jpg'\n",
            " IMG_0640.jpg\n",
            "'IMG_0641 (a071b958).jpg'\n",
            " IMG_0641.jpg\n",
            " IMG_1683.JPG\n",
            " j2.pdf\n",
            " j3.pdf\n",
            " j4.pdf\n",
            " j5.pdf\n",
            " j6.pdf\n",
            " j7.pdf\n",
            " j8.pdf\n",
            " j9.pdf\n",
            " ㄷ.jpg\n",
            " 엄마아빠.jpg\n",
            " KakaoTalk_Image_2021-12-29-10-39-53.jpeg\n",
            " KakaoTalk_Video_2021-11-28-20-37-54.mp4\n",
            " k.png\n",
            "'lab5 오류수정 최종 TB.PNG'\n",
            " lc1.pdf\n",
            "'lc2 (514fc492).pdf'\n",
            " lc2.pdf\n",
            "'lc3 (a2dbe136).pdf'\n",
            " lc3.pdf\n",
            "'lc4 (b58d9007).pdf'\n",
            " lc4.pdf\n",
            " lc5.pdf\n",
            " lc6.pdf\n",
            "'lecture_6 : Training Neural Networks.desktop'\n",
            "'lidarsensor (010853c5).mp4'\n",
            " lidarsensor.mp4\n",
            " 제목_없는_아트워크.mp4\n",
            "'New hwp.hwp'\n",
            " Notability\n",
            "'Notability (840b2f73)'\n",
            "'Notability (dc675e59)'\n",
            "'page_ (d5a3a661).pdf'\n",
            " page_.pdf\n",
            " 수료증.pdf\n",
            " 이기적유.pdf\n",
            "'해지신청서 예시포함.pdf'\n",
            " 프레젠테이션.pdf\n",
            "'가져온 파일.pdf'\n",
            " 대학물리.pdf\n",
            " 빈출단어.pdf\n",
            " 피맥.png\n",
            " 지하철.png\n",
            " 톰크루즈.png\n",
            " 컴퓨터일과.png\n",
            " 노래방최종.png\n",
            "'라이다 임베디드 프로젝트.pptx'\n",
            "'박성훈 창업경진대회.pptx'\n",
            " q1.pdf\n",
            " q2.pdf\n",
            " q3.pdf\n",
            " q4.pdf\n",
            " q5.pdf\n",
            " 박성훈resume.01026837972.docx\n",
            " 박성훈resume.01026837972.docx\n",
            " s1.pdf\n",
            " s2.pdf\n",
            " s3.pdf\n",
            " s4.pdf\n",
            " s5.pdf\n",
            " s6.pdf\n",
            " s7.pdf\n",
            " s8.pdf\n",
            " ScanSnap\n",
            " sk2.pdf\n",
            " sk3.pdf\n",
            " sk4.pdf\n",
            " s노래.png\n",
            " sw1.pdf\n",
            " sw2.pdf\n",
            " sw3.pdf\n",
            " sw4.pdf\n",
            " sw5.pdf\n",
            " sw6.pdf\n",
            " sw7.pdf\n",
            " sw8.pdf\n",
            " t0.pdf\n",
            " t1.pdf\n",
            " t2.pdf\n",
            " tffault.pdf\n",
            "'TFLC1 (df660d90).pdf'\n",
            " tflc1.pdf\n",
            " TFLC1.pdf\n",
            "'TFLC2 (b8826155).pdf'\n",
            " TFLC2.pdf\n",
            "'TFLC3 (b538374e).pdf'\n",
            " TFLC3.pdf\n",
            "'TFLC4 (6b144248).pdf'\n",
            " TFLC4.pdf\n",
            "'TFLC5 (35c95b33).pdf'\n",
            " TFLC5.pdf\n",
            "'TFLC6 (68599b2b).pdf'\n",
            " TFLC6.pdf\n",
            " tfmr1.pdf\n",
            " tfmr2.pdf\n",
            " tfmr3.pdf\n",
            " tfmr4.pdf\n",
            " tfmr5.pdf\n",
            " tfsk1.pdf\n",
            "'Thinking forum.pdf'\n",
            " toaz.info-microelectronic-circuits-by-sedra-smith-7th-editionpdf-pr_25e4a85f6ef2079300ee4d8656758c1c.pdf\n",
            " Track_100.mp3\n",
            " Track_101.mp3\n",
            " Track_102.mp3\n",
            " Track_103.mp3\n",
            " Track_104.mp3\n",
            " Track_105.mp3\n",
            " Track_106.mp3\n",
            " Track_107.mp3\n",
            " Track_108.mp3\n",
            " Track_109.mp3\n",
            " Track_10.mp3\n",
            " Track_110.mp3\n",
            " Track_111.mp3\n",
            " Track_112.mp3\n",
            " Track_113.mp3\n",
            " Track_114.mp3\n",
            " Track_115.mp3\n",
            " Track_116.mp3\n",
            " Track_117.mp3\n",
            " Track_118.mp3\n",
            " Track_119.mp3\n",
            " Track_11.mp3\n",
            " Track_120.mp3\n",
            " Track_121.mp3\n",
            " Track_122.mp3\n",
            " Track_123.mp3\n",
            " Track_124.mp3\n",
            " Track_125.mp3\n",
            " Track_126.mp3\n",
            " Track_127.mp3\n",
            " Track_128.mp3\n",
            " Track_129.mp3\n",
            " Track_12.mp3\n",
            " Track_130.mp3\n",
            " Track_131.mp3\n",
            " Track_132.mp3\n",
            " Track_133.mp3\n",
            " Track_134.mp3\n",
            " Track_135.mp3\n",
            " Track_136.mp3\n",
            " Track_137.mp3\n",
            " Track_138.mp3\n",
            " Track_139.mp3\n",
            " Track_13.mp3\n",
            " Track_140.mp3\n",
            " Track_141.mp3\n",
            " Track_142.mp3\n",
            " Track_143.mp3\n",
            " Track_144.mp3\n",
            " Track_145.mp3\n",
            " Track_146.mp3\n",
            " Track_147.mp3\n",
            " Track_148.mp3\n",
            " Track_149.mp3\n",
            " Track_14.mp3\n",
            " Track_150.mp3\n",
            " Track_151.mp3\n",
            " Track_152.mp3\n",
            " Track_153.mp3\n",
            " Track_154.mp3\n",
            " Track_155.mp3\n",
            " Track_156.mp3\n",
            " Track_157.mp3\n",
            " Track_158.mp3\n",
            " Track_159.mp3\n",
            " Track_15.mp3\n",
            " Track_160.mp3\n",
            " Track_161.mp3\n",
            " Track_162.mp3\n",
            " Track_163.mp3\n",
            " Track_164.mp3\n",
            " Track_165.mp3\n",
            " Track_166.mp3\n",
            " Track_167.mp3\n",
            " Track_168.mp3\n",
            " Track_16.mp3\n",
            " Track_17.mp3\n",
            " Track_18.mp3\n",
            " Track_19.mp3\n",
            " Track_1.mp3\n",
            " Track_20.mp3\n",
            " Track_21.mp3\n",
            " Track_22.mp3\n",
            " Track_23.mp3\n",
            " Track_24.mp3\n",
            " Track_25.mp3\n",
            " Track_26.mp3\n",
            " Track_27.mp3\n",
            " Track_28.mp3\n",
            " Track_29.mp3\n",
            " Track_2.mp3\n",
            " Track_30.mp3\n",
            " Track_31.mp3\n",
            " Track_32.mp3\n",
            " Track_33.mp3\n",
            " Track_34.mp3\n",
            " Track_35.mp3\n",
            " Track_36.mp3\n",
            " Track_37.mp3\n",
            " Track_38.mp3\n",
            " Track_39.mp3\n",
            " Track_3.mp3\n",
            " Track_40.mp3\n",
            " Track_41.mp3\n",
            " Track_42.mp3\n",
            " Track_43.mp3\n",
            " Track_44.mp3\n",
            " Track_45.mp3\n",
            " Track_46.mp3\n",
            " Track_47.mp3\n",
            " Track_48.mp3\n",
            " Track_49.mp3\n",
            " Track_4.mp3\n",
            " Track_50.mp3\n",
            " Track_51.mp3\n",
            " Track_52.mp3\n",
            " Track_53.mp3\n",
            " Track_54.mp3\n",
            " Track_55.mp3\n",
            " Track_56.mp3\n",
            " Track_57.mp3\n",
            " Track_58.mp3\n",
            " Track_59.mp3\n",
            " Track_5.mp3\n",
            " Track_60.mp3\n",
            " Track_61.mp3\n",
            " Track_62.mp3\n",
            " Track_63.mp3\n",
            " Track_64.mp3\n",
            " Track_65.mp3\n",
            " Track_66.mp3\n",
            " Track_67.mp3\n",
            " Track_68.mp3\n",
            " Track_69.mp3\n",
            " Track_6.mp3\n",
            " Track_70.mp3\n",
            " Track_71.mp3\n",
            " Track_72.mp3\n",
            " Track_73.mp3\n",
            " Track_74.mp3\n",
            " Track_75.mp3\n",
            " Track_76.mp3\n",
            " Track_77.mp3\n",
            " Track_78.mp3\n",
            " Track_79.mp3\n",
            " Track_7.mp3\n",
            " Track_80.mp3\n",
            " Track_81.mp3\n",
            " Track_82.mp3\n",
            " Track_83.mp3\n",
            " Track_84.mp3\n",
            " Track_85.mp3\n",
            " Track_86.mp3\n",
            " Track_87.mp3\n",
            " Track_88.mp3\n",
            " Track_89.mp3\n",
            " Track_8.mp3\n",
            " Track_90.mp3\n",
            " Track_91.mp3\n",
            " Track_92.mp3\n",
            " Track_93.mp3\n",
            " Track_94.mp3\n",
            " Track_95.mp3\n",
            " Track_96.mp3\n",
            " Track_97.mp3\n",
            " Track_98.mp3\n",
            " Track_99.mp3\n",
            " Track_9.mp3\n",
            " Untitled0.ipynb\n",
            "'물방울 컴퍼니 UXUI 디자인.ai'\n",
            " v1.pdf\n",
            " v2.pdf\n",
            " v3.pdf\n",
            " v4.pdf\n",
            " VID_45730809_164818_540.mp4\n",
            " VID_45730810_192015_886.mp4\n",
            " wr중급실전2.pdf\n",
            " WR중급실전3.pdf\n",
            " wr중급실전.pdf\n",
            " wt1.pdf\n",
            " wt2.pdf\n",
            " wt3.pdf\n",
            " wt4.pdf\n",
            " wt5.pdf\n",
            " wt6.pdf\n",
            " wt7.pdf\n",
            " wt8.pdf\n",
            " wt9.pdf\n",
            " wtdap1.pdf\n",
            " wtdap2.pdf\n",
            " wtdap3.pdf\n",
            " Y\n"
          ]
        }
      ],
      "source": [
        "!ls Gdrive"
      ]
    },
    {
      "cell_type": "code",
      "execution_count": null,
      "metadata": {
        "colab": {
          "base_uri": "https://localhost:8080/"
        },
        "id": "YfFY2tceTdpW",
        "outputId": "c136ee71-1c2d-4eb2-b136-3a36a4a729bc"
      },
      "outputs": [
        {
          "name": "stdout",
          "output_type": "stream",
          "text": [
            "=3\n"
          ]
        }
      ],
      "source": [
        "# !pip uninstall nltk\n",
        "# %tensorflow_version 2.x\n",
        "# !pip3 install nltk\n",
        "# !py -3 -m pip install nltk\n",
        "# !pip3 install tensorflow\n",
        "# import nltk\n",
        "# nltk.download('stopwords')\n",
        "#import tensorflow as tf\n",
        "import numpy as np\n",
        "import pandas as pd\n",
        "import os\n",
        "import re\n",
        "import matplotlib.pyplot as plt\n",
        "from nltk.corpus import stopwords\n",
        "from bs4 import BeautifulSoup \n",
        "from tensorflow.keras.preprocessing.text import Tokenizer \n",
        "from tensorflow.keras.preprocessing.sequence import pad_sequences\n",
        "import urllib.request\n",
        "import warnings\n",
        "warnings.filterwarnings(\"ignore\", category=UserWarning, module='bs4')\n",
        "\n",
        "# resolver=tf.distribute.cluster_resolver.TPUClusterResolver('grpc://10.119.43.66:8470')\n",
        "# tf.config.experimental_connect_to_cluster(resolver)\n",
        "# tf.tpu.experimental.initialize_tpu_system(resolver)\n",
        "# strategy = tf.distribute.TPUStrategy(resolver)\n",
        "print('=3')"
      ]
    },
    {
      "cell_type": "code",
      "execution_count": null,
      "metadata": {
        "colab": {
          "base_uri": "https://localhost:8080/"
        },
        "id": "aRu2y3TjA4CH",
        "outputId": "41b5a1fc-3695-41c1-bfaa-5052b4a1a673"
      },
      "outputs": [
        {
          "name": "stdout",
          "output_type": "stream",
          "text": [
            "INFO:tensorflow:Deallocate tpu buffers before initializing tpu system.\n"
          ]
        },
        {
          "name": "stderr",
          "output_type": "stream",
          "text": [
            "INFO:tensorflow:Deallocate tpu buffers before initializing tpu system.\n"
          ]
        },
        {
          "name": "stdout",
          "output_type": "stream",
          "text": [
            "INFO:tensorflow:Initializing the TPU system: grpc://10.29.50.154:8470\n"
          ]
        },
        {
          "name": "stderr",
          "output_type": "stream",
          "text": [
            "INFO:tensorflow:Initializing the TPU system: grpc://10.29.50.154:8470\n"
          ]
        },
        {
          "name": "stdout",
          "output_type": "stream",
          "text": [
            "INFO:tensorflow:Finished initializing TPU system.\n"
          ]
        },
        {
          "name": "stderr",
          "output_type": "stream",
          "text": [
            "INFO:tensorflow:Finished initializing TPU system.\n"
          ]
        },
        {
          "name": "stdout",
          "output_type": "stream",
          "text": [
            "INFO:tensorflow:Found TPU system:\n"
          ]
        },
        {
          "name": "stderr",
          "output_type": "stream",
          "text": [
            "INFO:tensorflow:Found TPU system:\n"
          ]
        },
        {
          "name": "stdout",
          "output_type": "stream",
          "text": [
            "INFO:tensorflow:*** Num TPU Cores: 8\n"
          ]
        },
        {
          "name": "stderr",
          "output_type": "stream",
          "text": [
            "INFO:tensorflow:*** Num TPU Cores: 8\n"
          ]
        },
        {
          "name": "stdout",
          "output_type": "stream",
          "text": [
            "INFO:tensorflow:*** Num TPU Workers: 1\n"
          ]
        },
        {
          "name": "stderr",
          "output_type": "stream",
          "text": [
            "INFO:tensorflow:*** Num TPU Workers: 1\n"
          ]
        },
        {
          "name": "stdout",
          "output_type": "stream",
          "text": [
            "INFO:tensorflow:*** Num TPU Cores Per Worker: 8\n"
          ]
        },
        {
          "name": "stderr",
          "output_type": "stream",
          "text": [
            "INFO:tensorflow:*** Num TPU Cores Per Worker: 8\n"
          ]
        },
        {
          "name": "stdout",
          "output_type": "stream",
          "text": [
            "INFO:tensorflow:*** Available Device: _DeviceAttributes(/job:localhost/replica:0/task:0/device:CPU:0, CPU, 0, 0)\n"
          ]
        },
        {
          "name": "stderr",
          "output_type": "stream",
          "text": [
            "INFO:tensorflow:*** Available Device: _DeviceAttributes(/job:localhost/replica:0/task:0/device:CPU:0, CPU, 0, 0)\n"
          ]
        },
        {
          "name": "stdout",
          "output_type": "stream",
          "text": [
            "INFO:tensorflow:*** Available Device: _DeviceAttributes(/job:worker/replica:0/task:0/device:CPU:0, CPU, 0, 0)\n"
          ]
        },
        {
          "name": "stderr",
          "output_type": "stream",
          "text": [
            "INFO:tensorflow:*** Available Device: _DeviceAttributes(/job:worker/replica:0/task:0/device:CPU:0, CPU, 0, 0)\n"
          ]
        },
        {
          "name": "stdout",
          "output_type": "stream",
          "text": [
            "INFO:tensorflow:*** Available Device: _DeviceAttributes(/job:worker/replica:0/task:0/device:TPU:0, TPU, 0, 0)\n"
          ]
        },
        {
          "name": "stderr",
          "output_type": "stream",
          "text": [
            "INFO:tensorflow:*** Available Device: _DeviceAttributes(/job:worker/replica:0/task:0/device:TPU:0, TPU, 0, 0)\n"
          ]
        },
        {
          "name": "stdout",
          "output_type": "stream",
          "text": [
            "INFO:tensorflow:*** Available Device: _DeviceAttributes(/job:worker/replica:0/task:0/device:TPU:1, TPU, 0, 0)\n"
          ]
        },
        {
          "name": "stderr",
          "output_type": "stream",
          "text": [
            "INFO:tensorflow:*** Available Device: _DeviceAttributes(/job:worker/replica:0/task:0/device:TPU:1, TPU, 0, 0)\n"
          ]
        },
        {
          "name": "stdout",
          "output_type": "stream",
          "text": [
            "INFO:tensorflow:*** Available Device: _DeviceAttributes(/job:worker/replica:0/task:0/device:TPU:2, TPU, 0, 0)\n"
          ]
        },
        {
          "name": "stderr",
          "output_type": "stream",
          "text": [
            "INFO:tensorflow:*** Available Device: _DeviceAttributes(/job:worker/replica:0/task:0/device:TPU:2, TPU, 0, 0)\n"
          ]
        },
        {
          "name": "stdout",
          "output_type": "stream",
          "text": [
            "INFO:tensorflow:*** Available Device: _DeviceAttributes(/job:worker/replica:0/task:0/device:TPU:3, TPU, 0, 0)\n"
          ]
        },
        {
          "name": "stderr",
          "output_type": "stream",
          "text": [
            "INFO:tensorflow:*** Available Device: _DeviceAttributes(/job:worker/replica:0/task:0/device:TPU:3, TPU, 0, 0)\n"
          ]
        },
        {
          "name": "stdout",
          "output_type": "stream",
          "text": [
            "INFO:tensorflow:*** Available Device: _DeviceAttributes(/job:worker/replica:0/task:0/device:TPU:4, TPU, 0, 0)\n"
          ]
        },
        {
          "name": "stderr",
          "output_type": "stream",
          "text": [
            "INFO:tensorflow:*** Available Device: _DeviceAttributes(/job:worker/replica:0/task:0/device:TPU:4, TPU, 0, 0)\n"
          ]
        },
        {
          "name": "stdout",
          "output_type": "stream",
          "text": [
            "INFO:tensorflow:*** Available Device: _DeviceAttributes(/job:worker/replica:0/task:0/device:TPU:5, TPU, 0, 0)\n"
          ]
        },
        {
          "name": "stderr",
          "output_type": "stream",
          "text": [
            "INFO:tensorflow:*** Available Device: _DeviceAttributes(/job:worker/replica:0/task:0/device:TPU:5, TPU, 0, 0)\n"
          ]
        },
        {
          "name": "stdout",
          "output_type": "stream",
          "text": [
            "INFO:tensorflow:*** Available Device: _DeviceAttributes(/job:worker/replica:0/task:0/device:TPU:6, TPU, 0, 0)\n"
          ]
        },
        {
          "name": "stderr",
          "output_type": "stream",
          "text": [
            "INFO:tensorflow:*** Available Device: _DeviceAttributes(/job:worker/replica:0/task:0/device:TPU:6, TPU, 0, 0)\n"
          ]
        },
        {
          "name": "stdout",
          "output_type": "stream",
          "text": [
            "INFO:tensorflow:*** Available Device: _DeviceAttributes(/job:worker/replica:0/task:0/device:TPU:7, TPU, 0, 0)\n"
          ]
        },
        {
          "name": "stderr",
          "output_type": "stream",
          "text": [
            "INFO:tensorflow:*** Available Device: _DeviceAttributes(/job:worker/replica:0/task:0/device:TPU:7, TPU, 0, 0)\n"
          ]
        },
        {
          "name": "stdout",
          "output_type": "stream",
          "text": [
            "INFO:tensorflow:*** Available Device: _DeviceAttributes(/job:worker/replica:0/task:0/device:TPU_SYSTEM:0, TPU_SYSTEM, 0, 0)\n"
          ]
        },
        {
          "name": "stderr",
          "output_type": "stream",
          "text": [
            "INFO:tensorflow:*** Available Device: _DeviceAttributes(/job:worker/replica:0/task:0/device:TPU_SYSTEM:0, TPU_SYSTEM, 0, 0)\n"
          ]
        },
        {
          "name": "stdout",
          "output_type": "stream",
          "text": [
            "INFO:tensorflow:*** Available Device: _DeviceAttributes(/job:worker/replica:0/task:0/device:XLA_CPU:0, XLA_CPU, 0, 0)\n"
          ]
        },
        {
          "name": "stderr",
          "output_type": "stream",
          "text": [
            "INFO:tensorflow:*** Available Device: _DeviceAttributes(/job:worker/replica:0/task:0/device:XLA_CPU:0, XLA_CPU, 0, 0)\n"
          ]
        },
        {
          "name": "stdout",
          "output_type": "stream",
          "text": [
            "=3\n"
          ]
        }
      ],
      "source": [
        "resolver=tf.distribute.cluster_resolver.TPUClusterResolver('grpc://10.29.50.154:8470')\n",
        "tf.config.experimental_connect_to_cluster(resolver)\n",
        "tf.tpu.experimental.initialize_tpu_system(resolver)\n",
        "strategy = tf.distribute.TPUStrategy(resolver)\n",
        "print('=3')"
      ]
    },
    {
      "cell_type": "code",
      "execution_count": null,
      "metadata": {
        "colab": {
          "base_uri": "https://localhost:8080/"
        },
        "id": "zSiHtpPFTd3U",
        "outputId": "a02276f7-8074-4a9f-d77c-72e570b30cad"
      },
      "outputs": [
        {
          "name": "stdout",
          "output_type": "stream",
          "text": [
            "Found TPU at: grpc://10.29.50.154:8470\n"
          ]
        }
      ],
      "source": [
        "import tensorflow as tf\n",
        "import numpy as np\n",
        "import os\n",
        "\n",
        "try:\n",
        "  device_name = os.environ['COLAB_TPU_ADDR']\n",
        "  TPU_ADDRESS = 'grpc://' + device_name\n",
        "  print('Found TPU at: {}'.format(TPU_ADDRESS))\n",
        "\n",
        "except KeyError:\n",
        "  print('TPU not found')"
      ]
    },
    {
      "cell_type": "markdown",
      "metadata": {
        "id": "m_u6oikZEnvI"
      },
      "source": [
        "이 위의 주소로 위위코드를 돌릴 것!!\n",
        "매일 바뀌므로, 돌릴때마다 주의해서 다시 돌릴 것 "
      ]
    },
    {
      "cell_type": "code",
      "execution_count": null,
      "metadata": {
        "id": "c3G1wti9Td73"
      },
      "outputs": [],
      "source": [
        "import urllib.request\n",
        "urllib.request.urlretrieve(\"https://raw.githubusercontent.com/sunnysai12345/News_Summary/master/news_summary_more.csv\", filename=\"news_summary_more.csv\")\n",
        "data = pd.read_csv('news_summary_more.csv', encoding='iso-8859-1')"
      ]
    },
    {
      "cell_type": "code",
      "execution_count": null,
      "metadata": {
        "colab": {
          "base_uri": "https://localhost:8080/",
          "height": 206
        },
        "id": "wJUa6sPsTd-M",
        "outputId": "c0532302-c758-45d0-dfc4-67c2b2125a41"
      },
      "outputs": [
        {
          "data": {
            "text/html": [
              "\n",
              "  <div id=\"df-094eac6e-87b9-4443-8e0a-fb5a28ace840\">\n",
              "    <div class=\"colab-df-container\">\n",
              "      <div>\n",
              "<style scoped>\n",
              "    .dataframe tbody tr th:only-of-type {\n",
              "        vertical-align: middle;\n",
              "    }\n",
              "\n",
              "    .dataframe tbody tr th {\n",
              "        vertical-align: top;\n",
              "    }\n",
              "\n",
              "    .dataframe thead th {\n",
              "        text-align: right;\n",
              "    }\n",
              "</style>\n",
              "<table border=\"1\" class=\"dataframe\">\n",
              "  <thead>\n",
              "    <tr style=\"text-align: right;\">\n",
              "      <th></th>\n",
              "      <th>headlines</th>\n",
              "      <th>text</th>\n",
              "    </tr>\n",
              "  </thead>\n",
              "  <tbody>\n",
              "    <tr>\n",
              "      <th>0</th>\n",
              "      <td>upGrad learner switches to career in ML &amp; Al w...</td>\n",
              "      <td>Saurav Kant, an alumnus of upGrad and IIIT-B's...</td>\n",
              "    </tr>\n",
              "    <tr>\n",
              "      <th>1</th>\n",
              "      <td>Delhi techie wins free food from Swiggy for on...</td>\n",
              "      <td>Kunal Shah's credit card bill payment platform...</td>\n",
              "    </tr>\n",
              "    <tr>\n",
              "      <th>2</th>\n",
              "      <td>New Zealand end Rohit Sharma-led India's 12-ma...</td>\n",
              "      <td>New Zealand defeated India by 8 wickets in the...</td>\n",
              "    </tr>\n",
              "    <tr>\n",
              "      <th>3</th>\n",
              "      <td>Aegon life iTerm insurance plan helps customer...</td>\n",
              "      <td>With Aegon Life iTerm Insurance plan, customer...</td>\n",
              "    </tr>\n",
              "    <tr>\n",
              "      <th>4</th>\n",
              "      <td>Have known Hirani for yrs, what if MeToo claim...</td>\n",
              "      <td>Speaking about the sexual harassment allegatio...</td>\n",
              "    </tr>\n",
              "  </tbody>\n",
              "</table>\n",
              "</div>\n",
              "      <button class=\"colab-df-convert\" onclick=\"convertToInteractive('df-094eac6e-87b9-4443-8e0a-fb5a28ace840')\"\n",
              "              title=\"Convert this dataframe to an interactive table.\"\n",
              "              style=\"display:none;\">\n",
              "        \n",
              "  <svg xmlns=\"http://www.w3.org/2000/svg\" height=\"24px\"viewBox=\"0 0 24 24\"\n",
              "       width=\"24px\">\n",
              "    <path d=\"M0 0h24v24H0V0z\" fill=\"none\"/>\n",
              "    <path d=\"M18.56 5.44l.94 2.06.94-2.06 2.06-.94-2.06-.94-.94-2.06-.94 2.06-2.06.94zm-11 1L8.5 8.5l.94-2.06 2.06-.94-2.06-.94L8.5 2.5l-.94 2.06-2.06.94zm10 10l.94 2.06.94-2.06 2.06-.94-2.06-.94-.94-2.06-.94 2.06-2.06.94z\"/><path d=\"M17.41 7.96l-1.37-1.37c-.4-.4-.92-.59-1.43-.59-.52 0-1.04.2-1.43.59L10.3 9.45l-7.72 7.72c-.78.78-.78 2.05 0 2.83L4 21.41c.39.39.9.59 1.41.59.51 0 1.02-.2 1.41-.59l7.78-7.78 2.81-2.81c.8-.78.8-2.07 0-2.86zM5.41 20L4 18.59l7.72-7.72 1.47 1.35L5.41 20z\"/>\n",
              "  </svg>\n",
              "      </button>\n",
              "      \n",
              "  <style>\n",
              "    .colab-df-container {\n",
              "      display:flex;\n",
              "      flex-wrap:wrap;\n",
              "      gap: 12px;\n",
              "    }\n",
              "\n",
              "    .colab-df-convert {\n",
              "      background-color: #E8F0FE;\n",
              "      border: none;\n",
              "      border-radius: 50%;\n",
              "      cursor: pointer;\n",
              "      display: none;\n",
              "      fill: #1967D2;\n",
              "      height: 32px;\n",
              "      padding: 0 0 0 0;\n",
              "      width: 32px;\n",
              "    }\n",
              "\n",
              "    .colab-df-convert:hover {\n",
              "      background-color: #E2EBFA;\n",
              "      box-shadow: 0px 1px 2px rgba(60, 64, 67, 0.3), 0px 1px 3px 1px rgba(60, 64, 67, 0.15);\n",
              "      fill: #174EA6;\n",
              "    }\n",
              "\n",
              "    [theme=dark] .colab-df-convert {\n",
              "      background-color: #3B4455;\n",
              "      fill: #D2E3FC;\n",
              "    }\n",
              "\n",
              "    [theme=dark] .colab-df-convert:hover {\n",
              "      background-color: #434B5C;\n",
              "      box-shadow: 0px 1px 3px 1px rgba(0, 0, 0, 0.15);\n",
              "      filter: drop-shadow(0px 1px 2px rgba(0, 0, 0, 0.3));\n",
              "      fill: #FFFFFF;\n",
              "    }\n",
              "  </style>\n",
              "\n",
              "      <script>\n",
              "        const buttonEl =\n",
              "          document.querySelector('#df-094eac6e-87b9-4443-8e0a-fb5a28ace840 button.colab-df-convert');\n",
              "        buttonEl.style.display =\n",
              "          google.colab.kernel.accessAllowed ? 'block' : 'none';\n",
              "\n",
              "        async function convertToInteractive(key) {\n",
              "          const element = document.querySelector('#df-094eac6e-87b9-4443-8e0a-fb5a28ace840');\n",
              "          const dataTable =\n",
              "            await google.colab.kernel.invokeFunction('convertToInteractive',\n",
              "                                                     [key], {});\n",
              "          if (!dataTable) return;\n",
              "\n",
              "          const docLinkHtml = 'Like what you see? Visit the ' +\n",
              "            '<a target=\"_blank\" href=https://colab.research.google.com/notebooks/data_table.ipynb>data table notebook</a>'\n",
              "            + ' to learn more about interactive tables.';\n",
              "          element.innerHTML = '';\n",
              "          dataTable['output_type'] = 'display_data';\n",
              "          await google.colab.output.renderOutput(dataTable, element);\n",
              "          const docLink = document.createElement('div');\n",
              "          docLink.innerHTML = docLinkHtml;\n",
              "          element.appendChild(docLink);\n",
              "        }\n",
              "      </script>\n",
              "    </div>\n",
              "  </div>\n",
              "  "
            ],
            "text/plain": [
              "                                           headlines                                               text\n",
              "0  upGrad learner switches to career in ML & Al w...  Saurav Kant, an alumnus of upGrad and IIIT-B's...\n",
              "1  Delhi techie wins free food from Swiggy for on...  Kunal Shah's credit card bill payment platform...\n",
              "2  New Zealand end Rohit Sharma-led India's 12-ma...  New Zealand defeated India by 8 wickets in the...\n",
              "3  Aegon life iTerm insurance plan helps customer...  With Aegon Life iTerm Insurance plan, customer...\n",
              "4  Have known Hirani for yrs, what if MeToo claim...  Speaking about the sexual harassment allegatio..."
            ]
          },
          "execution_count": 9,
          "metadata": {},
          "output_type": "execute_result"
        }
      ],
      "source": [
        "data.head()"
      ]
    },
    {
      "cell_type": "code",
      "execution_count": null,
      "metadata": {
        "colab": {
          "base_uri": "https://localhost:8080/",
          "height": 520
        },
        "id": "FT0a4kLGTeAg",
        "outputId": "e6094e8a-3e89-4b67-b043-1cd79591033e"
      },
      "outputs": [
        {
          "data": {
            "text/html": [
              "\n",
              "  <div id=\"df-b6109f52-e936-4813-9504-1ad3a5d3c4f7\">\n",
              "    <div class=\"colab-df-container\">\n",
              "      <div>\n",
              "<style scoped>\n",
              "    .dataframe tbody tr th:only-of-type {\n",
              "        vertical-align: middle;\n",
              "    }\n",
              "\n",
              "    .dataframe tbody tr th {\n",
              "        vertical-align: top;\n",
              "    }\n",
              "\n",
              "    .dataframe thead th {\n",
              "        text-align: right;\n",
              "    }\n",
              "</style>\n",
              "<table border=\"1\" class=\"dataframe\">\n",
              "  <thead>\n",
              "    <tr style=\"text-align: right;\">\n",
              "      <th></th>\n",
              "      <th>text</th>\n",
              "      <th>headlines</th>\n",
              "    </tr>\n",
              "  </thead>\n",
              "  <tbody>\n",
              "    <tr>\n",
              "      <th>69122</th>\n",
              "      <td>US-based electric vehicles manufacturer Proter...</td>\n",
              "      <td>Electric bus sets record with 1,771 km-trip on...</td>\n",
              "    </tr>\n",
              "    <tr>\n",
              "      <th>50029</th>\n",
              "      <td>Hyderabad Police has arrested 12 people for po...</td>\n",
              "      <td>12 held for possessing weapons after they post...</td>\n",
              "    </tr>\n",
              "    <tr>\n",
              "      <th>48373</th>\n",
              "      <td>Playing in his 100th ODI today, opener Shikhar...</td>\n",
              "      <td>No Indian has scored more runs than Dhawan aft...</td>\n",
              "    </tr>\n",
              "    <tr>\n",
              "      <th>11333</th>\n",
              "      <td>After Google employees staged mass walkouts to...</td>\n",
              "      <td>We don't run Google by referendum: CEO Pichai ...</td>\n",
              "    </tr>\n",
              "    <tr>\n",
              "      <th>97526</th>\n",
              "      <td>India has a total of 63 million people living ...</td>\n",
              "      <td>63 million in India don't have access to clean...</td>\n",
              "    </tr>\n",
              "    <tr>\n",
              "      <th>56223</th>\n",
              "      <td>Kangana Ranaut has been invited to Harvard Bus...</td>\n",
              "      <td>Kangana invited to Harvard Business School for...</td>\n",
              "    </tr>\n",
              "    <tr>\n",
              "      <th>81282</th>\n",
              "      <td>US President Donald Trump on Monday defended h...</td>\n",
              "      <td>Trump defends daughter Ivanka for replacing hi...</td>\n",
              "    </tr>\n",
              "    <tr>\n",
              "      <th>63363</th>\n",
              "      <td>The door of a Telangana State Aviation Academy...</td>\n",
              "      <td>Door falls off aircraft mid-air, lands on home...</td>\n",
              "    </tr>\n",
              "    <tr>\n",
              "      <th>7183</th>\n",
              "      <td>The government has appointed Krishnamurthy Sub...</td>\n",
              "      <td>ISB prof Krishnamurthy Subramanian named Chief...</td>\n",
              "    </tr>\n",
              "    <tr>\n",
              "      <th>64927</th>\n",
              "      <td>Technology major Microsoft hit back at Google ...</td>\n",
              "      <td>Microsoft hits back at Google over Chrome secu...</td>\n",
              "    </tr>\n",
              "    <tr>\n",
              "      <th>68490</th>\n",
              "      <td>Indian spinner Harbhajan Singh said in a tweet...</td>\n",
              "      <td>Clarke should come out of retirement to help A...</td>\n",
              "    </tr>\n",
              "    <tr>\n",
              "      <th>33005</th>\n",
              "      <td>The Income Tax department has unveiled a schem...</td>\n",
              "      <td>Reward for informers of illegal foreign assets...</td>\n",
              "    </tr>\n",
              "    <tr>\n",
              "      <th>95151</th>\n",
              "      <td>Social media platform Reddit has revealed that...</td>\n",
              "      <td>Reddit shares digital canvas painted by 1 mill...</td>\n",
              "    </tr>\n",
              "    <tr>\n",
              "      <th>60209</th>\n",
              "      <td>Addressing the meeting of the Congress Working...</td>\n",
              "      <td>Modi govt sabotaging Winter session of Parliam...</td>\n",
              "    </tr>\n",
              "    <tr>\n",
              "      <th>68517</th>\n",
              "      <td>Arjun N Kapoor, the producer of Sara Ali Khan'...</td>\n",
              "      <td>Kedarnath producer denies rumour of Sara \"thro...</td>\n",
              "    </tr>\n",
              "  </tbody>\n",
              "</table>\n",
              "</div>\n",
              "      <button class=\"colab-df-convert\" onclick=\"convertToInteractive('df-b6109f52-e936-4813-9504-1ad3a5d3c4f7')\"\n",
              "              title=\"Convert this dataframe to an interactive table.\"\n",
              "              style=\"display:none;\">\n",
              "        \n",
              "  <svg xmlns=\"http://www.w3.org/2000/svg\" height=\"24px\"viewBox=\"0 0 24 24\"\n",
              "       width=\"24px\">\n",
              "    <path d=\"M0 0h24v24H0V0z\" fill=\"none\"/>\n",
              "    <path d=\"M18.56 5.44l.94 2.06.94-2.06 2.06-.94-2.06-.94-.94-2.06-.94 2.06-2.06.94zm-11 1L8.5 8.5l.94-2.06 2.06-.94-2.06-.94L8.5 2.5l-.94 2.06-2.06.94zm10 10l.94 2.06.94-2.06 2.06-.94-2.06-.94-.94-2.06-.94 2.06-2.06.94z\"/><path d=\"M17.41 7.96l-1.37-1.37c-.4-.4-.92-.59-1.43-.59-.52 0-1.04.2-1.43.59L10.3 9.45l-7.72 7.72c-.78.78-.78 2.05 0 2.83L4 21.41c.39.39.9.59 1.41.59.51 0 1.02-.2 1.41-.59l7.78-7.78 2.81-2.81c.8-.78.8-2.07 0-2.86zM5.41 20L4 18.59l7.72-7.72 1.47 1.35L5.41 20z\"/>\n",
              "  </svg>\n",
              "      </button>\n",
              "      \n",
              "  <style>\n",
              "    .colab-df-container {\n",
              "      display:flex;\n",
              "      flex-wrap:wrap;\n",
              "      gap: 12px;\n",
              "    }\n",
              "\n",
              "    .colab-df-convert {\n",
              "      background-color: #E8F0FE;\n",
              "      border: none;\n",
              "      border-radius: 50%;\n",
              "      cursor: pointer;\n",
              "      display: none;\n",
              "      fill: #1967D2;\n",
              "      height: 32px;\n",
              "      padding: 0 0 0 0;\n",
              "      width: 32px;\n",
              "    }\n",
              "\n",
              "    .colab-df-convert:hover {\n",
              "      background-color: #E2EBFA;\n",
              "      box-shadow: 0px 1px 2px rgba(60, 64, 67, 0.3), 0px 1px 3px 1px rgba(60, 64, 67, 0.15);\n",
              "      fill: #174EA6;\n",
              "    }\n",
              "\n",
              "    [theme=dark] .colab-df-convert {\n",
              "      background-color: #3B4455;\n",
              "      fill: #D2E3FC;\n",
              "    }\n",
              "\n",
              "    [theme=dark] .colab-df-convert:hover {\n",
              "      background-color: #434B5C;\n",
              "      box-shadow: 0px 1px 3px 1px rgba(0, 0, 0, 0.15);\n",
              "      filter: drop-shadow(0px 1px 2px rgba(0, 0, 0, 0.3));\n",
              "      fill: #FFFFFF;\n",
              "    }\n",
              "  </style>\n",
              "\n",
              "      <script>\n",
              "        const buttonEl =\n",
              "          document.querySelector('#df-b6109f52-e936-4813-9504-1ad3a5d3c4f7 button.colab-df-convert');\n",
              "        buttonEl.style.display =\n",
              "          google.colab.kernel.accessAllowed ? 'block' : 'none';\n",
              "\n",
              "        async function convertToInteractive(key) {\n",
              "          const element = document.querySelector('#df-b6109f52-e936-4813-9504-1ad3a5d3c4f7');\n",
              "          const dataTable =\n",
              "            await google.colab.kernel.invokeFunction('convertToInteractive',\n",
              "                                                     [key], {});\n",
              "          if (!dataTable) return;\n",
              "\n",
              "          const docLinkHtml = 'Like what you see? Visit the ' +\n",
              "            '<a target=\"_blank\" href=https://colab.research.google.com/notebooks/data_table.ipynb>data table notebook</a>'\n",
              "            + ' to learn more about interactive tables.';\n",
              "          element.innerHTML = '';\n",
              "          dataTable['output_type'] = 'display_data';\n",
              "          await google.colab.output.renderOutput(dataTable, element);\n",
              "          const docLink = document.createElement('div');\n",
              "          docLink.innerHTML = docLinkHtml;\n",
              "          element.appendChild(docLink);\n",
              "        }\n",
              "      </script>\n",
              "    </div>\n",
              "  </div>\n",
              "  "
            ],
            "text/plain": [
              "                                                    text                                          headlines\n",
              "69122  US-based electric vehicles manufacturer Proter...  Electric bus sets record with 1,771 km-trip on...\n",
              "50029  Hyderabad Police has arrested 12 people for po...  12 held for possessing weapons after they post...\n",
              "48373  Playing in his 100th ODI today, opener Shikhar...  No Indian has scored more runs than Dhawan aft...\n",
              "11333  After Google employees staged mass walkouts to...  We don't run Google by referendum: CEO Pichai ...\n",
              "97526  India has a total of 63 million people living ...  63 million in India don't have access to clean...\n",
              "56223  Kangana Ranaut has been invited to Harvard Bus...  Kangana invited to Harvard Business School for...\n",
              "81282  US President Donald Trump on Monday defended h...  Trump defends daughter Ivanka for replacing hi...\n",
              "63363  The door of a Telangana State Aviation Academy...  Door falls off aircraft mid-air, lands on home...\n",
              "7183   The government has appointed Krishnamurthy Sub...  ISB prof Krishnamurthy Subramanian named Chief...\n",
              "64927  Technology major Microsoft hit back at Google ...  Microsoft hits back at Google over Chrome secu...\n",
              "68490  Indian spinner Harbhajan Singh said in a tweet...  Clarke should come out of retirement to help A...\n",
              "33005  The Income Tax department has unveiled a schem...  Reward for informers of illegal foreign assets...\n",
              "95151  Social media platform Reddit has revealed that...  Reddit shares digital canvas painted by 1 mill...\n",
              "60209  Addressing the meeting of the Congress Working...  Modi govt sabotaging Winter session of Parliam...\n",
              "68517  Arjun N Kapoor, the producer of Sara Ali Khan'...  Kedarnath producer denies rumour of Sara \"thro..."
            ]
          },
          "execution_count": 10,
          "metadata": {},
          "output_type": "execute_result"
        }
      ],
      "source": [
        "data = data[['text','headlines']]\n",
        "data.head()\n",
        "\n",
        "#랜덤한 15개 샘플 출력\n",
        "data.sample(15)"
      ]
    },
    {
      "cell_type": "code",
      "execution_count": null,
      "metadata": {
        "colab": {
          "base_uri": "https://localhost:8080/"
        },
        "id": "GZOGBZ0NXpaI",
        "outputId": "c45b44e1-b174-4c87-8ecd-e90162639a91"
      },
      "outputs": [
        {
          "name": "stdout",
          "output_type": "stream",
          "text": [
            "Text 열에서 중복을 배제한 유일한 샘플의 수 : 98360\n",
            "Summary 열에서 중복을 배제한 유일한 샘플의 수 : 98280\n"
          ]
        }
      ],
      "source": [
        "print('Text 열에서 중복을 배제한 유일한 샘플의 수 :', data['text'].nunique())\n",
        "print('Summary 열에서 중복을 배제한 유일한 샘플의 수 :', data['headlines'].nunique())"
      ]
    },
    {
      "cell_type": "code",
      "execution_count": null,
      "metadata": {
        "colab": {
          "base_uri": "https://localhost:8080/"
        },
        "id": "aQC4DhQeXsPQ",
        "outputId": "d70e55ef-2d84-497e-dc51-0ebf9bc005dc"
      },
      "outputs": [
        {
          "name": "stdout",
          "output_type": "stream",
          "text": [
            "전체 샘플수 : 98360\n"
          ]
        }
      ],
      "source": [
        "# inplace=True 를 설정하면 DataFrame 타입 값을 return 하지 않고 data 내부를 직접적으로 바꿉니다\n",
        "data.drop_duplicates(subset = ['text'], inplace=True)\n",
        "print('전체 샘플수 :', (len(data)))"
      ]
    },
    {
      "cell_type": "code",
      "execution_count": null,
      "metadata": {
        "colab": {
          "base_uri": "https://localhost:8080/"
        },
        "id": "cPqz9-fXXufe",
        "outputId": "99d9222e-163f-4320-943f-d6b96dda3875"
      },
      "outputs": [
        {
          "name": "stdout",
          "output_type": "stream",
          "text": [
            "text         0\n",
            "headlines    0\n",
            "dtype: int64\n"
          ]
        }
      ],
      "source": [
        "print(data.isnull().sum())"
      ]
    },
    {
      "cell_type": "code",
      "execution_count": null,
      "metadata": {
        "colab": {
          "base_uri": "https://localhost:8080/"
        },
        "id": "ZcvHi2xPXwvb",
        "outputId": "1c3280c6-c386-4068-cc3a-b82d37cd57b8"
      },
      "outputs": [
        {
          "name": "stdout",
          "output_type": "stream",
          "text": [
            "전체 샘플수 : 98360\n"
          ]
        }
      ],
      "source": [
        "data.dropna(axis=0, inplace=True)\n",
        "print('전체 샘플수 :', (len(data)))"
      ]
    },
    {
      "cell_type": "code",
      "execution_count": null,
      "metadata": {
        "colab": {
          "base_uri": "https://localhost:8080/"
        },
        "id": "VfvKTW3VX0Im",
        "outputId": "d9b747e4-f646-471b-bd28-37e7783f3f9b"
      },
      "outputs": [
        {
          "name": "stdout",
          "output_type": "stream",
          "text": [
            "정규화 사전의 수:  120\n"
          ]
        }
      ],
      "source": [
        "contractions = {\"ain't\": \"is not\", \"aren't\": \"are not\",\"can't\": \"cannot\", \"'cause\": \"because\", \"could've\": \"could have\", \"couldn't\": \"could not\",\n",
        "                           \"didn't\": \"did not\",  \"doesn't\": \"does not\", \"don't\": \"do not\", \"hadn't\": \"had not\", \"hasn't\": \"has not\", \"haven't\": \"have not\",\n",
        "                           \"he'd\": \"he would\",\"he'll\": \"he will\", \"he's\": \"he is\", \"how'd\": \"how did\", \"how'd'y\": \"how do you\", \"how'll\": \"how will\", \"how's\": \"how is\",\n",
        "                           \"I'd\": \"I would\", \"I'd've\": \"I would have\", \"I'll\": \"I will\", \"I'll've\": \"I will have\",\"I'm\": \"I am\", \"I've\": \"I have\", \"i'd\": \"i would\",\n",
        "                           \"i'd've\": \"i would have\", \"i'll\": \"i will\",  \"i'll've\": \"i will have\",\"i'm\": \"i am\", \"i've\": \"i have\", \"isn't\": \"is not\", \"it'd\": \"it would\",\n",
        "                           \"it'd've\": \"it would have\", \"it'll\": \"it will\", \"it'll've\": \"it will have\",\"it's\": \"it is\", \"let's\": \"let us\", \"ma'am\": \"madam\",\n",
        "                           \"mayn't\": \"may not\", \"might've\": \"might have\",\"mightn't\": \"might not\",\"mightn't've\": \"might not have\", \"must've\": \"must have\",\n",
        "                           \"mustn't\": \"must not\", \"mustn't've\": \"must not have\", \"needn't\": \"need not\", \"needn't've\": \"need not have\",\"o'clock\": \"of the clock\",\n",
        "                           \"oughtn't\": \"ought not\", \"oughtn't've\": \"ought not have\", \"shan't\": \"shall not\", \"sha'n't\": \"shall not\", \"shan't've\": \"shall not have\",\n",
        "                           \"she'd\": \"she would\", \"she'd've\": \"she would have\", \"she'll\": \"she will\", \"she'll've\": \"she will have\", \"she's\": \"she is\",\n",
        "                           \"should've\": \"should have\", \"shouldn't\": \"should not\", \"shouldn't've\": \"should not have\", \"so've\": \"so have\",\"so's\": \"so as\",\n",
        "                           \"this's\": \"this is\",\"that'd\": \"that would\", \"that'd've\": \"that would have\", \"that's\": \"that is\", \"there'd\": \"there would\",\n",
        "                           \"there'd've\": \"there would have\", \"there's\": \"there is\", \"here's\": \"here is\",\"they'd\": \"they would\", \"they'd've\": \"they would have\",\n",
        "                           \"they'll\": \"they will\", \"they'll've\": \"they will have\", \"they're\": \"they are\", \"they've\": \"they have\", \"to've\": \"to have\",\n",
        "                           \"wasn't\": \"was not\", \"we'd\": \"we would\", \"we'd've\": \"we would have\", \"we'll\": \"we will\", \"we'll've\": \"we will have\", \"we're\": \"we are\",\n",
        "                           \"we've\": \"we have\", \"weren't\": \"were not\", \"what'll\": \"what will\", \"what'll've\": \"what will have\", \"what're\": \"what are\",\n",
        "                           \"what's\": \"what is\", \"what've\": \"what have\", \"when's\": \"when is\", \"when've\": \"when have\", \"where'd\": \"where did\", \"where's\": \"where is\",\n",
        "                           \"where've\": \"where have\", \"who'll\": \"who will\", \"who'll've\": \"who will have\", \"who's\": \"who is\", \"who've\": \"who have\",\n",
        "                           \"why's\": \"why is\", \"why've\": \"why have\", \"will've\": \"will have\", \"won't\": \"will not\", \"won't've\": \"will not have\",\n",
        "                           \"would've\": \"would have\", \"wouldn't\": \"would not\", \"wouldn't've\": \"would not have\", \"y'all\": \"you all\",\n",
        "                           \"y'all'd\": \"you all would\",\"y'all'd've\": \"you all would have\",\"y'all're\": \"you all are\",\"y'all've\": \"you all have\",\n",
        "                           \"you'd\": \"you would\", \"you'd've\": \"you would have\", \"you'll\": \"you will\", \"you'll've\": \"you will have\",\n",
        "                           \"you're\": \"you are\", \"you've\": \"you have\"}\n",
        "\n",
        "print(\"정규화 사전의 수: \", len(contractions))"
      ]
    },
    {
      "cell_type": "code",
      "execution_count": null,
      "metadata": {
        "colab": {
          "base_uri": "https://localhost:8080/"
        },
        "id": "NDnljpPbX0Ks",
        "outputId": "a1c919b6-04a9-4d4e-daa4-c8179d6eced4"
      },
      "outputs": [
        {
          "name": "stdout",
          "output_type": "stream",
          "text": [
            "불용어 개수 : 179\n",
            "['i', 'me', 'my', 'myself', 'we', 'our', 'ours', 'ourselves', 'you', \"you're\", \"you've\", \"you'll\", \"you'd\", 'your', 'yours', 'yourself', 'yourselves', 'he', 'him', 'his', 'himself', 'she', \"she's\", 'her', 'hers', 'herself', 'it', \"it's\", 'its', 'itself', 'they', 'them', 'their', 'theirs', 'themselves', 'what', 'which', 'who', 'whom', 'this', 'that', \"that'll\", 'these', 'those', 'am', 'is', 'are', 'was', 'were', 'be', 'been', 'being', 'have', 'has', 'had', 'having', 'do', 'does', 'did', 'doing', 'a', 'an', 'the', 'and', 'but', 'if', 'or', 'because', 'as', 'until', 'while', 'of', 'at', 'by', 'for', 'with', 'about', 'against', 'between', 'into', 'through', 'during', 'before', 'after', 'above', 'below', 'to', 'from', 'up', 'down', 'in', 'out', 'on', 'off', 'over', 'under', 'again', 'further', 'then', 'once', 'here', 'there', 'when', 'where', 'why', 'how', 'all', 'any', 'both', 'each', 'few', 'more', 'most', 'other', 'some', 'such', 'no', 'nor', 'not', 'only', 'own', 'same', 'so', 'than', 'too', 'very', 's', 't', 'can', 'will', 'just', 'don', \"don't\", 'should', \"should've\", 'now', 'd', 'll', 'm', 'o', 're', 've', 'y', 'ain', 'aren', \"aren't\", 'couldn', \"couldn't\", 'didn', \"didn't\", 'doesn', \"doesn't\", 'hadn', \"hadn't\", 'hasn', \"hasn't\", 'haven', \"haven't\", 'isn', \"isn't\", 'ma', 'mightn', \"mightn't\", 'mustn', \"mustn't\", 'needn', \"needn't\", 'shan', \"shan't\", 'shouldn', \"shouldn't\", 'wasn', \"wasn't\", 'weren', \"weren't\", 'won', \"won't\", 'wouldn', \"wouldn't\"]\n"
          ]
        }
      ],
      "source": [
        "print('불용어 개수 :', len(stopwords.words('english') ))\n",
        "print(stopwords.words('english'))"
      ]
    },
    {
      "cell_type": "code",
      "execution_count": null,
      "metadata": {
        "colab": {
          "base_uri": "https://localhost:8080/"
        },
        "id": "8caxe_wKX0My",
        "outputId": "73696968-ee53-403d-a79c-fdc2e4b8d729"
      },
      "outputs": [
        {
          "name": "stdout",
          "output_type": "stream",
          "text": [
            "=3\n"
          ]
        }
      ],
      "source": [
        "# 데이터 전처리 함수\n",
        "def preprocess_sentence(sentence, remove_stopwords=True):\n",
        "    sentence = sentence.lower() # 텍스트 소문자화\n",
        "    sentence = BeautifulSoup(sentence, \"lxml\").text # <br />, <a href = ...> 등의 html 태그 제거\n",
        "    sentence = re.sub(r'\\([^)]*\\)', '', sentence) # 괄호로 닫힌 문자열 (...) 제거 Ex) my husband (and myself!) for => my husband for\n",
        "    sentence = re.sub('\"','', sentence) # 쌍따옴표 \" 제거\n",
        "    sentence = ' '.join([contractions[t] if t in contractions else t for t in sentence.split(\" \")]) # 약어 정규화\n",
        "    sentence = re.sub(r\"'s\\b\",\"\", sentence) # 소유격 제거. Ex) roland's -> roland\n",
        "    sentence = re.sub(\"[^a-zA-Z]\", \" \", sentence) # 영어 외 문자(숫자, 특수문자 등) 공백으로 변환\n",
        "    sentence = re.sub('[m]{2,}', 'mm', sentence) # m이 3개 이상이면 2개로 변경. Ex) ummmmmmm yeah -> umm yeah\n",
        "    \n",
        "    # 불용어 제거 (Text)\n",
        "    if remove_stopwords:\n",
        "        tokens = ' '.join(word for word in sentence.split() if not word in stopwords.words('english') if len(word) > 1)\n",
        "    # 불용어 미제거 (Summary)\n",
        "    else:\n",
        "        tokens = ' '.join(word for word in sentence.split() if len(word) > 1)\n",
        "    return tokens\n",
        "print('=3')"
      ]
    },
    {
      "cell_type": "code",
      "execution_count": null,
      "metadata": {
        "colab": {
          "base_uri": "https://localhost:8080/"
        },
        "id": "baE7Cm1FX0O2",
        "outputId": "208aacaa-ad92-4a2e-b762-06cfaeef0b4d"
      },
      "outputs": [
        {
          "name": "stdout",
          "output_type": "stream",
          "text": [
            "text:  everything bought great infact ordered twice third ordered wasfor mother father\n",
            "summary: great way to start the day\n"
          ]
        }
      ],
      "source": [
        "temp_text = 'Everything I bought was great, infact I ordered twice and the third ordered was<br />for my mother and father.'\n",
        "temp_summary = 'Great way to start (or finish) the day!!!'\n",
        "\n",
        "print(\"text: \", preprocess_sentence(temp_text))\n",
        "print(\"summary:\", preprocess_sentence(temp_summary, False))  # 불용어를 제거하지 않습니다."
      ]
    },
    {
      "cell_type": "code",
      "execution_count": null,
      "metadata": {
        "colab": {
          "background_save": true
        },
        "id": "tfHaYKNLX0Q9",
        "outputId": "43e2f624-7d6a-4b6c-a3d5-05d7c8161c02"
      },
      "outputs": [
        {
          "name": "stdout",
          "output_type": "stream",
          "text": [
            "Text 전처리 후 결과:  ['saurav kant alumnus upgrad iiit pg program machine learning artificial intelligence sr systems engineer infosys almost years work experience program upgrad degree career support helped transition data scientist tech mahindra salary hike upgrad online power learning powered lakh careers', 'kunal shah credit card bill payment platform cred gave users chance win free food swiggy one year pranav kaushik delhi techie bagged reward spending cred coins users get one cred coin per rupee bill paid used avail rewards brands like ixigo bookmyshow ubereats cult fit', 'new zealand defeated india wickets fourth odi hamilton thursday win first match five match odi series india lost international match rohit sharma captaincy consecutive victories dating back march match witnessed india getting seventh lowest total odi cricket history', 'aegon life iterm insurance plan customers enjoy tax benefits premiums paid save taxes plan provides life cover age years also customers options insure critical illnesses disability accidental death benefit rider life cover age years', 'speaking sexual harassment allegations rajkumar hirani sonam kapoor said known hirani many years true metoo movement get derailed metoo movement always believe woman case need reserve judgment added hirani accused assistant worked sanju']\n"
          ]
        }
      ],
      "source": [
        "clean_text = []\n",
        "# 전체 Text 데이터에 대한 전처리 : 10분 이상 시간이 걸릴 수 있습니다. \n",
        "for s in data['text']:\n",
        "    clean_text.append(preprocess_sentence(s))\n",
        "\n",
        "# 전처리 후 출력\n",
        "print(\"Text 전처리 후 결과: \", clean_text[:5])"
      ]
    },
    {
      "cell_type": "code",
      "execution_count": 20,
      "metadata": {
        "id": "XwMoXmSaX0TE",
        "colab": {
          "base_uri": "https://localhost:8080/"
        },
        "outputId": "494f61e0-a7f8-4a92-abc0-582e1b42590e"
      },
      "outputs": [
        {
          "output_type": "stream",
          "name": "stdout",
          "text": [
            "Summary 전처리 후 결과:  ['upgrad learner switches to career in ml al with salary hike', 'delhi techie wins free food from swiggy for one year on cred', 'new zealand end rohit sharma led india match winning streak', 'aegon life iterm insurance plan helps customers save tax', 'have known hirani for yrs what if metoo claims are not true sonam']\n"
          ]
        }
      ],
      "source": [
        "clean_summary = []\n",
        "# 전체 Summary 데이터에 대한 전처리 : 5분 이상 시간이 걸릴 수 있습니다. \n",
        "for s in data['headlines']:\n",
        "    clean_summary.append(preprocess_sentence(s, False))\n",
        "\n",
        "print(\"Summary 전처리 후 결과: \", clean_summary[:5])"
      ]
    },
    {
      "cell_type": "code",
      "execution_count": 21,
      "metadata": {
        "id": "g72TWhGlX_3v",
        "colab": {
          "base_uri": "https://localhost:8080/"
        },
        "outputId": "fb9f3166-bd00-41d5-b494-6a6ec67af567"
      },
      "outputs": [
        {
          "output_type": "stream",
          "name": "stdout",
          "text": [
            "=3\n"
          ]
        }
      ],
      "source": [
        "data['text'] = clean_text\n",
        "data['headlines'] = clean_summary\n",
        "\n",
        "# 빈 값을 Null 값으로 변환\n",
        "data.replace('', np.nan, inplace=True)\n",
        "print('=3')"
      ]
    },
    {
      "cell_type": "code",
      "execution_count": 22,
      "metadata": {
        "id": "N3tw-pwmX_6V",
        "colab": {
          "base_uri": "https://localhost:8080/"
        },
        "outputId": "293979dd-1fd6-4660-8641-7b7aed85bf32"
      },
      "outputs": [
        {
          "output_type": "execute_result",
          "data": {
            "text/plain": [
              "text         0\n",
              "headlines    0\n",
              "dtype: int64"
            ]
          },
          "metadata": {},
          "execution_count": 22
        }
      ],
      "source": [
        "data.isnull().sum()"
      ]
    },
    {
      "cell_type": "code",
      "execution_count": 23,
      "metadata": {
        "id": "0kqN_rhlX_8d",
        "colab": {
          "base_uri": "https://localhost:8080/"
        },
        "outputId": "e09657ae-d689-4223-b4f4-553719c20990"
      },
      "outputs": [
        {
          "output_type": "stream",
          "name": "stdout",
          "text": [
            "전체 샘플수 : 98360\n"
          ]
        }
      ],
      "source": [
        "data.dropna(axis=0, inplace=True)\n",
        "print('전체 샘플수 :', (len(data)))"
      ]
    },
    {
      "cell_type": "code",
      "execution_count": 24,
      "metadata": {
        "id": "CpFBRLMaX_-0",
        "colab": {
          "base_uri": "https://localhost:8080/",
          "height": 963
        },
        "outputId": "35f546af-1512-44db-89d1-ef98235436c4"
      },
      "outputs": [
        {
          "output_type": "stream",
          "name": "stdout",
          "text": [
            "텍스트의 최소 길이 : 1\n",
            "텍스트의 최대 길이 : 60\n",
            "텍스트의 평균 길이 : 35.09968483123221\n",
            "요약의 최소 길이 : 1\n",
            "요약의 최대 길이 : 16\n",
            "요약의 평균 길이 : 9.299532330215534\n"
          ]
        },
        {
          "output_type": "display_data",
          "data": {
            "image/png": "[encoded data removed]",
            "text/plain": [
              "<Figure size 432x288 with 2 Axes>"
            ]
          },
          "metadata": {
            "needs_background": "light"
          }
        },
        {
          "output_type": "display_data",
          "data": {
            "image/png": "[encoded data removed]",
            "text/plain": [
              "<Figure size 432x288 with 1 Axes>"
            ]
          },
          "metadata": {
            "needs_background": "light"
          }
        },
        {
          "output_type": "display_data",
          "data": {
            "image/png": "[encoded data removed]",
            "text/plain": [
              "<Figure size 432x288 with 1 Axes>"
            ]
          },
          "metadata": {
            "needs_background": "light"
          }
        }
      ],
      "source": [
        "# 길이 분포 출력\n",
        "import matplotlib.pyplot as plt\n",
        "\n",
        "text_len = [len(s.split()) for s in data['text']]\n",
        "headlines_len = [len(s.split()) for s in data['headlines']]\n",
        "\n",
        "print('텍스트의 최소 길이 : {}'.format(np.min(text_len)))\n",
        "print('텍스트의 최대 길이 : {}'.format(np.max(text_len)))\n",
        "print('텍스트의 평균 길이 : {}'.format(np.mean(text_len)))\n",
        "print('요약의 최소 길이 : {}'.format(np.min(headlines_len)))\n",
        "print('요약의 최대 길이 : {}'.format(np.max(headlines_len)))\n",
        "print('요약의 평균 길이 : {}'.format(np.mean(headlines_len)))\n",
        "\n",
        "plt.subplot(1,2,1)\n",
        "plt.boxplot(text_len)\n",
        "plt.title('Text')\n",
        "plt.subplot(1,2,2)\n",
        "plt.boxplot(headlines_len)\n",
        "plt.title('Summary')\n",
        "plt.tight_layout()\n",
        "plt.show()\n",
        "\n",
        "plt.title('Text')\n",
        "plt.hist(text_len, bins = 40)\n",
        "plt.xlabel('length of samples')\n",
        "plt.ylabel('number of samples')\n",
        "plt.show()\n",
        "\n",
        "plt.title('Summary')\n",
        "plt.hist(headlines_len, bins = 40)\n",
        "plt.xlabel('length of samples')\n",
        "plt.ylabel('number of samples')\n",
        "plt.show()"
      ]
    },
    {
      "cell_type": "code",
      "execution_count": 25,
      "metadata": {
        "id": "mWXN-2WvYABa",
        "colab": {
          "base_uri": "https://localhost:8080/"
        },
        "outputId": "1e8a2435-06c3-49a4-d2ff-3d38478cc0b4"
      },
      "outputs": [
        {
          "output_type": "stream",
          "name": "stdout",
          "text": [
            "=3\n"
          ]
        }
      ],
      "source": [
        "text_max_len = 50\n",
        "summary_max_len = 8\n",
        "print('=3')"
      ]
    },
    {
      "cell_type": "code",
      "execution_count": 26,
      "metadata": {
        "id": "egmX8XpNYAD5",
        "colab": {
          "base_uri": "https://localhost:8080/"
        },
        "outputId": "183379c6-0cc6-4f58-af1f-0e59586ce83e"
      },
      "outputs": [
        {
          "output_type": "stream",
          "name": "stdout",
          "text": [
            "=3\n"
          ]
        }
      ],
      "source": [
        "def below_threshold_len(max_len, nested_list):\n",
        "  cnt = 0\n",
        "  for s in nested_list:\n",
        "    if(len(s.split()) <= max_len):\n",
        "        cnt = cnt + 1\n",
        "  print('전체 샘플 중 길이가 %s 이하인 샘플의 비율: %s'%(max_len, (cnt / len(nested_list))))\n",
        "print('=3')"
      ]
    },
    {
      "cell_type": "code",
      "execution_count": 27,
      "metadata": {
        "id": "Db8g-EjBYAGc",
        "colab": {
          "base_uri": "https://localhost:8080/"
        },
        "outputId": "ebd56f6c-5003-4268-c37a-87d3aa7e3d91"
      },
      "outputs": [
        {
          "output_type": "stream",
          "name": "stdout",
          "text": [
            "전체 샘플 중 길이가 50 이하인 샘플의 비율: 0.9998576657177715\n",
            "전체 샘플 중 길이가 8 이하인 샘플의 비율: 0.2755693371289142\n"
          ]
        }
      ],
      "source": [
        "below_threshold_len(text_max_len, data['text'])\n",
        "below_threshold_len(summary_max_len,  data['headlines'])"
      ]
    },
    {
      "cell_type": "code",
      "execution_count": 28,
      "metadata": {
        "id": "016lwX-AYAJA",
        "colab": {
          "base_uri": "https://localhost:8080/"
        },
        "outputId": "14c015b7-2ed6-4151-eb38-119492d6bb0d"
      },
      "outputs": [
        {
          "output_type": "stream",
          "name": "stdout",
          "text": [
            "전체 샘플수 : 27105\n"
          ]
        }
      ],
      "source": [
        "data = data[data['text'].apply(lambda x: len(x.split()) <= text_max_len)]\n",
        "data = data[data['headlines'].apply(lambda x: len(x.split()) <= summary_max_len)]\n",
        "print('전체 샘플수 :', (len(data)))"
      ]
    },
    {
      "cell_type": "code",
      "execution_count": 29,
      "metadata": {
        "id": "Zv8Bj0SNYALT",
        "colab": {
          "base_uri": "https://localhost:8080/",
          "height": 337
        },
        "outputId": "d1a5067e-6689-4159-950a-5580e495a4df"
      },
      "outputs": [
        {
          "output_type": "execute_result",
          "data": {
            "text/html": [
              "\n",
              "  <div id=\"df-3760e29c-6f19-4d65-ad00-54ea8656dc28\">\n",
              "    <div class=\"colab-df-container\">\n",
              "      <div>\n",
              "<style scoped>\n",
              "    .dataframe tbody tr th:only-of-type {\n",
              "        vertical-align: middle;\n",
              "    }\n",
              "\n",
              "    .dataframe tbody tr th {\n",
              "        vertical-align: top;\n",
              "    }\n",
              "\n",
              "    .dataframe thead th {\n",
              "        text-align: right;\n",
              "    }\n",
              "</style>\n",
              "<table border=\"1\" class=\"dataframe\">\n",
              "  <thead>\n",
              "    <tr style=\"text-align: right;\">\n",
              "      <th></th>\n",
              "      <th>text</th>\n",
              "      <th>headlines</th>\n",
              "      <th>decoder_input</th>\n",
              "      <th>decoder_target</th>\n",
              "    </tr>\n",
              "  </thead>\n",
              "  <tbody>\n",
              "    <tr>\n",
              "      <th>19</th>\n",
              "      <td>union minister dharmendra pradhan wednesday cl...</td>\n",
              "      <td>odisha cm patnaik controls mining mafia union ...</td>\n",
              "      <td>sostoken odisha cm patnaik controls mining maf...</td>\n",
              "      <td>odisha cm patnaik controls mining mafia union ...</td>\n",
              "    </tr>\n",
              "    <tr>\n",
              "      <th>21</th>\n",
              "      <td>indian space research organisation wednesday u...</td>\n",
              "      <td>isro unveils bengaluru centre for manned space...</td>\n",
              "      <td>sostoken isro unveils bengaluru centre for man...</td>\n",
              "      <td>isro unveils bengaluru centre for manned space...</td>\n",
              "    </tr>\n",
              "    <tr>\n",
              "      <th>22</th>\n",
              "      <td>least people killed others injured saudi arabi...</td>\n",
              "      <td>killed injured in saudi arabia floods</td>\n",
              "      <td>sostoken killed injured in saudi arabia floods</td>\n",
              "      <td>killed injured in saudi arabia floods eostoken</td>\n",
              "    </tr>\n",
              "    <tr>\n",
              "      <th>29</th>\n",
              "      <td>investigators searching lost plane carrying ar...</td>\n",
              "      <td>seat cushions from missing plane carrying foot...</td>\n",
              "      <td>sostoken seat cushions from missing plane carr...</td>\n",
              "      <td>seat cushions from missing plane carrying foot...</td>\n",
              "    </tr>\n",
              "    <tr>\n",
              "      <th>36</th>\n",
              "      <td>agustawestland chopper scam co accused rajiv s...</td>\n",
              "      <td>agustawestland scam accused rajiv saxena extra...</td>\n",
              "      <td>sostoken agustawestland scam accused rajiv sax...</td>\n",
              "      <td>agustawestland scam accused rajiv saxena extra...</td>\n",
              "    </tr>\n",
              "  </tbody>\n",
              "</table>\n",
              "</div>\n",
              "      <button class=\"colab-df-convert\" onclick=\"convertToInteractive('df-3760e29c-6f19-4d65-ad00-54ea8656dc28')\"\n",
              "              title=\"Convert this dataframe to an interactive table.\"\n",
              "              style=\"display:none;\">\n",
              "        \n",
              "  <svg xmlns=\"http://www.w3.org/2000/svg\" height=\"24px\"viewBox=\"0 0 24 24\"\n",
              "       width=\"24px\">\n",
              "    <path d=\"M0 0h24v24H0V0z\" fill=\"none\"/>\n",
              "    <path d=\"M18.56 5.44l.94 2.06.94-2.06 2.06-.94-2.06-.94-.94-2.06-.94 2.06-2.06.94zm-11 1L8.5 8.5l.94-2.06 2.06-.94-2.06-.94L8.5 2.5l-.94 2.06-2.06.94zm10 10l.94 2.06.94-2.06 2.06-.94-2.06-.94-.94-2.06-.94 2.06-2.06.94z\"/><path d=\"M17.41 7.96l-1.37-1.37c-.4-.4-.92-.59-1.43-.59-.52 0-1.04.2-1.43.59L10.3 9.45l-7.72 7.72c-.78.78-.78 2.05 0 2.83L4 21.41c.39.39.9.59 1.41.59.51 0 1.02-.2 1.41-.59l7.78-7.78 2.81-2.81c.8-.78.8-2.07 0-2.86zM5.41 20L4 18.59l7.72-7.72 1.47 1.35L5.41 20z\"/>\n",
              "  </svg>\n",
              "      </button>\n",
              "      \n",
              "  <style>\n",
              "    .colab-df-container {\n",
              "      display:flex;\n",
              "      flex-wrap:wrap;\n",
              "      gap: 12px;\n",
              "    }\n",
              "\n",
              "    .colab-df-convert {\n",
              "      background-color: #E8F0FE;\n",
              "      border: none;\n",
              "      border-radius: 50%;\n",
              "      cursor: pointer;\n",
              "      display: none;\n",
              "      fill: #1967D2;\n",
              "      height: 32px;\n",
              "      padding: 0 0 0 0;\n",
              "      width: 32px;\n",
              "    }\n",
              "\n",
              "    .colab-df-convert:hover {\n",
              "      background-color: #E2EBFA;\n",
              "      box-shadow: 0px 1px 2px rgba(60, 64, 67, 0.3), 0px 1px 3px 1px rgba(60, 64, 67, 0.15);\n",
              "      fill: #174EA6;\n",
              "    }\n",
              "\n",
              "    [theme=dark] .colab-df-convert {\n",
              "      background-color: #3B4455;\n",
              "      fill: #D2E3FC;\n",
              "    }\n",
              "\n",
              "    [theme=dark] .colab-df-convert:hover {\n",
              "      background-color: #434B5C;\n",
              "      box-shadow: 0px 1px 3px 1px rgba(0, 0, 0, 0.15);\n",
              "      filter: drop-shadow(0px 1px 2px rgba(0, 0, 0, 0.3));\n",
              "      fill: #FFFFFF;\n",
              "    }\n",
              "  </style>\n",
              "\n",
              "      <script>\n",
              "        const buttonEl =\n",
              "          document.querySelector('#df-3760e29c-6f19-4d65-ad00-54ea8656dc28 button.colab-df-convert');\n",
              "        buttonEl.style.display =\n",
              "          google.colab.kernel.accessAllowed ? 'block' : 'none';\n",
              "\n",
              "        async function convertToInteractive(key) {\n",
              "          const element = document.querySelector('#df-3760e29c-6f19-4d65-ad00-54ea8656dc28');\n",
              "          const dataTable =\n",
              "            await google.colab.kernel.invokeFunction('convertToInteractive',\n",
              "                                                     [key], {});\n",
              "          if (!dataTable) return;\n",
              "\n",
              "          const docLinkHtml = 'Like what you see? Visit the ' +\n",
              "            '<a target=\"_blank\" href=https://colab.research.google.com/notebooks/data_table.ipynb>data table notebook</a>'\n",
              "            + ' to learn more about interactive tables.';\n",
              "          element.innerHTML = '';\n",
              "          dataTable['output_type'] = 'display_data';\n",
              "          await google.colab.output.renderOutput(dataTable, element);\n",
              "          const docLink = document.createElement('div');\n",
              "          docLink.innerHTML = docLinkHtml;\n",
              "          element.appendChild(docLink);\n",
              "        }\n",
              "      </script>\n",
              "    </div>\n",
              "  </div>\n",
              "  "
            ],
            "text/plain": [
              "                                                 text  ...                                     decoder_target\n",
              "19  union minister dharmendra pradhan wednesday cl...  ...  odisha cm patnaik controls mining mafia union ...\n",
              "21  indian space research organisation wednesday u...  ...  isro unveils bengaluru centre for manned space...\n",
              "22  least people killed others injured saudi arabi...  ...     killed injured in saudi arabia floods eostoken\n",
              "29  investigators searching lost plane carrying ar...  ...  seat cushions from missing plane carrying foot...\n",
              "36  agustawestland chopper scam co accused rajiv s...  ...  agustawestland scam accused rajiv saxena extra...\n",
              "\n",
              "[5 rows x 4 columns]"
            ]
          },
          "metadata": {},
          "execution_count": 29
        }
      ],
      "source": [
        "# 요약 데이터에는 시작 토큰과 종료 토큰을 추가한다.\n",
        "data['decoder_input'] = data['headlines'].apply(lambda x : 'sostoken '+ x)\n",
        "data['decoder_target'] = data['headlines'].apply(lambda x : x + ' eostoken')\n",
        "data.head()"
      ]
    },
    {
      "cell_type": "code",
      "execution_count": 30,
      "metadata": {
        "id": "6wXYiC8rYANq",
        "colab": {
          "base_uri": "https://localhost:8080/"
        },
        "outputId": "256ce2cb-ac38-4da5-ade1-3d1fd6ab37c9"
      },
      "outputs": [
        {
          "output_type": "stream",
          "name": "stdout",
          "text": [
            "=3\n"
          ]
        }
      ],
      "source": [
        "encoder_input = np.array(data['text']) # 인코더의 입력\n",
        "decoder_input = np.array(data['decoder_input']) # 디코더의 입력\n",
        "decoder_target = np.array(data['decoder_target']) # 디코더의 레이블\n",
        "print('=3')"
      ]
    },
    {
      "cell_type": "code",
      "execution_count": 31,
      "metadata": {
        "id": "gm8naTWBYAQD",
        "colab": {
          "base_uri": "https://localhost:8080/"
        },
        "outputId": "3417ec95-4554-4c71-875b-cd16c2fb62fa"
      },
      "outputs": [
        {
          "output_type": "stream",
          "name": "stdout",
          "text": [
            "[26172  3960 10401 ...  3003   355 21441]\n"
          ]
        }
      ],
      "source": [
        "indices = np.arange(encoder_input.shape[0])\n",
        "np.random.shuffle(indices)\n",
        "print(indices)"
      ]
    },
    {
      "cell_type": "code",
      "execution_count": 32,
      "metadata": {
        "id": "w4OGhHLWYASJ",
        "colab": {
          "base_uri": "https://localhost:8080/"
        },
        "outputId": "a1c902b4-d5ab-4fe9-d96a-125667368f63"
      },
      "outputs": [
        {
          "output_type": "stream",
          "name": "stdout",
          "text": [
            "=3\n"
          ]
        }
      ],
      "source": [
        "encoder_input = encoder_input[indices]\n",
        "decoder_input = decoder_input[indices]\n",
        "decoder_target = decoder_target[indices]\n",
        "print('=3')"
      ]
    },
    {
      "cell_type": "code",
      "execution_count": 33,
      "metadata": {
        "id": "ejcKFaQhYAUd",
        "colab": {
          "base_uri": "https://localhost:8080/"
        },
        "outputId": "6765ea78-4acb-4d0e-f9d2-680d3068e7dc"
      },
      "outputs": [
        {
          "output_type": "stream",
          "name": "stdout",
          "text": [
            "테스트 데이터의 수 : 5421\n"
          ]
        }
      ],
      "source": [
        "n_of_val = int(len(encoder_input)*0.2)\n",
        "print('테스트 데이터의 수 :', n_of_val)"
      ]
    },
    {
      "cell_type": "code",
      "execution_count": 34,
      "metadata": {
        "id": "oWRJtVnhYAW1",
        "colab": {
          "base_uri": "https://localhost:8080/"
        },
        "outputId": "e55cbb0f-5b44-4df1-fee1-423c43917b3a"
      },
      "outputs": [
        {
          "output_type": "stream",
          "name": "stdout",
          "text": [
            "훈련 데이터의 개수 : 21684\n",
            "훈련 레이블의 개수 : 21684\n",
            "테스트 데이터의 개수 : 5421\n",
            "테스트 레이블의 개수 : 5421\n"
          ]
        }
      ],
      "source": [
        "encoder_input_train = encoder_input[:-n_of_val]\n",
        "decoder_input_train = decoder_input[:-n_of_val]\n",
        "decoder_target_train = decoder_target[:-n_of_val]\n",
        "\n",
        "encoder_input_test = encoder_input[-n_of_val:]\n",
        "decoder_input_test = decoder_input[-n_of_val:]\n",
        "decoder_target_test = decoder_target[-n_of_val:]\n",
        "\n",
        "print('훈련 데이터의 개수 :', len(encoder_input_train))\n",
        "print('훈련 레이블의 개수 :', len(decoder_input_train))\n",
        "print('테스트 데이터의 개수 :', len(encoder_input_test))\n",
        "print('테스트 레이블의 개수 :', len(decoder_input_test))"
      ]
    },
    {
      "cell_type": "code",
      "execution_count": 35,
      "metadata": {
        "id": "G40SfS_fYAZX",
        "colab": {
          "base_uri": "https://localhost:8080/"
        },
        "outputId": "3608cd7b-8fa6-469a-9aeb-a22deb0deaad"
      },
      "outputs": [
        {
          "output_type": "stream",
          "name": "stdout",
          "text": [
            "=3\n"
          ]
        }
      ],
      "source": [
        "src_tokenizer = Tokenizer() # 토크나이저 정의\n",
        "src_tokenizer.fit_on_texts(encoder_input_train) # 입력된 데이터로부터 단어 집합 생성\n",
        "print('=3')"
      ]
    },
    {
      "cell_type": "code",
      "execution_count": 36,
      "metadata": {
        "id": "MITv52MpYAbi",
        "colab": {
          "base_uri": "https://localhost:8080/"
        },
        "outputId": "c61f4cfa-1f29-4268-eddf-43d954457d19"
      },
      "outputs": [
        {
          "output_type": "stream",
          "name": "stdout",
          "text": [
            "단어 집합(vocabulary)의 크기 : 42470\n",
            "등장 빈도가 6번 이하인 희귀 단어의 수: 30750\n",
            "단어 집합에서 희귀 단어를 제외시킬 경우의 단어 집합의 크기 11720\n",
            "단어 집합에서 희귀 단어의 비율: 72.40404991758889\n",
            "전체 등장 빈도에서 희귀 단어 등장 빈도 비율: 8.26481695446832\n"
          ]
        }
      ],
      "source": [
        "threshold = 7\n",
        "total_cnt = len(src_tokenizer.word_index) # 단어의 수\n",
        "rare_cnt = 0 # 등장 빈도수가 threshold보다 작은 단어의 개수를 카운트\n",
        "total_freq = 0 # 훈련 데이터의 전체 단어 빈도수 총 합\n",
        "rare_freq = 0 # 등장 빈도수가 threshold보다 작은 단어의 등장 빈도수의 총 합\n",
        "\n",
        "# 단어와 빈도수의 쌍(pair)을 key와 value로 받는다.\n",
        "for key, value in src_tokenizer.word_counts.items():\n",
        "    total_freq = total_freq + value\n",
        "\n",
        "    # 단어의 등장 빈도수가 threshold보다 작으면\n",
        "    if(value < threshold):\n",
        "        rare_cnt = rare_cnt + 1\n",
        "        rare_freq = rare_freq + value\n",
        "\n",
        "print('단어 집합(vocabulary)의 크기 :', total_cnt)\n",
        "print('등장 빈도가 %s번 이하인 희귀 단어의 수: %s'%(threshold - 1, rare_cnt))\n",
        "print('단어 집합에서 희귀 단어를 제외시킬 경우의 단어 집합의 크기 %s'%(total_cnt - rare_cnt))\n",
        "print(\"단어 집합에서 희귀 단어의 비율:\", (rare_cnt / total_cnt)*100)\n",
        "print(\"전체 등장 빈도에서 희귀 단어 등장 빈도 비율:\", (rare_freq / total_freq)*100)"
      ]
    },
    {
      "cell_type": "code",
      "execution_count": 37,
      "metadata": {
        "id": "6O5QifajbxEx",
        "colab": {
          "base_uri": "https://localhost:8080/"
        },
        "outputId": "8f66a5b1-8931-491b-ab32-87112a33b46e"
      },
      "outputs": [
        {
          "output_type": "stream",
          "name": "stdout",
          "text": [
            "=3\n"
          ]
        }
      ],
      "source": [
        "src_vocab = 8000\n",
        "src_tokenizer = Tokenizer(num_words=src_vocab) # 단어 집합의 크기를 8,000으로 제한\n",
        "src_tokenizer.fit_on_texts(encoder_input_train) # 단어 집합 재생성\n",
        "print('=3')"
      ]
    },
    {
      "cell_type": "code",
      "execution_count": 38,
      "metadata": {
        "id": "JfZPhi1XbxHA",
        "colab": {
          "base_uri": "https://localhost:8080/"
        },
        "outputId": "cdf7edd0-e621-43ef-b51c-e59c4d5690f5"
      },
      "outputs": [
        {
          "output_type": "stream",
          "name": "stdout",
          "text": [
            "[[2052, 725, 1431, 153, 1825, 117, 5775, 31, 323, 1825, 2869, 208, 521, 2052, 725, 118, 1199, 677, 3785, 1045, 2052, 744, 295, 5776, 1825, 6222, 2775, 2512, 256], [35, 453, 200, 5975, 1380, 3, 2604, 2604, 7064, 6468, 5975, 1, 3, 2604, 165, 166, 453, 522, 5975, 4, 41, 13, 4890, 1878, 4620], [129, 298, 160, 22, 2, 923, 2361, 1210, 5417, 31, 28, 389, 923, 358, 368, 2, 2430, 160, 4761, 3620, 1288, 1000, 1329, 33, 5071, 923, 177, 5976]]\n"
          ]
        }
      ],
      "source": [
        "# 텍스트 시퀀스를 정수 시퀀스로 변환\n",
        "encoder_input_train = src_tokenizer.texts_to_sequences(encoder_input_train) \n",
        "encoder_input_test = src_tokenizer.texts_to_sequences(encoder_input_test)\n",
        "\n",
        "# 잘 진행되었는지 샘플 출력\n",
        "print(encoder_input_train[:3])"
      ]
    },
    {
      "cell_type": "code",
      "execution_count": 39,
      "metadata": {
        "id": "IS-CIH6tbxJM",
        "colab": {
          "base_uri": "https://localhost:8080/"
        },
        "outputId": "7eca0fd7-55f1-4821-8d7d-71cab0bdc457"
      },
      "outputs": [
        {
          "output_type": "stream",
          "name": "stdout",
          "text": [
            "=3\n"
          ]
        }
      ],
      "source": [
        "tar_tokenizer = Tokenizer()\n",
        "tar_tokenizer.fit_on_texts(decoder_input_train)\n",
        "print('=3')"
      ]
    },
    {
      "cell_type": "code",
      "execution_count": 40,
      "metadata": {
        "id": "YqNa92EobxLL",
        "colab": {
          "base_uri": "https://localhost:8080/"
        },
        "outputId": "ced79527-0b21-437f-9641-b8304b64fd5b"
      },
      "outputs": [
        {
          "output_type": "stream",
          "name": "stdout",
          "text": [
            "단어 집합(vocabulary)의 크기 : 18947\n",
            "등장 빈도가 5번 이하인 희귀 단어의 수: 14329\n",
            "단어 집합에서 희귀 단어를 제외시킬 경우의 단어 집합의 크기 4618\n",
            "단어 집합에서 희귀 단어의 비율: 75.62674829788357\n",
            "전체 등장 빈도에서 희귀 단어 등장 빈도 비율: 14.267164595540102\n"
          ]
        }
      ],
      "source": [
        "threshold = 6\n",
        "total_cnt = len(tar_tokenizer.word_index) # 단어의 수\n",
        "rare_cnt = 0 # 등장 빈도수가 threshold보다 작은 단어의 개수를 카운트\n",
        "total_freq = 0 # 훈련 데이터의 전체 단어 빈도수 총 합\n",
        "rare_freq = 0 # 등장 빈도수가 threshold보다 작은 단어의 등장 빈도수의 총 합\n",
        "\n",
        "# 단어와 빈도수의 쌍(pair)을 key와 value로 받는다.\n",
        "for key, value in tar_tokenizer.word_counts.items():\n",
        "    total_freq = total_freq + value\n",
        "\n",
        "    # 단어의 등장 빈도수가 threshold보다 작으면\n",
        "    if(value < threshold):\n",
        "        rare_cnt = rare_cnt + 1\n",
        "        rare_freq = rare_freq + value\n",
        "\n",
        "print('단어 집합(vocabulary)의 크기 :', total_cnt)\n",
        "print('등장 빈도가 %s번 이하인 희귀 단어의 수: %s'%(threshold - 1, rare_cnt))\n",
        "print('단어 집합에서 희귀 단어를 제외시킬 경우의 단어 집합의 크기 %s'%(total_cnt - rare_cnt))\n",
        "print(\"단어 집합에서 희귀 단어의 비율:\", (rare_cnt / total_cnt)*100)\n",
        "print(\"전체 등장 빈도에서 희귀 단어 등장 빈도 비율:\", (rare_freq / total_freq)*100)"
      ]
    },
    {
      "cell_type": "code",
      "execution_count": 41,
      "metadata": {
        "id": "FFiNsGGobxNd",
        "colab": {
          "base_uri": "https://localhost:8080/"
        },
        "outputId": "c784319a-6409-4e22-bd1c-d55e7db26d32"
      },
      "outputs": [
        {
          "output_type": "stream",
          "name": "stdout",
          "text": [
            "input\n",
            "input  [[1, 85, 6, 1213, 187, 1924], [1, 23, 201, 572, 515], [1, 60, 93, 516, 1147, 29], [1, 1925, 8, 10, 1525], [1, 517, 256, 69, 1622, 518, 239, 6, 47]]\n",
            "target\n",
            "decoder  [[85, 6, 1213, 187, 1924, 2], [23, 201, 572, 515, 2], [60, 93, 516, 1147, 29, 2], [1925, 8, 10, 1525, 2], [517, 256, 69, 1622, 518, 239, 6, 47, 2]]\n"
          ]
        }
      ],
      "source": [
        "tar_vocab = 2000\n",
        "tar_tokenizer = Tokenizer(num_words=tar_vocab) \n",
        "tar_tokenizer.fit_on_texts(decoder_input_train)\n",
        "tar_tokenizer.fit_on_texts(decoder_target_train)\n",
        "\n",
        "# 텍스트 시퀀스를 정수 시퀀스로 변환\n",
        "decoder_input_train = tar_tokenizer.texts_to_sequences(decoder_input_train) \n",
        "decoder_target_train = tar_tokenizer.texts_to_sequences(decoder_target_train)\n",
        "decoder_input_test = tar_tokenizer.texts_to_sequences(decoder_input_test)\n",
        "decoder_target_test = tar_tokenizer.texts_to_sequences(decoder_target_test)\n",
        "\n",
        "# 잘 변환되었는지 확인\n",
        "print('input')\n",
        "print('input ',decoder_input_train[:5])\n",
        "print('target')\n",
        "print('decoder ',decoder_target_train[:5])"
      ]
    },
    {
      "cell_type": "code",
      "execution_count": 42,
      "metadata": {
        "id": "oTDL1kDdbxPq",
        "colab": {
          "base_uri": "https://localhost:8080/"
        },
        "outputId": "39e7d7ae-6094-4000-ceed-bb103eb74056"
      },
      "outputs": [
        {
          "output_type": "stream",
          "name": "stdout",
          "text": [
            "삭제할 훈련 데이터의 개수 : 9\n",
            "삭제할 테스트 데이터의 개수 : 2\n",
            "훈련 데이터의 개수 : 21675\n",
            "훈련 레이블의 개수 : 21675\n",
            "테스트 데이터의 개수 : 5419\n",
            "테스트 레이블의 개수 : 5419\n"
          ]
        }
      ],
      "source": [
        "drop_train = [index for index, sentence in enumerate(decoder_input_train) if len(sentence) == 1]\n",
        "drop_test = [index for index, sentence in enumerate(decoder_input_test) if len(sentence) == 1]\n",
        "\n",
        "print('삭제할 훈련 데이터의 개수 :', len(drop_train))\n",
        "print('삭제할 테스트 데이터의 개수 :', len(drop_test))\n",
        "\n",
        "encoder_input_train = [sentence for index, sentence in enumerate(encoder_input_train) if index not in drop_train]\n",
        "decoder_input_train = [sentence for index, sentence in enumerate(decoder_input_train) if index not in drop_train]\n",
        "decoder_target_train = [sentence for index, sentence in enumerate(decoder_target_train) if index not in drop_train]\n",
        "\n",
        "encoder_input_test = [sentence for index, sentence in enumerate(encoder_input_test) if index not in drop_test]\n",
        "decoder_input_test = [sentence for index, sentence in enumerate(decoder_input_test) if index not in drop_test]\n",
        "decoder_target_test = [sentence for index, sentence in enumerate(decoder_target_test) if index not in drop_test]\n",
        "\n",
        "print('훈련 데이터의 개수 :', len(encoder_input_train))\n",
        "print('훈련 레이블의 개수 :', len(decoder_input_train))\n",
        "print('테스트 데이터의 개수 :', len(encoder_input_test))\n",
        "print('테스트 레이블의 개수 :', len(decoder_input_test))"
      ]
    },
    {
      "cell_type": "code",
      "execution_count": 43,
      "metadata": {
        "id": "h5EsJrIIYAdp",
        "colab": {
          "base_uri": "https://localhost:8080/"
        },
        "outputId": "83effa4d-e07d-4902-c0a9-cf8a224ee90e"
      },
      "outputs": [
        {
          "output_type": "stream",
          "name": "stdout",
          "text": [
            "=3\n"
          ]
        }
      ],
      "source": [
        "encoder_input_train = pad_sequences(encoder_input_train, maxlen=text_max_len, padding='post')\n",
        "encoder_input_test = pad_sequences(encoder_input_test, maxlen=text_max_len, padding='post')\n",
        "decoder_input_train = pad_sequences(decoder_input_train, maxlen=summary_max_len, padding='post')\n",
        "decoder_target_train = pad_sequences(decoder_target_train, maxlen=summary_max_len, padding='post')\n",
        "decoder_input_test = pad_sequences(decoder_input_test, maxlen=summary_max_len, padding='post')\n",
        "decoder_target_test = pad_sequences(decoder_target_test, maxlen=summary_max_len, padding='post')\n",
        "print('=3')"
      ]
    },
    {
      "cell_type": "code",
      "execution_count": 46,
      "metadata": {
        "id": "WQi-LE6PYAf_"
      },
      "outputs": [],
      "source": [
        "from keras.layers import GaussianNoise\n",
        "from tensorflow.keras.layers import Input, LSTM, Embedding, Dense, Concatenate, TimeDistributed, LeakyReLU\n",
        "from tensorflow.keras.models import Model\n",
        "from tensorflow.keras.callbacks import EarlyStopping, ModelCheckpoint\n",
        "from keras.layers import Activation, Dense\n",
        "from tensorflow.keras import layers\n",
        "from tensorflow.keras import activations\n",
        "from tensorflow.keras.layers import AdditiveAttention\n",
        "# 인코더 설계 시작\n",
        "embedding_dim = 128\n",
        "hidden_size = 256\n"
      ]
    },
    {
      "cell_type": "code",
      "execution_count": 47,
      "metadata": {
        "id": "iqzoqEhXfkvD",
        "colab": {
          "base_uri": "https://localhost:8080/"
        },
        "outputId": "9f0f2060-cba7-4373-ecd3-24578e33f3ff"
      },
      "outputs": [
        {
          "output_type": "stream",
          "name": "stdout",
          "text": [
            "Epoch 1/50\n",
            "WARNING:tensorflow:From /usr/local/lib/python3.7/dist-packages/keras/engine/training.py:2970: StrategyBase.unwrap (from tensorflow.python.distribute.distribute_lib) is deprecated and will be removed in a future version.\n",
            "Instructions for updating:\n",
            "use `experimental_local_results` instead.\n"
          ]
        },
        {
          "output_type": "stream",
          "name": "stderr",
          "text": [
            "WARNING:tensorflow:From /usr/local/lib/python3.7/dist-packages/keras/engine/training.py:2970: StrategyBase.unwrap (from tensorflow.python.distribute.distribute_lib) is deprecated and will be removed in a future version.\n",
            "Instructions for updating:\n",
            "use `experimental_local_results` instead.\n"
          ]
        },
        {
          "output_type": "stream",
          "name": "stdout",
          "text": [
            "85/85 [==============================] - 51s 247ms/step - loss: 4.9328 - val_loss: 4.5397\n",
            "Epoch 2/50\n",
            "85/85 [==============================] - 6s 71ms/step - loss: 4.5402 - val_loss: 4.3668\n",
            "Epoch 3/50\n",
            "85/85 [==============================] - 6s 71ms/step - loss: 4.3625 - val_loss: 4.2395\n",
            "Epoch 4/50\n",
            "85/85 [==============================] - 6s 72ms/step - loss: 4.2136 - val_loss: 4.1106\n",
            "Epoch 5/50\n",
            "85/85 [==============================] - 6s 71ms/step - loss: 4.0722 - val_loss: 4.0041\n",
            "Epoch 6/50\n",
            "85/85 [==============================] - 6s 71ms/step - loss: 3.9438 - val_loss: 3.9043\n",
            "Epoch 7/50\n",
            "85/85 [==============================] - 6s 71ms/step - loss: 3.8256 - val_loss: 3.8400\n",
            "Epoch 8/50\n",
            "85/85 [==============================] - 6s 71ms/step - loss: 3.7109 - val_loss: 3.7481\n",
            "Epoch 9/50\n",
            "85/85 [==============================] - 6s 71ms/step - loss: 3.5926 - val_loss: 3.6660\n",
            "Epoch 10/50\n",
            "85/85 [==============================] - 6s 72ms/step - loss: 3.4866 - val_loss: 3.6071\n",
            "Epoch 11/50\n",
            "85/85 [==============================] - 7s 80ms/step - loss: 3.3874 - val_loss: 3.5567\n",
            "Epoch 12/50\n",
            "85/85 [==============================] - 7s 80ms/step - loss: 3.2960 - val_loss: 3.5130\n",
            "Epoch 13/50\n",
            "85/85 [==============================] - 6s 71ms/step - loss: 3.2130 - val_loss: 3.4685\n",
            "Epoch 14/50\n",
            "85/85 [==============================] - 6s 71ms/step - loss: 3.1343 - val_loss: 3.4316\n",
            "Epoch 15/50\n",
            "85/85 [==============================] - 6s 72ms/step - loss: 3.0597 - val_loss: 3.4050\n",
            "Epoch 16/50\n",
            "85/85 [==============================] - 6s 72ms/step - loss: 2.9896 - val_loss: 3.4095\n",
            "Epoch 17/50\n",
            "85/85 [==============================] - 6s 72ms/step - loss: 2.9235 - val_loss: 3.3703\n",
            "Epoch 18/50\n",
            "85/85 [==============================] - 6s 72ms/step - loss: 2.8603 - val_loss: 3.3584\n",
            "Epoch 19/50\n",
            "85/85 [==============================] - 6s 72ms/step - loss: 2.8006 - val_loss: 3.3423\n",
            "Epoch 20/50\n",
            "85/85 [==============================] - 6s 72ms/step - loss: 2.7439 - val_loss: 3.3597\n",
            "Epoch 21/50\n",
            "85/85 [==============================] - 6s 73ms/step - loss: 2.6877 - val_loss: 3.3261\n",
            "Epoch 22/50\n",
            "85/85 [==============================] - 6s 72ms/step - loss: 2.6356 - val_loss: 3.3287\n",
            "Epoch 23/50\n",
            "85/85 [==============================] - 6s 72ms/step - loss: 2.5850 - val_loss: 3.3259\n",
            "Epoch 24/50\n",
            "85/85 [==============================] - 6s 72ms/step - loss: 2.5353 - val_loss: 3.3240\n",
            "Epoch 25/50\n",
            "85/85 [==============================] - 6s 72ms/step - loss: 2.4863 - val_loss: 3.3328\n",
            "Epoch 26/50\n",
            "85/85 [==============================] - 6s 72ms/step - loss: 2.4396 - val_loss: 3.3207\n",
            "Epoch 27/50\n",
            "85/85 [==============================] - 6s 74ms/step - loss: 2.3935 - val_loss: 3.3287\n",
            "Epoch 28/50\n",
            "85/85 [==============================] - 6s 73ms/step - loss: 2.3486 - val_loss: 3.3319\n",
            "Epoch 00028: early stopping\n",
            "Model: \"model\"\n",
            "__________________________________________________________________________________________________\n",
            " Layer (type)                   Output Shape         Param #     Connected to                     \n",
            "==================================================================================================\n",
            " input_3 (InputLayer)           [(None, 50)]         0           []                               \n",
            "                                                                                                  \n",
            " embedding_2 (Embedding)        (None, 50, 128)      1024000     ['input_3[0][0]']                \n",
            "                                                                                                  \n",
            " lstm_4 (LSTM)                  [(None, 50, 256),    394240      ['embedding_2[0][0]']            \n",
            "                                 (None, 256),                                                     \n",
            "                                 (None, 256)]                                                     \n",
            "                                                                                                  \n",
            " input_4 (InputLayer)           [(None, None)]       0           []                               \n",
            "                                                                                                  \n",
            " lstm_5 (LSTM)                  [(None, 50, 256),    525312      ['lstm_4[0][0]']                 \n",
            "                                 (None, 256),                                                     \n",
            "                                 (None, 256)]                                                     \n",
            "                                                                                                  \n",
            " embedding_3 (Embedding)        (None, None, 128)    256000      ['input_4[0][0]']                \n",
            "                                                                                                  \n",
            " lstm_6 (LSTM)                  [(None, 50, 256),    525312      ['lstm_5[0][0]']                 \n",
            "                                 (None, 256),                                                     \n",
            "                                 (None, 256)]                                                     \n",
            "                                                                                                  \n",
            " lstm_7 (LSTM)                  [(None, None, 256),  394240      ['embedding_3[0][0]',            \n",
            "                                 (None, 256),                     'lstm_6[0][1]',                 \n",
            "                                 (None, 256)]                     'lstm_6[0][2]']                 \n",
            "                                                                                                  \n",
            " attention_layer (AdditiveAtten  (None, None, 256)   256         ['lstm_7[0][0]',                 \n",
            " tion)                                                            'lstm_6[0][0]']                 \n",
            "                                                                                                  \n",
            " concat_layer (Concatenate)     (None, None, 512)    0           ['lstm_7[0][0]',                 \n",
            "                                                                  'attention_layer[0][0]']        \n",
            "                                                                                                  \n",
            " gaussian_noise (GaussianNoise)  (None, None, 512)   0           ['concat_layer[0][0]']           \n",
            "                                                                                                  \n",
            " dense (Dense)                  (None, None, 2000)   1026000     ['gaussian_noise[0][0]']         \n",
            "                                                                                                  \n",
            "==================================================================================================\n",
            "Total params: 4,145,360\n",
            "Trainable params: 4,145,360\n",
            "Non-trainable params: 0\n",
            "__________________________________________________________________________________________________\n"
          ]
        }
      ],
      "source": [
        "with strategy.scope():# 인코더\n",
        "    encoder_inputs = Input(shape=(text_max_len,))\n",
        "    #encoder_inputs = GaussianNoise(stddev=0.08)(encoder_inputs)\n",
        "    # 인코더의 임베딩 층\n",
        "    enc_emb2 = Embedding(src_vocab, embedding_dim)(encoder_inputs)\n",
        "    #enc_emb2 = GaussianNoise(stddev=0.1)(enc_emb)\n",
        "    # 인코더의 LSTM 1\n",
        "    encoder_lstm1 = LSTM(hidden_size, activation= 'tanh' ,return_sequences=True, return_state=True ,dropout = 0.38, recurrent_dropout = 0.42)\n",
        "    encoder_output1, state_h1, state_c1 = encoder_lstm1(enc_emb2)\n",
        "    #state_c1 = GaussianNoise(stddev=0.01)(state_c1)\n",
        "    # 인코더의 LSTM 2\n",
        "    encoder_lstm2 = LSTM(hidden_size, activation= 'tanh', return_sequences=True, return_state=True, dropout=0.38, recurrent_dropout=0.47)\n",
        "    encoder_output2, state_h2, state_c2 = encoder_lstm2(encoder_output1)\n",
        "    #state_c2 = GaussianNoise(stddev=0.01)(state_c2)\n",
        "    # 인코더의 LSTM 3\n",
        "    encoder_lstm3 = LSTM(hidden_size, activation= 'tanh', return_state=True, return_sequences=True, dropout=0.38, recurrent_dropout=0.47)\n",
        "    encoder_outputs, state_h, state_c= encoder_lstm3(encoder_output2)\n",
        "\n",
        "    decoder_inputs = Input(shape=(None,))\n",
        "\n",
        "    # 디코더의 임베딩 층\n",
        "    dec_emb_layer = Embedding(tar_vocab, embedding_dim)\n",
        "\n",
        "    dec_emb = dec_emb_layer(decoder_inputs)\n",
        "    #dec_emb2 = GaussianNoise(stddev=0.09)(dec_emb)\n",
        "    # 디코더의 LSTM\n",
        "    #state_h2 = GaussianNoise(stddev=0.09)(state_h)#시도해본 코드 \n",
        "    decoder_lstm = LSTM(hidden_size, return_sequences=True, return_state=True, dropout=0.4, recurrent_dropout=0.2)\n",
        "    decoder_outputs, _, _ = decoder_lstm(dec_emb, initial_state=[state_h, state_c])\n",
        "    \n",
        "    # decoder_softmax_layer = Dense(tar_vocab, activation='softmax')\n",
        "    # decoder_softmax_outputs = decoder_softmax_layer(decoder_concat_input) #위에서 나온 디코더 아웃풋,즉 배치의 샘플수를 softmax layer에 입력으로 넣는다.\n",
        "    # 어텐션 층(어텐션 함수)\n",
        "    attn_layer = AdditiveAttention(name='attention_layer')\n",
        "\n",
        "    # 인코더와 디코더의 모든 time step의 hidden state를 어텐션 층에 전달하고 결과를 리턴\n",
        "    attn_out = attn_layer([decoder_outputs, encoder_outputs])\n",
        "\n",
        "\n",
        "    # 어텐션의 결과와 디코더의 hidden state들을 연결!! \n",
        "    decoder_concat_input = Concatenate(axis=-1, name='concat_layer')([decoder_outputs, attn_out])\n",
        "    decoder_concat_input2 = GaussianNoise(stddev=0.09)(decoder_concat_input)#시도해본 코드 \n",
        "    # 디코더의 출력층\n",
        "\n",
        "    decoder_softmax_layer = Dense(tar_vocab, activation='softmax')\n",
        "\n",
        "    #decoder_softmax_outputs = Activation('tanh')(decoder_concat_input) #여기 도전해본 코드가 있습니다. tanh 레이어를 추가시켰습니다.\n",
        "    decoder_softmax_outputs = decoder_softmax_layer(decoder_concat_input2) # 중요 !!! decoder_concat_input 이거 중요 \n",
        "    \n",
        "    # 모델 정의\n",
        "    model = Model([encoder_inputs, decoder_inputs], decoder_softmax_outputs)\n",
        "    model.compile(optimizer='rmsprop', loss='sparse_categorical_crossentropy')# 꼭 rmsprop 을 써야 함 \n",
        "    es = EarlyStopping(monitor='val_loss', patience=2, verbose=1)\n",
        "    history = model.fit(x=[encoder_input_train, decoder_input_train], y=decoder_target_train, \\\n",
        "                validation_data=([encoder_input_test, decoder_input_test], decoder_target_test), \\\n",
        "                batch_size=256, callbacks=[es], epochs=50)\n",
        "model.summary()"
      ]
    },
    {
      "cell_type": "code",
      "execution_count": 48,
      "metadata": {
        "id": "ddJTsaOhYAsL",
        "colab": {
          "base_uri": "https://localhost:8080/",
          "height": 265
        },
        "outputId": "fcd58266-9e11-4440-e747-2e94c8e869f0"
      },
      "outputs": [
        {
          "output_type": "display_data",
          "data": {
            "image/png": "[encoded data removed]",
            "text/plain": [
              "<Figure size 432x288 with 1 Axes>"
            ]
          },
          "metadata": {
            "needs_background": "light"
          }
        }
      ],
      "source": [
        "plt.plot(history.history['loss'], label='train')\n",
        "plt.plot(history.history['val_loss'], label='test')\n",
        "plt.legend()\n",
        "plt.show()"
      ]
    },
    {
      "cell_type": "code",
      "execution_count": 49,
      "metadata": {
        "id": "LFb5cjg_YAug",
        "colab": {
          "base_uri": "https://localhost:8080/"
        },
        "outputId": "448ff615-0847-44a5-c8ce-b684a34f6c20"
      },
      "outputs": [
        {
          "output_type": "stream",
          "name": "stdout",
          "text": [
            "=3\n"
          ]
        }
      ],
      "source": [
        "src_index_to_word = src_tokenizer.index_word # 원문 단어 집합에서 정수 -> 단어를 얻음\n",
        "tar_word_to_index = tar_tokenizer.word_index # 요약 단어 집합에서 단어 -> 정수를 얻음\n",
        "tar_index_to_word = tar_tokenizer.index_word # 요약 단어 집합에서 정수 -> 단어를 얻음\n",
        "\n",
        "print('=3')"
      ]
    },
    {
      "cell_type": "markdown",
      "metadata": {
        "id": "YSDtJPrb81MR"
      },
      "source": [
        "seq2seq는 훈련할 때와 실제 동작할 때(인퍼런스 단계)의 방식이 다르므로 그에 맞게 모델 설계를 별개로 진행해야 한다"
      ]
    },
    {
      "cell_type": "code",
      "execution_count": 50,
      "metadata": {
        "id": "98gZiQAy1kFE",
        "colab": {
          "base_uri": "https://localhost:8080/"
        },
        "outputId": "2f7def35-3c80-4d9a-d2fc-82753fb1921d"
      },
      "outputs": [
        {
          "output_type": "stream",
          "name": "stdout",
          "text": [
            "=3\n"
          ]
        }
      ],
      "source": [
        "# 인코더 설계\n",
        "encoder_model = Model(inputs=encoder_inputs, outputs=[encoder_outputs, state_h, state_c])\n",
        "\n",
        "# 이전 시점의 상태들을 저장하는 텐서\n",
        "decoder_state_input_h = Input(shape=(hidden_size,))\n",
        "decoder_state_input_c = Input(shape=(hidden_size,))\n",
        "\n",
        "dec_emb2 = dec_emb_layer(decoder_inputs)\n",
        "\n",
        "# 문장의 다음 단어를 예측하기 위해서 초기 상태(initial_state)를 이전 시점의 상태로 사용. 이는 뒤의 함수 decode_sequence()에 구현\n",
        "# 훈련 과정에서와 달리 LSTM의 리턴하는 은닉 상태와 셀 상태인 state_h와 state_c를 버리지 않음.\n",
        "decoder_outputs2, state_h2, state_c2 = decoder_lstm(dec_emb2, initial_state=[decoder_state_input_h, decoder_state_input_c])\n",
        "\n",
        "print('=3')"
      ]
    },
    {
      "cell_type": "code",
      "execution_count": 51,
      "metadata": {
        "id": "q4VdVklG1lRr",
        "colab": {
          "base_uri": "https://localhost:8080/"
        },
        "outputId": "b8759f97-5a04-4cc9-ef1e-631557dd5657"
      },
      "outputs": [
        {
          "output_type": "stream",
          "name": "stdout",
          "text": [
            "=3\n"
          ]
        }
      ],
      "source": [
        "# 어텐션 함수\n",
        "decoder_hidden_state_input = Input(shape=(text_max_len, hidden_size))\n",
        "attn_out_inf = attn_layer([decoder_outputs2, decoder_hidden_state_input])\n",
        "decoder_inf_concat = Concatenate(axis=-1, name='concat')([decoder_outputs2, attn_out_inf])\n",
        "\n",
        "# 디코더의 출력층\n",
        "#decoder_inf_concat2 = GaussianNoise(stddev=0.09)(decoder_inf_concat)#시도해본 코드 \n",
        "decoder_outputs2 = decoder_softmax_layer(decoder_inf_concat) \n",
        "\n",
        "# 최종 디코더 모델\n",
        "decoder_model = Model(\n",
        "    [decoder_inputs] + [decoder_hidden_state_input,decoder_state_input_h, decoder_state_input_c],\n",
        "    [decoder_outputs2] + [state_h2, state_c2])\n",
        "\n",
        "print('=3')"
      ]
    },
    {
      "cell_type": "code",
      "execution_count": 52,
      "metadata": {
        "id": "h6D9IMXydxEj",
        "colab": {
          "base_uri": "https://localhost:8080/"
        },
        "outputId": "aa25d21a-bf2c-456c-f328-e59630cb9c55"
      },
      "outputs": [
        {
          "output_type": "stream",
          "name": "stdout",
          "text": [
            "=3\n"
          ]
        }
      ],
      "source": [
        "def decode_sequence(input_seq):\n",
        "    # 입력으로부터 인코더의 상태를 얻음\n",
        "    e_out, e_h, e_c = encoder_model.predict(input_seq)\n",
        "\n",
        "     # <SOS>에 해당하는 토큰 생성\n",
        "    target_seq = np.zeros((1,1))\n",
        "    target_seq[0, 0] = tar_word_to_index['sostoken']\n",
        "\n",
        "    stop_condition = False\n",
        "    decoded_sentence = ''\n",
        "    while not stop_condition: # stop_condition이 True가 될 때까지 루프 반복\n",
        "\n",
        "        output_tokens, h, c = decoder_model.predict([target_seq] + [e_out, e_h, e_c])\n",
        "        sampled_token_index = np.argmax(output_tokens[0, -1, :])\n",
        "        sampled_token = tar_index_to_word[sampled_token_index]\n",
        "\n",
        "        if (sampled_token!='eostoken'):\n",
        "            decoded_sentence += ' '+sampled_token\n",
        "\n",
        "        #  <eos>에 도달하거나 최대 길이를 넘으면 중단.\n",
        "        if (sampled_token == 'eostoken'  or len(decoded_sentence.split()) >= (summary_max_len-1)):\n",
        "            stop_condition = True\n",
        "\n",
        "        # 길이가 1인 타겟 시퀀스를 업데이트\n",
        "        target_seq = np.zeros((1,1))\n",
        "        target_seq[0, 0] = sampled_token_index\n",
        "\n",
        "        # 상태를 업데이트 합니다.\n",
        "        e_h, e_c = h, c\n",
        "\n",
        "    return decoded_sentence\n",
        "print('=3')"
      ]
    },
    {
      "cell_type": "code",
      "execution_count": 53,
      "metadata": {
        "id": "QmaF6dQhdxGu",
        "colab": {
          "base_uri": "https://localhost:8080/"
        },
        "outputId": "77496bd7-28ba-4109-a189-757226d903e9"
      },
      "outputs": [
        {
          "output_type": "stream",
          "name": "stdout",
          "text": [
            "훈련 데이터의 개수 : 21675\n",
            "훈련 레이블의 개수 : 21675\n",
            "테스트 데이터의 개수 : 5419\n",
            "테스트 레이블의 개수 : 5419\n",
            "=3\n"
          ]
        }
      ],
      "source": [
        "\n",
        "print('훈련 데이터의 개수 :', len(encoder_input_train))\n",
        "print('훈련 레이블의 개수 :', len(decoder_input_train))\n",
        "print('테스트 데이터의 개수 :', len(encoder_input_test))\n",
        "print('테스트 레이블의 개수 :', len(decoder_input_test))\n",
        "\n",
        "# 원문의 정수 시퀀스를 텍스트 시퀀스로 변환\n",
        "def seq2text(input_seq):\n",
        "    temp=''\n",
        "    for i in input_seq:\n",
        "        if (i!=0):\n",
        "            temp = temp + src_index_to_word[i]+' '\n",
        "    return temp\n",
        "\n",
        "# 요약문의 정수 시퀀스를 텍스트 시퀀스로 변환\n",
        "def seq2summary(input_seq):\n",
        "    temp=''\n",
        "    for i in input_seq:\n",
        "        if ((i!=0 and i!=tar_word_to_index['sostoken']) and i!=tar_word_to_index['eostoken']):\n",
        "            temp = temp + tar_index_to_word[i] + ' '\n",
        "    return temp\n",
        "\n",
        "print('=3')\n",
        "\n",
        "\n",
        "#encoder_input_test =encoder_input_test[:2000]\n",
        "# #encoder_input_test2 =encoder_input_test2[:2000]\n",
        "# print(type(encoder_input_test2))\n",
        "# eit = np.array(encoder_input_test2)\n",
        "# eit2 = eit.reshape(-1,2000)\n",
        "# print(type(eit2))\n",
        "# print(eit2)\n",
        "# print(eit)\n",
        "# print(encoder_input_test2)\n",
        "# print(encoder_input_test1)"
      ]
    },
    {
      "cell_type": "code",
      "execution_count": 54,
      "metadata": {
        "id": "h6nHP5ETdxJE",
        "colab": {
          "base_uri": "https://localhost:8080/"
        },
        "outputId": "6cf13e5d-a337-493a-b1bb-62f73c175a2e"
      },
      "outputs": [
        {
          "output_type": "stream",
          "name": "stdout",
          "text": [
            "원문 : rocket landed premises indian embassy kabul afghanistan monday ministry external affairs said explosion caused minor damages building said embassy staff safe residential compound india ambassador kabul hit rocket june last year \n",
            "실제 요약 : rocket in indian embassy in \n",
            "예측 요약 :  soldiers killed in suicide in afghanistan\n",
            "\n",
            "\n",
            "원문 : congress jd form pre poll alliance contest lok sabha elections congress mp said friday two parties formed post poll alliance karnataka form government despite bjp emerging single largest party accompanied jd leader cm hd kumaraswamy made announcement \n",
            "실제 요약 : congress jd to fight lok sabha polls \n",
            "예측 요약 :  congress is bjp\n",
            "\n",
            "\n",
            "원문 : remote tribal village maharashtra got electricity years independence around homes village population nearly electricity reports said difficult electricity children could study turned dark one villagers said \n",
            "실제 요약 : maha village gets electricity years after independence \n",
            "예측 요약 :  village village in\n",
            "\n",
            "\n",
            "원문 : late astronaut prototype apollo lunar sold nearly us based auction never went moon believed used different flight inside silver gold blue \n",
            "실제 요약 : moon landing sells for \n",
            "예측 요약 :  robot to\n",
            "\n",
            "\n",
            "원문 : delhi metro train garden line stuck yamuna bridge sunday due passengers evacuated emergency exit complained woman fell unconscious evacuation lifted central industrial security force personnel brought gate metro station treatment \n",
            "실제 요약 : passengers evacuated after delhi metro train gets \n",
            "예측 요약 :  mumbai metro station to fire\n",
            "\n",
            "\n",
            "원문 : number students scored marks year cbse class board exams rose last year girls boys year notably government schools saw pass percentage year results beating private schools whose pass percentage \n",
            "실제 요약 : students above in cbse class in \n",
            "예측 요약 :  students fined for for class\n",
            "\n",
            "\n",
            "원문 : raj year old senior executive facing sexual harassment allegations allegedly committed suicide home noida tuesday police said barred participating official work investigation completed heart goes family time spokesperson said \n",
            "실제 요약 : sexual harassment charges commits suicide \n",
            "예측 요약 :  sexual harassment at delhi\n",
            "\n",
            "\n",
            "원문 : speaking leaving summit canada us president donald trump accused india charging tariff imports mean india tariffs hundred charge nothing cannot trump said threatened cut trade ties countries america \n",
            "실제 요약 : trump accuses india of charging on \n",
            "예측 요약 :  trump slams trump\n",
            "\n",
            "\n",
            "원문 : included unesco cultural heritage list festival considered largest peaceful religious pilgrims world held allahabad haridwar unesco called festival knowledge skills ancient religious oral traditions \n",
            "실제 요약 : in list \n",
            "예측 요약 :  indian american to\n",
            "\n",
            "\n",
            "원문 : total cost recently unveiled presidential barack michelle obama event crore seven foot portrait th us president features background flowers including official hometown chicago ex first lady dress inspired made women \n",
            "실제 요약 : and obama cost over crore \n",
            "예측 요약 :  crore in china\n",
            "\n",
            "\n",
            "원문 : swedish migration agency testing christian asylum seekers allegedly ensure migrants converting receive asylum agency faced criticism defended demand applicants show knowledge something need study \n",
            "실제 요약 : in sweden on \n",
            "예측 요약 :  canada to\n",
            "\n",
            "\n",
            "원문 : one leading indian newspapers slammed publishing ad section claimed homosexuality among men women responding ad newspaper executive editor tweeted find slipped zero discrimination controversial ad also shared equal rights activist iyer \n",
            "실제 요약 : newspaper ad for \n",
            "예측 요약 :  uk governor rules to\n",
            "\n",
            "\n",
            "원문 : us air force grounded fleet fighter jets world expensive plane base response series incidents pilots reported symptoms oxygen comes critical time jet manufacturer martin plans next week paris air show \n",
            "실제 요약 : world most expensive \n",
            "예측 요약 :  us world largest aircraft\n",
            "\n",
            "\n",
            "원문 : new trailer upcoming horror film based novel name stephen king released set town film revolves around group young kids evil named directed film release september \n",
            "실제 요약 : new trailer of film it released \n",
            "예측 요약 :  trailer of released\n",
            "\n",
            "\n",
            "원문 : senior andhra pradesh police officer passed away six months ago issued transfer week asked report police headquarters office director general police issued order said mix occurred due error initiated internal inquiry \n",
            "실제 요약 : dead andhra pradesh police officer gets order \n",
            "예측 요약 :  officials officials for\n",
            "\n",
            "\n",
            "원문 : least six police officials killed others injured pakistan tuesday three suicide bombers attacked police paramilitary soldiers officials said one bomber detonated explosives near police truck two bombers tried attack paramilitary responsibility attack yet claimed \n",
            "실제 요약 : killed injured in pakistan suicide attacks \n",
            "예측 요약 :  killed injured in suicide in nigeria\n",
            "\n",
            "\n",
            "원문 : iit kanpur suspended senior students allegedly sexually abusing name following incident occurred august professor institute wrote blog abuse widespread support rather allegedly included well performing \n",
            "실제 요약 : iit suspends students for sexual abuse during \n",
            "예측 요약 :  iit class boy\n",
            "\n",
            "\n",
            "원문 : elon musk led spacex foot wide rocket prototype launched damaged strong winds blew upper section rocket musk confirmed incident saying winds broke blocks late last night added take weeks repair damage \n",
            "실제 요약 : spacex rocket by \n",
            "예측 요약 :  spacex rocket rocket after spacex rocket\n",
            "\n",
            "\n",
            "원문 : jet airways wednesday said sbi along lenders working resolution plan cash airline plan equity infusion change airline board added last month carrier loan consortium banks led sbi \n",
            "실제 요약 : sbi working on resolution plan jet airways \n",
            "예측 요약 :  government to introduce for\n",
            "\n",
            "\n",
            "원문 : bjp congress workers inauguration road bengaluru bjp supporters reportedly opposed congress members move party flag event congress supporters also objected bjp corporator umesh shetty slammed bjp development works \n",
            "실제 요약 : bjp congress workers clash at luru \n",
            "예측 요약 :  congress workers outside congress residence\n",
            "\n",
            "\n",
            "원문 : actor irrfan khan took twitter reveal diagnosed tumour commonly occurs also found parts body journey taking country request everyone continue sending wishes added \n",
            "실제 요약 : irrfan khan reveals he has \n",
            "예측 요약 :  katrina on\n",
            "\n",
            "\n",
            "원문 : ex bigg boss contestant withdrawn domestic violence case filed husband gaurav gupta laws july said much happened events would wish upon worst enemy added never intended getting union gaurav monetary gains \n",
            "실제 요약 : withdraws domestic violence case against husband \n",
            "예측 요약 :  delhi cm rejects arrest of\n",
            "\n",
            "\n",
            "원문 : sidharth malhotra manoj bajpayee starrer aiyaary postponed february overseas delivery film looks difficult considering censor certificate time turn affect india release said aiyaary co producer earlier scheduled release february release date pad man \n",
            "실제 요약 : release date of sidharth postponed to \n",
            "예측 요약 :  release date of akshay kumar postponed\n",
            "\n",
            "\n",
            "원문 : two inmates killed others injured prison mexican city tuesday according reports second security breach within week two guards five prisoners hurt inmates blocked facility burning monday \n",
            "실제 요약 : inmates killed injured in mexican prison \n",
            "예측 요약 :  injured in shooting at prison\n",
            "\n",
            "\n",
            "원문 : wework offers ready move office space individuals companies sizes mumbai business district could better working professionals create work culture building features designed beautiful private offices conference rooms spread floors \n",
            "실제 요약 : offers office space for companies \n",
            "예측 요약 :  in pictures delhi\n",
            "\n",
            "\n",
            "원문 : indian pacer bhuvneshwar kumar reached wickets odi cricket reaching landmark first odi australia sydney saturday bhuvneshwar reached mark th odi likes sourav ganguly sachin tendulkar yuvraj singh ravi shastri managed achieve feat matches \n",
            "실제 요약 : kumar reaches odi wickets in th match \n",
            "예측 요약 :  kohli fastest to odi runs\n",
            "\n",
            "\n",
            "원문 : least eight police stations skill training youth across delhi part initiative pradhan mantri kaushal vikas yojana reports said apart counselling youth trained skills like make art computer data entry programme also aimed providing employment skilled youth \n",
            "실제 요약 : delhi police stations provide training to youth \n",
            "예측 요약 :  delhi police to get\n",
            "\n",
            "\n",
            "원문 : elon musk led electric automaker tesla reportedly fired estimated employees week company wide annual performance review fall company employees include team leaders among others cuts come automaker tries fix production line \n",
            "실제 요약 : tesla fires about employees this week reports \n",
            "예측 요약 :  tesla tesla to build\n",
            "\n",
            "\n",
            "원문 : co founder said felt incomplete never planned exit startup million acquisition ola post deal took made angel investments last year co founder launched peer peer knowledge sharing platform \n",
            "실제 요약 : founder on ola acquisition \n",
            "예측 요약 :  founder backs startup\n",
            "\n",
            "\n",
            "원문 : country first lane expressway prime minister narendra modi sunday said country family speaking congress said know go modi even go country worship one family cannot respect democracy added \n",
            "실제 요약 : my country is my family says pm modi \n",
            "예측 요약 :  pm modi for pm modi\n",
            "\n",
            "\n",
            "원문 : supreme court defence lawyer death row convicts case latter accused state police victim parents lawyer alleged flat lakh compensation parents bribes following court asked stop prove victim dying declaration wrong \n",
            "실제 요약 : sc lawyer over claims \n",
            "예측 요약 :  sc refuses to triple talaq victims\n",
            "\n",
            "\n",
            "원문 : reliance industries chairman mukesh ambani address india mobile congress wednesday referred bharti airtel chairman sunil mittal good friend response mittal called ambani friend digital experience partnership friend mr mittal ambani said speech \n",
            "실제 요약 : mukesh ambani calls airtel sunil good friend \n",
            "예측 요약 :  mukesh ambani reliance to reliance ambani\n",
            "\n",
            "\n",
            "원문 : german firm claims produced world first fully functioning using printer features like electronics company said bike developed weeks includes parts printed except motor battery company added \n",
            "실제 요약 : world st printed bike made in germany \n",
            "예측 요약 :  world most powerful computer\n",
            "\n",
            "\n",
            "원문 : home minister rajnath singh chaired high level meeting monday discuss jammu kashmir situation following killing crpf maoists chhattisgarh meeting comes days rajnath singh reviewed status package announced jammu kashmir prime minister narendra modi directed implementation \n",
            "실제 요약 : rajnath high level meet on attacks \n",
            "예측 요약 :  rajnath singh to rajnath singh\n",
            "\n",
            "\n",
            "원문 : china relations india fast track shown sound improvement frequent high level exchanges leadership pm narendra modi chinese president xi jinping chinese foreign ministry spokesperson said china willing work india enhance coordination communication world faces added \n",
            "실제 요약 : with india on track says china \n",
            "예측 요약 :  india to visit china\n",
            "\n",
            "\n",
            "원문 : bengaluru based startup raised undisclosed amount funding investors including chennai lead funding used build new products expand team strengthen marketing startup said founded kailash designs customers \n",
            "실제 요약 : startup raises funds \n",
            "예측 요약 :  startup raises million\n",
            "\n",
            "\n",
            "원문 : sanjay leela bhansali speaking padmaavat row said think release history indian cinema moments right finishing getting getting theatres added bhansali said know deep inside found strength make film \n",
            "실제 요약 : padmaavat most release in indian \n",
            "예측 요약 :  padmavati to be\n",
            "\n",
            "\n",
            "원문 : london student created bluetooth enabled printed called third controlled using pressure sensors user feet example one foot makes movement made flexible plastic called also two motors pull various directions \n",
            "실제 요약 : woman creates third \n",
            "예측 요약 :  year old australian girl\n",
            "\n",
            "\n",
            "원문 : clean meat startup wednesday announced raised million funding round saw participation microsoft co founder bill gates virgin group founder richard branson startup meat animal cells adding oxygen sugar cells without actual animals raised million far \n",
            "실제 요약 : bill gates backs startup that clean \n",
            "예측 요약 :  raises million from softbank\n",
            "\n",
            "\n",
            "원문 : first mumbai fire brigade women hailing rural areas state taking total number women force female firefighters worked byculla headquarters earlier new force spread across fire stations new inducted force next month \n",
            "실제 요약 : mumbai fire women from \n",
            "예측 요약 :  mumbai lake to get\n",
            "\n",
            "\n",
            "원문 : social media giant facebook disabled feature allowed users search people phone numbers email addresses company also revealed blog post recent data controversy may exposed million individuals data facebook also reduce data call history collected android phones \n",
            "실제 요약 : facebook for users by phone number \n",
            "예측 요약 :  facebook removes feature for facebook in\n",
            "\n",
            "\n",
            "원문 : world water day annual event focuses importance water observed march first world water day celebrated united nations approved year world water day campaign suggests need reduce using gardens plots \n",
            "실제 요약 : united nations world water day on march \n",
            "예측 요약 :  world largest day in years\n",
            "\n",
            "\n",
            "원문 : time used drones magazine red border logo cover latest issue intel drones metres tall california minutes returning earth cover photo also shot drone first year history \n",
            "실제 요약 : time to make cover \n",
            "예측 요약 :  how was the\n",
            "\n",
            "\n",
            "원문 : national green tribunal slapped fine delhi government environment ministry submitting status report restoration yamuna order passed delhi government ministry failed appear bench hearing \n",
            "실제 요약 : fine of on delhi govt \n",
            "예측 요약 :  delhi govt to\n",
            "\n",
            "\n",
            "원문 : american duo andrew known songs including closer let announced performing concert india tweet group official handle read worry asia got lot announcements coming soon india australia \n",
            "실제 요약 : the to perform in india \n",
            "예측 요약 :  indian origin festival festival\n",
            "\n",
            "\n",
            "원문 : tanushree dutta alleged nana patekar sexually harassed sets film claimed film makers counter fir ready even could file fir fir father harassed years added tanushree said complaints eventually dismissed \n",
            "실제 요약 : had fir ready tanushree \n",
            "예측 요약 :  tanushree files defamation case against\n",
            "\n",
            "\n",
            "원문 : indian army personnel thursday greetings pakistani counterparts poonch sector occasion pakistan day per established environment defence spokesperson said day lahore resolution adoption pakistan constitution \n",
            "실제 요약 : india pakistan exchange on pakistan day \n",
            "예측 요약 :  army army army martyred in ceasefire violation\n",
            "\n",
            "\n",
            "원문 : former sri lankan captain made fun former teammate kumar sangakkara glasses wore duty asia cup talking sangakkara glasses tweeted throw former friends also business partners jointly started restaurant \n",
            "실제 요약 : makes of on twitter \n",
            "예측 요약 :  ganguly called his\n",
            "\n",
            "\n",
            "원문 : google maps uses location services function devices track place real time data enabled devices determine number cars roads predict trip time google also information create traffic uses determine whether traffic running faster usual \n",
            "실제 요약 : how does google track traffic \n",
            "예측 요약 :  google to launch in\n",
            "\n",
            "\n",
            "원문 : many blasts reported india last year wherein people killed according government data blasts explosive device explosions explosive blast incidents union minister ahir said india witnessed maximum bombings world year ahir added \n",
            "실제 요약 : over blasts reported in india in govt \n",
            "예측 요약 :  floods in floods in\n",
            "\n",
            "\n"
          ]
        }
      ],
      "source": [
        "# print(encoder_input_test.dtype)\n",
        "\n",
        "encoder_input_test = [sentence for index, sentence in enumerate(encoder_input_test) if index not in drop_test]\n",
        "# print(type(encoder_input_test))\n",
        "# encoder_input_test1 = encoder_input_test.reshape(-1,)\n",
        "# encoder_input_test2 = np.array(encoder_input_test1, dtype=np.int32) \n",
        "# print(encoder_input_test2.shape)\n",
        "# encoder_input_test.reshape(None,)\n",
        "\n",
        "for i in range(50, 100):\n",
        "    print(\"원문 :\", seq2text(encoder_input_test[i]))\n",
        "    print(\"실제 요약 :\", seq2summary(decoder_input_test[i]))\n",
        "    print(\"예측 요약 :\", decode_sequence(encoder_input_test[i].reshape(1, text_max_len)))\n",
        "    print(\"\\n\")"
      ]
    },
    {
      "cell_type": "code",
      "execution_count": null,
      "metadata": {
        "id": "-e3jYSuHdxLa"
      },
      "outputs": [],
      "source": [
        "!pip install requests\n",
        "!pip install summa\n",
        "import requests\n",
        "from summa.summarizer import summarize"
      ]
    },
    {
      "cell_type": "code",
      "execution_count": null,
      "metadata": {
        "id": "z4zWKUwadxNb"
      },
      "outputs": [],
      "source": [
        "text = requests.get('http://rare-technologies.com/the_matrix_synopsis.txt').text"
      ]
    },
    {
      "cell_type": "code",
      "execution_count": null,
      "metadata": {
        "id": "RjWyNbzwdxPh"
      },
      "outputs": [],
      "source": [
        "print(text[:1500])"
      ]
    },
    {
      "cell_type": "code",
      "execution_count": null,
      "metadata": {
        "id": "VQkJAu8XdxRw"
      },
      "outputs": [],
      "source": [
        "print('Summary:')\n",
        "print(summarize(text, ratio=0.005))"
      ]
    },
    {
      "cell_type": "code",
      "execution_count": null,
      "metadata": {
        "id": "gfXPEVkydxUH"
      },
      "outputs": [],
      "source": [
        "print('Summary:')\n",
        "print(summarize(text, ratio=0.005, split=True))"
      ]
    },
    {
      "cell_type": "code",
      "execution_count": null,
      "metadata": {
        "id": "JMAebtWhdxWV"
      },
      "outputs": [],
      "source": [
        "print('Summary:')\n",
        "print(summarize(text, words=50))"
      ]
    },
    {
      "cell_type": "code",
      "execution_count": null,
      "metadata": {
        "id": "aHICJrGOdxYz"
      },
      "outputs": [],
      "source": [
        ""
      ]
    },
    {
      "cell_type": "code",
      "execution_count": null,
      "metadata": {
        "id": "Y5L3UA1Zdxaz"
      },
      "outputs": [],
      "source": [
        ""
      ]
    },
    {
      "cell_type": "code",
      "execution_count": null,
      "metadata": {
        "id": "Z8aJv0wudxdH"
      },
      "outputs": [],
      "source": [
        ""
      ]
    }
  ],
  "metadata": {
    "accelerator": "TPU",
    "colab": {
      "collapsed_sections": [],
      "name": "EX08.ipynb",
      "provenance": [],
      "authorship_tag": "ABX9TyP+bythtMcFnJjdOy7omkQg",
      "include_colab_link": true
    },
    "kernelspec": {
      "display_name": "Python 3",
      "name": "python3"
    },
    "language_info": {
      "name": "python"
    }
  },
  "nbformat": 4,
  "nbformat_minor": 0
}